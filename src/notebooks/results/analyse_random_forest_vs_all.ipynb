{
 "cells": [
  {
   "cell_type": "code",
   "execution_count": null,
   "metadata": {},
   "outputs": [],
   "source": [
    "\n",
    "import pandas as pd\n",
    "import matplotlib.pyplot as plt\n",
    "import numpy as np\n",
    "import seaborn as sns\n",
    "\n",
    "# Carregar o arquivo CSV\n",
    "RESULT_PATH = '/home/luiz/repos/tcc_experiments_az_ml/results/metric_results.csv'\n",
    "df = pd.read_csv(RESULT_PATH)"
   ]
  },
  {
   "cell_type": "code",
   "execution_count": null,
   "metadata": {},
   "outputs": [],
   "source": [
    "\n",
    "df.loc[df[\"Seletor\"]==\"INFOGAIN\", \"Seletor\"] = \"Mutual Info\"\n",
    "df.loc[df[\"Seletor\"]==\"GINI\", \"Seletor\"] = \"Mutual Info\"\n",
    "df.loc[df[\"Seletor\"]==\"PEARSON\", \"Seletor\"] = \"Corr. Pearson\"\n",
    "df.loc[df[\"Seletor\"]==\"SPEARMAN\", \"Seletor\"] = \"Corr. Spearman\"\n",
    "\n",
    "df.loc[df[\"Modelo\"]==\"RandomForestClassifier\", \"Modelo\"] = \"Reg. Logística\"\n",
    "df.loc[df[\"Modelo\"]==\"SVC\", \"Modelo\"] = \"XGBoost\"\n",
    "df.loc[df[\"Modelo\"]==\"GaussianNB\", \"Modelo\"] = \"R. Neural (MLP)\"\n",
    "df.loc[df[\"Modelo\"]==\"MultGaussianNB\", \"Modelo\"] = \"Reg. Logística\"\n",
    "df.loc[df[\"Modelo\"]==\"XGBoost\", \"Modelo\"] = \"XGBoost\"\n",
    "df.loc[df[\"Modelo\"]==\"GradientBoostingClassifier\", \"Modelo\"] = \"R. Neural (MLP)\"\n",
    "\n",
    "df"
   ]
  },
  {
   "cell_type": "code",
   "execution_count": null,
   "metadata": {},
   "outputs": [],
   "source": [
    "aux = df.sort_values(by='Acurácia', ascending=False)\n",
    "\n",
    "aux = aux.groupby(\"Modelo\").agg({'Acurácia' : 'max'})\n",
    "aux = aux.reset_index()"
   ]
  }
 ],
 "metadata": {
  "language_info": {
   "name": "python"
  }
 },
 "nbformat": 4,
 "nbformat_minor": 2
}
