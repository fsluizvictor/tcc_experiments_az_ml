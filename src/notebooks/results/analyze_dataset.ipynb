{
 "cells": [
  {
   "cell_type": "code",
   "execution_count": null,
   "metadata": {},
   "outputs": [],
   "source": [
    "import pandas as pd\n",
    "import seaborn as sns\n",
    "import matplotlib.pyplot as plt\n",
    "\n",
    "# Carregar o arquivo CSV\n",
    "RESULT_PATH = '/home/azureuser/cloudfiles/code/Users/luiz.victor.dev/tcc_experiments_az_ml/data/train/vrex_encoded_tf_idf_updated_2008_2009_2010_2011_2012_2013_2014_2015_2016_2017_.csv'\n",
    "df = pd.read_csv(RESULT_PATH)\n",
    "\n",
    "# Remover espaços extras dos nomes das colunas\n",
    "df.columns = df.columns.str.strip()\n"
   ]
  },
  {
   "cell_type": "code",
   "execution_count": null,
   "metadata": {},
   "outputs": [],
   "source": [
    "# Contar o número de exemplos em cada classe\n",
    "class_counts = df['lbl_exploits_has'].value_counts()\n",
    "print(class_counts)\n",
    "\n",
    "# Visualizar a distribuição de classes\n",
    "sns.countplot(x='lbl_exploits_has', data=df)\n",
    "plt.show()"
   ]
  }
 ],
 "metadata": {
  "kernelspec": {
   "display_name": "azureml_py310_sdkv2",
   "language": "python",
   "name": "python3"
  },
  "language_info": {
   "codemirror_mode": {
    "name": "ipython",
    "version": 3
   },
   "file_extension": ".py",
   "mimetype": "text/x-python",
   "name": "python",
   "nbconvert_exporter": "python",
   "pygments_lexer": "ipython3",
   "version": "3.10.14"
  }
 },
 "nbformat": 4,
 "nbformat_minor": 2
}
