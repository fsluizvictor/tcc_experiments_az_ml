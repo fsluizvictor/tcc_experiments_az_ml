{
  "cells": [
    {
      "cell_type": "code",
      "source": [
        "from azure.ai.ml import MLClient\n",
        "from azure.identity import DefaultAzureCredential\n",
        "from azure.ai.ml.entities import Data\n",
        "from azure.ai.ml.constants import AssetTypes\n",
        "\n",
        "# authenticate\n",
        "credential = DefaultAzureCredential()\n",
        "\n",
        "SUBSCRIPTION=\"a3f56f48-3efb-4970-81a3-e4eda598333c\"\n",
        "RESOURCE_GROUP=\"luiz.victor.dev-rg\"\n",
        "WS_NAME=\"tcc-experiments\"\n",
        "\n",
        "# Get a handle to the workspace\n",
        "ml_client = MLClient(\n",
        "    credential=credential,\n",
        "    subscription_id=SUBSCRIPTION,\n",
        "    resource_group_name=RESOURCE_GROUP,\n",
        "    workspace_name=WS_NAME,\n",
        ")"
      ],
      "outputs": [],
      "execution_count": 1,
      "metadata": {
        "gather": {
          "logged": 1715211910866
        }
      }
    },
    {
      "cell_type": "code",
      "source": [
        "# Verify that the handle works correctly.  \n",
        "# If you ge an error here, modify your SUBSCRIPTION, RESOURCE_GROUP, and WS_NAME in the previous cell.\n",
        "ws = ml_client.workspaces.get(WS_NAME)\n",
        "print(ws.location,\":\", ws.resource_group)"
      ],
      "outputs": [
        {
          "output_type": "stream",
          "name": "stdout",
          "text": "eastus2 : luiz.victor.dev-rg\n"
        }
      ],
      "execution_count": 2,
      "metadata": {
        "jupyter": {
          "source_hidden": false,
          "outputs_hidden": false
        },
        "nteract": {
          "transient": {
            "deleting": false
          }
        },
        "gather": {
          "logged": 1715211911257
        }
      }
    },
    {
      "cell_type": "code",
      "source": [
        "TRAIN_DATAS = [\n",
        "    \"vrex_consolidated_2008_2017.csv\"\n",
        "]\n",
        "\n",
        "TEST_DATAS = [\n",
        "    \"vrex_consolidated_2018_2021.csv\"\n",
        "]\n",
        "\n",
        "version = \"original\"\n",
        "\n",
        "arr_data_to_train = []\n",
        "arr_data_to_test = []\n",
        "\n",
        "for to_train, to_test in zip(TRAIN_DATAS, TEST_DATAS):\n",
        "    data_to_train = ml_client.data.get(name=to_train.split(\".\")[0], version=version)\n",
        "    arr_data_to_train.append(data_to_train)\n",
        "    print(f\"Data to train asset URI: {data_to_train.path} - name: {to_train.split('.')[0]}\")\n",
        "\n",
        "    data_to_test = ml_client.data.get(name=to_test.split('.')[0], version=version)\n",
        "    arr_data_to_test.append(data_to_test)\n",
        "    print(f\"Data to test asset URI: {data_to_test.path} - name: {to_test.split('.')[0]}\")"
      ],
      "outputs": [
        {
          "output_type": "stream",
          "name": "stdout",
          "text": "Data to train asset URI: azureml://subscriptions/a3f56f48-3efb-4970-81a3-e4eda598333c/resourcegroups/luiz.victor.dev-rg/workspaces/tcc-experiments/datastores/workspaceblobstore/paths/LocalUpload/4722af391476dd8597905df3c3ae6d19/vrex_consolidated_2008_2017.csv - name: vrex_consolidated_2008_2017\nData to test asset URI: azureml://subscriptions/a3f56f48-3efb-4970-81a3-e4eda598333c/resourcegroups/luiz.victor.dev-rg/workspaces/tcc-experiments/datastores/workspaceblobstore/paths/LocalUpload/154dc9171c762e1cab20b8998d7d1c63/vrex_consolidated_2018_2021.csv - name: vrex_consolidated_2018_2021\n"
        }
      ],
      "execution_count": 3,
      "metadata": {
        "jupyter": {
          "source_hidden": false,
          "outputs_hidden": false
        },
        "nteract": {
          "transient": {
            "deleting": false
          }
        },
        "gather": {
          "logged": 1715211911681
        }
      }
    },
    {
      "cell_type": "code",
      "source": [
        "# importing the Component Package\n",
        "from azure.ai.ml import load_component\n",
        "\n",
        "# Loading the component from the yml file\n",
        "data_prep_component = load_component(source=\"/home/azureuser/cloudfiles/code/Users/luiz.victor.dev/tcc_experiments_az_ml/src/components/preparation/data_prep.yaml\")\n",
        "\n",
        "# Now we register the component to the workspace\n",
        "data_prep_component = ml_client.create_or_update(data_prep_component)\n",
        "\n",
        "# Create (register) the component in your workspace\n",
        "print(\n",
        "    f\"Component {data_prep_component.name} with Version {data_prep_component.version} is registered\"\n",
        ")"
      ],
      "outputs": [
        {
          "output_type": "stream",
          "name": "stdout",
          "text": "Component data_prep_vrex_defaults_model with Version 2024-05-08-23-45-12-0303876 is registered\n"
        }
      ],
      "execution_count": 4,
      "metadata": {
        "jupyter": {
          "source_hidden": false,
          "outputs_hidden": false
        },
        "nteract": {
          "transient": {
            "deleting": false
          }
        },
        "gather": {
          "logged": 1715211913310
        }
      }
    },
    {
      "cell_type": "code",
      "source": [
        "# importing the Component Package\n",
        "from azure.ai.ml import load_component\n",
        "\n",
        "# Loading the component from the yml file\n",
        "train_gbc = load_component(source=\"/home/azureuser/cloudfiles/code/Users/luiz.victor.dev/tcc_experiments_az_ml/src/components/train/train_gbc.yaml\")\n",
        "\n",
        "# Now we register the component to the workspace\n",
        "train_gbc = ml_client.create_or_update(train_gbc)\n",
        "\n",
        "# Create (register) the component in your workspace\n",
        "print(\n",
        "    f\"Component {train_gbc.name} with Version {train_gbc.version} is registered\"\n",
        ")"
      ],
      "outputs": [
        {
          "output_type": "stream",
          "name": "stdout",
          "text": "Component train_gbc_model with Version 2024-05-08-23-45-13-8518720 is registered\n"
        }
      ],
      "execution_count": 5,
      "metadata": {
        "jupyter": {
          "source_hidden": false,
          "outputs_hidden": false
        },
        "nteract": {
          "transient": {
            "deleting": false
          }
        },
        "gather": {
          "logged": 1715211914940
        }
      }
    },
    {
      "cell_type": "code",
      "source": [
        "# importing the Component Package\n",
        "from azure.ai.ml import load_component\n",
        "\n",
        "# Loading the component from the yml file\n",
        "train_nbc = load_component(source=\"/home/azureuser/cloudfiles/code/Users/luiz.victor.dev/tcc_experiments_az_ml/src/components/train/train_nbc.yaml\")\n",
        "\n",
        "# Now we register the component to the workspace\n",
        "train_nbc = ml_client.create_or_update(train_nbc)\n",
        "\n",
        "# Create (register) the component in your workspace\n",
        "print(\n",
        "    f\"Component {train_nbc.name} with Version {train_nbc.version} is registered\"\n",
        ")"
      ],
      "outputs": [
        {
          "output_type": "stream",
          "name": "stdout",
          "text": "Component train_nbc_model with Version 2024-05-08-23-45-15-3007020 is registered\n"
        }
      ],
      "execution_count": 6,
      "metadata": {
        "jupyter": {
          "source_hidden": false,
          "outputs_hidden": false
        },
        "nteract": {
          "transient": {
            "deleting": false
          }
        },
        "gather": {
          "logged": 1715211916488
        }
      }
    },
    {
      "cell_type": "code",
      "source": [
        "# importing the Component Package\n",
        "from azure.ai.ml import load_component\n",
        "\n",
        "# Loading the component from the yml file\n",
        "train_rfc = load_component(source=\"/home/azureuser/cloudfiles/code/Users/luiz.victor.dev/tcc_experiments_az_ml/src/components/train/train_rfc.yaml\")\n",
        "\n",
        "# Now we register the component to the workspace\n",
        "train_rfc = ml_client.create_or_update(train_rfc)\n",
        "\n",
        "# Create (register) the component in your workspace\n",
        "print(\n",
        "    f\"Component {train_rfc.name} with Version {train_rfc.version} is registered\"\n",
        ")"
      ],
      "outputs": [
        {
          "output_type": "stream",
          "name": "stdout",
          "text": "Component train_rfc_model with Version 2024-05-08-23-45-16-6149750 is registered\n"
        }
      ],
      "execution_count": 7,
      "metadata": {
        "jupyter": {
          "source_hidden": false,
          "outputs_hidden": false
        },
        "nteract": {
          "transient": {
            "deleting": false
          }
        },
        "gather": {
          "logged": 1715211917609
        }
      }
    },
    {
      "cell_type": "code",
      "source": [
        "# importing the Component Package\n",
        "from azure.ai.ml import load_component\n",
        "\n",
        "# Loading the component from the yml file\n",
        "train_svc = load_component(source=\"/home/azureuser/cloudfiles/code/Users/luiz.victor.dev/tcc_experiments_az_ml/src/components/train/train_svc.yaml\")\n",
        "\n",
        "# Now we register the component to the workspace\n",
        "train_svc = ml_client.create_or_update(train_svc)\n",
        "\n",
        "# Create (register) the component in your workspace\n",
        "print(\n",
        "    f\"Component {train_svc.name} with Version {train_svc.version} is registered\"\n",
        ")"
      ],
      "outputs": [
        {
          "output_type": "stream",
          "name": "stdout",
          "text": "Component train_svc_model with Version 2024-05-08-23-45-17-9891547 is registered\n"
        }
      ],
      "execution_count": 8,
      "metadata": {
        "jupyter": {
          "source_hidden": false,
          "outputs_hidden": false
        },
        "nteract": {
          "transient": {
            "deleting": false
          }
        },
        "gather": {
          "logged": 1715211919453
        }
      }
    },
    {
      "cell_type": "code",
      "source": [
        "# importing the Component Package\n",
        "from azure.ai.ml import load_component\n",
        "\n",
        "# Loading the component from the yml file\n",
        "train_xgb = load_component(source=\"/home/azureuser/cloudfiles/code/Users/luiz.victor.dev/tcc_experiments_az_ml/src/components/train/train_xgb.yaml\")\n",
        "\n",
        "# Now we register the component to the workspace\n",
        "train_xgb = ml_client.create_or_update(train_xgb)\n",
        "\n",
        "# Create (register) the component in your workspace\n",
        "print(\n",
        "    f\"Component {train_xgb.name} with Version {train_xgb.version} is registered\"\n",
        ")"
      ],
      "outputs": [
        {
          "output_type": "stream",
          "name": "stdout",
          "text": "Component train_xgb_model with Version 2024-05-08-23-45-19-5426442 is registered\n"
        }
      ],
      "execution_count": 9,
      "metadata": {
        "jupyter": {
          "source_hidden": false,
          "outputs_hidden": false
        },
        "nteract": {
          "transient": {
            "deleting": false
          }
        },
        "gather": {
          "logged": 1715211920482
        }
      }
    },
    {
      "cell_type": "code",
      "source": [
        "TOTAL_TRIALS = 20\n",
        "CONCURRENT_TRIALS = 10\n",
        "TIMEOUT = 3600\n",
        "TIMEOUT_PLUS = 7200\n",
        "\n",
        "COMPUTE = 'serverless'\n",
        "SAMPLING_ALGORITHM = 'bayesian'\n",
        "METRIC = 'training_accuracy_score'\n",
        "GOAL = 'Maximize'\n",
        "EVALUATION_INTERVAL = 1\n",
        "DELAY_EVALUATION = 5\n",
        "\n",
        "# the dsl decorator tells the sdk that we are defining an Azure Machine Learning pipeline\n",
        "from azure.ai.ml import dsl, Input, Output\n",
        "from azure.ai.ml.sweep import Choice, Uniform, MedianStoppingPolicy"
      ],
      "outputs": [],
      "execution_count": 10,
      "metadata": {
        "jupyter": {
          "source_hidden": false,
          "outputs_hidden": false
        },
        "nteract": {
          "transient": {
            "deleting": false
          }
        },
        "gather": {
          "logged": 1715211920570
        }
      }
    },
    {
      "cell_type": "code",
      "source": [
        "@dsl.pipeline(\n",
        "    compute=\"serverless\",\n",
        "    description=\"E2E data_perp-train pipeline\",\n",
        ")\n",
        "def train_gbc_pipeline(\n",
        "    data_to_train,\n",
        "    data_to_test,\n",
        "    flag_remove_null_values,\n",
        "    flag_remove_values_by_percentage,\n",
        "    percentage_to_remove_column,\n",
        "):\n",
        "\n",
        "    data_prep_job = data_prep_component(\n",
        "        data_to_train=data_to_train,\n",
        "        data_to_test=data_to_test,\n",
        "        flag_remove_null_values=flag_remove_null_values,\n",
        "        flag_remove_values_by_percentage=flag_remove_values_by_percentage,\n",
        "        percentage_to_remove_column=percentage_to_remove_column,\n",
        "    )\n",
        "\n",
        "    train_gbc_job = train_gbc(\n",
        "        train_data=data_prep_job.outputs.train_data,  # note: using outputs from previous step\n",
        "        test_data=data_prep_job.outputs.test_data,  # note: using outputs from previous step\n",
        "        n_estimators_to_gbc=Choice(values=[50, 100, 200]),\n",
        "        learning_rate_to_gbc=Uniform(min_value=0.01, max_value=0.3),\n",
        "    )\n",
        "\n",
        "    sweep_step_to_gbc = train_gbc_job.sweep(\n",
        "        compute=COMPUTE,\n",
        "        sampling_algorithm=SAMPLING_ALGORITHM,\n",
        "        primary_metric=METRIC,\n",
        "        goal=GOAL,\n",
        "    )\n",
        "\n",
        "    sweep_step_to_gbc.set_limits(max_total_trials=2*TOTAL_TRIALS, max_concurrent_trials=CONCURRENT_TRIALS, timeout=TIMEOUT)\n",
        "\n",
        "    sweep_step_to_gbc.early_termination = MedianStoppingPolicy(delay_evaluation=DELAY_EVALUATION, evaluation_interval=EVALUATION_INTERVAL)\n"
      ],
      "outputs": [],
      "execution_count": 11,
      "metadata": {
        "jupyter": {
          "source_hidden": false,
          "outputs_hidden": false
        },
        "nteract": {
          "transient": {
            "deleting": false
          }
        },
        "gather": {
          "logged": 1715211920686
        }
      }
    },
    {
      "cell_type": "code",
      "source": [
        "@dsl.pipeline(\n",
        "    compute=\"serverless\",\n",
        "    description=\"E2E data_perp-train pipeline\",\n",
        ")\n",
        "def train_nbc_pipeline(\n",
        "    data_to_train,\n",
        "    data_to_test,\n",
        "    flag_remove_null_values,\n",
        "    flag_remove_values_by_percentage,\n",
        "    percentage_to_remove_column,\n",
        "):\n",
        "\n",
        "    data_prep_job = data_prep_component(\n",
        "        data_to_train=data_to_train,\n",
        "        data_to_test=data_to_test,\n",
        "        flag_remove_null_values=flag_remove_null_values,\n",
        "        flag_remove_values_by_percentage=flag_remove_values_by_percentage,\n",
        "        percentage_to_remove_column=percentage_to_remove_column,\n",
        "    )\n",
        "\n",
        "    train_nbc_job = train_nbc(\n",
        "        train_data=data_prep_job.outputs.train_data,  # note: using outputs from previous step\n",
        "        test_data=data_prep_job.outputs.test_data,  # note: using outputs from previous step\n",
        "    )\n",
        "\n",
        "    sweep_step_to_nbc = train_nbc_job.sweep(\n",
        "        compute=COMPUTE,\n",
        "        sampling_algorithm=SAMPLING_ALGORITHM,\n",
        "        primary_metric=METRIC,\n",
        "        goal=GOAL,\n",
        "    )\n",
        "\n",
        "    sweep_step_to_nbc.set_limits(max_total_trials=1, max_concurrent_trials=1, timeout=TIMEOUT)\n",
        "    sweep_step_to_nbc.early_termination = MedianStoppingPolicy(delay_evaluation=DELAY_EVALUATION, evaluation_interval=EVALUATION_INTERVAL)\n"
      ],
      "outputs": [],
      "execution_count": 12,
      "metadata": {
        "jupyter": {
          "source_hidden": false,
          "outputs_hidden": false
        },
        "nteract": {
          "transient": {
            "deleting": false
          }
        },
        "gather": {
          "logged": 1715211920769
        }
      }
    },
    {
      "cell_type": "code",
      "source": [
        "@dsl.pipeline(\n",
        "    compute=\"serverless\",\n",
        "    description=\"E2E data_perp-train pipeline\",\n",
        ")\n",
        "def train_rfc_pipeline(\n",
        "    data_to_train,\n",
        "    data_to_test,\n",
        "    flag_remove_null_values,\n",
        "    learning_rate_to_train,\n",
        "    flag_remove_values_by_percentage,\n",
        "    percentage_to_remove_column,\n",
        "):\n",
        "\n",
        "    data_prep_job = data_prep_component(\n",
        "        data_to_train=data_to_train,\n",
        "        data_to_test=data_to_test,\n",
        "        flag_remove_null_values=flag_remove_null_values,\n",
        "        flag_remove_values_by_percentage=flag_remove_values_by_percentage,\n",
        "        percentage_to_remove_column=percentage_to_remove_column,\n",
        "    )\n",
        "\n",
        "    train_rfc_job = train_rfc(\n",
        "        train_data=data_prep_job.outputs.train_data,  # note: using outputs from previous step\n",
        "        test_data=data_prep_job.outputs.test_data,  # note: using outputs from previous step\n",
        "        n_estimators_to_rfc=Choice(values=[50, 100, 200]),\n",
        "    )\n",
        "\n",
        "    sweep_step_to_rfc = train_rfc_job.sweep(\n",
        "        compute=COMPUTE,\n",
        "        sampling_algorithm=SAMPLING_ALGORITHM,\n",
        "        primary_metric=METRIC,\n",
        "        goal=GOAL,\n",
        "    )\n",
        "\n",
        "    sweep_step_to_rfc.set_limits(max_total_trials=TOTAL_TRIALS, max_concurrent_trials=CONCURRENT_TRIALS, timeout=TIMEOUT)\n",
        "    sweep_step_to_rfc.early_termination = MedianStoppingPolicy(delay_evaluation=DELAY_EVALUATION, evaluation_interval=EVALUATION_INTERVAL)"
      ],
      "outputs": [],
      "execution_count": 13,
      "metadata": {
        "jupyter": {
          "source_hidden": false,
          "outputs_hidden": false
        },
        "nteract": {
          "transient": {
            "deleting": false
          }
        },
        "gather": {
          "logged": 1715211920865
        }
      }
    },
    {
      "cell_type": "code",
      "source": [
        "@dsl.pipeline(\n",
        "    compute=\"serverless\",\n",
        "    description=\"E2E data_perp-train pipeline\",\n",
        ")\n",
        "def train_svc_pipeline(\n",
        "    data_to_train,\n",
        "    data_to_test,\n",
        "    flag_remove_null_values,\n",
        "    learning_rate_to_train,\n",
        "    flag_remove_values_by_percentage,\n",
        "    percentage_to_remove_column,\n",
        "):\n",
        "\n",
        "    data_prep_job = data_prep_component(\n",
        "        data_to_train=data_to_train,\n",
        "        data_to_test=data_to_test,\n",
        "        flag_remove_null_values=flag_remove_null_values,\n",
        "        flag_remove_values_by_percentage=flag_remove_values_by_percentage,\n",
        "        percentage_to_remove_column=percentage_to_remove_column,\n",
        "    )\n",
        "\n",
        "    train_svc_job = train_svc(\n",
        "        train_data=data_prep_job.outputs.train_data,  # note: using outputs from previous step\n",
        "        test_data=data_prep_job.outputs.test_data,  # note: using outputs from previous step\n",
        "        kernel_to_svc=Choice(values=[\"linear\", \"rbf\", \"poly\", \"sigmoid\",\"precomputed\"]),\n",
        "        gamma_to_svc=Choice(values=[\"scale\", \"auto\"]),\n",
        "    )\n",
        "\n",
        "    sweep_step_to_svc = train_svc_job.sweep(\n",
        "        compute=COMPUTE,\n",
        "        sampling_algorithm=SAMPLING_ALGORITHM,\n",
        "        primary_metric=METRIC,\n",
        "        goal=GOAL,\n",
        "    )\n",
        "\n",
        "    sweep_step_to_svc.set_limits(max_total_trials=2*TOTAL_TRIALS, max_concurrent_trials=CONCURRENT_TRIALS, timeout=TIMEOUT_PLUS)\n",
        "    sweep_step_to_svc.early_termination = MedianStoppingPolicy(delay_evaluation=DELAY_EVALUATION, evaluation_interval=EVALUATION_INTERVAL)"
      ],
      "outputs": [],
      "execution_count": 14,
      "metadata": {
        "jupyter": {
          "source_hidden": false,
          "outputs_hidden": false
        },
        "nteract": {
          "transient": {
            "deleting": false
          }
        },
        "gather": {
          "logged": 1715211920960
        }
      }
    },
    {
      "cell_type": "code",
      "source": [
        "@dsl.pipeline(\n",
        "    compute=\"serverless\",\n",
        "    description=\"E2E data_perp-train pipeline\",\n",
        ")\n",
        "def train_xgb_pipeline(\n",
        "    data_to_train,\n",
        "    data_to_test,\n",
        "    flag_remove_null_values,\n",
        "    learning_rate_to_train,\n",
        "    flag_remove_values_by_percentage,\n",
        "    percentage_to_remove_column,\n",
        "):\n",
        "\n",
        "    data_prep_job = data_prep_component(\n",
        "        data_to_train=data_to_train,\n",
        "        data_to_test=data_to_test,\n",
        "        flag_remove_null_values=flag_remove_null_values,\n",
        "        flag_remove_values_by_percentage=flag_remove_values_by_percentage,\n",
        "        percentage_to_remove_column=percentage_to_remove_column,\n",
        "    )\n",
        "\n",
        "    train_xgb_job = train_xgb(\n",
        "        train_data=data_prep_job.outputs.train_data,  # note: using outputs from previous step\n",
        "        test_data=data_prep_job.outputs.test_data,  # note: using outputs from previous step\n",
        "        n_estimators_to_xgb=Choice(values=[100, 500, 1000]),\n",
        "        learning_rate_to_xgb=Uniform(min_value=0.01, max_value=0.3),\n",
        "    )\n",
        "\n",
        "    sweep_step_to_xgb = train_xgb_job.sweep(\n",
        "        compute=COMPUTE,\n",
        "        sampling_algorithm=SAMPLING_ALGORITHM,\n",
        "        primary_metric=METRIC,\n",
        "        goal=GOAL,\n",
        "    )\n",
        "\n",
        "    sweep_step_to_xgb.set_limits(max_total_trials=2*TOTAL_TRIALS, max_concurrent_trials=CONCURRENT_TRIALS, timeout=TIMEOUT)\n",
        "    sweep_step_to_xgb.early_termination = MedianStoppingPolicy(delay_evaluation=DELAY_EVALUATION, evaluation_interval=EVALUATION_INTERVAL)"
      ],
      "outputs": [],
      "execution_count": 15,
      "metadata": {
        "jupyter": {
          "source_hidden": false,
          "outputs_hidden": false
        },
        "nteract": {
          "transient": {
            "deleting": false
          }
        },
        "gather": {
          "logged": 1715211921046
        }
      }
    },
    {
      "cell_type": "code",
      "source": [
        "pipelines = []\n",
        "\n",
        "for data_to_train, data_to_test in zip(arr_data_to_train, arr_data_to_test):\n",
        "\n",
        "    #pipelines.append(train_gbc_pipeline(\n",
        "    #    data_to_train=Input(type=\"uri_file\", path=data_to_train.path),\n",
        "    #    data_to_test=Input(type=\"uri_file\", path=data_to_test.path),\n",
        "    #    flag_remove_null_values=False,\n",
        "    #    flag_remove_values_by_percentage=False,\n",
        "    #    percentage_to_remove_column=0,\n",
        "    #))\n",
        "\n",
        "    #pipelines.append(train_nbc_pipeline(\n",
        "    #    data_to_train=Input(type=\"uri_file\", path=data_to_train.path),\n",
        "    #    data_to_test=Input(type=\"uri_file\", path=data_to_test.path),\n",
        "    #    flag_remove_null_values=False,\n",
        "    #    flag_remove_values_by_percentage=False,\n",
        "    #    percentage_to_remove_column=0,\n",
        "    #))\n",
        "\n",
        "    #pipelines.append(train_rfc_pipeline(\n",
        "    #    data_to_train=Input(type=\"uri_file\", path=data_to_train.path),\n",
        "    #    data_to_test=Input(type=\"uri_file\", path=data_to_test.path),\n",
        "    #    flag_remove_null_values=False,\n",
        "    #    flag_remove_values_by_percentage=False,\n",
        "    #    percentage_to_remove_column=0,\n",
        "    #))\n",
        "\n",
        "    #pipelines.append(train_svc_pipeline(\n",
        "    #    data_to_train=Input(type=\"uri_file\", path=data_to_train.path),\n",
        "    #    data_to_test=Input(type=\"uri_file\", path=data_to_test.path),\n",
        "    #    flag_remove_null_values=False,\n",
        "    #    flag_remove_values_by_percentage=False,\n",
        "    #    percentage_to_remove_column=0,\n",
        "    #))\n",
        "\n",
        "    pipelines.append(train_xgb_pipeline(\n",
        "        data_to_train=Input(type=\"uri_file\", path=data_to_train.path),\n",
        "        data_to_test=Input(type=\"uri_file\", path=data_to_test.path),\n",
        "        flag_remove_null_values=False,\n",
        "        flag_remove_values_by_percentage=False,\n",
        "        percentage_to_remove_column=0,\n",
        "    ))\n"
      ],
      "outputs": [
        {
          "output_type": "stream",
          "name": "stdout",
          "text": "[PipelineJob({'inputs': {'data_to_train': <azure.ai.ml.entities._job.pipeline._io.base.PipelineInput object at 0x7f09201a1030>, 'data_to_test': <azure.ai.ml.entities._job.pipeline._io.base.PipelineInput object at 0x7f0920302260>, 'flag_remove_null_values': <azure.ai.ml.entities._job.pipeline._io.base.PipelineInput object at 0x7f0920303e80>, 'flag_remove_values_by_percentage': <azure.ai.ml.entities._job.pipeline._io.base.PipelineInput object at 0x7f0920300a90>, 'percentage_to_remove_column': <azure.ai.ml.entities._job.pipeline._io.base.PipelineInput object at 0x7f09203006a0>}, 'outputs': {}, 'jobs': {}, 'component': PipelineComponent({'intellectual_property': None, 'auto_increment_version': True, 'source': 'DSL', 'is_anonymous': False, 'auto_delete_setting': None, 'name': 'train_svc_pipeline', 'description': 'E2E data_perp-train pipeline', 'tags': {}, 'properties': {}, 'print_as_yaml': True, 'id': None, 'Resource__source_path': 'None', 'base_path': '/mnt/batch/tasks/shared/LS_root/mounts/clusters/comp-standard-e4ds-v4/code/Users/luiz.victor.dev/tcc_experiments_az_ml/src/notebooks', 'creation_context': None, 'serialize': <msrest.serialization.Serializer object at 0x7f09203209a0>, 'version': None, 'latest_version': None, 'schema': None, 'type': 'pipeline', 'display_name': 'train_svc_pipeline', 'is_deterministic': None, 'inputs': {'data_to_train': {}, 'data_to_test': {}, 'flag_remove_null_values': {}, 'learning_rate_to_train': {}, 'flag_remove_values_by_percentage': {}, 'percentage_to_remove_column': {}}, 'outputs': {}, 'yaml_str': None, 'other_parameter': {}, 'jobs': OrderedDict([('data_prep_job', Command({'parameters': {}, 'init': False, 'name': 'data_prep_job', 'type': 'command', 'status': None, 'log_files': None, 'description': None, 'tags': {}, 'properties': {}, 'print_as_yaml': True, 'id': None, 'Resource__source_path': None, 'base_path': '/mnt/batch/tasks/shared/LS_root/mounts/clusters/comp-standard-e4ds-v4/code/Users/luiz.victor.dev/tcc_experiments_az_ml/src/notebooks', 'creation_context': None, 'serialize': <msrest.serialization.Serializer object at 0x7f0920301f60>, 'allowed_keys': {}, 'key_restriction': False, 'logger': <Logger attr_dict (WARNING)>, 'display_name': None, 'experiment_name': None, 'compute': None, 'services': None, 'comment': None, 'job_inputs': {'data_to_train': <azure.ai.ml.entities._job.pipeline._io.base.PipelineInput object at 0x7f09201a07f0>, 'data_to_test': <azure.ai.ml.entities._job.pipeline._io.base.PipelineInput object at 0x7f0920320190>, 'flag_remove_null_values': <azure.ai.ml.entities._job.pipeline._io.base.PipelineInput object at 0x7f0920320340>, 'flag_remove_values_by_percentage': <azure.ai.ml.entities._job.pipeline._io.base.PipelineInput object at 0x7f0920320490>, 'percentage_to_remove_column': <azure.ai.ml.entities._job.pipeline._io.base.PipelineInput object at 0x7f0920320640>}, 'job_outputs': {}, 'inputs': {'data_to_train': <azure.ai.ml.entities._job.pipeline._io.base.NodeInput object at 0x7f0920301f30>, 'data_to_test': <azure.ai.ml.entities._job.pipeline._io.base.NodeInput object at 0x7f0920302080>, 'flag_remove_null_values': <azure.ai.ml.entities._job.pipeline._io.base.NodeInput object at 0x7f09203024a0>, 'flag_remove_values_by_percentage': <azure.ai.ml.entities._job.pipeline._io.base.NodeInput object at 0x7f0920302680>, 'percentage_to_remove_column': <azure.ai.ml.entities._job.pipeline._io.base.NodeInput object at 0x7f0920302470>}, 'outputs': {'train_data': <azure.ai.ml.entities._job.pipeline._io.base.NodeOutput object at 0x7f0920302170>, 'test_data': <azure.ai.ml.entities._job.pipeline._io.base.NodeOutput object at 0x7f0920302140>}, 'component': CommandComponent({'intellectual_property': None, 'auto_increment_version': False, 'source': 'REMOTE.WORKSPACE.COMPONENT', 'is_anonymous': False, 'auto_delete_setting': None, 'name': 'data_prep_vrex_defaults_model', 'description': None, 'tags': {}, 'properties': {}, 'print_as_yaml': True, 'id': '/subscriptions/a3f56f48-3efb-4970-81a3-e4eda598333c/resourceGroups/luiz.victor.dev-rg/providers/Microsoft.MachineLearningServices/workspaces/tcc-experiments/components/data_prep_vrex_defaults_model/versions/2024-05-08-23-45-12-0303876', 'Resource__source_path': None, 'base_path': PosixPath('.'), 'creation_context': <azure.ai.ml._restclient.v2022_10_01.models._models_py3.SystemData object at 0x7f09202d4340>, 'serialize': <msrest.serialization.Serializer object at 0x7f09202d4970>, 'command': 'python data_prep.py  --data_to_train ${{inputs.data_to_train}}  --data_to_test ${{inputs.data_to_test}}  --flag_remove_null_values ${{inputs.flag_remove_null_values}} --flag_remove_values_by_percentage ${{inputs.flag_remove_values_by_percentage}} --percentage_to_remove_column ${{inputs.percentage_to_remove_column}} --train_data ${{outputs.train_data}} --test_data ${{outputs.test_data}}', 'code': '/subscriptions/a3f56f48-3efb-4970-81a3-e4eda598333c/resourceGroups/luiz.victor.dev-rg/providers/Microsoft.MachineLearningServices/workspaces/tcc-experiments/codes/3dadffa3-a33d-4f77-a367-f4ba8758273e/versions/1', 'environment_variables': None, 'environment': '/subscriptions/a3f56f48-3efb-4970-81a3-e4eda598333c/resourceGroups/luiz.victor.dev-rg/providers/Microsoft.MachineLearningServices/workspaces/tcc-experiments/environments/data-prep-dependencies/versions/v1', 'distribution': None, 'resources': {'instance_count': 1}, 'queue_settings': None, 'version': '2024-05-08-23-45-12-0303876', 'latest_version': None, 'schema': None, 'type': 'command', 'display_name': 'Data Preparation Defaults Model', 'is_deterministic': True, 'inputs': {'data_to_train': {'type': 'uri_folder', 'optional': False}, 'data_to_test': {'type': 'uri_folder', 'optional': False}, 'flag_remove_null_values': {'type': 'boolean', 'optional': False}, 'flag_remove_values_by_percentage': {'type': 'boolean', 'optional': False}, 'percentage_to_remove_column': {'type': 'number', 'optional': False}}, 'outputs': {'train_data': {'type': 'uri_folder'}, 'test_data': {'type': 'uri_folder'}}, 'yaml_str': None, 'other_parameter': {}, 'additional_includes': [], 'CommandComponent__additional_includes_obj': None}), 'referenced_control_flow_node_instance_id': None, 'kwargs': {'services': None}, 'instance_id': 'd57e1015-6e65-4123-9c2f-2fbf08cfbbd6', 'source': 'REMOTE.WORKSPACE.COMPONENT', 'validate_required_input_not_provided': True, 'limits': None, 'identity': None, 'distribution': None, 'environment_variables': {}, 'environment': None, 'resources': {'instance_count': 1}, 'queue_settings': None, 'swept': False})), ('sweep_step_to_svc', Sweep({'job_inputs': {'train_data': <azure.ai.ml.entities._job.pipeline._io.base.NodeOutput object at 0x7f0921e72710>, 'test_data': <azure.ai.ml.entities._job.pipeline._io.base.NodeOutput object at 0x7f0921e738e0>}, 'job_outputs': {'model': None}, 'init': False, 'name': 'sweep_step_to_svc', 'type': 'sweep', 'status': None, 'log_files': None, 'description': None, 'tags': {}, 'properties': {}, 'print_as_yaml': True, 'id': None, 'Resource__source_path': None, 'base_path': '/mnt/batch/tasks/shared/LS_root/mounts/clusters/comp-standard-e4ds-v4/code/Users/luiz.victor.dev/tcc_experiments_az_ml/src/notebooks', 'creation_context': None, 'serialize': <msrest.serialization.Serializer object at 0x7f0921e72740>, 'allowed_keys': {}, 'key_restriction': False, 'logger': <Logger attr_dict (WARNING)>, 'display_name': None, 'experiment_name': None, 'compute': 'serverless', 'services': None, 'comment': None, 'inputs': {'train_data': <azure.ai.ml.entities._job.pipeline._io.base.NodeInput object at 0x7f0920303e50>, 'test_data': <azure.ai.ml.entities._job.pipeline._io.base.NodeInput object at 0x7f0920301120>, 'kernel_to_svc': <azure.ai.ml.entities._job.pipeline._io.base.NodeInput object at 0x7f09203017b0>, 'gamma_to_svc': <azure.ai.ml.entities._job.pipeline._io.base.NodeInput object at 0x7f0920301570>}, 'outputs': {'model': <azure.ai.ml.entities._job.pipeline._io.base.NodeOutput object at 0x7f09203017e0>}, 'component': CommandComponent({'intellectual_property': None, 'auto_increment_version': False, 'source': 'REMOTE.WORKSPACE.COMPONENT', 'is_anonymous': False, 'auto_delete_setting': None, 'name': 'train_svc_model', 'description': None, 'tags': {}, 'properties': {}, 'print_as_yaml': True, 'id': '/subscriptions/a3f56f48-3efb-4970-81a3-e4eda598333c/resourceGroups/luiz.victor.dev-rg/providers/Microsoft.MachineLearningServices/workspaces/tcc-experiments/components/train_svc_model/versions/2024-05-08-23-45-17-9891547', 'Resource__source_path': None, 'base_path': PosixPath('.'), 'creation_context': <azure.ai.ml._restclient.v2022_10_01.models._models_py3.SystemData object at 0x7f0921e733d0>, 'serialize': <msrest.serialization.Serializer object at 0x7f0921e72e00>, 'command': 'python train_svc.py  --train_data ${{inputs.train_data}}  --test_data ${{inputs.test_data}}  --kernel_to_svc ${{inputs.kernel_to_svc}} --gamma_to_svc ${{inputs.gamma_to_svc}} --model ${{outputs.model}}\\n\\n\\n\\n  ', 'code': '/subscriptions/a3f56f48-3efb-4970-81a3-e4eda598333c/resourceGroups/luiz.victor.dev-rg/providers/Microsoft.MachineLearningServices/workspaces/tcc-experiments/codes/8be1e8a2-1a04-4c5f-a6a6-42e487bc03fd/versions/1', 'environment_variables': None, 'environment': '/subscriptions/a3f56f48-3efb-4970-81a3-e4eda598333c/resourceGroups/luiz.victor.dev-rg/providers/Microsoft.MachineLearningServices/workspaces/tcc-experiments/environments/train-dependencies/versions/v6', 'distribution': None, 'resources': {'instance_count': 1}, 'queue_settings': None, 'version': '2024-05-08-23-45-17-9891547', 'latest_version': None, 'schema': None, 'type': 'command', 'display_name': 'Train Support Vector Classification Model', 'is_deterministic': True, 'inputs': {'train_data': {'type': 'uri_folder', 'optional': False}, 'test_data': {'type': 'uri_folder', 'optional': False}, 'kernel_to_svc': {'type': 'string', 'optional': False}, 'gamma_to_svc': {'type': 'string', 'optional': False}}, 'outputs': {'model': {'type': 'uri_folder'}}, 'yaml_str': None, 'other_parameter': {}, 'additional_includes': [], 'CommandComponent__additional_includes_obj': None}), 'referenced_control_flow_node_instance_id': None, 'kwargs': {}, 'instance_id': 'd373213f-cf54-416b-ae83-4d69db3b2f4f', 'source': 'REMOTE.WORKSPACE.COMPONENT', 'validate_required_input_not_provided': True, 'sampling_algorithm': 'bayesian', 'early_termination': <azure.ai.ml.entities._job.sweep.early_termination_policy.MedianStoppingPolicy object at 0x7f09203009a0>, 'limits': <azure.ai.ml.entities._job.job_limits.SweepJobLimits object at 0x7f0920300f40>, 'search_space': {'kernel_to_svc': <azure.ai.ml.entities._job.sweep.search_space.Choice object at 0x7f0920321120>, 'gamma_to_svc': <azure.ai.ml.entities._job.sweep.search_space.Choice object at 0x7f0920303dc0>}, 'queue_settings': None, 'objective': <azure.ai.ml.entities._job.sweep.objective.Objective object at 0x7f092df40eb0>, 'identity': None}))]), 'job_types': {'command': 1, 'sweep': 1}, 'job_sources': {'REMOTE.WORKSPACE.COMPONENT': 2}, 'source_job_id': None}), 'type': 'pipeline', 'status': None, 'log_files': None, 'name': None, 'description': 'E2E data_perp-train pipeline', 'tags': {}, 'properties': {}, 'print_as_yaml': True, 'id': None, 'Resource__source_path': None, 'base_path': '/mnt/batch/tasks/shared/LS_root/mounts/clusters/comp-standard-e4ds-v4/code/Users/luiz.victor.dev/tcc_experiments_az_ml/src/notebooks', 'creation_context': None, 'serialize': <msrest.serialization.Serializer object at 0x7f0920301150>, 'display_name': 'train_svc_pipeline', 'experiment_name': None, 'compute': 'serverless', 'services': None, 'settings': {}, 'identity': None, 'default_code': None, 'default_environment': None}), PipelineJob({'inputs': {'data_to_train': <azure.ai.ml.entities._job.pipeline._io.base.PipelineInput object at 0x7f09202d4bb0>, 'data_to_test': <azure.ai.ml.entities._job.pipeline._io.base.PipelineInput object at 0x7f09202d4160>, 'flag_remove_null_values': <azure.ai.ml.entities._job.pipeline._io.base.PipelineInput object at 0x7f09202d4730>, 'flag_remove_values_by_percentage': <azure.ai.ml.entities._job.pipeline._io.base.PipelineInput object at 0x7f09202d4670>, 'percentage_to_remove_column': <azure.ai.ml.entities._job.pipeline._io.base.PipelineInput object at 0x7f09202d43d0>}, 'outputs': {}, 'jobs': {}, 'component': PipelineComponent({'intellectual_property': None, 'auto_increment_version': True, 'source': 'DSL', 'is_anonymous': False, 'auto_delete_setting': None, 'name': 'train_xgb_pipeline', 'description': 'E2E data_perp-train pipeline', 'tags': {}, 'properties': {}, 'print_as_yaml': True, 'id': None, 'Resource__source_path': 'None', 'base_path': '/mnt/batch/tasks/shared/LS_root/mounts/clusters/comp-standard-e4ds-v4/code/Users/luiz.victor.dev/tcc_experiments_az_ml/src/notebooks', 'creation_context': None, 'serialize': <msrest.serialization.Serializer object at 0x7f0920300040>, 'version': None, 'latest_version': None, 'schema': None, 'type': 'pipeline', 'display_name': 'train_xgb_pipeline', 'is_deterministic': None, 'inputs': {'data_to_train': {}, 'data_to_test': {}, 'flag_remove_null_values': {}, 'learning_rate_to_train': {}, 'flag_remove_values_by_percentage': {}, 'percentage_to_remove_column': {}}, 'outputs': {}, 'yaml_str': None, 'other_parameter': {}, 'jobs': OrderedDict([('data_prep_job', Command({'parameters': {}, 'init': False, 'name': 'data_prep_job', 'type': 'command', 'status': None, 'log_files': None, 'description': None, 'tags': {}, 'properties': {}, 'print_as_yaml': True, 'id': None, 'Resource__source_path': None, 'base_path': '/mnt/batch/tasks/shared/LS_root/mounts/clusters/comp-standard-e4ds-v4/code/Users/luiz.victor.dev/tcc_experiments_az_ml/src/notebooks', 'creation_context': None, 'serialize': <msrest.serialization.Serializer object at 0x7f09202d72e0>, 'allowed_keys': {}, 'key_restriction': False, 'logger': <Logger attr_dict (WARNING)>, 'display_name': None, 'experiment_name': None, 'compute': None, 'services': None, 'comment': None, 'job_inputs': {'data_to_train': <azure.ai.ml.entities._job.pipeline._io.base.PipelineInput object at 0x7f0920300730>, 'data_to_test': <azure.ai.ml.entities._job.pipeline._io.base.PipelineInput object at 0x7f0920300670>, 'flag_remove_null_values': <azure.ai.ml.entities._job.pipeline._io.base.PipelineInput object at 0x7f09203007c0>, 'flag_remove_values_by_percentage': <azure.ai.ml.entities._job.pipeline._io.base.PipelineInput object at 0x7f0920300760>, 'percentage_to_remove_column': <azure.ai.ml.entities._job.pipeline._io.base.PipelineInput object at 0x7f0920300790>}, 'job_outputs': {}, 'inputs': {'data_to_train': <azure.ai.ml.entities._job.pipeline._io.base.NodeInput object at 0x7f09202d7880>, 'data_to_test': <azure.ai.ml.entities._job.pipeline._io.base.NodeInput object at 0x7f09202d7220>, 'flag_remove_null_values': <azure.ai.ml.entities._job.pipeline._io.base.NodeInput object at 0x7f09202d7310>, 'flag_remove_values_by_percentage': <azure.ai.ml.entities._job.pipeline._io.base.NodeInput object at 0x7f09202d5c30>, 'percentage_to_remove_column': <azure.ai.ml.entities._job.pipeline._io.base.NodeInput object at 0x7f09202d71f0>}, 'outputs': {'train_data': <azure.ai.ml.entities._job.pipeline._io.base.NodeOutput object at 0x7f09202d7040>, 'test_data': <azure.ai.ml.entities._job.pipeline._io.base.NodeOutput object at 0x7f09202d5540>}, 'component': CommandComponent({'intellectual_property': None, 'auto_increment_version': False, 'source': 'REMOTE.WORKSPACE.COMPONENT', 'is_anonymous': False, 'auto_delete_setting': None, 'name': 'data_prep_vrex_defaults_model', 'description': None, 'tags': {}, 'properties': {}, 'print_as_yaml': True, 'id': '/subscriptions/a3f56f48-3efb-4970-81a3-e4eda598333c/resourceGroups/luiz.victor.dev-rg/providers/Microsoft.MachineLearningServices/workspaces/tcc-experiments/components/data_prep_vrex_defaults_model/versions/2024-05-08-23-45-12-0303876', 'Resource__source_path': None, 'base_path': PosixPath('.'), 'creation_context': <azure.ai.ml._restclient.v2022_10_01.models._models_py3.SystemData object at 0x7f09202d4340>, 'serialize': <msrest.serialization.Serializer object at 0x7f09202d4970>, 'command': 'python data_prep.py  --data_to_train ${{inputs.data_to_train}}  --data_to_test ${{inputs.data_to_test}}  --flag_remove_null_values ${{inputs.flag_remove_null_values}} --flag_remove_values_by_percentage ${{inputs.flag_remove_values_by_percentage}} --percentage_to_remove_column ${{inputs.percentage_to_remove_column}} --train_data ${{outputs.train_data}} --test_data ${{outputs.test_data}}', 'code': '/subscriptions/a3f56f48-3efb-4970-81a3-e4eda598333c/resourceGroups/luiz.victor.dev-rg/providers/Microsoft.MachineLearningServices/workspaces/tcc-experiments/codes/3dadffa3-a33d-4f77-a367-f4ba8758273e/versions/1', 'environment_variables': None, 'environment': '/subscriptions/a3f56f48-3efb-4970-81a3-e4eda598333c/resourceGroups/luiz.victor.dev-rg/providers/Microsoft.MachineLearningServices/workspaces/tcc-experiments/environments/data-prep-dependencies/versions/v1', 'distribution': None, 'resources': {'instance_count': 1}, 'queue_settings': None, 'version': '2024-05-08-23-45-12-0303876', 'latest_version': None, 'schema': None, 'type': 'command', 'display_name': 'Data Preparation Defaults Model', 'is_deterministic': True, 'inputs': {'data_to_train': {'type': 'uri_folder', 'optional': False}, 'data_to_test': {'type': 'uri_folder', 'optional': False}, 'flag_remove_null_values': {'type': 'boolean', 'optional': False}, 'flag_remove_values_by_percentage': {'type': 'boolean', 'optional': False}, 'percentage_to_remove_column': {'type': 'number', 'optional': False}}, 'outputs': {'train_data': {'type': 'uri_folder'}, 'test_data': {'type': 'uri_folder'}}, 'yaml_str': None, 'other_parameter': {}, 'additional_includes': [], 'CommandComponent__additional_includes_obj': None}), 'referenced_control_flow_node_instance_id': None, 'kwargs': {'services': None}, 'instance_id': 'e2287c87-75d3-4b49-b51c-1e298a020704', 'source': 'REMOTE.WORKSPACE.COMPONENT', 'validate_required_input_not_provided': True, 'limits': None, 'identity': None, 'distribution': None, 'environment_variables': {}, 'environment': None, 'resources': {'instance_count': 1}, 'queue_settings': None, 'swept': False})), ('sweep_step_to_xgb', Sweep({'job_inputs': {'train_data': <azure.ai.ml.entities._job.pipeline._io.base.NodeOutput object at 0x7f0920300be0>, 'test_data': <azure.ai.ml.entities._job.pipeline._io.base.NodeOutput object at 0x7f09202d4a30>}, 'job_outputs': {'model': None}, 'init': False, 'name': 'sweep_step_to_xgb', 'type': 'sweep', 'status': None, 'log_files': None, 'description': None, 'tags': {}, 'properties': {}, 'print_as_yaml': True, 'id': None, 'Resource__source_path': None, 'base_path': '/mnt/batch/tasks/shared/LS_root/mounts/clusters/comp-standard-e4ds-v4/code/Users/luiz.victor.dev/tcc_experiments_az_ml/src/notebooks', 'creation_context': None, 'serialize': <msrest.serialization.Serializer object at 0x7f09203004c0>, 'allowed_keys': {}, 'key_restriction': False, 'logger': <Logger attr_dict (WARNING)>, 'display_name': None, 'experiment_name': None, 'compute': 'serverless', 'services': None, 'comment': None, 'inputs': {'train_data': <azure.ai.ml.entities._job.pipeline._io.base.NodeInput object at 0x7f09202d4a60>, 'test_data': <azure.ai.ml.entities._job.pipeline._io.base.NodeInput object at 0x7f09202d47c0>, 'n_estimators_to_xgb': <azure.ai.ml.entities._job.pipeline._io.base.NodeInput object at 0x7f09202d4820>, 'learning_rate_to_xgb': <azure.ai.ml.entities._job.pipeline._io.base.NodeInput object at 0x7f09202d4700>}, 'outputs': {'model': <azure.ai.ml.entities._job.pipeline._io.base.NodeOutput object at 0x7f09202d4790>}, 'component': CommandComponent({'intellectual_property': None, 'auto_increment_version': False, 'source': 'REMOTE.WORKSPACE.COMPONENT', 'is_anonymous': False, 'auto_delete_setting': None, 'name': 'train_xgb_model', 'description': None, 'tags': {}, 'properties': {}, 'print_as_yaml': True, 'id': '/subscriptions/a3f56f48-3efb-4970-81a3-e4eda598333c/resourceGroups/luiz.victor.dev-rg/providers/Microsoft.MachineLearningServices/workspaces/tcc-experiments/components/train_xgb_model/versions/2024-05-08-23-45-19-5426442', 'Resource__source_path': None, 'base_path': PosixPath('.'), 'creation_context': <azure.ai.ml._restclient.v2022_10_01.models._models_py3.SystemData object at 0x7f09202d6680>, 'serialize': <msrest.serialization.Serializer object at 0x7f09202d40d0>, 'command': 'python train_xgb.py  --train_data ${{inputs.train_data}}  --test_data ${{inputs.test_data}}  --n_estimators_to_xgb ${{inputs.n_estimators_to_xgb}} --learning_rate_to_xgb ${{inputs.learning_rate_to_xgb}} --model ${{outputs.model}}\\n\\n\\n\\n  ', 'code': '/subscriptions/a3f56f48-3efb-4970-81a3-e4eda598333c/resourceGroups/luiz.victor.dev-rg/providers/Microsoft.MachineLearningServices/workspaces/tcc-experiments/codes/8be1e8a2-1a04-4c5f-a6a6-42e487bc03fd/versions/1', 'environment_variables': None, 'environment': '/subscriptions/a3f56f48-3efb-4970-81a3-e4eda598333c/resourceGroups/luiz.victor.dev-rg/providers/Microsoft.MachineLearningServices/workspaces/tcc-experiments/environments/train-dependencies/versions/v6', 'distribution': None, 'resources': {'instance_count': 1}, 'queue_settings': None, 'version': '2024-05-08-23-45-19-5426442', 'latest_version': None, 'schema': None, 'type': 'command', 'display_name': 'Train XGBoosting Classifier Model', 'is_deterministic': True, 'inputs': {'train_data': {'type': 'uri_folder', 'optional': False}, 'test_data': {'type': 'uri_folder', 'optional': False}, 'n_estimators_to_xgb': {'type': 'number', 'optional': False}, 'learning_rate_to_xgb': {'type': 'number', 'optional': False}}, 'outputs': {'model': {'type': 'uri_folder'}}, 'yaml_str': None, 'other_parameter': {}, 'additional_includes': [], 'CommandComponent__additional_includes_obj': None}), 'referenced_control_flow_node_instance_id': None, 'kwargs': {}, 'instance_id': 'a5f18766-f3a7-4f65-b344-4953487fcec1', 'source': 'REMOTE.WORKSPACE.COMPONENT', 'validate_required_input_not_provided': True, 'sampling_algorithm': 'bayesian', 'early_termination': <azure.ai.ml.entities._job.sweep.early_termination_policy.MedianStoppingPolicy object at 0x7f09202d48e0>, 'limits': <azure.ai.ml.entities._job.job_limits.SweepJobLimits object at 0x7f09202d4130>, 'search_space': {'n_estimators_to_xgb': <azure.ai.ml.entities._job.sweep.search_space.Choice object at 0x7f09201a31c0>, 'learning_rate_to_xgb': <azure.ai.ml.entities._job.sweep.search_space.Uniform object at 0x7f0920300e80>}, 'queue_settings': None, 'objective': <azure.ai.ml.entities._job.sweep.objective.Objective object at 0x7f0920300b80>, 'identity': None}))]), 'job_types': {'command': 1, 'sweep': 1}, 'job_sources': {'REMOTE.WORKSPACE.COMPONENT': 2}, 'source_job_id': None}), 'type': 'pipeline', 'status': None, 'log_files': None, 'name': None, 'description': 'E2E data_perp-train pipeline', 'tags': {}, 'properties': {}, 'print_as_yaml': True, 'id': None, 'Resource__source_path': None, 'base_path': '/mnt/batch/tasks/shared/LS_root/mounts/clusters/comp-standard-e4ds-v4/code/Users/luiz.victor.dev/tcc_experiments_az_ml/src/notebooks', 'creation_context': None, 'serialize': <msrest.serialization.Serializer object at 0x7f09202d4610>, 'display_name': 'train_xgb_pipeline', 'experiment_name': None, 'compute': 'serverless', 'services': None, 'settings': {}, 'identity': None, 'default_code': None, 'default_environment': None})]\n"
        }
      ],
      "execution_count": 16,
      "metadata": {
        "jupyter": {
          "source_hidden": false,
          "outputs_hidden": false
        },
        "nteract": {
          "transient": {
            "deleting": false
          }
        },
        "gather": {
          "logged": 1715211921155
        }
      }
    },
    {
      "cell_type": "code",
      "source": [
        "import datetime as dt\n",
        "\n",
        "models = ['xgb']\n",
        "\n",
        "def _get_experiment_names() -> [str]:\n",
        "    experiment_names = []\n",
        "    for train_name, test_name in zip(TRAIN_DATAS, TEST_DATAS):\n",
        "        for model_name in models:\n",
        "            current_time = dt.datetime.now()\n",
        "            formatted_time = current_time.strftime(\"%Y_%m_%d_%H_%M_%S\")  # Formata a data e hora atual\n",
        "            train_name_base = train_name.split('.')[0]\n",
        "            test_name_base = test_name.split('.')[0]\n",
        "            name = f\"{train_name_base}_tested_{test_name_base}_model_{model_name}\"\n",
        "            experiment_names.append(name)\n",
        "            print(name)\n",
        "    return experiment_names\n"
      ],
      "outputs": [],
      "execution_count": 17,
      "metadata": {
        "jupyter": {
          "source_hidden": false,
          "outputs_hidden": false
        },
        "nteract": {
          "transient": {
            "deleting": false
          }
        },
        "gather": {
          "logged": 1715211921254
        }
      }
    },
    {
      "cell_type": "code",
      "source": [
        "experiment_names = _get_experiment_names()\n",
        "for pipeline, experiment_name in zip(pipelines, experiment_names):\n",
        "    print(experiment_name)\n",
        "    print(pipeline)\n",
        "    pipeline_job = ml_client.jobs.create_or_update(\n",
        "        pipeline,\n",
        "        experiment_name=experiment_name,\n",
        "    )\n",
        "\n",
        "    ml_client.jobs.stream(pipeline_job.name)"
      ],
      "outputs": [
        {
          "output_type": "stream",
          "name": "stderr",
          "text": "Class AutoDeleteSettingSchema: This is an experimental class, and may change at any time. Please see https://aka.ms/azuremlexperimental for more information.\nClass AutoDeleteConditionSchema: This is an experimental class, and may change at any time. Please see https://aka.ms/azuremlexperimental for more information.\nClass BaseAutoDeleteSettingSchema: This is an experimental class, and may change at any time. Please see https://aka.ms/azuremlexperimental for more information.\nClass IntellectualPropertySchema: This is an experimental class, and may change at any time. Please see https://aka.ms/azuremlexperimental for more information.\nClass ProtectionLevelSchema: This is an experimental class, and may change at any time. Please see https://aka.ms/azuremlexperimental for more information.\nClass BaseIntellectualPropertySchema: This is an experimental class, and may change at any time. Please see https://aka.ms/azuremlexperimental for more information.\n"
        },
        {
          "output_type": "stream",
          "name": "stdout",
          "text": "vrex_consolidated_2008_2017_tested_vrex_consolidated_2018_2021_model_svc\nvrex_consolidated_2008_2017_tested_vrex_consolidated_2018_2021_model_xgb\nvrex_consolidated_2008_2017_tested_vrex_consolidated_2018_2021_model_svc\ndisplay_name: train_svc_pipeline\ndescription: E2E data_perp-train pipeline\ntype: pipeline\ninputs:\n  data_to_train:\n    type: uri_file\n    path: azureml://subscriptions/a3f56f48-3efb-4970-81a3-e4eda598333c/resourcegroups/luiz.victor.dev-rg/workspaces/tcc-experiments/datastores/workspaceblobstore/paths/LocalUpload/4722af391476dd8597905df3c3ae6d19/vrex_consolidated_2008_2017.csv\n  data_to_test:\n    type: uri_file\n    path: azureml://subscriptions/a3f56f48-3efb-4970-81a3-e4eda598333c/resourcegroups/luiz.victor.dev-rg/workspaces/tcc-experiments/datastores/workspaceblobstore/paths/LocalUpload/154dc9171c762e1cab20b8998d7d1c63/vrex_consolidated_2018_2021.csv\n  flag_remove_null_values: 0\n  flag_remove_values_by_percentage: 0\n  percentage_to_remove_column: 0\njobs:\n  data_prep_job:\n    type: command\n    inputs:\n      data_to_train:\n        path: ${{parent.inputs.data_to_train}}\n      data_to_test:\n        path: ${{parent.inputs.data_to_test}}\n      flag_remove_null_values:\n        path: ${{parent.inputs.flag_remove_null_values}}\n      flag_remove_values_by_percentage:\n        path: ${{parent.inputs.flag_remove_values_by_percentage}}\n      percentage_to_remove_column:\n        path: ${{parent.inputs.percentage_to_remove_column}}\n    resources:\n      instance_count: 1\n    component:\n      name: data_prep_vrex_defaults_model\n      version: 2024-05-08-23-45-12-0303876\n      display_name: Data Preparation Defaults Model\n      type: command\n      inputs:\n        data_to_train:\n          type: uri_folder\n          optional: false\n        data_to_test:\n          type: uri_folder\n          optional: false\n        flag_remove_null_values:\n          type: boolean\n          optional: false\n        flag_remove_values_by_percentage:\n          type: boolean\n          optional: false\n        percentage_to_remove_column:\n          type: number\n          optional: false\n      outputs:\n        train_data:\n          type: uri_folder\n        test_data:\n          type: uri_folder\n      command: python data_prep.py  --data_to_train ${{inputs.data_to_train}}  --data_to_test\n        ${{inputs.data_to_test}}  --flag_remove_null_values ${{inputs.flag_remove_null_values}}\n        --flag_remove_values_by_percentage ${{inputs.flag_remove_values_by_percentage}}\n        --percentage_to_remove_column ${{inputs.percentage_to_remove_column}} --train_data\n        ${{outputs.train_data}} --test_data ${{outputs.test_data}}\n      environment: azureml:/subscriptions/a3f56f48-3efb-4970-81a3-e4eda598333c/resourceGroups/luiz.victor.dev-rg/providers/Microsoft.MachineLearningServices/workspaces/tcc-experiments/environments/data-prep-dependencies/versions/v1\n      code: azureml:/subscriptions/a3f56f48-3efb-4970-81a3-e4eda598333c/resourceGroups/luiz.victor.dev-rg/providers/Microsoft.MachineLearningServices/workspaces/tcc-experiments/codes/3dadffa3-a33d-4f77-a367-f4ba8758273e/versions/1\n      resources:\n        instance_count: 1\n      id: /subscriptions/a3f56f48-3efb-4970-81a3-e4eda598333c/resourceGroups/luiz.victor.dev-rg/providers/Microsoft.MachineLearningServices/workspaces/tcc-experiments/components/data_prep_vrex_defaults_model/versions/2024-05-08-23-45-12-0303876\n      is_deterministic: true\n      creation_context:\n        created_at: '2024-05-08T23:45:12.696716+00:00'\n        created_by: Luiz Victor Ferreira Santos\n        created_by_type: User\n        last_modified_at: '2024-05-08T23:45:12.763355+00:00'\n        last_modified_by: Luiz Victor Ferreira Santos\n        last_modified_by_type: User\n  sweep_step_to_svc:\n    type: sweep\n    inputs:\n      train_data:\n        path: ${{parent.jobs.data_prep_job.outputs.train_data}}\n      test_data:\n        path: ${{parent.jobs.data_prep_job.outputs.test_data}}\n    limits:\n      max_concurrent_trials: 10\n      max_total_trials: 40\n      timeout: 7200\n    sampling_algorithm: bayesian\n    search_space:\n      kernel_to_svc:\n        values:\n        - linear\n        - rbf\n        - poly\n        - sigmoid\n        - precomputed\n        type: choice\n      gamma_to_svc:\n        values:\n        - scale\n        - auto\n        type: choice\n    trial:\n      name: train_svc_model\n      version: 2024-05-08-23-45-17-9891547\n      display_name: Train Support Vector Classification Model\n      type: command\n      inputs:\n        train_data:\n          type: uri_folder\n          optional: false\n        test_data:\n          type: uri_folder\n          optional: false\n        kernel_to_svc:\n          type: string\n          optional: false\n        gamma_to_svc:\n          type: string\n          optional: false\n      outputs:\n        model:\n          type: uri_folder\n      command: \"python train_svc.py  --train_data ${{inputs.train_data}}  --test_data\\\n        \\ ${{inputs.test_data}}  --kernel_to_svc ${{inputs.kernel_to_svc}} --gamma_to_svc\\\n        \\ ${{inputs.gamma_to_svc}} --model ${{outputs.model}}\\n\\n\\n\\n  \"\n      environment: azureml:/subscriptions/a3f56f48-3efb-4970-81a3-e4eda598333c/resourceGroups/luiz.victor.dev-rg/providers/Microsoft.MachineLearningServices/workspaces/tcc-experiments/environments/train-dependencies/versions/v6\n      code: azureml:/subscriptions/a3f56f48-3efb-4970-81a3-e4eda598333c/resourceGroups/luiz.victor.dev-rg/providers/Microsoft.MachineLearningServices/workspaces/tcc-experiments/codes/8be1e8a2-1a04-4c5f-a6a6-42e487bc03fd/versions/1\n      resources:\n        instance_count: 1\n      id: /subscriptions/a3f56f48-3efb-4970-81a3-e4eda598333c/resourceGroups/luiz.victor.dev-rg/providers/Microsoft.MachineLearningServices/workspaces/tcc-experiments/components/train_svc_model/versions/2024-05-08-23-45-17-9891547\n      is_deterministic: true\n      creation_context:\n        created_at: '2024-05-08T23:45:18.541523+00:00'\n        created_by: Luiz Victor Ferreira Santos\n        created_by_type: User\n        last_modified_at: '2024-05-08T23:45:18.600025+00:00'\n        last_modified_by: Luiz Victor Ferreira Santos\n        last_modified_by_type: User\n    early_termination:\n      evaluation_interval: 1\n      delay_evaluation: 5\n      type: median_stopping\n    compute: azureml:serverless\n    objective:\n      goal: maximize\n      primary_metric: training_accuracy_score\ncompute: azureml:serverless\n\nRunId: cyan_rice_pmjjnxg5pd\nWeb View: https://ml.azure.com/runs/cyan_rice_pmjjnxg5pd?wsid=/subscriptions/a3f56f48-3efb-4970-81a3-e4eda598333c/resourcegroups/luiz.victor.dev-rg/workspaces/tcc-experiments\n\nStreaming logs/azureml/executionlogs.txt\n========================================\n\n[2024-05-08 23:45:26Z] Submitting 1 runs, first five are: 350aac85:f4c7e5cd-caef-437c-8ac1-b4837ed193c8\n[2024-05-08 23:45:27Z] Completing processing run id f4c7e5cd-caef-437c-8ac1-b4837ed193c8.\n[2024-05-08 23:45:28Z] Submitting 1 runs, first five are: 6c274612:704b5ec2-5111-4005-a599-f09c4737594f\n"
        },
        {
          "output_type": "error",
          "ename": "JobException",
          "evalue": "The output streaming for the run interrupted.\nBut the run is still executing on the compute target. \nDetails for canceling the run can be found here: https://aka.ms/aml-docs-cancel-run",
          "traceback": [
            "\u001b[0;31m---------------------------------------------------------------------------\u001b[0m",
            "\u001b[0;31mKeyboardInterrupt\u001b[0m                         Traceback (most recent call last)",
            "File \u001b[0;32m/anaconda/envs/azureml_py310_sdkv2/lib/python3.10/site-packages/azure/ai/ml/operations/_job_ops_helper.py:250\u001b[0m, in \u001b[0;36mstream_logs_until_completion\u001b[0;34m(run_operations, job_resource, datastore_operations, raise_exception_on_failed_job, requests_pipeline)\u001b[0m\n\u001b[1;32m    249\u001b[0m file_handle\u001b[38;5;241m.\u001b[39mflush()\n\u001b[0;32m--> 250\u001b[0m \u001b[43mtime\u001b[49m\u001b[38;5;241;43m.\u001b[39;49m\u001b[43msleep\u001b[49m\u001b[43m(\u001b[49m\u001b[43m_wait_before_polling\u001b[49m\u001b[43m(\u001b[49m\u001b[43mtime\u001b[49m\u001b[38;5;241;43m.\u001b[39;49m\u001b[43mtime\u001b[49m\u001b[43m(\u001b[49m\u001b[43m)\u001b[49m\u001b[43m \u001b[49m\u001b[38;5;241;43m-\u001b[39;49m\u001b[43m \u001b[49m\u001b[43mpoll_start_time\u001b[49m\u001b[43m)\u001b[49m\u001b[43m)\u001b[49m\n\u001b[1;32m    251\u001b[0m _current_details: RunDetails \u001b[38;5;241m=\u001b[39m run_operations\u001b[38;5;241m.\u001b[39mget_run_details(job_name)  \u001b[38;5;66;03m# TODO use FileWatcher\u001b[39;00m\n",
            "\u001b[0;31mKeyboardInterrupt\u001b[0m: ",
            "\nDuring handling of the above exception, another exception occurred:\n",
            "\u001b[0;31mJobException\u001b[0m                              Traceback (most recent call last)",
            "Cell \u001b[0;32mIn[18], line 10\u001b[0m\n\u001b[1;32m      4\u001b[0m \u001b[38;5;28mprint\u001b[39m(pipeline)\n\u001b[1;32m      5\u001b[0m pipeline_job \u001b[38;5;241m=\u001b[39m ml_client\u001b[38;5;241m.\u001b[39mjobs\u001b[38;5;241m.\u001b[39mcreate_or_update(\n\u001b[1;32m      6\u001b[0m     pipeline,\n\u001b[1;32m      7\u001b[0m     experiment_name\u001b[38;5;241m=\u001b[39mexperiment_name,\n\u001b[1;32m      8\u001b[0m )\n\u001b[0;32m---> 10\u001b[0m \u001b[43mml_client\u001b[49m\u001b[38;5;241;43m.\u001b[39;49m\u001b[43mjobs\u001b[49m\u001b[38;5;241;43m.\u001b[39;49m\u001b[43mstream\u001b[49m\u001b[43m(\u001b[49m\u001b[43mpipeline_job\u001b[49m\u001b[38;5;241;43m.\u001b[39;49m\u001b[43mname\u001b[49m\u001b[43m)\u001b[49m\n",
            "File \u001b[0;32m/anaconda/envs/azureml_py310_sdkv2/lib/python3.10/site-packages/azure/core/tracing/decorator.py:76\u001b[0m, in \u001b[0;36mdistributed_trace.<locals>.decorator.<locals>.wrapper_use_tracer\u001b[0;34m(*args, **kwargs)\u001b[0m\n\u001b[1;32m     74\u001b[0m span_impl_type \u001b[38;5;241m=\u001b[39m settings\u001b[38;5;241m.\u001b[39mtracing_implementation()\n\u001b[1;32m     75\u001b[0m \u001b[38;5;28;01mif\u001b[39;00m span_impl_type \u001b[38;5;129;01mis\u001b[39;00m \u001b[38;5;28;01mNone\u001b[39;00m:\n\u001b[0;32m---> 76\u001b[0m     \u001b[38;5;28;01mreturn\u001b[39;00m \u001b[43mfunc\u001b[49m\u001b[43m(\u001b[49m\u001b[38;5;241;43m*\u001b[39;49m\u001b[43margs\u001b[49m\u001b[43m,\u001b[49m\u001b[43m \u001b[49m\u001b[38;5;241;43m*\u001b[39;49m\u001b[38;5;241;43m*\u001b[39;49m\u001b[43mkwargs\u001b[49m\u001b[43m)\u001b[49m\n\u001b[1;32m     78\u001b[0m \u001b[38;5;66;03m# Merge span is parameter is set, but only if no explicit parent are passed\u001b[39;00m\n\u001b[1;32m     79\u001b[0m \u001b[38;5;28;01mif\u001b[39;00m merge_span \u001b[38;5;129;01mand\u001b[39;00m \u001b[38;5;129;01mnot\u001b[39;00m passed_in_parent:\n",
            "File \u001b[0;32m/anaconda/envs/azureml_py310_sdkv2/lib/python3.10/site-packages/azure/ai/ml/_telemetry/activity.py:263\u001b[0m, in \u001b[0;36mmonitor_with_activity.<locals>.monitor.<locals>.wrapper\u001b[0;34m(*args, **kwargs)\u001b[0m\n\u001b[1;32m    260\u001b[0m \u001b[38;5;129m@functools\u001b[39m\u001b[38;5;241m.\u001b[39mwraps(f)\n\u001b[1;32m    261\u001b[0m \u001b[38;5;28;01mdef\u001b[39;00m \u001b[38;5;21mwrapper\u001b[39m(\u001b[38;5;241m*\u001b[39margs, \u001b[38;5;241m*\u001b[39m\u001b[38;5;241m*\u001b[39mkwargs):\n\u001b[1;32m    262\u001b[0m     \u001b[38;5;28;01mwith\u001b[39;00m log_activity(logger, activity_name \u001b[38;5;129;01mor\u001b[39;00m f\u001b[38;5;241m.\u001b[39m\u001b[38;5;18m__name__\u001b[39m, activity_type, custom_dimensions):\n\u001b[0;32m--> 263\u001b[0m         \u001b[38;5;28;01mreturn\u001b[39;00m \u001b[43mf\u001b[49m\u001b[43m(\u001b[49m\u001b[38;5;241;43m*\u001b[39;49m\u001b[43margs\u001b[49m\u001b[43m,\u001b[49m\u001b[43m \u001b[49m\u001b[38;5;241;43m*\u001b[39;49m\u001b[38;5;241;43m*\u001b[39;49m\u001b[43mkwargs\u001b[49m\u001b[43m)\u001b[49m\n",
            "File \u001b[0;32m/anaconda/envs/azureml_py310_sdkv2/lib/python3.10/site-packages/azure/ai/ml/operations/_job_operations.py:661\u001b[0m, in \u001b[0;36mJobOperations.stream\u001b[0;34m(self, name)\u001b[0m\n\u001b[1;32m    658\u001b[0m \u001b[38;5;28;01mif\u001b[39;00m _is_pipeline_child_job(job_object):\n\u001b[1;32m    659\u001b[0m     \u001b[38;5;28;01mraise\u001b[39;00m PipelineChildJobError(job_id\u001b[38;5;241m=\u001b[39mjob_object\u001b[38;5;241m.\u001b[39mid)\n\u001b[0;32m--> 661\u001b[0m \u001b[38;5;28;43mself\u001b[39;49m\u001b[38;5;241;43m.\u001b[39;49m\u001b[43m_stream_logs_until_completion\u001b[49m\u001b[43m(\u001b[49m\n\u001b[1;32m    662\u001b[0m \u001b[43m    \u001b[49m\u001b[38;5;28;43mself\u001b[39;49m\u001b[38;5;241;43m.\u001b[39;49m\u001b[43m_runs_operations\u001b[49m\u001b[43m,\u001b[49m\u001b[43m \u001b[49m\u001b[43mjob_object\u001b[49m\u001b[43m,\u001b[49m\u001b[43m \u001b[49m\u001b[38;5;28;43mself\u001b[39;49m\u001b[38;5;241;43m.\u001b[39;49m\u001b[43m_datastore_operations\u001b[49m\u001b[43m,\u001b[49m\u001b[43m \u001b[49m\u001b[43mrequests_pipeline\u001b[49m\u001b[38;5;241;43m=\u001b[39;49m\u001b[38;5;28;43mself\u001b[39;49m\u001b[38;5;241;43m.\u001b[39;49m\u001b[43m_requests_pipeline\u001b[49m\n\u001b[1;32m    663\u001b[0m \u001b[43m\u001b[49m\u001b[43m)\u001b[49m\n",
            "File \u001b[0;32m/anaconda/envs/azureml_py310_sdkv2/lib/python3.10/site-packages/azure/ai/ml/operations/_job_ops_helper.py:328\u001b[0m, in \u001b[0;36mstream_logs_until_completion\u001b[0;34m(run_operations, job_resource, datastore_operations, raise_exception_on_failed_job, requests_pipeline)\u001b[0m\n\u001b[1;32m    321\u001b[0m \u001b[38;5;28;01mexcept\u001b[39;00m \u001b[38;5;167;01mKeyboardInterrupt\u001b[39;00m:\n\u001b[1;32m    322\u001b[0m     error_message \u001b[38;5;241m=\u001b[39m (\n\u001b[1;32m    323\u001b[0m         \u001b[38;5;124m\"\u001b[39m\u001b[38;5;124mThe output streaming for the run interrupted.\u001b[39m\u001b[38;5;130;01m\\n\u001b[39;00m\u001b[38;5;124m\"\u001b[39m\n\u001b[1;32m    324\u001b[0m         \u001b[38;5;124m\"\u001b[39m\u001b[38;5;124mBut the run is still executing on the compute target. \u001b[39m\u001b[38;5;130;01m\\n\u001b[39;00m\u001b[38;5;124m\"\u001b[39m\n\u001b[1;32m    325\u001b[0m         \u001b[38;5;124m\"\u001b[39m\u001b[38;5;124mDetails for canceling the run can be found here: \u001b[39m\u001b[38;5;124m\"\u001b[39m\n\u001b[1;32m    326\u001b[0m         \u001b[38;5;124m\"\u001b[39m\u001b[38;5;124mhttps://aka.ms/aml-docs-cancel-run\u001b[39m\u001b[38;5;124m\"\u001b[39m\n\u001b[1;32m    327\u001b[0m     )\n\u001b[0;32m--> 328\u001b[0m     \u001b[38;5;28;01mraise\u001b[39;00m JobException(\n\u001b[1;32m    329\u001b[0m         message\u001b[38;5;241m=\u001b[39merror_message,\n\u001b[1;32m    330\u001b[0m         target\u001b[38;5;241m=\u001b[39mErrorTarget\u001b[38;5;241m.\u001b[39mJOB,\n\u001b[1;32m    331\u001b[0m         no_personal_data_message\u001b[38;5;241m=\u001b[39merror_message,\n\u001b[1;32m    332\u001b[0m         error_category\u001b[38;5;241m=\u001b[39mErrorCategory\u001b[38;5;241m.\u001b[39mUSER_ERROR,\n\u001b[1;32m    333\u001b[0m     )\n",
            "\u001b[0;31mJobException\u001b[0m: The output streaming for the run interrupted.\nBut the run is still executing on the compute target. \nDetails for canceling the run can be found here: https://aka.ms/aml-docs-cancel-run"
          ]
        }
      ],
      "execution_count": 18,
      "metadata": {
        "jupyter": {
          "source_hidden": false,
          "outputs_hidden": false
        },
        "nteract": {
          "transient": {
            "deleting": false
          }
        },
        "gather": {
          "logged": 1715211942466
        }
      }
    }
  ],
  "metadata": {
    "kernelspec": {
      "name": "python310-sdkv2",
      "language": "python",
      "display_name": "Python 3.10 - SDK v2"
    },
    "language_info": {
      "name": "python",
      "version": "3.10.11",
      "mimetype": "text/x-python",
      "codemirror_mode": {
        "name": "ipython",
        "version": 3
      },
      "pygments_lexer": "ipython3",
      "nbconvert_exporter": "python",
      "file_extension": ".py"
    },
    "kernel_info": {
      "name": "python310-sdkv2"
    },
    "nteract": {
      "version": "nteract-front-end@1.0.0"
    },
    "microsoft": {
      "host": {
        "AzureML": {
          "notebookHasBeenCompleted": true
        }
      }
    }
  },
  "nbformat": 4,
  "nbformat_minor": 2
}