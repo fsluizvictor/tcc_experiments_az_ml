{
  "cells": [
    {
      "cell_type": "code",
      "source": [
        "from azure.ai.ml import MLClient\n",
        "from azure.identity import DefaultAzureCredential\n",
        "from azure.ai.ml.entities import Data\n",
        "from azure.ai.ml.constants import AssetTypes\n",
        "\n",
        "# authenticate\n",
        "credential = DefaultAzureCredential()\n",
        "\n",
        "SUBSCRIPTION=\"a3f56f48-3efb-4970-81a3-e4eda598333c\"\n",
        "RESOURCE_GROUP=\"luiz.victor.dev-rg\"\n",
        "WS_NAME=\"tcc-experiments\"\n",
        "\n",
        "# Get a handle to the workspace\n",
        "ml_client = MLClient(\n",
        "    credential=credential,\n",
        "    subscription_id=SUBSCRIPTION,\n",
        "    resource_group_name=RESOURCE_GROUP,\n",
        "    workspace_name=WS_NAME,\n",
        ")"
      ],
      "outputs": [],
      "execution_count": 1,
      "metadata": {
        "gather": {
          "logged": 1714004414705
        }
      }
    },
    {
      "cell_type": "code",
      "source": [
        "TRAIN_DATA_PATH = \"/home/azureuser/cloudfiles/code/Users/luiz.victor.dev/data/train/\"\n",
        "TEST_DATA_PATH = \"/home/azureuser/cloudfiles/code/Users/luiz.victor.dev/data/test/\"\n",
        "\n",
        "TRAIN_DATAS = [\n",
        "    \"vrex_consolidated_2008_2017.csv\",\n",
        "]\n",
        "\n",
        "TEST_DATAS = [\n",
        "    \"vrex_consolidated_2018_2021.csv\"\n",
        "]\n",
        "\n",
        "v1 = \"original\""
      ],
      "outputs": [],
      "execution_count": 2,
      "metadata": {
        "jupyter": {
          "source_hidden": false,
          "outputs_hidden": false
        },
        "nteract": {
          "transient": {
            "deleting": false
          }
        },
        "gather": {
          "logged": 1714004414786
        }
      }
    },
    {
      "cell_type": "code",
      "source": [
        "from azure.ai.ml.entities import Data\n",
        "from azure.ai.ml.constants import AssetTypes\n",
        "\n",
        "arr_to_train = []\n",
        "arr_to_test = []\n",
        "\n",
        "for name_data_to_train, name_data_to_test  in zip(TRAIN_DATAS, TEST_DATAS):\n",
        "    data_to_train = Data(\n",
        "        name=name_data_to_train.split('.')[0],\n",
        "        version=v1,\n",
        "        description=f\"Data to train - {name_data_to_train.split('.')[0]}\",\n",
        "        path=f\"{TRAIN_DATA_PATH}{name_data_to_train}\",\n",
        "        type=AssetTypes.URI_FILE,\n",
        "        )\n",
        "\n",
        "    data_to_test = Data(\n",
        "        name=name_data_to_test.split('.')[0],\n",
        "        version=v1,\n",
        "        description=f\"Data to test - {name_data_to_test.split('.')[0]}\",\n",
        "        path=f\"{TEST_DATA_PATH}{name_data_to_test}\",\n",
        "        type=AssetTypes.URI_FILE,\n",
        "        )\n",
        "\n",
        "    arr_to_train.append(data_to_train)\n",
        "    arr_to_test.append(data_to_test)\n",
        "\n",
        "for data_to_train, data_to_test in zip(arr_to_train, arr_to_test):\n",
        "    ml_client.data.create_or_update(data_to_train)\n",
        "    ml_client.data.create_or_update(data_to_test)\n",
        "    print(f\"Data asset created. Name: {data_to_train.name}, version: {data_to_train.version}\")\n",
        "    print(f\"Data asset created. Name: {data_to_test.name}, version: {data_to_test.version}\")\n"
      ],
      "outputs": [
        {
          "output_type": "stream",
          "name": "stderr",
          "text": "\u001b[32mUploading vrex_1999_2000_2001_2002_2003_.csv\u001b[32m (< 1 MB): 100%|██████████| 21.1M/21.1M [00:00<00:00, 71.9MB/s]\n\u001b[39m\n\n\u001b[32mUploading vrex_2004.csv\u001b[32m (< 1 MB): 100%|██████████| 6.88M/6.88M [00:00<00:00, 88.9MB/s]\n\u001b[39m\n\n\u001b[32mUploading vrex_2004_2005_2006_2007_2008_.csv\u001b[32m (< 1 MB): 16.8MB [00:00, 32.6MB/s]                            \n\u001b[39m\n\n\u001b[32mUploading vrex_2009.csv\u001b[32m (< 1 MB): 100%|██████████| 12.7M/12.7M [00:00<00:00, 80.8MB/s]\n\u001b[39m\n\n\u001b[32mUploading vrex_2009_2010_2011_2012_2013_.csv\u001b[32m (< 1 MB): 12.6MB [00:00, 24.5MB/s]                            \n\u001b[39m\n\n\u001b[32mUploading vrex_2014.csv\u001b[32m (< 1 MB): 100%|██████████| 22.5M/22.5M [00:00<00:00, 66.0MB/s]\n\u001b[39m\n\n\u001b[32mUploading vrex_2014_2015_2016_2017_2018_.csv\u001b[32m (< 1 MB): 16.8MB [00:00, 26.5MB/s]                           \n\u001b[39m\n\n\u001b[32mUploading vrex_2019.csv\u001b[32m (< 1 MB): 100%|██████████| 41.7M/41.7M [00:00<00:00, 116MB/s]\n\u001b[39m\n\n"
        },
        {
          "output_type": "stream",
          "name": "stdout",
          "text": "Data asset created. Name: vrex_1999_2000_2001_2002_2003_, version: original\nData asset created. Name: vrex_2004, version: original\nData asset created. Name: vrex_2004_2005_2006_2007_2008_, version: original\nData asset created. Name: vrex_2009, version: original\nData asset created. Name: vrex_2009_2010_2011_2012_2013_, version: original\nData asset created. Name: vrex_2014, version: original\nData asset created. Name: vrex_2014_2015_2016_2017_2018_, version: original\nData asset created. Name: vrex_2019, version: original\n"
        }
      ],
      "execution_count": 3,
      "metadata": {
        "jupyter": {
          "source_hidden": false,
          "outputs_hidden": false
        },
        "nteract": {
          "transient": {
            "deleting": false
          }
        },
        "gather": {
          "logged": 1714004427449
        }
      }
    }
  ],
  "metadata": {
    "kernelspec": {
      "name": "python310-sdkv2",
      "language": "python",
      "display_name": "Python 3.10 - SDK v2"
    },
    "language_info": {
      "name": "python",
      "version": "3.10.11",
      "mimetype": "text/x-python",
      "codemirror_mode": {
        "name": "ipython",
        "version": 3
      },
      "pygments_lexer": "ipython3",
      "nbconvert_exporter": "python",
      "file_extension": ".py"
    },
    "kernel_info": {
      "name": "python310-sdkv2"
    },
    "nteract": {
      "version": "nteract-front-end@1.0.0"
    },
    "microsoft": {
      "host": {
        "AzureML": {
          "notebookHasBeenCompleted": true
        }
      }
    }
  },
  "nbformat": 4,
  "nbformat_minor": 2
}