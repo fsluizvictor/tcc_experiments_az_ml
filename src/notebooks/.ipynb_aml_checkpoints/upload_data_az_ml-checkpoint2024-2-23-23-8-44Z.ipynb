{
  "cells": [
    {
      "cell_type": "code",
      "source": [
        "from azure.ai.ml import MLClient\n",
        "from azure.identity import DefaultAzureCredential\n",
        "from azure.ai.ml.entities import Data\n",
        "from azure.ai.ml.constants import AssetTypes\n",
        "\n",
        "# authenticate\n",
        "credential = DefaultAzureCredential()\n",
        "\n",
        "# Get a handle to the workspace\n",
        "ml_client = MLClient(\n",
        "    credential=credential,\n",
        "    subscription_id=\"2944a580-6c5f-4258-8c86-b9c5de957998\",\n",
        "    resource_group_name=\"calebebraga08-rg\",\n",
        "    workspace_name=\"tcc-experiments\",\n",
        ")"
      ],
      "outputs": [],
      "execution_count": null,
      "metadata": {}
    },
    {
      "cell_type": "code",
      "source": [
        "TRAIN_DATA_PATH = \"/mnt/batch/tasks/shared/LS_root/mounts/clusters/machine-standard-e4ds-v4/code/Users/calebebraga08/data/train_data/\"\n",
        "TEST_DATA_PATH = \"/mnt/batch/tasks/shared/LS_root/mounts/clusters/machine-standard-e4ds-v4/code/Users/calebebraga08/data/test_data/\"\n",
        "\n",
        "TRAIN_DATAS = [\n",
        "    \"vrex_1999_2000_2001_2002_2003_.csv\",\n",
        "    \"vrex_2004_2005_2006_2007_2008_.csv\",\n",
        "    \"vrex_2009_2010_2011_2012_2013_.csv\",\n",
        "    \"vrex_2014_2015_2016_2017_2018_.csv\",\n",
        "]\n",
        "\n",
        "TEST_DATAS = [\n",
        "    \"vrex_2004.csv\",\n",
        "    \"vrex_2009.csv\",\n",
        "    \"vrex_2014.csv\",\n",
        "    \"vrex_2019.csv\"\n",
        "]\n",
        "\n",
        "v1 = \"original\""
      ],
      "outputs": [],
      "execution_count": null,
      "metadata": {
        "jupyter": {
          "source_hidden": false,
          "outputs_hidden": false
        },
        "nteract": {
          "transient": {
            "deleting": false
          }
        }
      }
    },
    {
      "cell_type": "code",
      "source": [
        "from azure.ai.ml.entities import Data\n",
        "from azure.ai.ml.constants import AssetTypes\n",
        "\n",
        "arr_to_train = []\n",
        "arr_to_test = []\n",
        "\n",
        "for name_data_to_train, name_data_to_test  in zip(TRAIN_DATAS, TEST_DATAS):\n",
        "    data_to_train = Data(\n",
        "        name=name_data_to_train.split(\".\")[0],\n",
        "        version=v1,\n",
        "        description=f\"Data to train - {name_data_to_train.split(\".\")[0]}\",\n",
        "        path=f\"{TRAIN_DATA_PATH}{name_data_to_train}\",\n",
        "        type=AssetTypes.URI_FILE,\n",
        "        )\n",
        "\n",
        "    data_to_test = Data(\n",
        "        name=name_data_to_test.split(\".\")[0],\n",
        "        version=v1,\n",
        "        description=f\"Data to test - {name_data_to_test.split(\".\")[0]}\",\n",
        "        path=f\"{TEST_DATA_PATH}{name_data_to_test}\",\n",
        "        type=AssetTypes.URI_FILE,\n",
        "        )\n",
        "\n",
        "    arr_to_train.append(data_to_train)\n",
        "    arr_to_test.append(data_to_test)\n",
        "\n",
        "for data_to_train, data_to_test in zip(arr_to_train, arr_to_test):\n",
        "    ml_client.data.create_or_update(data_to_train)\n",
        "    ml_client.data.create_or_update(data_to_test)\n",
        "    print(f\"Data asset created. Name: {data_to_train.name}, version: {data_to_train.version}\")\n",
        "    print(f\"Data asset created. Name: {data_to_test.name}, version: {data_to_test.version}\")\n"
      ],
      "outputs": [],
      "execution_count": null,
      "metadata": {
        "jupyter": {
          "source_hidden": false,
          "outputs_hidden": false
        },
        "nteract": {
          "transient": {
            "deleting": false
          }
        }
      }
    }
  ],
  "metadata": {
    "kernelspec": {
      "name": "python310-sdkv2",
      "language": "python",
      "display_name": "Python 3.10 - SDK v2"
    },
    "language_info": {
      "name": "python",
      "version": "3.10.11",
      "mimetype": "text/x-python",
      "codemirror_mode": {
        "name": "ipython",
        "version": 3
      },
      "pygments_lexer": "ipython3",
      "nbconvert_exporter": "python",
      "file_extension": ".py"
    },
    "kernel_info": {
      "name": "python310-sdkv2"
    },
    "nteract": {
      "version": "nteract-front-end@1.0.0"
    }
  },
  "nbformat": 4,
  "nbformat_minor": 2
}