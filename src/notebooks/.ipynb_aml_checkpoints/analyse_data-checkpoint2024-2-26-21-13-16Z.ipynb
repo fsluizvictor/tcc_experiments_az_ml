{
  "cells": [
    {
      "cell_type": "code",
      "source": [
        "from azure.ai.ml import MLClient\n",
        "from azure.identity import DefaultAzureCredential\n",
        "from azure.ai.ml.entities import Data\n",
        "from azure.ai.ml.constants import AssetTypes\n",
        "\n",
        "import pandas as pd\n",
        "import matplotlib.pyplot as plt\n",
        "\n",
        "\n",
        "# authenticate\n",
        "credential = DefaultAzureCredential()\n",
        "\n",
        "# Get a handle to the workspace\n",
        "ml_client = MLClient(\n",
        "    credential=credential,\n",
        "    subscription_id=\"2944a580-6c5f-4258-8c86-b9c5de957998\",\n",
        "    resource_group_name=\"calebebraga08-rg\",\n",
        "    workspace_name=\"tcc-experiments\",\n",
        ")"
      ],
      "outputs": [],
      "execution_count": 1,
      "metadata": {
        "gather": {
          "logged": 1711487119049
        }
      }
    },
    {
      "cell_type": "code",
      "source": [
        "TRAIN_DATA_PATH = \"/mnt/batch/tasks/shared/LS_root/mounts/clusters/machine-standard-e4ds-v4/code/Users/calebebraga08/data/train_data/\"\n",
        "\n",
        "TRAIN_DATAS = [\n",
        "    \"vrex_1999_2000_2001_2002_2003_.csv\",\n",
        "    \"vrex_2004_2005_2006_2007_2008_.csv\",\n",
        "    \"vrex_2009_2010_2011_2012_2013_.csv\",\n",
        "    \"vrex_2014_2015_2016_2017_2018_.csv\",\n",
        "    \"vrex_2019_2020_2021_.csv\"\n",
        "]\n",
        "\n",
        "TEST_DATAS = [\n",
        "    \"vrex_2004.csv\",\n",
        "    \"vrex_2009.csv\",\n",
        "    \"vrex_2014.csv\",\n",
        "    \"vrex_2019.csv\"\n",
        "]\n",
        "\n",
        "v1 = \"original\""
      ],
      "outputs": [],
      "execution_count": 2,
      "metadata": {
        "jupyter": {
          "source_hidden": false,
          "outputs_hidden": false
        },
        "nteract": {
          "transient": {
            "deleting": false
          }
        },
        "gather": {
          "logged": 1711487119160
        }
      }
    },
    {
      "cell_type": "code",
      "source": [
        "def _remove_columns(df : pd.DataFrame) -> pd.DataFrame:\n",
        "    return df.drop(columns=[  'lbl_exploits_delta_days',\t\n",
        "                        'lbl_exploits_weaponized_type_ENUM_absent',\n",
        "                        'lbl_exploits_weaponized_type_ENUM_other',\t\n",
        "                        'lbl_exploits_weaponized_type_ENUM_auxiliary',\n",
        "                        'lbl_exploits_weaponized_type_ENUM_exploit',\n",
        "                        'lbl_exploits_weaponized_count',\n",
        "                        'lbl_exploits_verified',\n",
        "                        'idx',\n",
        "                        'cve',\n",
        "                        'lbl_exploits_has'\n",
        "    ])"
      ],
      "outputs": [],
      "execution_count": 3,
      "metadata": {
        "jupyter": {
          "source_hidden": false,
          "outputs_hidden": false
        },
        "nteract": {
          "transient": {
            "deleting": false
          }
        },
        "gather": {
          "logged": 1711487119247
        }
      }
    },
    {
      "cell_type": "code",
      "source": [
        "join_removed_columns = []\n",
        "\n",
        "for df_name in TRAIN_DATAS:\n",
        "    df_vrex = pd.read_csv(f\"{TRAIN_DATA_PATH}{df_name}\")\n",
        "    print(df_name)\n",
        "    \n",
        "    print(\"shape original: \", df_vrex.shape)\n",
        "\n",
        "    all_columns = df_vrex.columns.tolist()\n",
        "    \n",
        "    #remove columns where all values are null\n",
        "    df_vrex = df_vrex.loc[:, (df_vrex != 0).any(axis=0)]\n",
        "    \n",
        "    removed_columns = [column for column in all_columns if column not in df_vrex.columns]\n",
        "    print(\"shape without null values: \", df_vrex.shape)\n",
        "    print(\"removed columns: \", len(removed_columns) )\n",
        "    join_removed_columns.extend(removed_columns)\n",
        "\n",
        "    # Calcular a quantidade de colunas\n",
        "    columns_count = len(df_vrex.columns)\n",
        "\n",
        "# Calcular a porcentagem de colunas zeradas em cada linha\n",
        "    row_by_null_columns_percents = (df_vrex == 0).sum(axis=1) / columns_count * 100\n",
        "\n",
        "# Ordenar o DataFrame de acordo com as porcentagens de colunas zeradas por linha\n",
        "    row_by_null_columns_percents_sorted = row_by_null_columns_percents.sort_values()\n",
        "    df_vrex_sorted = df_vrex.loc[row_by_null_columns_percents_sorted.index]\n",
        "\n",
        "# Plotar o gráfico\n",
        "    plt.figure(figsize=(8, 6))\n",
        "    plt.scatter(df_vrex_sorted.index, row_by_null_columns_percents_sorted, color='skyblue', alpha=0.5)\n",
        "    plt.title('Porcentagem de colunas zeradas por linha')\n",
        "    plt.xlabel('Quantidade de linhas')\n",
        "    plt.ylabel('Porcentagem de colunas zeradas')\n",
        "    plt.grid(True)\n",
        "    plt.show()\n",
        "\n",
        "\n",
        "\n"
      ],
      "outputs": [
        {
          "output_type": "stream",
          "name": "stdout",
          "text": "vrex_1999_2000_2001_2002_2003_.csv\nshape original:  (8317, 885)\nshape without null values:  (8317, 586)\nremoved columns:  299\n"
        },
        {
          "output_type": "error",
          "ename": "ValueError",
          "evalue": "x and y must be the same size",
          "traceback": [
            "\u001b[0;31m---------------------------------------------------------------------------\u001b[0m",
            "\u001b[0;31mValueError\u001b[0m                                Traceback (most recent call last)",
            "Cell \u001b[0;32mIn[7], line 27\u001b[0m\n\u001b[1;32m     25\u001b[0m \u001b[38;5;66;03m# Plotar o gráfico\u001b[39;00m\n\u001b[1;32m     26\u001b[0m plt\u001b[38;5;241m.\u001b[39mfigure(figsize\u001b[38;5;241m=\u001b[39m(\u001b[38;5;241m8\u001b[39m, \u001b[38;5;241m6\u001b[39m))\n\u001b[0;32m---> 27\u001b[0m \u001b[43mplt\u001b[49m\u001b[38;5;241;43m.\u001b[39;49m\u001b[43mscatter\u001b[49m\u001b[43m(\u001b[49m\u001b[43mdf_vrex\u001b[49m\u001b[38;5;241;43m.\u001b[39;49m\u001b[43mindex\u001b[49m\u001b[43m,\u001b[49m\u001b[43m \u001b[49m\u001b[43mrow_by_null_columns_percents\u001b[49m\u001b[43m,\u001b[49m\u001b[43m \u001b[49m\u001b[43mcolor\u001b[49m\u001b[38;5;241;43m=\u001b[39;49m\u001b[38;5;124;43m'\u001b[39;49m\u001b[38;5;124;43mskyblue\u001b[39;49m\u001b[38;5;124;43m'\u001b[39;49m\u001b[43m,\u001b[49m\u001b[43m \u001b[49m\u001b[43malpha\u001b[49m\u001b[38;5;241;43m=\u001b[39;49m\u001b[38;5;241;43m0.5\u001b[39;49m\u001b[43m)\u001b[49m\n\u001b[1;32m     28\u001b[0m plt\u001b[38;5;241m.\u001b[39mtitle(\u001b[38;5;124m'\u001b[39m\u001b[38;5;124mPorcentagem de colunas zeradas por linha\u001b[39m\u001b[38;5;124m'\u001b[39m)\n\u001b[1;32m     29\u001b[0m plt\u001b[38;5;241m.\u001b[39mxlabel(\u001b[38;5;124m'\u001b[39m\u001b[38;5;124mQuantidade de linhas\u001b[39m\u001b[38;5;124m'\u001b[39m)\n",
            "File \u001b[0;32m/anaconda/envs/azureml_py310_sdkv2/lib/python3.10/site-packages/matplotlib/pyplot.py:2862\u001b[0m, in \u001b[0;36mscatter\u001b[0;34m(x, y, s, c, marker, cmap, norm, vmin, vmax, alpha, linewidths, edgecolors, plotnonfinite, data, **kwargs)\u001b[0m\n\u001b[1;32m   2857\u001b[0m \u001b[38;5;129m@_copy_docstring_and_deprecators\u001b[39m(Axes\u001b[38;5;241m.\u001b[39mscatter)\n\u001b[1;32m   2858\u001b[0m \u001b[38;5;28;01mdef\u001b[39;00m \u001b[38;5;21mscatter\u001b[39m(\n\u001b[1;32m   2859\u001b[0m         x, y, s\u001b[38;5;241m=\u001b[39m\u001b[38;5;28;01mNone\u001b[39;00m, c\u001b[38;5;241m=\u001b[39m\u001b[38;5;28;01mNone\u001b[39;00m, marker\u001b[38;5;241m=\u001b[39m\u001b[38;5;28;01mNone\u001b[39;00m, cmap\u001b[38;5;241m=\u001b[39m\u001b[38;5;28;01mNone\u001b[39;00m, norm\u001b[38;5;241m=\u001b[39m\u001b[38;5;28;01mNone\u001b[39;00m,\n\u001b[1;32m   2860\u001b[0m         vmin\u001b[38;5;241m=\u001b[39m\u001b[38;5;28;01mNone\u001b[39;00m, vmax\u001b[38;5;241m=\u001b[39m\u001b[38;5;28;01mNone\u001b[39;00m, alpha\u001b[38;5;241m=\u001b[39m\u001b[38;5;28;01mNone\u001b[39;00m, linewidths\u001b[38;5;241m=\u001b[39m\u001b[38;5;28;01mNone\u001b[39;00m, \u001b[38;5;241m*\u001b[39m,\n\u001b[1;32m   2861\u001b[0m         edgecolors\u001b[38;5;241m=\u001b[39m\u001b[38;5;28;01mNone\u001b[39;00m, plotnonfinite\u001b[38;5;241m=\u001b[39m\u001b[38;5;28;01mFalse\u001b[39;00m, data\u001b[38;5;241m=\u001b[39m\u001b[38;5;28;01mNone\u001b[39;00m, \u001b[38;5;241m*\u001b[39m\u001b[38;5;241m*\u001b[39mkwargs):\n\u001b[0;32m-> 2862\u001b[0m     __ret \u001b[38;5;241m=\u001b[39m \u001b[43mgca\u001b[49m\u001b[43m(\u001b[49m\u001b[43m)\u001b[49m\u001b[38;5;241;43m.\u001b[39;49m\u001b[43mscatter\u001b[49m\u001b[43m(\u001b[49m\n\u001b[1;32m   2863\u001b[0m \u001b[43m        \u001b[49m\u001b[43mx\u001b[49m\u001b[43m,\u001b[49m\u001b[43m \u001b[49m\u001b[43my\u001b[49m\u001b[43m,\u001b[49m\u001b[43m \u001b[49m\u001b[43ms\u001b[49m\u001b[38;5;241;43m=\u001b[39;49m\u001b[43ms\u001b[49m\u001b[43m,\u001b[49m\u001b[43m \u001b[49m\u001b[43mc\u001b[49m\u001b[38;5;241;43m=\u001b[39;49m\u001b[43mc\u001b[49m\u001b[43m,\u001b[49m\u001b[43m \u001b[49m\u001b[43mmarker\u001b[49m\u001b[38;5;241;43m=\u001b[39;49m\u001b[43mmarker\u001b[49m\u001b[43m,\u001b[49m\u001b[43m \u001b[49m\u001b[43mcmap\u001b[49m\u001b[38;5;241;43m=\u001b[39;49m\u001b[43mcmap\u001b[49m\u001b[43m,\u001b[49m\u001b[43m \u001b[49m\u001b[43mnorm\u001b[49m\u001b[38;5;241;43m=\u001b[39;49m\u001b[43mnorm\u001b[49m\u001b[43m,\u001b[49m\n\u001b[1;32m   2864\u001b[0m \u001b[43m        \u001b[49m\u001b[43mvmin\u001b[49m\u001b[38;5;241;43m=\u001b[39;49m\u001b[43mvmin\u001b[49m\u001b[43m,\u001b[49m\u001b[43m \u001b[49m\u001b[43mvmax\u001b[49m\u001b[38;5;241;43m=\u001b[39;49m\u001b[43mvmax\u001b[49m\u001b[43m,\u001b[49m\u001b[43m \u001b[49m\u001b[43malpha\u001b[49m\u001b[38;5;241;43m=\u001b[39;49m\u001b[43malpha\u001b[49m\u001b[43m,\u001b[49m\u001b[43m \u001b[49m\u001b[43mlinewidths\u001b[49m\u001b[38;5;241;43m=\u001b[39;49m\u001b[43mlinewidths\u001b[49m\u001b[43m,\u001b[49m\n\u001b[1;32m   2865\u001b[0m \u001b[43m        \u001b[49m\u001b[43medgecolors\u001b[49m\u001b[38;5;241;43m=\u001b[39;49m\u001b[43medgecolors\u001b[49m\u001b[43m,\u001b[49m\u001b[43m \u001b[49m\u001b[43mplotnonfinite\u001b[49m\u001b[38;5;241;43m=\u001b[39;49m\u001b[43mplotnonfinite\u001b[49m\u001b[43m,\u001b[49m\n\u001b[1;32m   2866\u001b[0m \u001b[43m        \u001b[49m\u001b[38;5;241;43m*\u001b[39;49m\u001b[38;5;241;43m*\u001b[39;49m\u001b[43m(\u001b[49m\u001b[43m{\u001b[49m\u001b[38;5;124;43m\"\u001b[39;49m\u001b[38;5;124;43mdata\u001b[39;49m\u001b[38;5;124;43m\"\u001b[39;49m\u001b[43m:\u001b[49m\u001b[43m \u001b[49m\u001b[43mdata\u001b[49m\u001b[43m}\u001b[49m\u001b[43m \u001b[49m\u001b[38;5;28;43;01mif\u001b[39;49;00m\u001b[43m \u001b[49m\u001b[43mdata\u001b[49m\u001b[43m \u001b[49m\u001b[38;5;129;43;01mis\u001b[39;49;00m\u001b[43m \u001b[49m\u001b[38;5;129;43;01mnot\u001b[39;49;00m\u001b[43m \u001b[49m\u001b[38;5;28;43;01mNone\u001b[39;49;00m\u001b[43m \u001b[49m\u001b[38;5;28;43;01melse\u001b[39;49;00m\u001b[43m \u001b[49m\u001b[43m{\u001b[49m\u001b[43m}\u001b[49m\u001b[43m)\u001b[49m\u001b[43m,\u001b[49m\u001b[43m \u001b[49m\u001b[38;5;241;43m*\u001b[39;49m\u001b[38;5;241;43m*\u001b[39;49m\u001b[43mkwargs\u001b[49m\u001b[43m)\u001b[49m\n\u001b[1;32m   2867\u001b[0m     sci(__ret)\n\u001b[1;32m   2868\u001b[0m     \u001b[38;5;28;01mreturn\u001b[39;00m __ret\n",
            "File \u001b[0;32m/anaconda/envs/azureml_py310_sdkv2/lib/python3.10/site-packages/matplotlib/__init__.py:1442\u001b[0m, in \u001b[0;36m_preprocess_data.<locals>.inner\u001b[0;34m(ax, data, *args, **kwargs)\u001b[0m\n\u001b[1;32m   1439\u001b[0m \u001b[38;5;129m@functools\u001b[39m\u001b[38;5;241m.\u001b[39mwraps(func)\n\u001b[1;32m   1440\u001b[0m \u001b[38;5;28;01mdef\u001b[39;00m \u001b[38;5;21minner\u001b[39m(ax, \u001b[38;5;241m*\u001b[39margs, data\u001b[38;5;241m=\u001b[39m\u001b[38;5;28;01mNone\u001b[39;00m, \u001b[38;5;241m*\u001b[39m\u001b[38;5;241m*\u001b[39mkwargs):\n\u001b[1;32m   1441\u001b[0m     \u001b[38;5;28;01mif\u001b[39;00m data \u001b[38;5;129;01mis\u001b[39;00m \u001b[38;5;28;01mNone\u001b[39;00m:\n\u001b[0;32m-> 1442\u001b[0m         \u001b[38;5;28;01mreturn\u001b[39;00m \u001b[43mfunc\u001b[49m\u001b[43m(\u001b[49m\u001b[43max\u001b[49m\u001b[43m,\u001b[49m\u001b[43m \u001b[49m\u001b[38;5;241;43m*\u001b[39;49m\u001b[38;5;28;43mmap\u001b[39;49m\u001b[43m(\u001b[49m\u001b[43msanitize_sequence\u001b[49m\u001b[43m,\u001b[49m\u001b[43m \u001b[49m\u001b[43margs\u001b[49m\u001b[43m)\u001b[49m\u001b[43m,\u001b[49m\u001b[43m \u001b[49m\u001b[38;5;241;43m*\u001b[39;49m\u001b[38;5;241;43m*\u001b[39;49m\u001b[43mkwargs\u001b[49m\u001b[43m)\u001b[49m\n\u001b[1;32m   1444\u001b[0m     bound \u001b[38;5;241m=\u001b[39m new_sig\u001b[38;5;241m.\u001b[39mbind(ax, \u001b[38;5;241m*\u001b[39margs, \u001b[38;5;241m*\u001b[39m\u001b[38;5;241m*\u001b[39mkwargs)\n\u001b[1;32m   1445\u001b[0m     auto_label \u001b[38;5;241m=\u001b[39m (bound\u001b[38;5;241m.\u001b[39marguments\u001b[38;5;241m.\u001b[39mget(label_namer)\n\u001b[1;32m   1446\u001b[0m                   \u001b[38;5;129;01mor\u001b[39;00m bound\u001b[38;5;241m.\u001b[39mkwargs\u001b[38;5;241m.\u001b[39mget(label_namer))\n",
            "File \u001b[0;32m/anaconda/envs/azureml_py310_sdkv2/lib/python3.10/site-packages/matplotlib/axes/_axes.py:4584\u001b[0m, in \u001b[0;36mAxes.scatter\u001b[0;34m(self, x, y, s, c, marker, cmap, norm, vmin, vmax, alpha, linewidths, edgecolors, plotnonfinite, **kwargs)\u001b[0m\n\u001b[1;32m   4582\u001b[0m y \u001b[38;5;241m=\u001b[39m np\u001b[38;5;241m.\u001b[39mma\u001b[38;5;241m.\u001b[39mravel(y)\n\u001b[1;32m   4583\u001b[0m \u001b[38;5;28;01mif\u001b[39;00m x\u001b[38;5;241m.\u001b[39msize \u001b[38;5;241m!=\u001b[39m y\u001b[38;5;241m.\u001b[39msize:\n\u001b[0;32m-> 4584\u001b[0m     \u001b[38;5;28;01mraise\u001b[39;00m \u001b[38;5;167;01mValueError\u001b[39;00m(\u001b[38;5;124m\"\u001b[39m\u001b[38;5;124mx and y must be the same size\u001b[39m\u001b[38;5;124m\"\u001b[39m)\n\u001b[1;32m   4586\u001b[0m \u001b[38;5;28;01mif\u001b[39;00m s \u001b[38;5;129;01mis\u001b[39;00m \u001b[38;5;28;01mNone\u001b[39;00m:\n\u001b[1;32m   4587\u001b[0m     s \u001b[38;5;241m=\u001b[39m (\u001b[38;5;241m20\u001b[39m \u001b[38;5;28;01mif\u001b[39;00m mpl\u001b[38;5;241m.\u001b[39mrcParams[\u001b[38;5;124m'\u001b[39m\u001b[38;5;124m_internal.classic_mode\u001b[39m\u001b[38;5;124m'\u001b[39m] \u001b[38;5;28;01melse\u001b[39;00m\n\u001b[1;32m   4588\u001b[0m          mpl\u001b[38;5;241m.\u001b[39mrcParams[\u001b[38;5;124m'\u001b[39m\u001b[38;5;124mlines.markersize\u001b[39m\u001b[38;5;124m'\u001b[39m] \u001b[38;5;241m*\u001b[39m\u001b[38;5;241m*\u001b[39m \u001b[38;5;241m2.0\u001b[39m)\n",
            "\u001b[0;31mValueError\u001b[0m: x and y must be the same size"
          ]
        }
      ],
      "execution_count": 7,
      "metadata": {
        "jupyter": {
          "source_hidden": false,
          "outputs_hidden": false
        },
        "nteract": {
          "transient": {
            "deleting": false
          }
        },
        "gather": {
          "logged": 1711487478103
        }
      }
    },
    {
      "cell_type": "code",
      "source": [
        "join_removed_columns = list(set(join_removed_columns))\n",
        "print(\"join removed columns:\", join_removed_columns, \"len: \", len(join_removed_columns))"
      ],
      "outputs": [
        {
          "output_type": "stream",
          "name": "stdout",
          "text": "join removed columns: ['vendor_ENUM_nasm', 'vendor_ENUM_sco', 'phase_ENUM_interim', 'vendor_ENUM_phoenixcontact', 'vendor_ENUM_e107', 'description_ENUM_acrobat', 'description_ENUM_validating', 'vendor_ENUM_quagga', 'vendor_ENUM_opensuse_project', 'description_ENUM_unique', 'vendor_ENUM_jelsoft', 'vendor_ENUM_magento', 'description_ENUM_imagemagick', 'vendor_ENUM_elastic', 'vendor_ENUM_php-fusion', 'reference_type_ENUM_atstake', 'description_ENUM_persuading', 'reference_type_ENUM_mandriva', 'vendor_ENUM_manageengine', 'description_ENUM_subset', 'vendor_ENUM_s9y', 'description_ENUM_mishandled', 'reference_type_ENUM_vim', 'vendor_ENUM_comodo', 'vendor_ENUM_ntp', 'vendor_ENUM_tenable', 'vendor_ENUM_gpac', 'vendor_ENUM_broadcom', 'vendor_ENUM_tibco', 'vendor_ENUM_xpdfreader', 'vendor_ENUM_cmsmadesimple', 'reference_type_ENUM_bindview', 'reference_type_ENUM_rsi', 'vendor_ENUM_zimbra', 'reference_type_ENUM_apple', 'cvss_ui_ENUM_required', 'vendor_ENUM_powerdns', 'vendor_ENUM_firebirdsql', 'vendor_ENUM_modx', 'vendor_ENUM_puppet', 'vendor_ENUM_typo3', 'description_ENUM_networking', 'vendor_ENUM_paloaltonetworks', 'reference_type_ENUM_vuln-dev', 'description_ENUM_joomla', 'vendor_ENUM_pcre', 'vendor_ENUM_lenovo', 'vendor_ENUM_dell', 'reference_type_ENUM_netbsd', 'vendor_ENUM_kaspersky_lab', 'vendor_ENUM_nortel', 'vendor_ENUM_haxx', 'vendor_ENUM_ovirt', 'description_ENUM_register_globals', 'description_ENUM_ffmpeg', 'vendor_ENUM_otrs', 'vendor_ENUM_saltstack', 'vendor_ENUM_os4ed', 'vendor_ENUM_xen', 'vendor_ENUM_intelliants', 'vendor_ENUM_pulsesecure', 'description_ENUM_disclosure', 'reference_type_ENUM_win2ksec', 'vendor_ENUM_mariadb', 'vendor_ENUM_autotrace_project', 'vendor_ENUM_veritas', 'vendor_ENUM_silverstripe', 'vendor_ENUM_sgi', 'vendor_ENUM_mikrotik', 'reference_type_ENUM_engarde', 'vendor_ENUM_igniterealtime', 'vendor_ENUM_schneider-electric', 'vendor_ENUM_autodesk', 'vendor_ENUM_glyphandcog', 'reference_type_ENUM_bea', 'vendor_ENUM_zoneminder', 'reference_type_ENUM_slackware', 'vendor_ENUM_openoffice', 'description_ENUM_webkit', 'description_ENUM_infrastructure', 'vendor_ENUM_bsdi', 'vendor_ENUM_exponentcms', 'vendor_ENUM_grandstream', 'description_ENUM_cpanel', 'vendor_ENUM_odoo', 'vendor_ENUM_netapp', 'vendor_ENUM_runcms', 'vendor_ENUM_conectiva', 'vendor_ENUM_asus', 'vendor_ENUM_deltaww', 'vendor_ENUM_metinfo', 'vendor_ENUM_mybb', 'vendor_ENUM_blackberry', 'vendor_ENUM_wago', 'vendor_ENUM_limesurvey', 'vendor_ENUM_spip', 'vendor_ENUM_zend', 'reference_type_ENUM_osvdb', 'vendor_ENUM_asterisk', 'reference_type_ENUM_hpbug', 'vendor_ENUM_radare', 'vendor_ENUM_stdutility', 'vendor_ENUM_canon', 'vendor_ENUM_elasticsearch', 'vendor_ENUM_aspindir', 'vendor_ENUM_roundcube', 'vendor_ENUM_jetbrains', 'vendor_ENUM_terra-master', 'vendor_ENUM_rim', 'description_ENUM_mediaserver', 'vendor_ENUM_fasterxml', 'reference_type_ENUM_idefense', 'reference_type_ENUM_conectiva', 'vendor_ENUM_mybulletinboard', 'vendor_ENUM_abb', 'vendor_ENUM_libming', 'reference_type_ENUM_vulnwatch', 'vendor_ENUM_dolibarr', 'vendor_ENUM_w3m_project', 'vendor_ENUM_cacti', 'vendor_ENUM_phpbb_group', 'vendor_ENUM_ethereal_group', 'vendor_ENUM_opera_software', 'vendor_ENUM_open-xchange', 'vendor_ENUM_accellion', 'vendor_ENUM_coppermine', 'vendor_ENUM_open-emr', 'reference_type_ENUM_frsirt', 'vendor_ENUM_zope', 'vendor_ENUM_moxa', 'reference_type_ENUM_oval', 'description_ENUM_ability', 'reference_type_ENUM_sekure', 'vendor_ENUM_ui', 'description_ENUM_parsing', 'vendor_ENUM_gitlab', 'description_ENUM_unspecified', 'vendor_ENUM_trendnet', 'vendor_ENUM_trendmicro', 'description_ENUM_provenance', 'vendor_ENUM_sybase', 'type_ENUM_vt_httprs', 'vendor_ENUM_freetype', 'description_ENUM_person', 'reference_type_ENUM_trustix', 'vendor_ENUM_parallels', 'reference_type_ENUM_ascend', 'vendor_ENUM_ssh', 'vendor_ENUM_mediawiki', 'vendor_ENUM_mi', 'vendor_ENUM_zzcms', 'vendor_ENUM_clamav', 'vendor_ENUM_libpng', 'vendor_ENUM_linuxfoundation', 'vendor_ENUM_digital', 'vendor_ENUM_squid-cache', 'description_ENUM_caf', 'vendor_ENUM_libdwarf_project', 'vendor_ENUM_chadhaajay', 'description_ENUM_csrf', 'vendor_ENUM_iobit', 'vendor_ENUM_squid', 'vendor_ENUM_vbulletin', 'description_ENUM_click', 'description_ENUM_currentuser', 'reference_type_ENUM_l0pht', 'description_ENUM_intel', 'reference_type_ENUM_ntbugtraq', 'description_ENUM_logfile', 'vendor_ENUM_arm', 'vendor_ENUM_mongodb', 'vendor_ENUM_pandasecurity', 'vendor_ENUM_punbb', 'description_ENUM_wordpress', 'vendor_ENUM_hdfgroup', 'reference_type_ENUM_ciac', 'vendor_ENUM_artifex', 'vendor_ENUM_magzter', 'reference_type_ENUM_mitigation', 'vendor_ENUM_hcltech', 'vendor_ENUM_woltlab', 'reference_type_ENUM_compaq', 'vendor_ENUM_djangoproject', 'vendor_ENUM_prestashop', 'vendor_ENUM_uclouvain', 'vendor_ENUM_openstack', 'vendor_ENUM_cutephp', 'reference_type_ENUM_1_23_1', 'description_ENUM_needed', 'vendor_ENUM_freedesktop', 'vendor_ENUM_bigtreecms', 'vendor_ENUM_rubyonrails', 'reference_type_ENUM_checkpoint', 'reference_type_ENUM_jvndb', 'vendor_ENUM_netgate', 'reference_type_ENUM_sco', 'reference_type_ENUM_secunia', 'vendor_ENUM_pidgin', 'vendor_ENUM_francisco_burzi', 'vendor_ENUM_openjpeg', 'vendor_ENUM_amd', 'vendor_ENUM_asustor', 'reference_type_ENUM_openpkg', 'cvss_i_ENUM_low', 'vendor_ENUM_opensuse', 'vendor_ENUM_centreon', 'vendor_ENUM_theforeman', 'status_ENUM_entry', 'vendor_ENUM_netbsd', 'vendor_ENUM_kubernetes', 'description_ENUM_blink', 'vendor_ENUM_osisoft', 'reference_type_ENUM_sf-incidents', 'vendor_ENUM_mantis', 'vendor_ENUM_zohocorp', 'vendor_ENUM_facebook', 'reference_type_ENUM_eeye', 'vendor_ENUM_fusionpbx', 'vendor_ENUM_qnap', 'reference_type_ENUM_allaire', 'vendor_ENUM_revive-adserver', 'vendor_ENUM_atutor', 'vendor_ENUM_golang', 'vendor_ENUM_trend_micro', 'vendor_ENUM_docker', 'cvss_aupr_ENUM_high', 'vendor_ENUM_invision_power_services', 'vendor_ENUM_brocade', 'vendor_ENUM_audiocoding', 'vendor_ENUM_compaq', 'description_ENUM_leveraging', 'vendor_ENUM_turbolinux', 'vendor_ENUM_ruby-lang', 'vendor_ENUM_mambo', 'vendor_ENUM_fedoraproject', 'vendor_ENUM_libraw', 'description_ENUM_altering', 'vendor_ENUM_cloudfoundry', 'reference_type_ENUM_ms', 'vendor_ENUM_joomla', 'vendor_ENUM_advantech', 'vendor_ENUM_mahara', 'description_ENUM_availability', 'vendor_ENUM_mitsubishielectric', 'reference_type_ENUM_auscert', 'vendor_ENUM_bitcoin', 'vendor_ENUM_gnupg', 'reference_type_ENUM_sni', 'vendor_ENUM_caldera', 'vendor_ENUM_x', 'vendor_ENUM_smartertools', 'vendor_ENUM_moodle', 'reference_type_ENUM_mandrake', 'phase_ENUM_absent', 'cvss_av_ENUM_physical', 'vendor_ENUM_fortinet', 'vendor_ENUM_phpmyfaq', 'vendor_ENUM_dovecot', 'phase_ENUM_proposed', 'vendor_ENUM_eclipse', 'vendor_ENUM_novell', 'phase_ENUM_modified', 'description_ENUM_contract', 'vendor_ENUM_misp', 'reference_type_ENUM_immunix', 'reference_type_ENUM_infowar', 'description_ENUM_typo3', 'reference_type_ENUM_sunalert', 'vendor_ENUM_k7computing', 'vendor_ENUM_bluecoat', 'vendor_ENUM_xfree86_project', 'vendor_ENUM_synacor', 'vendor_ENUM_mitel', 'description_ENUM_rated', 'vendor_ENUM_pivotal_software', 'vendor_ENUM_sensiolabs', 'vendor_ENUM_netscape', 'vendor_ENUM_avast', 'description_ENUM_ui', 'vendor_ENUM_piwigo', 'vendor_ENUM_bestpractical', 'vendor_ENUM_nextcloud', 'vendor_ENUM_tcpdump', 'vendor_ENUM_emerson', 'description_ENUM_path_info', 'vendor_ENUM_ge', 'delta_days_proposed', 'vendor_ENUM_rapid7', 'vendor_ENUM_xigla', 'reference_type_ENUM_mskb', 'vendor_ENUM_mantisbt', 'description_ENUM_drupal', 'reference_type_ENUM_sunbug', 'vendor_ENUM_w1_fi', 'vendor_ENUM_foxitsoftware', 'vendor_ENUM_aol', 'comments', 'vendor_ENUM_mywebland', 'vendor_ENUM_phorum', 'vendor_ENUM_easy_software_products', 'reference_type_ENUM_sreason', 'vendor_ENUM_bestwebsoft', 'type_ENUM_vt_memc', 'description_ENUM_seamonkey', 'reference_type_ENUM_sgi', 'description_ENUM_magic_quotes_gpc', 'vendor_ENUM_podofo_project', 'reference_type_ENUM_caldera', 'cvss_c_ENUM_low', 'reference_type_ENUM_el8', 'vendor_ENUM_alienvault', 'reference_type_ENUM_hert', 'reference_type_ENUM_nai', 'vendor_ENUM_realnetworks', 'vendor_ENUM_graphicsmagick', 'vendor_ENUM_sugarcrm', 'vendor_ENUM_libtiff', 'reference_type_ENUM_ksrt', 'vendor_ENUM_netiq', 'vendor_ENUM_3com', 'vendor_ENUM_clam_anti-virus', 'vendor_ENUM_nullsoft', 'reference_type_ENUM_sreasonres', 'vendor_ENUM_alt-n', 'vendor_ENUM_foscam', 'vendor_ENUM_dlink', 'reference_type_ENUM_sectrack', 'vendor_ENUM_mandrakesoft', 'vendor_ENUM_hosting_controller', 'description_ENUM_xss', 'description_ENUM_zdi', 'description_ENUM_prior', 'reference_type_ENUM_farmervenema', 'description_ENUM_leverage', 'description_ENUM_wild', 'vendor_ENUM_splunk', 'vendor_ENUM_nginx', 'vendor_ENUM_libav', 'vendor_ENUM_libarchive', 'description_ENUM_patched', 'vendor_ENUM_wireshark', 'vendor_ENUM_iodata', 'vendor_ENUM_nodejs', 'vendor_ENUM_xine', 'vendor_ENUM_philips', 'description_ENUM_node', 'vendor_ENUM_vtiger', 'reference_type_ENUM_vupen', 'vendor_ENUM_puppetlabs', 'vendor_ENUM_centos-webpanel', 'vendor_ENUM_videolan', 'description_ENUM_jenkins', 'vendor_ENUM_trustix', 'vendor_ENUM_mysql', 'vendor_ENUM_hashicorp', 'vendor_ENUM_axis', 'vendor_ENUM_sierrawireless', 'cvss_a_ENUM_low', 'reference_type_ENUM_ers', 'vendor_ENUM_wolfssl', 'vendor_ENUM_macromedia', 'description_ENUM_balance', 'description_ENUM_visit', 'vendor_ENUM_sqlite', 'vendor_ENUM_alstrasoft', 'reference_type_ENUM_openbsd', 'vendor_ENUM_bea', 'vendor_ENUM_easydigitaldownloads', 'vendor_ENUM_ffmpeg', 'reference_type_ENUM_turbo', 'cvss_s_ENUM_changed', 'description_ENUM_elevation', 'vendor_ENUM_amazon', 'vendor_ENUM_libgd', 'cvss_aupr_ENUM_single', 'vendor_ENUM_huawei', 'vendor_ENUM_westerndigital', 'vendor_ENUM_progress', 'vendor_ENUM_bitdefender', 'vendor_ENUM_xnview', 'vendor_ENUM_webkitgtk', 'vendor_ENUM_opentext', 'vendor_ENUM_netwin', 'vendor_ENUM_arubanetworks', 'vendor_ENUM_omron', 'reference_type_ENUM_aixapar', 'vendor_ENUM_quest', 'vendor_ENUM_sophos', 'vendor_ENUM_tp-link', 'reference_type_ENUM_sun', 'vendor_ENUM_wso2', 'cvss_version_ENUM_2_0', 'description_ENUM_app', 'reference_type_ENUM_ibm', 'vendor_ENUM_kerio', 'vendor_ENUM_jenkins', 'vendor_ENUM_exiv2', 'vendor_ENUM_canonical', 'vendor_ENUM_liferay', 'vendor_ENUM_technicolor', 'vendor_ENUM_owncloud', 'vendor_ENUM_tor', 'vendor_ENUM_nvidia', 'cvss_aupr_ENUM_multiple', 'reference_type_ENUM_iss', 'vendor_ENUM_dotcms', 'vendor_ENUM_ricoh', 'vendor_ENUM_0_99_kindle_books_project', 'vendor_ENUM_zte', 'vendor_ENUM_postnuke_software_foundation', 'vendor_ENUM_honeywell', 'vendor_ENUM_libreoffice', 'vendor_ENUM_plone', 'vendor_ENUM_libsdl', 'vendor_ENUM_python', 'vendor_ENUM_mattermost', 'vendor_ENUM_octopus', 'vendor_ENUM_axiosys', 'vendor_ENUM_freerdp', 'vendor_ENUM_university_of_washington', 'vendor_ENUM_qemu', 'vendor_ENUM_zabbix', 'vendor_ENUM_atlassian', 'vendor_ENUM_jasper_project', 'vendor_ENUM_cloudera', 'vendor_ENUM_web-app_org', 'vendor_ENUM_qnx', 'vendor_ENUM_glpi-project', 'description_ENUM_android', 'vendor_ENUM_synology', 'vendor_ENUM_websense', 'description_ENUM_takeover', 'description_ENUM_ac', 'reference_type_ENUM_netect', 'vendor_ENUM_rockwellautomation', 'description_ENUM_ruby'] len:  436\n"
        }
      ],
      "execution_count": 5,
      "metadata": {
        "jupyter": {
          "source_hidden": false,
          "outputs_hidden": false
        },
        "nteract": {
          "transient": {
            "deleting": false
          }
        },
        "gather": {
          "logged": 1711487130361
        }
      }
    },
    {
      "cell_type": "code",
      "source": [
        "import pandas as pd\n",
        "import matplotlib.pyplot as plt\n",
        "\n",
        "# Carregar o conjunto de dados\n",
        "df = pd.read_csv('seu_arquivo.csv')\n",
        "\n",
        "# Calcular a quantidade de linhas\n",
        "quantidade_linhas = len(df)\n",
        "\n",
        "# Calcular a porcentagem de linhas zeradas\n",
        "porcentagem_linhas_zeradas = (df == 0).all(axis=1).mean() * 100\n",
        "\n",
        "# Plotar o gráfico\n",
        "plt.figure(figsize=(8, 6))\n",
        "plt.bar(quantidade_linhas, porcentagem_linhas_zeradas, color='skyblue')\n",
        "plt.title('Porcentagem de linhas zeradas')\n",
        "plt.xlabel('Quantidade de linhas')\n",
        "plt.ylabel('Porcentagem de linhas zeradas')\n",
        "plt.grid(True)\n",
        "plt.show()\n"
      ],
      "outputs": [
        {
          "output_type": "error",
          "ename": "FileNotFoundError",
          "evalue": "[Errno 2] No such file or directory: 'seu_arquivo.csv'",
          "traceback": [
            "\u001b[0;31m---------------------------------------------------------------------------\u001b[0m",
            "\u001b[0;31mFileNotFoundError\u001b[0m                         Traceback (most recent call last)",
            "Cell \u001b[0;32mIn[6], line 5\u001b[0m\n\u001b[1;32m      2\u001b[0m \u001b[38;5;28;01mimport\u001b[39;00m \u001b[38;5;21;01mmatplotlib\u001b[39;00m\u001b[38;5;21;01m.\u001b[39;00m\u001b[38;5;21;01mpyplot\u001b[39;00m \u001b[38;5;28;01mas\u001b[39;00m \u001b[38;5;21;01mplt\u001b[39;00m\n\u001b[1;32m      4\u001b[0m \u001b[38;5;66;03m# Carregar o conjunto de dados\u001b[39;00m\n\u001b[0;32m----> 5\u001b[0m df \u001b[38;5;241m=\u001b[39m \u001b[43mpd\u001b[49m\u001b[38;5;241;43m.\u001b[39;49m\u001b[43mread_csv\u001b[49m\u001b[43m(\u001b[49m\u001b[38;5;124;43m'\u001b[39;49m\u001b[38;5;124;43mseu_arquivo.csv\u001b[39;49m\u001b[38;5;124;43m'\u001b[39;49m\u001b[43m)\u001b[49m\n\u001b[1;32m      7\u001b[0m \u001b[38;5;66;03m# Calcular a quantidade de linhas\u001b[39;00m\n\u001b[1;32m      8\u001b[0m quantidade_linhas \u001b[38;5;241m=\u001b[39m \u001b[38;5;28mlen\u001b[39m(df)\n",
            "File \u001b[0;32m/anaconda/envs/azureml_py310_sdkv2/lib/python3.10/site-packages/pandas/io/parsers/readers.py:912\u001b[0m, in \u001b[0;36mread_csv\u001b[0;34m(filepath_or_buffer, sep, delimiter, header, names, index_col, usecols, dtype, engine, converters, true_values, false_values, skipinitialspace, skiprows, skipfooter, nrows, na_values, keep_default_na, na_filter, verbose, skip_blank_lines, parse_dates, infer_datetime_format, keep_date_col, date_parser, date_format, dayfirst, cache_dates, iterator, chunksize, compression, thousands, decimal, lineterminator, quotechar, quoting, doublequote, escapechar, comment, encoding, encoding_errors, dialect, on_bad_lines, delim_whitespace, low_memory, memory_map, float_precision, storage_options, dtype_backend)\u001b[0m\n\u001b[1;32m    899\u001b[0m kwds_defaults \u001b[38;5;241m=\u001b[39m _refine_defaults_read(\n\u001b[1;32m    900\u001b[0m     dialect,\n\u001b[1;32m    901\u001b[0m     delimiter,\n\u001b[0;32m   (...)\u001b[0m\n\u001b[1;32m    908\u001b[0m     dtype_backend\u001b[38;5;241m=\u001b[39mdtype_backend,\n\u001b[1;32m    909\u001b[0m )\n\u001b[1;32m    910\u001b[0m kwds\u001b[38;5;241m.\u001b[39mupdate(kwds_defaults)\n\u001b[0;32m--> 912\u001b[0m \u001b[38;5;28;01mreturn\u001b[39;00m \u001b[43m_read\u001b[49m\u001b[43m(\u001b[49m\u001b[43mfilepath_or_buffer\u001b[49m\u001b[43m,\u001b[49m\u001b[43m \u001b[49m\u001b[43mkwds\u001b[49m\u001b[43m)\u001b[49m\n",
            "File \u001b[0;32m/anaconda/envs/azureml_py310_sdkv2/lib/python3.10/site-packages/pandas/io/parsers/readers.py:577\u001b[0m, in \u001b[0;36m_read\u001b[0;34m(filepath_or_buffer, kwds)\u001b[0m\n\u001b[1;32m    574\u001b[0m _validate_names(kwds\u001b[38;5;241m.\u001b[39mget(\u001b[38;5;124m\"\u001b[39m\u001b[38;5;124mnames\u001b[39m\u001b[38;5;124m\"\u001b[39m, \u001b[38;5;28;01mNone\u001b[39;00m))\n\u001b[1;32m    576\u001b[0m \u001b[38;5;66;03m# Create the parser.\u001b[39;00m\n\u001b[0;32m--> 577\u001b[0m parser \u001b[38;5;241m=\u001b[39m \u001b[43mTextFileReader\u001b[49m\u001b[43m(\u001b[49m\u001b[43mfilepath_or_buffer\u001b[49m\u001b[43m,\u001b[49m\u001b[43m \u001b[49m\u001b[38;5;241;43m*\u001b[39;49m\u001b[38;5;241;43m*\u001b[39;49m\u001b[43mkwds\u001b[49m\u001b[43m)\u001b[49m\n\u001b[1;32m    579\u001b[0m \u001b[38;5;28;01mif\u001b[39;00m chunksize \u001b[38;5;129;01mor\u001b[39;00m iterator:\n\u001b[1;32m    580\u001b[0m     \u001b[38;5;28;01mreturn\u001b[39;00m parser\n",
            "File \u001b[0;32m/anaconda/envs/azureml_py310_sdkv2/lib/python3.10/site-packages/pandas/io/parsers/readers.py:1407\u001b[0m, in \u001b[0;36mTextFileReader.__init__\u001b[0;34m(self, f, engine, **kwds)\u001b[0m\n\u001b[1;32m   1404\u001b[0m     \u001b[38;5;28mself\u001b[39m\u001b[38;5;241m.\u001b[39moptions[\u001b[38;5;124m\"\u001b[39m\u001b[38;5;124mhas_index_names\u001b[39m\u001b[38;5;124m\"\u001b[39m] \u001b[38;5;241m=\u001b[39m kwds[\u001b[38;5;124m\"\u001b[39m\u001b[38;5;124mhas_index_names\u001b[39m\u001b[38;5;124m\"\u001b[39m]\n\u001b[1;32m   1406\u001b[0m \u001b[38;5;28mself\u001b[39m\u001b[38;5;241m.\u001b[39mhandles: IOHandles \u001b[38;5;241m|\u001b[39m \u001b[38;5;28;01mNone\u001b[39;00m \u001b[38;5;241m=\u001b[39m \u001b[38;5;28;01mNone\u001b[39;00m\n\u001b[0;32m-> 1407\u001b[0m \u001b[38;5;28mself\u001b[39m\u001b[38;5;241m.\u001b[39m_engine \u001b[38;5;241m=\u001b[39m \u001b[38;5;28;43mself\u001b[39;49m\u001b[38;5;241;43m.\u001b[39;49m\u001b[43m_make_engine\u001b[49m\u001b[43m(\u001b[49m\u001b[43mf\u001b[49m\u001b[43m,\u001b[49m\u001b[43m \u001b[49m\u001b[38;5;28;43mself\u001b[39;49m\u001b[38;5;241;43m.\u001b[39;49m\u001b[43mengine\u001b[49m\u001b[43m)\u001b[49m\n",
            "File \u001b[0;32m/anaconda/envs/azureml_py310_sdkv2/lib/python3.10/site-packages/pandas/io/parsers/readers.py:1661\u001b[0m, in \u001b[0;36mTextFileReader._make_engine\u001b[0;34m(self, f, engine)\u001b[0m\n\u001b[1;32m   1659\u001b[0m     \u001b[38;5;28;01mif\u001b[39;00m \u001b[38;5;124m\"\u001b[39m\u001b[38;5;124mb\u001b[39m\u001b[38;5;124m\"\u001b[39m \u001b[38;5;129;01mnot\u001b[39;00m \u001b[38;5;129;01min\u001b[39;00m mode:\n\u001b[1;32m   1660\u001b[0m         mode \u001b[38;5;241m+\u001b[39m\u001b[38;5;241m=\u001b[39m \u001b[38;5;124m\"\u001b[39m\u001b[38;5;124mb\u001b[39m\u001b[38;5;124m\"\u001b[39m\n\u001b[0;32m-> 1661\u001b[0m \u001b[38;5;28mself\u001b[39m\u001b[38;5;241m.\u001b[39mhandles \u001b[38;5;241m=\u001b[39m \u001b[43mget_handle\u001b[49m\u001b[43m(\u001b[49m\n\u001b[1;32m   1662\u001b[0m \u001b[43m    \u001b[49m\u001b[43mf\u001b[49m\u001b[43m,\u001b[49m\n\u001b[1;32m   1663\u001b[0m \u001b[43m    \u001b[49m\u001b[43mmode\u001b[49m\u001b[43m,\u001b[49m\n\u001b[1;32m   1664\u001b[0m \u001b[43m    \u001b[49m\u001b[43mencoding\u001b[49m\u001b[38;5;241;43m=\u001b[39;49m\u001b[38;5;28;43mself\u001b[39;49m\u001b[38;5;241;43m.\u001b[39;49m\u001b[43moptions\u001b[49m\u001b[38;5;241;43m.\u001b[39;49m\u001b[43mget\u001b[49m\u001b[43m(\u001b[49m\u001b[38;5;124;43m\"\u001b[39;49m\u001b[38;5;124;43mencoding\u001b[39;49m\u001b[38;5;124;43m\"\u001b[39;49m\u001b[43m,\u001b[49m\u001b[43m \u001b[49m\u001b[38;5;28;43;01mNone\u001b[39;49;00m\u001b[43m)\u001b[49m\u001b[43m,\u001b[49m\n\u001b[1;32m   1665\u001b[0m \u001b[43m    \u001b[49m\u001b[43mcompression\u001b[49m\u001b[38;5;241;43m=\u001b[39;49m\u001b[38;5;28;43mself\u001b[39;49m\u001b[38;5;241;43m.\u001b[39;49m\u001b[43moptions\u001b[49m\u001b[38;5;241;43m.\u001b[39;49m\u001b[43mget\u001b[49m\u001b[43m(\u001b[49m\u001b[38;5;124;43m\"\u001b[39;49m\u001b[38;5;124;43mcompression\u001b[39;49m\u001b[38;5;124;43m\"\u001b[39;49m\u001b[43m,\u001b[49m\u001b[43m \u001b[49m\u001b[38;5;28;43;01mNone\u001b[39;49;00m\u001b[43m)\u001b[49m\u001b[43m,\u001b[49m\n\u001b[1;32m   1666\u001b[0m \u001b[43m    \u001b[49m\u001b[43mmemory_map\u001b[49m\u001b[38;5;241;43m=\u001b[39;49m\u001b[38;5;28;43mself\u001b[39;49m\u001b[38;5;241;43m.\u001b[39;49m\u001b[43moptions\u001b[49m\u001b[38;5;241;43m.\u001b[39;49m\u001b[43mget\u001b[49m\u001b[43m(\u001b[49m\u001b[38;5;124;43m\"\u001b[39;49m\u001b[38;5;124;43mmemory_map\u001b[39;49m\u001b[38;5;124;43m\"\u001b[39;49m\u001b[43m,\u001b[49m\u001b[43m \u001b[49m\u001b[38;5;28;43;01mFalse\u001b[39;49;00m\u001b[43m)\u001b[49m\u001b[43m,\u001b[49m\n\u001b[1;32m   1667\u001b[0m \u001b[43m    \u001b[49m\u001b[43mis_text\u001b[49m\u001b[38;5;241;43m=\u001b[39;49m\u001b[43mis_text\u001b[49m\u001b[43m,\u001b[49m\n\u001b[1;32m   1668\u001b[0m \u001b[43m    \u001b[49m\u001b[43merrors\u001b[49m\u001b[38;5;241;43m=\u001b[39;49m\u001b[38;5;28;43mself\u001b[39;49m\u001b[38;5;241;43m.\u001b[39;49m\u001b[43moptions\u001b[49m\u001b[38;5;241;43m.\u001b[39;49m\u001b[43mget\u001b[49m\u001b[43m(\u001b[49m\u001b[38;5;124;43m\"\u001b[39;49m\u001b[38;5;124;43mencoding_errors\u001b[39;49m\u001b[38;5;124;43m\"\u001b[39;49m\u001b[43m,\u001b[49m\u001b[43m \u001b[49m\u001b[38;5;124;43m\"\u001b[39;49m\u001b[38;5;124;43mstrict\u001b[39;49m\u001b[38;5;124;43m\"\u001b[39;49m\u001b[43m)\u001b[49m\u001b[43m,\u001b[49m\n\u001b[1;32m   1669\u001b[0m \u001b[43m    \u001b[49m\u001b[43mstorage_options\u001b[49m\u001b[38;5;241;43m=\u001b[39;49m\u001b[38;5;28;43mself\u001b[39;49m\u001b[38;5;241;43m.\u001b[39;49m\u001b[43moptions\u001b[49m\u001b[38;5;241;43m.\u001b[39;49m\u001b[43mget\u001b[49m\u001b[43m(\u001b[49m\u001b[38;5;124;43m\"\u001b[39;49m\u001b[38;5;124;43mstorage_options\u001b[39;49m\u001b[38;5;124;43m\"\u001b[39;49m\u001b[43m,\u001b[49m\u001b[43m \u001b[49m\u001b[38;5;28;43;01mNone\u001b[39;49;00m\u001b[43m)\u001b[49m\u001b[43m,\u001b[49m\n\u001b[1;32m   1670\u001b[0m \u001b[43m\u001b[49m\u001b[43m)\u001b[49m\n\u001b[1;32m   1671\u001b[0m \u001b[38;5;28;01massert\u001b[39;00m \u001b[38;5;28mself\u001b[39m\u001b[38;5;241m.\u001b[39mhandles \u001b[38;5;129;01mis\u001b[39;00m \u001b[38;5;129;01mnot\u001b[39;00m \u001b[38;5;28;01mNone\u001b[39;00m\n\u001b[1;32m   1672\u001b[0m f \u001b[38;5;241m=\u001b[39m \u001b[38;5;28mself\u001b[39m\u001b[38;5;241m.\u001b[39mhandles\u001b[38;5;241m.\u001b[39mhandle\n",
            "File \u001b[0;32m/anaconda/envs/azureml_py310_sdkv2/lib/python3.10/site-packages/pandas/io/common.py:859\u001b[0m, in \u001b[0;36mget_handle\u001b[0;34m(path_or_buf, mode, encoding, compression, memory_map, is_text, errors, storage_options)\u001b[0m\n\u001b[1;32m    854\u001b[0m \u001b[38;5;28;01melif\u001b[39;00m \u001b[38;5;28misinstance\u001b[39m(handle, \u001b[38;5;28mstr\u001b[39m):\n\u001b[1;32m    855\u001b[0m     \u001b[38;5;66;03m# Check whether the filename is to be opened in binary mode.\u001b[39;00m\n\u001b[1;32m    856\u001b[0m     \u001b[38;5;66;03m# Binary mode does not support 'encoding' and 'newline'.\u001b[39;00m\n\u001b[1;32m    857\u001b[0m     \u001b[38;5;28;01mif\u001b[39;00m ioargs\u001b[38;5;241m.\u001b[39mencoding \u001b[38;5;129;01mand\u001b[39;00m \u001b[38;5;124m\"\u001b[39m\u001b[38;5;124mb\u001b[39m\u001b[38;5;124m\"\u001b[39m \u001b[38;5;129;01mnot\u001b[39;00m \u001b[38;5;129;01min\u001b[39;00m ioargs\u001b[38;5;241m.\u001b[39mmode:\n\u001b[1;32m    858\u001b[0m         \u001b[38;5;66;03m# Encoding\u001b[39;00m\n\u001b[0;32m--> 859\u001b[0m         handle \u001b[38;5;241m=\u001b[39m \u001b[38;5;28;43mopen\u001b[39;49m\u001b[43m(\u001b[49m\n\u001b[1;32m    860\u001b[0m \u001b[43m            \u001b[49m\u001b[43mhandle\u001b[49m\u001b[43m,\u001b[49m\n\u001b[1;32m    861\u001b[0m \u001b[43m            \u001b[49m\u001b[43mioargs\u001b[49m\u001b[38;5;241;43m.\u001b[39;49m\u001b[43mmode\u001b[49m\u001b[43m,\u001b[49m\n\u001b[1;32m    862\u001b[0m \u001b[43m            \u001b[49m\u001b[43mencoding\u001b[49m\u001b[38;5;241;43m=\u001b[39;49m\u001b[43mioargs\u001b[49m\u001b[38;5;241;43m.\u001b[39;49m\u001b[43mencoding\u001b[49m\u001b[43m,\u001b[49m\n\u001b[1;32m    863\u001b[0m \u001b[43m            \u001b[49m\u001b[43merrors\u001b[49m\u001b[38;5;241;43m=\u001b[39;49m\u001b[43merrors\u001b[49m\u001b[43m,\u001b[49m\n\u001b[1;32m    864\u001b[0m \u001b[43m            \u001b[49m\u001b[43mnewline\u001b[49m\u001b[38;5;241;43m=\u001b[39;49m\u001b[38;5;124;43m\"\u001b[39;49m\u001b[38;5;124;43m\"\u001b[39;49m\u001b[43m,\u001b[49m\n\u001b[1;32m    865\u001b[0m \u001b[43m        \u001b[49m\u001b[43m)\u001b[49m\n\u001b[1;32m    866\u001b[0m     \u001b[38;5;28;01melse\u001b[39;00m:\n\u001b[1;32m    867\u001b[0m         \u001b[38;5;66;03m# Binary mode\u001b[39;00m\n\u001b[1;32m    868\u001b[0m         handle \u001b[38;5;241m=\u001b[39m \u001b[38;5;28mopen\u001b[39m(handle, ioargs\u001b[38;5;241m.\u001b[39mmode)\n",
            "\u001b[0;31mFileNotFoundError\u001b[0m: [Errno 2] No such file or directory: 'seu_arquivo.csv'"
          ]
        }
      ],
      "execution_count": 6,
      "metadata": {
        "jupyter": {
          "source_hidden": false,
          "outputs_hidden": false
        },
        "nteract": {
          "transient": {
            "deleting": false
          }
        },
        "gather": {
          "logged": 1711487130453
        }
      }
    }
  ],
  "metadata": {
    "kernelspec": {
      "name": "python310-sdkv2",
      "language": "python",
      "display_name": "Python 3.10 - SDK v2"
    },
    "language_info": {
      "name": "python",
      "version": "3.10.11",
      "mimetype": "text/x-python",
      "codemirror_mode": {
        "name": "ipython",
        "version": 3
      },
      "pygments_lexer": "ipython3",
      "nbconvert_exporter": "python",
      "file_extension": ".py"
    },
    "kernel_info": {
      "name": "python310-sdkv2"
    },
    "microsoft": {
      "host": {
        "AzureML": {
          "notebookHasBeenCompleted": true
        }
      }
    },
    "nteract": {
      "version": "nteract-front-end@1.0.0"
    }
  },
  "nbformat": 4,
  "nbformat_minor": 2
}