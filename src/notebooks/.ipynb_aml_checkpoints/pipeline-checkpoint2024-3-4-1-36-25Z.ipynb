{
  "cells": [
    {
      "cell_type": "code",
      "source": [
        "from azure.ai.ml import MLClient\n",
        "from azure.identity import DefaultAzureCredential\n",
        "from azure.ai.ml.entities import Data\n",
        "from azure.ai.ml.constants import AssetTypes\n",
        "\n",
        "# authenticate\n",
        "credential = DefaultAzureCredential()\n",
        "\n",
        "SUBSCRIPTION=\"2944a580-6c5f-4258-8c86-b9c5de957998\"\n",
        "RESOURCE_GROUP=\"calebebraga08-rg\"\n",
        "WS_NAME=\"tcc-experiments\"\n",
        "\n",
        "# Get a handle to the workspace\n",
        "ml_client = MLClient(\n",
        "    credential=credential,\n",
        "    subscription_id=SUBSCRIPTION,\n",
        "    resource_group_name=RESOURCE_GROUP,\n",
        "    workspace_name=WS_NAME,\n",
        ")"
      ],
      "outputs": [],
      "execution_count": 42,
      "metadata": {
        "gather": {
          "logged": 1712190470201
        }
      }
    },
    {
      "cell_type": "code",
      "source": [
        "# Verify that the handle works correctly.  \n",
        "# If you ge an error here, modify your SUBSCRIPTION, RESOURCE_GROUP, and WS_NAME in the previous cell.\n",
        "ws = ml_client.workspaces.get(WS_NAME)\n",
        "print(ws.location,\":\", ws.resource_group)"
      ],
      "outputs": [
        {
          "output_type": "stream",
          "name": "stdout",
          "text": "eastus2 : calebebraga08-rg\n"
        }
      ],
      "execution_count": 43,
      "metadata": {
        "jupyter": {
          "source_hidden": false,
          "outputs_hidden": false
        },
        "nteract": {
          "transient": {
            "deleting": false
          }
        },
        "gather": {
          "logged": 1712190472879
        }
      }
    },
    {
      "cell_type": "code",
      "source": [
        "TRAIN_DATAS = [\n",
        "    \"vrex_1999_2000_2001_2002_2003_.csv\",\n",
        "    \"vrex_2004_2005_2006_2007_2008_.csv\",\n",
        "    \"vrex_2009_2010_2011_2012_2013_.csv\",\n",
        "    \"vrex_2014_2015_2016_2017_2018_.csv\",\n",
        "]\n",
        "\n",
        "TEST_DATAS = [\n",
        "    \"vrex_2004.csv\",\n",
        "    \"vrex_2009.csv\",\n",
        "    \"vrex_2014.csv\",\n",
        "    \"vrex_2019.csv\"\n",
        "]\n",
        "\n",
        "version = \"original\"\n",
        "\n",
        "arr_data_to_train = []\n",
        "arr_data_to_test = []\n",
        "\n",
        "for to_train, to_test in zip(TRAIN_DATAS, TEST_DATAS):\n",
        "    data_to_train = ml_client.data.get(name=to_train.split(\".\")[0], version=version)\n",
        "    arr_data_to_train.append(data_to_train)\n",
        "    print(f\"Data to train asset URI: {data_to_train.path} - name: {to_train.split('.')[0]}\")\n",
        "\n",
        "    data_to_test = ml_client.data.get(name=to_test.split('.')[0], version=version)\n",
        "    arr_data_to_test.append(data_to_test)\n",
        "    print(f\"Data to test asset URI: {data_to_test.path} - name: {to_test.split('.')[0]}\")"
      ],
      "outputs": [
        {
          "output_type": "stream",
          "name": "stdout",
          "text": "Data to train asset URI: azureml://subscriptions/2944a580-6c5f-4258-8c86-b9c5de957998/resourcegroups/calebebraga08-rg/workspaces/tcc-experiments/datastores/workspaceblobstore/paths/LocalUpload/bb48172e3ccf65075606876bcf5df9f2/vrex_1999_2000_2001_2002_2003_.csv - name: vrex_1999_2000_2001_2002_2003_\nData to test asset URI: azureml://subscriptions/2944a580-6c5f-4258-8c86-b9c5de957998/resourcegroups/calebebraga08-rg/workspaces/tcc-experiments/datastores/workspaceblobstore/paths/LocalUpload/3b205fc48a24468cd8575de6f0de7ae0/vrex_2004.csv - name: vrex_2004\nData to train asset URI: azureml://subscriptions/2944a580-6c5f-4258-8c86-b9c5de957998/resourcegroups/calebebraga08-rg/workspaces/tcc-experiments/datastores/workspaceblobstore/paths/LocalUpload/992a66ec6cfe9db64c4d0613ce5b5208/vrex_2004_2005_2006_2007_2008_.csv - name: vrex_2004_2005_2006_2007_2008_\nData to test asset URI: azureml://subscriptions/2944a580-6c5f-4258-8c86-b9c5de957998/resourcegroups/calebebraga08-rg/workspaces/tcc-experiments/datastores/workspaceblobstore/paths/LocalUpload/79fba3ceef6debdaff3901ea3d103366/vrex_2009.csv - name: vrex_2009\nData to train asset URI: azureml://subscriptions/2944a580-6c5f-4258-8c86-b9c5de957998/resourcegroups/calebebraga08-rg/workspaces/tcc-experiments/datastores/workspaceblobstore/paths/LocalUpload/20c8eaed3e0076d5623ceabb00067339/vrex_2009_2010_2011_2012_2013_.csv - name: vrex_2009_2010_2011_2012_2013_\nData to test asset URI: azureml://subscriptions/2944a580-6c5f-4258-8c86-b9c5de957998/resourcegroups/calebebraga08-rg/workspaces/tcc-experiments/datastores/workspaceblobstore/paths/LocalUpload/f4ecea294ba5aa10eadec0cdaf59ac5c/vrex_2014.csv - name: vrex_2014\nData to train asset URI: azureml://subscriptions/2944a580-6c5f-4258-8c86-b9c5de957998/resourcegroups/calebebraga08-rg/workspaces/tcc-experiments/datastores/workspaceblobstore/paths/LocalUpload/38bbb10032af817b2a7427008e191128/vrex_2014_2015_2016_2017_2018_.csv - name: vrex_2014_2015_2016_2017_2018_\nData to test asset URI: azureml://subscriptions/2944a580-6c5f-4258-8c86-b9c5de957998/resourcegroups/calebebraga08-rg/workspaces/tcc-experiments/datastores/workspaceblobstore/paths/LocalUpload/51c997e091d027cb70ab7be8e4015a5f/vrex_2019.csv - name: vrex_2019\n"
        }
      ],
      "execution_count": 44,
      "metadata": {
        "jupyter": {
          "source_hidden": false,
          "outputs_hidden": false
        },
        "nteract": {
          "transient": {
            "deleting": false
          }
        },
        "gather": {
          "logged": 1712190476792
        }
      }
    },
    {
      "cell_type": "markdown",
      "source": [
        "# Load enviroment depedencies"
      ],
      "metadata": {
        "nteract": {
          "transient": {
            "deleting": false
          }
        }
      }
    },
    {
      "cell_type": "code",
      "source": [
        "ENV_VERSION = \"v5\""
      ],
      "outputs": [],
      "execution_count": 45,
      "metadata": {
        "jupyter": {
          "source_hidden": false,
          "outputs_hidden": false
        },
        "nteract": {
          "transient": {
            "deleting": false
          }
        },
        "gather": {
          "logged": 1712190479758
        }
      }
    },
    {
      "cell_type": "code",
      "source": [
        "from azure.ai.ml.entities import Environment\n",
        "\n",
        "custom_env_name = \"data-prep-dependencies\"\n",
        "\n",
        "data_prep_job_env = Environment(\n",
        "    name=custom_env_name,\n",
        "    description=\"Custom environment for data preparation\",\n",
        "    tags={\"scikit-learn\": \"0.24.2\"},\n",
        "    conda_file=\"/home/azureuser/cloudfiles/code/Users/calebebraga08/tcc_experiments_az_ml/src/dependencies/conda_data_prep.yaml\",\n",
        "    image=\"mcr.microsoft.com/azureml/openmpi4.1.0-ubuntu20.04:latest\",\n",
        "    version=ENV_VERSION,\n",
        ")\n",
        "data_prep_job_env = ml_client.environments.create_or_update(data_prep_job_env)\n",
        "\n",
        "print(\n",
        "    f\"Environment with name {data_prep_job_env.name} is registered to workspace, the environment version is {data_prep_job_env.version}\"\n",
        ")"
      ],
      "outputs": [
        {
          "output_type": "stream",
          "name": "stdout",
          "text": "Environment with name data-prep-dependencies is registered to workspace, the environment version is v5\n"
        }
      ],
      "execution_count": 46,
      "metadata": {
        "jupyter": {
          "source_hidden": false,
          "outputs_hidden": false
        },
        "nteract": {
          "transient": {
            "deleting": false
          }
        },
        "gather": {
          "logged": 1712190482123
        }
      }
    },
    {
      "cell_type": "code",
      "source": [
        "from azure.ai.ml.entities import Environment\n",
        "\n",
        "custom_env_name = \"train-dependencies\"\n",
        "\n",
        "train_job_env = Environment(\n",
        "    name=custom_env_name,\n",
        "    description=\"Custom environment for train data\",\n",
        "    tags={\"scikit-learn\": \"0.24.2\"},\n",
        "    conda_file=\"/home/azureuser/cloudfiles/code/Users/calebebraga08/tcc_experiments_az_ml/src/dependencies/conda_train.yaml\",\n",
        "    image=\"mcr.microsoft.com/azureml/openmpi4.1.0-ubuntu20.04:latest\",\n",
        "    version=ENV_VERSION,\n",
        ")\n",
        "train_job_env = ml_client.environments.create_or_update(train_job_env)\n",
        "\n",
        "print(\n",
        "    f\"Environment with name {train_job_env.name} is registered to workspace, the environment version is {train_job_env.version}\"\n",
        ")"
      ],
      "outputs": [
        {
          "output_type": "stream",
          "name": "stdout",
          "text": "Environment with name train-dependencies is registered to workspace, the environment version is v5\n"
        }
      ],
      "execution_count": 47,
      "metadata": {
        "jupyter": {
          "source_hidden": false,
          "outputs_hidden": false
        },
        "nteract": {
          "transient": {
            "deleting": false
          }
        },
        "gather": {
          "logged": 1712190485865
        }
      }
    },
    {
      "cell_type": "markdown",
      "source": [
        "# Load components"
      ],
      "metadata": {
        "nteract": {
          "transient": {
            "deleting": false
          }
        }
      }
    },
    {
      "cell_type": "code",
      "source": [
        "# importing the Component Package\n",
        "from azure.ai.ml import load_component\n",
        "\n",
        "# Loading the component from the yml file\n",
        "data_prep_component = load_component(source=\"/home/azureuser/cloudfiles/code/Users/calebebraga08/tcc_experiments_az_ml/src/components/data_prep.yaml\")\n",
        "\n",
        "# Now we register the component to the workspace\n",
        "data_prep_component = ml_client.create_or_update(data_prep_component)\n",
        "\n",
        "# Create (register) the component in your workspace\n",
        "print(\n",
        "    f\"Component {data_prep_component.name} with Version {data_prep_component.version} is registered\"\n",
        ")"
      ],
      "outputs": [
        {
          "output_type": "stream",
          "name": "stderr",
          "text": "\r\u001b[32mUploading components (0.01 MBs):   0%|          | 0/10404 [00:00<?, ?it/s]\r\u001b[32mUploading components (0.01 MBs):   8%|▊         | 790/10404 [00:00<00:01, 5796.64it/s]\r\u001b[32mUploading components (0.01 MBs): 100%|██████████| 10404/10404 [00:00<00:00, 61264.93it/s]\n\u001b[39m\n\n"
        },
        {
          "output_type": "stream",
          "name": "stdout",
          "text": "Component data_prep_vrex_defaults_model with Version 2024-04-04-00-28-10-3445982 is registered\n"
        }
      ],
      "execution_count": 48,
      "metadata": {
        "jupyter": {
          "source_hidden": false,
          "outputs_hidden": false
        },
        "nteract": {
          "transient": {
            "deleting": false
          }
        },
        "gather": {
          "logged": 1712190491713
        }
      }
    },
    {
      "cell_type": "code",
      "source": [
        "# importing the Component Package\n",
        "from azure.ai.ml import load_component\n",
        "\n",
        "# Loading the component from the yml file\n",
        "train_component = load_component(source=\"/home/azureuser/cloudfiles/code/Users/calebebraga08/tcc_experiments_az_ml/src/components/train.yaml\")\n",
        "\n",
        "# Now we register the component to the workspace\n",
        "train_component = ml_client.create_or_update(train_component)\n",
        "\n",
        "# Create (register) the component in your workspace\n",
        "print(\n",
        "    f\"Component {train_component.name} with Version {train_component.version} is registered\"\n",
        ")"
      ],
      "outputs": [
        {
          "output_type": "stream",
          "name": "stdout",
          "text": "Component train_vrex_defaults_model with Version 2024-04-04-00-28-14-3260741 is registered\n"
        }
      ],
      "execution_count": 49,
      "metadata": {
        "jupyter": {
          "source_hidden": false,
          "outputs_hidden": false
        },
        "nteract": {
          "transient": {
            "deleting": false
          }
        },
        "gather": {
          "logged": 1712190495633
        }
      }
    },
    {
      "cell_type": "markdown",
      "source": [
        "# Pipeline"
      ],
      "metadata": {
        "nteract": {
          "transient": {
            "deleting": false
          }
        }
      }
    },
    {
      "cell_type": "code",
      "source": [
        "# the dsl decorator tells the sdk that we are defining an Azure Machine Learning pipeline\n",
        "from azure.ai.ml import dsl, Input, Output\n",
        "\n",
        "\n",
        "@dsl.pipeline(\n",
        "    compute=\"serverless\",\n",
        "    description=\"E2E data_perp-train pipeline\",\n",
        ")\n",
        "def prep_data_and_train_defaults_pipeline(\n",
        "    data_to_train,\n",
        "    data_to_test,\n",
        "    flag_remove_null_values,\n",
        "    learning_rate_to_train,\n",
        "):\n",
        "\n",
        "    data_prep_job = data_prep_component(\n",
        "        data_to_train=data_to_train,\n",
        "        data_to_test=data_to_test,\n",
        "        flag_remove_null_values=flag_remove_null_values,\n",
        "    )\n",
        "\n",
        "    train_job = train_component(\n",
        "        train_data=data_prep_job.outputs.train_data,  # note: using outputs from previous step\n",
        "        test_data=data_prep_job.outputs.test_data,  # note: using outputs from previous step\n",
        "        learning_rate=learning_rate_to_train,  # note: using a pipeline input as parameter\n",
        "    )\n"
      ],
      "outputs": [],
      "execution_count": 50,
      "metadata": {
        "jupyter": {
          "source_hidden": false,
          "outputs_hidden": false
        },
        "nteract": {
          "transient": {
            "deleting": false
          }
        },
        "gather": {
          "logged": 1712190497948
        }
      }
    },
    {
      "cell_type": "code",
      "source": [
        "pipelines = []\n",
        "\n",
        "for data_to_train, data_to_test in zip(arr_data_to_train, arr_data_to_test):\n",
        "    pipeline = prep_data_and_train_defaults_pipeline(\n",
        "        data_to_train=Input(type=\"uri_file\", path=data_to_train.path),\n",
        "        data_to_test=Input(type=\"uri_file\", path=data_to_test.path),\n",
        "        flag_remove_null_values=True,\n",
        "        learning_rate_to_train=0.05,\n",
        "    )\n",
        "    \n",
        "    pipelines.append(pipeline)"
      ],
      "outputs": [],
      "execution_count": null,
      "metadata": {
        "jupyter": {
          "source_hidden": false,
          "outputs_hidden": false
        },
        "nteract": {
          "transient": {
            "deleting": false
          }
        },
        "gather": {
          "logged": 1712189564402
        }
      }
    },
    {
      "cell_type": "code",
      "source": [
        "import datetime as dt\n",
        "\n",
        "def _get_experiment_names() -> [str]:\n",
        "    experiment_names = []\n",
        "    for train_name, test_name in zip(TRAIN_DATAS, TEST_DATAS):\n",
        "        current_time = dt.datetime.now()\n",
        "        formatted_time = current_time.strftime(\"%Y_%m_%d_%H_%M_%S\")  # Formata a data e hora atual\n",
        "        train_name_base = train_name.split('.')[0]\n",
        "        test_name_base = test_name.split('.')[0]\n",
        "        name = f\"{train_name_base}tested_{test_name_base}_executed_in_{formatted_time}_removed_null_values_validation_final\"\n",
        "        experiment_names.append(name)\n",
        "        print(name)\n",
        "    return experiment_names\n"
      ],
      "outputs": [],
      "execution_count": null,
      "metadata": {
        "jupyter": {
          "source_hidden": false,
          "outputs_hidden": false
        },
        "nteract": {
          "transient": {
            "deleting": false
          }
        },
        "gather": {
          "logged": 1712189564628
        }
      }
    },
    {
      "cell_type": "code",
      "source": [
        "experiment_names = _get_experiment_names()\n",
        "for pipeline, experiment_name in zip(pipelines, experiment_names):\n",
        "    pipeline_job = ml_client.jobs.create_or_update(\n",
        "        pipeline,\n",
        "        experiment_name=experiment_name,\n",
        "    )\n",
        "\n",
        "    ml_client.jobs.stream(pipeline_job.name)"
      ],
      "outputs": [],
      "execution_count": null,
      "metadata": {
        "jupyter": {
          "source_hidden": false,
          "outputs_hidden": false
        },
        "nteract": {
          "transient": {
            "deleting": false
          }
        },
        "gather": {
          "logged": 1712189847873
        }
      }
    },
    {
      "cell_type": "code",
      "source": [
        "pipelines_to_all_values = []\n",
        "\n",
        "for data_to_train, data_to_test in zip(arr_data_to_train, arr_data_to_test):\n",
        "    pipeline = prep_data_and_train_defaults_pipeline(\n",
        "        data_to_train=Input(type=\"uri_file\", path=data_to_train.path),\n",
        "        data_to_test=Input(type=\"uri_file\", path=data_to_test.path),\n",
        "        flag_remove_null_values=False,\n",
        "        learning_rate_to_train=0.05,\n",
        "    )\n",
        "    \n",
        "    pipelines_to_all_values.append(pipeline)\n",
        "\n",
        "print(pipelines_to_all_values)"
      ],
      "outputs": [
        {
          "output_type": "stream",
          "name": "stdout",
          "text": "[PipelineJob({'inputs': {'data_to_train': <azure.ai.ml.entities._job.pipeline._io.base.PipelineInput object at 0x7f85e9026170>, 'data_to_test': <azure.ai.ml.entities._job.pipeline._io.base.PipelineInput object at 0x7f85e9024d30>, 'flag_remove_null_values': <azure.ai.ml.entities._job.pipeline._io.base.PipelineInput object at 0x7f85e9025f60>, 'learning_rate_to_train': <azure.ai.ml.entities._job.pipeline._io.base.PipelineInput object at 0x7f85e90259f0>}, 'outputs': {}, 'jobs': {}, 'component': PipelineComponent({'intellectual_property': None, 'auto_increment_version': True, 'source': 'DSL', 'is_anonymous': False, 'auto_delete_setting': None, 'name': 'prep_data_and_train_defaults_pipeline', 'description': 'E2E data_perp-train pipeline', 'tags': {}, 'properties': {}, 'print_as_yaml': True, 'id': None, 'Resource__source_path': 'None', 'base_path': '/mnt/batch/tasks/shared/LS_root/mounts/clusters/machine-standard-e4ds-v4/code/Users/calebebraga08/tcc_experiments_az_ml/src/notebooks', 'creation_context': None, 'serialize': <msrest.serialization.Serializer object at 0x7f860133d750>, 'version': None, 'latest_version': None, 'schema': None, 'type': 'pipeline', 'display_name': 'prep_data_and_train_defaults_pipeline', 'is_deterministic': None, 'inputs': {'data_to_train': {}, 'data_to_test': {}, 'flag_remove_null_values': {}, 'learning_rate_to_train': {}}, 'outputs': {}, 'yaml_str': None, 'other_parameter': {}, 'jobs': OrderedDict([('data_prep_job', Command({'parameters': {}, 'init': False, 'name': 'data_prep_job', 'type': 'command', 'status': None, 'log_files': None, 'description': None, 'tags': {}, 'properties': {}, 'print_as_yaml': True, 'id': None, 'Resource__source_path': None, 'base_path': '/mnt/batch/tasks/shared/LS_root/mounts/clusters/machine-standard-e4ds-v4/code/Users/calebebraga08/tcc_experiments_az_ml/src/notebooks', 'creation_context': None, 'serialize': <msrest.serialization.Serializer object at 0x7f85e9024f40>, 'allowed_keys': {}, 'key_restriction': False, 'logger': <Logger attr_dict (WARNING)>, 'display_name': None, 'experiment_name': None, 'compute': None, 'services': None, 'comment': None, 'job_inputs': {'data_to_train': <azure.ai.ml.entities._job.pipeline._io.base.PipelineInput object at 0x7f85e8620d90>, 'data_to_test': <azure.ai.ml.entities._job.pipeline._io.base.PipelineInput object at 0x7f85e8623640>, 'flag_remove_null_values': <azure.ai.ml.entities._job.pipeline._io.base.PipelineInput object at 0x7f85e86236a0>}, 'job_outputs': {}, 'inputs': {'data_to_train': <azure.ai.ml.entities._job.pipeline._io.base.NodeInput object at 0x7f85e9026260>, 'data_to_test': <azure.ai.ml.entities._job.pipeline._io.base.NodeInput object at 0x7f85e9027490>, 'flag_remove_null_values': <azure.ai.ml.entities._job.pipeline._io.base.NodeInput object at 0x7f85e9025060>}, 'outputs': {'train_data': <azure.ai.ml.entities._job.pipeline._io.base.NodeOutput object at 0x7f85e90251b0>, 'test_data': <azure.ai.ml.entities._job.pipeline._io.base.NodeOutput object at 0x7f85e90248b0>}, 'component': CommandComponent({'intellectual_property': None, 'auto_increment_version': False, 'source': 'REMOTE.WORKSPACE.COMPONENT', 'is_anonymous': False, 'auto_delete_setting': None, 'name': 'data_prep_vrex_defaults_model', 'description': None, 'tags': {}, 'properties': {}, 'print_as_yaml': True, 'id': '/subscriptions/2944a580-6c5f-4258-8c86-b9c5de957998/resourceGroups/calebebraga08-rg/providers/Microsoft.MachineLearningServices/workspaces/tcc-experiments/components/data_prep_vrex_defaults_model/versions/2024-04-04-00-28-10-3445982', 'Resource__source_path': None, 'base_path': PosixPath('.'), 'creation_context': <azure.ai.ml._restclient.v2022_10_01.models._models_py3.SystemData object at 0x7f85e8621e70>, 'serialize': <msrest.serialization.Serializer object at 0x7f85e8622b00>, 'command': 'python data_prep.py  --data_to_train ${{inputs.data_to_train}}  --data_to_test ${{inputs.data_to_test}}  --flag_remove_null_values ${{inputs.flag_remove_null_values}}  --train_data ${{outputs.train_data}} --test_data ${{outputs.test_data}}', 'code': '/subscriptions/2944a580-6c5f-4258-8c86-b9c5de957998/resourceGroups/calebebraga08-rg/providers/Microsoft.MachineLearningServices/workspaces/tcc-experiments/codes/46991091-0c0c-45c7-885b-7d9414721460/versions/1', 'environment_variables': None, 'environment': '/subscriptions/2944a580-6c5f-4258-8c86-b9c5de957998/resourceGroups/calebebraga08-rg/providers/Microsoft.MachineLearningServices/workspaces/tcc-experiments/environments/data-prep-dependencies/versions/v5', 'distribution': None, 'resources': {'instance_count': 1}, 'queue_settings': None, 'version': '2024-04-04-00-28-10-3445982', 'latest_version': None, 'schema': None, 'type': 'command', 'display_name': 'Data Preparation Defaults Model', 'is_deterministic': True, 'inputs': {'data_to_train': {'type': 'uri_folder', 'optional': False}, 'data_to_test': {'type': 'uri_folder', 'optional': False}, 'flag_remove_null_values': {'type': 'boolean', 'optional': False}}, 'outputs': {'train_data': {'type': 'uri_folder'}, 'test_data': {'type': 'uri_folder'}}, 'yaml_str': None, 'other_parameter': {}, 'additional_includes': [], 'CommandComponent__additional_includes_obj': None}), 'referenced_control_flow_node_instance_id': None, 'kwargs': {'services': None}, 'instance_id': 'f3d05367-91f6-4dd7-98fa-2c835f749e50', 'source': 'REMOTE.WORKSPACE.COMPONENT', 'validate_required_input_not_provided': True, 'limits': None, 'identity': None, 'distribution': None, 'environment_variables': {}, 'environment': None, 'resources': {'instance_count': 1}, 'queue_settings': None, 'swept': False})), ('train_job', Command({'parameters': {}, 'init': False, 'name': 'train_job', 'type': 'command', 'status': None, 'log_files': None, 'description': None, 'tags': {}, 'properties': {}, 'print_as_yaml': True, 'id': None, 'Resource__source_path': None, 'base_path': '/mnt/batch/tasks/shared/LS_root/mounts/clusters/machine-standard-e4ds-v4/code/Users/calebebraga08/tcc_experiments_az_ml/src/notebooks', 'creation_context': None, 'serialize': <msrest.serialization.Serializer object at 0x7f85e9024250>, 'allowed_keys': {}, 'key_restriction': False, 'logger': <Logger attr_dict (WARNING)>, 'display_name': None, 'experiment_name': None, 'compute': None, 'services': None, 'comment': None, 'job_inputs': {'train_data': <azure.ai.ml.entities._job.pipeline._io.base.NodeOutput object at 0x7f860133d7b0>, 'test_data': <azure.ai.ml.entities._job.pipeline._io.base.NodeOutput object at 0x7f85e9026110>, 'learning_rate': <azure.ai.ml.entities._job.pipeline._io.base.PipelineInput object at 0x7f85e8623fa0>}, 'job_outputs': {}, 'inputs': {'train_data': <azure.ai.ml.entities._job.pipeline._io.base.NodeInput object at 0x7f85e90256c0>, 'test_data': <azure.ai.ml.entities._job.pipeline._io.base.NodeInput object at 0x7f85e9024910>, 'learning_rate': <azure.ai.ml.entities._job.pipeline._io.base.NodeInput object at 0x7f85e90254e0>}, 'outputs': {'model': <azure.ai.ml.entities._job.pipeline._io.base.NodeOutput object at 0x7f85e9025750>}, 'component': CommandComponent({'intellectual_property': None, 'auto_increment_version': False, 'source': 'REMOTE.WORKSPACE.COMPONENT', 'is_anonymous': False, 'auto_delete_setting': None, 'name': 'train_vrex_defaults_model', 'description': None, 'tags': {}, 'properties': {}, 'print_as_yaml': True, 'id': '/subscriptions/2944a580-6c5f-4258-8c86-b9c5de957998/resourceGroups/calebebraga08-rg/providers/Microsoft.MachineLearningServices/workspaces/tcc-experiments/components/train_vrex_defaults_model/versions/2024-04-04-00-28-14-3260741', 'Resource__source_path': None, 'base_path': PosixPath('.'), 'creation_context': <azure.ai.ml._restclient.v2022_10_01.models._models_py3.SystemData object at 0x7f85e86aebc0>, 'serialize': <msrest.serialization.Serializer object at 0x7f85e86aef80>, 'command': 'python train.py  --train_data ${{inputs.train_data}}  --test_data ${{inputs.test_data}}  --learning_rate ${{inputs.learning_rate}} --model ${{outputs.model}}', 'code': '/subscriptions/2944a580-6c5f-4258-8c86-b9c5de957998/resourceGroups/calebebraga08-rg/providers/Microsoft.MachineLearningServices/workspaces/tcc-experiments/codes/46991091-0c0c-45c7-885b-7d9414721460/versions/1', 'environment_variables': None, 'environment': '/subscriptions/2944a580-6c5f-4258-8c86-b9c5de957998/resourceGroups/calebebraga08-rg/providers/Microsoft.MachineLearningServices/workspaces/tcc-experiments/environments/train-dependencies/versions/v5', 'distribution': None, 'resources': {'instance_count': 1}, 'queue_settings': None, 'version': '2024-04-04-00-28-14-3260741', 'latest_version': None, 'schema': None, 'type': 'command', 'display_name': 'Train VREX Defaults Model', 'is_deterministic': True, 'inputs': {'train_data': {'type': 'uri_folder', 'optional': False}, 'test_data': {'type': 'uri_folder', 'optional': False}, 'learning_rate': {'type': 'number', 'optional': False}}, 'outputs': {'model': {'type': 'uri_folder'}}, 'yaml_str': None, 'other_parameter': {}, 'additional_includes': [], 'CommandComponent__additional_includes_obj': None}), 'referenced_control_flow_node_instance_id': None, 'kwargs': {'services': None}, 'instance_id': '6397bb7c-8a0c-4e46-bb70-bd2a1b5959f0', 'source': 'REMOTE.WORKSPACE.COMPONENT', 'validate_required_input_not_provided': True, 'limits': None, 'identity': None, 'distribution': None, 'environment_variables': {}, 'environment': None, 'resources': {'instance_count': 1}, 'queue_settings': None, 'swept': False}))]), 'job_types': {'command': 2}, 'job_sources': {'REMOTE.WORKSPACE.COMPONENT': 2}, 'source_job_id': None}), 'type': 'pipeline', 'status': None, 'log_files': None, 'name': None, 'description': 'E2E data_perp-train pipeline', 'tags': {}, 'properties': {}, 'print_as_yaml': True, 'id': None, 'Resource__source_path': None, 'base_path': '/mnt/batch/tasks/shared/LS_root/mounts/clusters/machine-standard-e4ds-v4/code/Users/calebebraga08/tcc_experiments_az_ml/src/notebooks', 'creation_context': None, 'serialize': <msrest.serialization.Serializer object at 0x7f85e90247c0>, 'display_name': 'prep_data_and_train_defaults_pipeline', 'experiment_name': None, 'compute': 'serverless', 'services': None, 'settings': {}, 'identity': None, 'default_code': None, 'default_environment': None}), PipelineJob({'inputs': {'data_to_train': <azure.ai.ml.entities._job.pipeline._io.base.PipelineInput object at 0x7f85e9025e40>, 'data_to_test': <azure.ai.ml.entities._job.pipeline._io.base.PipelineInput object at 0x7f85e9027b80>, 'flag_remove_null_values': <azure.ai.ml.entities._job.pipeline._io.base.PipelineInput object at 0x7f85e9027c70>, 'learning_rate_to_train': <azure.ai.ml.entities._job.pipeline._io.base.PipelineInput object at 0x7f85e9027d60>}, 'outputs': {}, 'jobs': {}, 'component': PipelineComponent({'intellectual_property': None, 'auto_increment_version': True, 'source': 'DSL', 'is_anonymous': False, 'auto_delete_setting': None, 'name': 'prep_data_and_train_defaults_pipeline', 'description': 'E2E data_perp-train pipeline', 'tags': {}, 'properties': {}, 'print_as_yaml': True, 'id': None, 'Resource__source_path': 'None', 'base_path': '/mnt/batch/tasks/shared/LS_root/mounts/clusters/machine-standard-e4ds-v4/code/Users/calebebraga08/tcc_experiments_az_ml/src/notebooks', 'creation_context': None, 'serialize': <msrest.serialization.Serializer object at 0x7f85e9025d20>, 'version': None, 'latest_version': None, 'schema': None, 'type': 'pipeline', 'display_name': 'prep_data_and_train_defaults_pipeline', 'is_deterministic': None, 'inputs': {'data_to_train': {}, 'data_to_test': {}, 'flag_remove_null_values': {}, 'learning_rate_to_train': {}}, 'outputs': {}, 'yaml_str': None, 'other_parameter': {}, 'jobs': OrderedDict([('data_prep_job', Command({'parameters': {}, 'init': False, 'name': 'data_prep_job', 'type': 'command', 'status': None, 'log_files': None, 'description': None, 'tags': {}, 'properties': {}, 'print_as_yaml': True, 'id': None, 'Resource__source_path': None, 'base_path': '/mnt/batch/tasks/shared/LS_root/mounts/clusters/machine-standard-e4ds-v4/code/Users/calebebraga08/tcc_experiments_az_ml/src/notebooks', 'creation_context': None, 'serialize': <msrest.serialization.Serializer object at 0x7f85e90278b0>, 'allowed_keys': {}, 'key_restriction': False, 'logger': <Logger attr_dict (WARNING)>, 'display_name': None, 'experiment_name': None, 'compute': None, 'services': None, 'comment': None, 'job_inputs': {'data_to_train': <azure.ai.ml.entities._job.pipeline._io.base.PipelineInput object at 0x7f85e9026020>, 'data_to_test': <azure.ai.ml.entities._job.pipeline._io.base.PipelineInput object at 0x7f85e90256f0>, 'flag_remove_null_values': <azure.ai.ml.entities._job.pipeline._io.base.PipelineInput object at 0x7f85e9025cc0>}, 'job_outputs': {}, 'inputs': {'data_to_train': <azure.ai.ml.entities._job.pipeline._io.base.NodeInput object at 0x7f85e9025ba0>, 'data_to_test': <azure.ai.ml.entities._job.pipeline._io.base.NodeInput object at 0x7f85e9027880>, 'flag_remove_null_values': <azure.ai.ml.entities._job.pipeline._io.base.NodeInput object at 0x7f85e9027c10>}, 'outputs': {'train_data': <azure.ai.ml.entities._job.pipeline._io.base.NodeOutput object at 0x7f85e9027d00>, 'test_data': <azure.ai.ml.entities._job.pipeline._io.base.NodeOutput object at 0x7f85e9027ca0>}, 'component': CommandComponent({'intellectual_property': None, 'auto_increment_version': False, 'source': 'REMOTE.WORKSPACE.COMPONENT', 'is_anonymous': False, 'auto_delete_setting': None, 'name': 'data_prep_vrex_defaults_model', 'description': None, 'tags': {}, 'properties': {}, 'print_as_yaml': True, 'id': '/subscriptions/2944a580-6c5f-4258-8c86-b9c5de957998/resourceGroups/calebebraga08-rg/providers/Microsoft.MachineLearningServices/workspaces/tcc-experiments/components/data_prep_vrex_defaults_model/versions/2024-04-04-00-28-10-3445982', 'Resource__source_path': None, 'base_path': PosixPath('.'), 'creation_context': <azure.ai.ml._restclient.v2022_10_01.models._models_py3.SystemData object at 0x7f85e8621e70>, 'serialize': <msrest.serialization.Serializer object at 0x7f85e8622b00>, 'command': 'python data_prep.py  --data_to_train ${{inputs.data_to_train}}  --data_to_test ${{inputs.data_to_test}}  --flag_remove_null_values ${{inputs.flag_remove_null_values}}  --train_data ${{outputs.train_data}} --test_data ${{outputs.test_data}}', 'code': '/subscriptions/2944a580-6c5f-4258-8c86-b9c5de957998/resourceGroups/calebebraga08-rg/providers/Microsoft.MachineLearningServices/workspaces/tcc-experiments/codes/46991091-0c0c-45c7-885b-7d9414721460/versions/1', 'environment_variables': None, 'environment': '/subscriptions/2944a580-6c5f-4258-8c86-b9c5de957998/resourceGroups/calebebraga08-rg/providers/Microsoft.MachineLearningServices/workspaces/tcc-experiments/environments/data-prep-dependencies/versions/v5', 'distribution': None, 'resources': {'instance_count': 1}, 'queue_settings': None, 'version': '2024-04-04-00-28-10-3445982', 'latest_version': None, 'schema': None, 'type': 'command', 'display_name': 'Data Preparation Defaults Model', 'is_deterministic': True, 'inputs': {'data_to_train': {'type': 'uri_folder', 'optional': False}, 'data_to_test': {'type': 'uri_folder', 'optional': False}, 'flag_remove_null_values': {'type': 'boolean', 'optional': False}}, 'outputs': {'train_data': {'type': 'uri_folder'}, 'test_data': {'type': 'uri_folder'}}, 'yaml_str': None, 'other_parameter': {}, 'additional_includes': [], 'CommandComponent__additional_includes_obj': None}), 'referenced_control_flow_node_instance_id': None, 'kwargs': {'services': None}, 'instance_id': 'e23da052-89fa-42bb-a0f3-704f150c2d1b', 'source': 'REMOTE.WORKSPACE.COMPONENT', 'validate_required_input_not_provided': True, 'limits': None, 'identity': None, 'distribution': None, 'environment_variables': {}, 'environment': None, 'resources': {'instance_count': 1}, 'queue_settings': None, 'swept': False})), ('train_job', Command({'parameters': {}, 'init': False, 'name': 'train_job', 'type': 'command', 'status': None, 'log_files': None, 'description': None, 'tags': {}, 'properties': {}, 'print_as_yaml': True, 'id': None, 'Resource__source_path': None, 'base_path': '/mnt/batch/tasks/shared/LS_root/mounts/clusters/machine-standard-e4ds-v4/code/Users/calebebraga08/tcc_experiments_az_ml/src/notebooks', 'creation_context': None, 'serialize': <msrest.serialization.Serializer object at 0x7f85e90cde40>, 'allowed_keys': {}, 'key_restriction': False, 'logger': <Logger attr_dict (WARNING)>, 'display_name': None, 'experiment_name': None, 'compute': None, 'services': None, 'comment': None, 'job_inputs': {'train_data': <azure.ai.ml.entities._job.pipeline._io.base.NodeOutput object at 0x7f85e90273a0>, 'test_data': <azure.ai.ml.entities._job.pipeline._io.base.NodeOutput object at 0x7f85e90cdae0>, 'learning_rate': <azure.ai.ml.entities._job.pipeline._io.base.PipelineInput object at 0x7f85e9025d50>}, 'job_outputs': {}, 'inputs': {'train_data': <azure.ai.ml.entities._job.pipeline._io.base.NodeInput object at 0x7f85e90cdf90>, 'test_data': <azure.ai.ml.entities._job.pipeline._io.base.NodeInput object at 0x7f85e90cdff0>, 'learning_rate': <azure.ai.ml.entities._job.pipeline._io.base.NodeInput object at 0x7f85e90ce1d0>}, 'outputs': {'model': <azure.ai.ml.entities._job.pipeline._io.base.NodeOutput object at 0x7f85e90ce200>}, 'component': CommandComponent({'intellectual_property': None, 'auto_increment_version': False, 'source': 'REMOTE.WORKSPACE.COMPONENT', 'is_anonymous': False, 'auto_delete_setting': None, 'name': 'train_vrex_defaults_model', 'description': None, 'tags': {}, 'properties': {}, 'print_as_yaml': True, 'id': '/subscriptions/2944a580-6c5f-4258-8c86-b9c5de957998/resourceGroups/calebebraga08-rg/providers/Microsoft.MachineLearningServices/workspaces/tcc-experiments/components/train_vrex_defaults_model/versions/2024-04-04-00-28-14-3260741', 'Resource__source_path': None, 'base_path': PosixPath('.'), 'creation_context': <azure.ai.ml._restclient.v2022_10_01.models._models_py3.SystemData object at 0x7f85e86aebc0>, 'serialize': <msrest.serialization.Serializer object at 0x7f85e86aef80>, 'command': 'python train.py  --train_data ${{inputs.train_data}}  --test_data ${{inputs.test_data}}  --learning_rate ${{inputs.learning_rate}} --model ${{outputs.model}}', 'code': '/subscriptions/2944a580-6c5f-4258-8c86-b9c5de957998/resourceGroups/calebebraga08-rg/providers/Microsoft.MachineLearningServices/workspaces/tcc-experiments/codes/46991091-0c0c-45c7-885b-7d9414721460/versions/1', 'environment_variables': None, 'environment': '/subscriptions/2944a580-6c5f-4258-8c86-b9c5de957998/resourceGroups/calebebraga08-rg/providers/Microsoft.MachineLearningServices/workspaces/tcc-experiments/environments/train-dependencies/versions/v5', 'distribution': None, 'resources': {'instance_count': 1}, 'queue_settings': None, 'version': '2024-04-04-00-28-14-3260741', 'latest_version': None, 'schema': None, 'type': 'command', 'display_name': 'Train VREX Defaults Model', 'is_deterministic': True, 'inputs': {'train_data': {'type': 'uri_folder', 'optional': False}, 'test_data': {'type': 'uri_folder', 'optional': False}, 'learning_rate': {'type': 'number', 'optional': False}}, 'outputs': {'model': {'type': 'uri_folder'}}, 'yaml_str': None, 'other_parameter': {}, 'additional_includes': [], 'CommandComponent__additional_includes_obj': None}), 'referenced_control_flow_node_instance_id': None, 'kwargs': {'services': None}, 'instance_id': 'ca124d4f-573d-4157-b95f-7132e0d24e9d', 'source': 'REMOTE.WORKSPACE.COMPONENT', 'validate_required_input_not_provided': True, 'limits': None, 'identity': None, 'distribution': None, 'environment_variables': {}, 'environment': None, 'resources': {'instance_count': 1}, 'queue_settings': None, 'swept': False}))]), 'job_types': {'command': 2}, 'job_sources': {'REMOTE.WORKSPACE.COMPONENT': 2}, 'source_job_id': None}), 'type': 'pipeline', 'status': None, 'log_files': None, 'name': None, 'description': 'E2E data_perp-train pipeline', 'tags': {}, 'properties': {}, 'print_as_yaml': True, 'id': None, 'Resource__source_path': None, 'base_path': '/mnt/batch/tasks/shared/LS_root/mounts/clusters/machine-standard-e4ds-v4/code/Users/calebebraga08/tcc_experiments_az_ml/src/notebooks', 'creation_context': None, 'serialize': <msrest.serialization.Serializer object at 0x7f85e9027430>, 'display_name': 'prep_data_and_train_defaults_pipeline', 'experiment_name': None, 'compute': 'serverless', 'services': None, 'settings': {}, 'identity': None, 'default_code': None, 'default_environment': None}), PipelineJob({'inputs': {'data_to_train': <azure.ai.ml.entities._job.pipeline._io.base.PipelineInput object at 0x7f85e90cf9a0>, 'data_to_test': <azure.ai.ml.entities._job.pipeline._io.base.PipelineInput object at 0x7f85e90cf6d0>, 'flag_remove_null_values': <azure.ai.ml.entities._job.pipeline._io.base.PipelineInput object at 0x7f85e90ccd00>, 'learning_rate_to_train': <azure.ai.ml.entities._job.pipeline._io.base.PipelineInput object at 0x7f85e90cf0d0>}, 'outputs': {}, 'jobs': {}, 'component': PipelineComponent({'intellectual_property': None, 'auto_increment_version': True, 'source': 'DSL', 'is_anonymous': False, 'auto_delete_setting': None, 'name': 'prep_data_and_train_defaults_pipeline', 'description': 'E2E data_perp-train pipeline', 'tags': {}, 'properties': {}, 'print_as_yaml': True, 'id': None, 'Resource__source_path': 'None', 'base_path': '/mnt/batch/tasks/shared/LS_root/mounts/clusters/machine-standard-e4ds-v4/code/Users/calebebraga08/tcc_experiments_az_ml/src/notebooks', 'creation_context': None, 'serialize': <msrest.serialization.Serializer object at 0x7f85e90ce470>, 'version': None, 'latest_version': None, 'schema': None, 'type': 'pipeline', 'display_name': 'prep_data_and_train_defaults_pipeline', 'is_deterministic': None, 'inputs': {'data_to_train': {}, 'data_to_test': {}, 'flag_remove_null_values': {}, 'learning_rate_to_train': {}}, 'outputs': {}, 'yaml_str': None, 'other_parameter': {}, 'jobs': OrderedDict([('data_prep_job', Command({'parameters': {}, 'init': False, 'name': 'data_prep_job', 'type': 'command', 'status': None, 'log_files': None, 'description': None, 'tags': {}, 'properties': {}, 'print_as_yaml': True, 'id': None, 'Resource__source_path': None, 'base_path': '/mnt/batch/tasks/shared/LS_root/mounts/clusters/machine-standard-e4ds-v4/code/Users/calebebraga08/tcc_experiments_az_ml/src/notebooks', 'creation_context': None, 'serialize': <msrest.serialization.Serializer object at 0x7f85e90cc130>, 'allowed_keys': {}, 'key_restriction': False, 'logger': <Logger attr_dict (WARNING)>, 'display_name': None, 'experiment_name': None, 'compute': None, 'services': None, 'comment': None, 'job_inputs': {'data_to_train': <azure.ai.ml.entities._job.pipeline._io.base.PipelineInput object at 0x7f85e90cda80>, 'data_to_test': <azure.ai.ml.entities._job.pipeline._io.base.PipelineInput object at 0x7f85e90ce1a0>, 'flag_remove_null_values': <azure.ai.ml.entities._job.pipeline._io.base.PipelineInput object at 0x7f85e90ce410>}, 'job_outputs': {}, 'inputs': {'data_to_train': <azure.ai.ml.entities._job.pipeline._io.base.NodeInput object at 0x7f85e90ce140>, 'data_to_test': <azure.ai.ml.entities._job.pipeline._io.base.NodeInput object at 0x7f85e90ccf40>, 'flag_remove_null_values': <azure.ai.ml.entities._job.pipeline._io.base.NodeInput object at 0x7f85e90cc100>}, 'outputs': {'train_data': <azure.ai.ml.entities._job.pipeline._io.base.NodeOutput object at 0x7f85e90cc190>, 'test_data': <azure.ai.ml.entities._job.pipeline._io.base.NodeOutput object at 0x7f85e90cfc70>}, 'component': CommandComponent({'intellectual_property': None, 'auto_increment_version': False, 'source': 'REMOTE.WORKSPACE.COMPONENT', 'is_anonymous': False, 'auto_delete_setting': None, 'name': 'data_prep_vrex_defaults_model', 'description': None, 'tags': {}, 'properties': {}, 'print_as_yaml': True, 'id': '/subscriptions/2944a580-6c5f-4258-8c86-b9c5de957998/resourceGroups/calebebraga08-rg/providers/Microsoft.MachineLearningServices/workspaces/tcc-experiments/components/data_prep_vrex_defaults_model/versions/2024-04-04-00-28-10-3445982', 'Resource__source_path': None, 'base_path': PosixPath('.'), 'creation_context': <azure.ai.ml._restclient.v2022_10_01.models._models_py3.SystemData object at 0x7f85e8621e70>, 'serialize': <msrest.serialization.Serializer object at 0x7f85e8622b00>, 'command': 'python data_prep.py  --data_to_train ${{inputs.data_to_train}}  --data_to_test ${{inputs.data_to_test}}  --flag_remove_null_values ${{inputs.flag_remove_null_values}}  --train_data ${{outputs.train_data}} --test_data ${{outputs.test_data}}', 'code': '/subscriptions/2944a580-6c5f-4258-8c86-b9c5de957998/resourceGroups/calebebraga08-rg/providers/Microsoft.MachineLearningServices/workspaces/tcc-experiments/codes/46991091-0c0c-45c7-885b-7d9414721460/versions/1', 'environment_variables': None, 'environment': '/subscriptions/2944a580-6c5f-4258-8c86-b9c5de957998/resourceGroups/calebebraga08-rg/providers/Microsoft.MachineLearningServices/workspaces/tcc-experiments/environments/data-prep-dependencies/versions/v5', 'distribution': None, 'resources': {'instance_count': 1}, 'queue_settings': None, 'version': '2024-04-04-00-28-10-3445982', 'latest_version': None, 'schema': None, 'type': 'command', 'display_name': 'Data Preparation Defaults Model', 'is_deterministic': True, 'inputs': {'data_to_train': {'type': 'uri_folder', 'optional': False}, 'data_to_test': {'type': 'uri_folder', 'optional': False}, 'flag_remove_null_values': {'type': 'boolean', 'optional': False}}, 'outputs': {'train_data': {'type': 'uri_folder'}, 'test_data': {'type': 'uri_folder'}}, 'yaml_str': None, 'other_parameter': {}, 'additional_includes': [], 'CommandComponent__additional_includes_obj': None}), 'referenced_control_flow_node_instance_id': None, 'kwargs': {'services': None}, 'instance_id': '5d5d4530-1352-4b07-8b5f-5518c4a7edb4', 'source': 'REMOTE.WORKSPACE.COMPONENT', 'validate_required_input_not_provided': True, 'limits': None, 'identity': None, 'distribution': None, 'environment_variables': {}, 'environment': None, 'resources': {'instance_count': 1}, 'queue_settings': None, 'swept': False})), ('train_job', Command({'parameters': {}, 'init': False, 'name': 'train_job', 'type': 'command', 'status': None, 'log_files': None, 'description': None, 'tags': {}, 'properties': {}, 'print_as_yaml': True, 'id': None, 'Resource__source_path': None, 'base_path': '/mnt/batch/tasks/shared/LS_root/mounts/clusters/machine-standard-e4ds-v4/code/Users/calebebraga08/tcc_experiments_az_ml/src/notebooks', 'creation_context': None, 'serialize': <msrest.serialization.Serializer object at 0x7f85e871c250>, 'allowed_keys': {}, 'key_restriction': False, 'logger': <Logger attr_dict (WARNING)>, 'display_name': None, 'experiment_name': None, 'compute': None, 'services': None, 'comment': None, 'job_inputs': {'train_data': <azure.ai.ml.entities._job.pipeline._io.base.NodeOutput object at 0x7f85e90ce350>, 'test_data': <azure.ai.ml.entities._job.pipeline._io.base.NodeOutput object at 0x7f85e871c760>, 'learning_rate': <azure.ai.ml.entities._job.pipeline._io.base.PipelineInput object at 0x7f85e90ce3e0>}, 'job_outputs': {}, 'inputs': {'train_data': <azure.ai.ml.entities._job.pipeline._io.base.NodeInput object at 0x7f85e871c3d0>, 'test_data': <azure.ai.ml.entities._job.pipeline._io.base.NodeInput object at 0x7f85e871c850>, 'learning_rate': <azure.ai.ml.entities._job.pipeline._io.base.NodeInput object at 0x7f85e871c430>}, 'outputs': {'model': <azure.ai.ml.entities._job.pipeline._io.base.NodeOutput object at 0x7f85e871ca90>}, 'component': CommandComponent({'intellectual_property': None, 'auto_increment_version': False, 'source': 'REMOTE.WORKSPACE.COMPONENT', 'is_anonymous': False, 'auto_delete_setting': None, 'name': 'train_vrex_defaults_model', 'description': None, 'tags': {}, 'properties': {}, 'print_as_yaml': True, 'id': '/subscriptions/2944a580-6c5f-4258-8c86-b9c5de957998/resourceGroups/calebebraga08-rg/providers/Microsoft.MachineLearningServices/workspaces/tcc-experiments/components/train_vrex_defaults_model/versions/2024-04-04-00-28-14-3260741', 'Resource__source_path': None, 'base_path': PosixPath('.'), 'creation_context': <azure.ai.ml._restclient.v2022_10_01.models._models_py3.SystemData object at 0x7f85e86aebc0>, 'serialize': <msrest.serialization.Serializer object at 0x7f85e86aef80>, 'command': 'python train.py  --train_data ${{inputs.train_data}}  --test_data ${{inputs.test_data}}  --learning_rate ${{inputs.learning_rate}} --model ${{outputs.model}}', 'code': '/subscriptions/2944a580-6c5f-4258-8c86-b9c5de957998/resourceGroups/calebebraga08-rg/providers/Microsoft.MachineLearningServices/workspaces/tcc-experiments/codes/46991091-0c0c-45c7-885b-7d9414721460/versions/1', 'environment_variables': None, 'environment': '/subscriptions/2944a580-6c5f-4258-8c86-b9c5de957998/resourceGroups/calebebraga08-rg/providers/Microsoft.MachineLearningServices/workspaces/tcc-experiments/environments/train-dependencies/versions/v5', 'distribution': None, 'resources': {'instance_count': 1}, 'queue_settings': None, 'version': '2024-04-04-00-28-14-3260741', 'latest_version': None, 'schema': None, 'type': 'command', 'display_name': 'Train VREX Defaults Model', 'is_deterministic': True, 'inputs': {'train_data': {'type': 'uri_folder', 'optional': False}, 'test_data': {'type': 'uri_folder', 'optional': False}, 'learning_rate': {'type': 'number', 'optional': False}}, 'outputs': {'model': {'type': 'uri_folder'}}, 'yaml_str': None, 'other_parameter': {}, 'additional_includes': [], 'CommandComponent__additional_includes_obj': None}), 'referenced_control_flow_node_instance_id': None, 'kwargs': {'services': None}, 'instance_id': 'cc7c4389-80c3-4d5b-8c84-0ff83942cd39', 'source': 'REMOTE.WORKSPACE.COMPONENT', 'validate_required_input_not_provided': True, 'limits': None, 'identity': None, 'distribution': None, 'environment_variables': {}, 'environment': None, 'resources': {'instance_count': 1}, 'queue_settings': None, 'swept': False}))]), 'job_types': {'command': 2}, 'job_sources': {'REMOTE.WORKSPACE.COMPONENT': 2}, 'source_job_id': None}), 'type': 'pipeline', 'status': None, 'log_files': None, 'name': None, 'description': 'E2E data_perp-train pipeline', 'tags': {}, 'properties': {}, 'print_as_yaml': True, 'id': None, 'Resource__source_path': None, 'base_path': '/mnt/batch/tasks/shared/LS_root/mounts/clusters/machine-standard-e4ds-v4/code/Users/calebebraga08/tcc_experiments_az_ml/src/notebooks', 'creation_context': None, 'serialize': <msrest.serialization.Serializer object at 0x7f85e90cc550>, 'display_name': 'prep_data_and_train_defaults_pipeline', 'experiment_name': None, 'compute': 'serverless', 'services': None, 'settings': {}, 'identity': None, 'default_code': None, 'default_environment': None}), PipelineJob({'inputs': {'data_to_train': <azure.ai.ml.entities._job.pipeline._io.base.PipelineInput object at 0x7f85e871e5f0>, 'data_to_test': <azure.ai.ml.entities._job.pipeline._io.base.PipelineInput object at 0x7f85e871cfd0>, 'flag_remove_null_values': <azure.ai.ml.entities._job.pipeline._io.base.PipelineInput object at 0x7f85e871d270>, 'learning_rate_to_train': <azure.ai.ml.entities._job.pipeline._io.base.PipelineInput object at 0x7f85e871d120>}, 'outputs': {}, 'jobs': {}, 'component': PipelineComponent({'intellectual_property': None, 'auto_increment_version': True, 'source': 'DSL', 'is_anonymous': False, 'auto_delete_setting': None, 'name': 'prep_data_and_train_defaults_pipeline', 'description': 'E2E data_perp-train pipeline', 'tags': {}, 'properties': {}, 'print_as_yaml': True, 'id': None, 'Resource__source_path': 'None', 'base_path': '/mnt/batch/tasks/shared/LS_root/mounts/clusters/machine-standard-e4ds-v4/code/Users/calebebraga08/tcc_experiments_az_ml/src/notebooks', 'creation_context': None, 'serialize': <msrest.serialization.Serializer object at 0x7f85e871c340>, 'version': None, 'latest_version': None, 'schema': None, 'type': 'pipeline', 'display_name': 'prep_data_and_train_defaults_pipeline', 'is_deterministic': None, 'inputs': {'data_to_train': {}, 'data_to_test': {}, 'flag_remove_null_values': {}, 'learning_rate_to_train': {}}, 'outputs': {}, 'yaml_str': None, 'other_parameter': {}, 'jobs': OrderedDict([('data_prep_job', Command({'parameters': {}, 'init': False, 'name': 'data_prep_job', 'type': 'command', 'status': None, 'log_files': None, 'description': None, 'tags': {}, 'properties': {}, 'print_as_yaml': True, 'id': None, 'Resource__source_path': None, 'base_path': '/mnt/batch/tasks/shared/LS_root/mounts/clusters/machine-standard-e4ds-v4/code/Users/calebebraga08/tcc_experiments_az_ml/src/notebooks', 'creation_context': None, 'serialize': <msrest.serialization.Serializer object at 0x7f85e871d7b0>, 'allowed_keys': {}, 'key_restriction': False, 'logger': <Logger attr_dict (WARNING)>, 'display_name': None, 'experiment_name': None, 'compute': None, 'services': None, 'comment': None, 'job_inputs': {'data_to_train': <azure.ai.ml.entities._job.pipeline._io.base.PipelineInput object at 0x7f85e871c580>, 'data_to_test': <azure.ai.ml.entities._job.pipeline._io.base.PipelineInput object at 0x7f85e871c0d0>, 'flag_remove_null_values': <azure.ai.ml.entities._job.pipeline._io.base.PipelineInput object at 0x7f85e871ca30>}, 'job_outputs': {}, 'inputs': {'data_to_train': <azure.ai.ml.entities._job.pipeline._io.base.NodeInput object at 0x7f85e871e7a0>, 'data_to_test': <azure.ai.ml.entities._job.pipeline._io.base.NodeInput object at 0x7f85e871ceb0>, 'flag_remove_null_values': <azure.ai.ml.entities._job.pipeline._io.base.NodeInput object at 0x7f85e871d1e0>}, 'outputs': {'train_data': <azure.ai.ml.entities._job.pipeline._io.base.NodeOutput object at 0x7f85e871cee0>, 'test_data': <azure.ai.ml.entities._job.pipeline._io.base.NodeOutput object at 0x7f85e871d1b0>}, 'component': CommandComponent({'intellectual_property': None, 'auto_increment_version': False, 'source': 'REMOTE.WORKSPACE.COMPONENT', 'is_anonymous': False, 'auto_delete_setting': None, 'name': 'data_prep_vrex_defaults_model', 'description': None, 'tags': {}, 'properties': {}, 'print_as_yaml': True, 'id': '/subscriptions/2944a580-6c5f-4258-8c86-b9c5de957998/resourceGroups/calebebraga08-rg/providers/Microsoft.MachineLearningServices/workspaces/tcc-experiments/components/data_prep_vrex_defaults_model/versions/2024-04-04-00-28-10-3445982', 'Resource__source_path': None, 'base_path': PosixPath('.'), 'creation_context': <azure.ai.ml._restclient.v2022_10_01.models._models_py3.SystemData object at 0x7f85e8621e70>, 'serialize': <msrest.serialization.Serializer object at 0x7f85e8622b00>, 'command': 'python data_prep.py  --data_to_train ${{inputs.data_to_train}}  --data_to_test ${{inputs.data_to_test}}  --flag_remove_null_values ${{inputs.flag_remove_null_values}}  --train_data ${{outputs.train_data}} --test_data ${{outputs.test_data}}', 'code': '/subscriptions/2944a580-6c5f-4258-8c86-b9c5de957998/resourceGroups/calebebraga08-rg/providers/Microsoft.MachineLearningServices/workspaces/tcc-experiments/codes/46991091-0c0c-45c7-885b-7d9414721460/versions/1', 'environment_variables': None, 'environment': '/subscriptions/2944a580-6c5f-4258-8c86-b9c5de957998/resourceGroups/calebebraga08-rg/providers/Microsoft.MachineLearningServices/workspaces/tcc-experiments/environments/data-prep-dependencies/versions/v5', 'distribution': None, 'resources': {'instance_count': 1}, 'queue_settings': None, 'version': '2024-04-04-00-28-10-3445982', 'latest_version': None, 'schema': None, 'type': 'command', 'display_name': 'Data Preparation Defaults Model', 'is_deterministic': True, 'inputs': {'data_to_train': {'type': 'uri_folder', 'optional': False}, 'data_to_test': {'type': 'uri_folder', 'optional': False}, 'flag_remove_null_values': {'type': 'boolean', 'optional': False}}, 'outputs': {'train_data': {'type': 'uri_folder'}, 'test_data': {'type': 'uri_folder'}}, 'yaml_str': None, 'other_parameter': {}, 'additional_includes': [], 'CommandComponent__additional_includes_obj': None}), 'referenced_control_flow_node_instance_id': None, 'kwargs': {'services': None}, 'instance_id': '4573c5b6-fdd8-4d74-a714-4a2d9e17a62c', 'source': 'REMOTE.WORKSPACE.COMPONENT', 'validate_required_input_not_provided': True, 'limits': None, 'identity': None, 'distribution': None, 'environment_variables': {}, 'environment': None, 'resources': {'instance_count': 1}, 'queue_settings': None, 'swept': False})), ('train_job', Command({'parameters': {}, 'init': False, 'name': 'train_job', 'type': 'command', 'status': None, 'log_files': None, 'description': None, 'tags': {}, 'properties': {}, 'print_as_yaml': True, 'id': None, 'Resource__source_path': None, 'base_path': '/mnt/batch/tasks/shared/LS_root/mounts/clusters/machine-standard-e4ds-v4/code/Users/calebebraga08/tcc_experiments_az_ml/src/notebooks', 'creation_context': None, 'serialize': <msrest.serialization.Serializer object at 0x7f85e9205cf0>, 'allowed_keys': {}, 'key_restriction': False, 'logger': <Logger attr_dict (WARNING)>, 'display_name': None, 'experiment_name': None, 'compute': None, 'services': None, 'comment': None, 'job_inputs': {'train_data': <azure.ai.ml.entities._job.pipeline._io.base.NodeOutput object at 0x7f85e871e590>, 'test_data': <azure.ai.ml.entities._job.pipeline._io.base.NodeOutput object at 0x7f85e92055d0>, 'learning_rate': <azure.ai.ml.entities._job.pipeline._io.base.PipelineInput object at 0x7f85e871ca60>}, 'job_outputs': {}, 'inputs': {'train_data': <azure.ai.ml.entities._job.pipeline._io.base.NodeInput object at 0x7f85e9205120>, 'test_data': <azure.ai.ml.entities._job.pipeline._io.base.NodeInput object at 0x7f85e92055a0>, 'learning_rate': <azure.ai.ml.entities._job.pipeline._io.base.NodeInput object at 0x7f85e92056c0>}, 'outputs': {'model': <azure.ai.ml.entities._job.pipeline._io.base.NodeOutput object at 0x7f85e9205870>}, 'component': CommandComponent({'intellectual_property': None, 'auto_increment_version': False, 'source': 'REMOTE.WORKSPACE.COMPONENT', 'is_anonymous': False, 'auto_delete_setting': None, 'name': 'train_vrex_defaults_model', 'description': None, 'tags': {}, 'properties': {}, 'print_as_yaml': True, 'id': '/subscriptions/2944a580-6c5f-4258-8c86-b9c5de957998/resourceGroups/calebebraga08-rg/providers/Microsoft.MachineLearningServices/workspaces/tcc-experiments/components/train_vrex_defaults_model/versions/2024-04-04-00-28-14-3260741', 'Resource__source_path': None, 'base_path': PosixPath('.'), 'creation_context': <azure.ai.ml._restclient.v2022_10_01.models._models_py3.SystemData object at 0x7f85e86aebc0>, 'serialize': <msrest.serialization.Serializer object at 0x7f85e86aef80>, 'command': 'python train.py  --train_data ${{inputs.train_data}}  --test_data ${{inputs.test_data}}  --learning_rate ${{inputs.learning_rate}} --model ${{outputs.model}}', 'code': '/subscriptions/2944a580-6c5f-4258-8c86-b9c5de957998/resourceGroups/calebebraga08-rg/providers/Microsoft.MachineLearningServices/workspaces/tcc-experiments/codes/46991091-0c0c-45c7-885b-7d9414721460/versions/1', 'environment_variables': None, 'environment': '/subscriptions/2944a580-6c5f-4258-8c86-b9c5de957998/resourceGroups/calebebraga08-rg/providers/Microsoft.MachineLearningServices/workspaces/tcc-experiments/environments/train-dependencies/versions/v5', 'distribution': None, 'resources': {'instance_count': 1}, 'queue_settings': None, 'version': '2024-04-04-00-28-14-3260741', 'latest_version': None, 'schema': None, 'type': 'command', 'display_name': 'Train VREX Defaults Model', 'is_deterministic': True, 'inputs': {'train_data': {'type': 'uri_folder', 'optional': False}, 'test_data': {'type': 'uri_folder', 'optional': False}, 'learning_rate': {'type': 'number', 'optional': False}}, 'outputs': {'model': {'type': 'uri_folder'}}, 'yaml_str': None, 'other_parameter': {}, 'additional_includes': [], 'CommandComponent__additional_includes_obj': None}), 'referenced_control_flow_node_instance_id': None, 'kwargs': {'services': None}, 'instance_id': 'b227a594-c1af-475c-a7ff-36b3eb8d1bad', 'source': 'REMOTE.WORKSPACE.COMPONENT', 'validate_required_input_not_provided': True, 'limits': None, 'identity': None, 'distribution': None, 'environment_variables': {}, 'environment': None, 'resources': {'instance_count': 1}, 'queue_settings': None, 'swept': False}))]), 'job_types': {'command': 2}, 'job_sources': {'REMOTE.WORKSPACE.COMPONENT': 2}, 'source_job_id': None}), 'type': 'pipeline', 'status': None, 'log_files': None, 'name': None, 'description': 'E2E data_perp-train pipeline', 'tags': {}, 'properties': {}, 'print_as_yaml': True, 'id': None, 'Resource__source_path': None, 'base_path': '/mnt/batch/tasks/shared/LS_root/mounts/clusters/machine-standard-e4ds-v4/code/Users/calebebraga08/tcc_experiments_az_ml/src/notebooks', 'creation_context': None, 'serialize': <msrest.serialization.Serializer object at 0x7f85e871d090>, 'display_name': 'prep_data_and_train_defaults_pipeline', 'experiment_name': None, 'compute': 'serverless', 'services': None, 'settings': {}, 'identity': None, 'default_code': None, 'default_environment': None})]\n"
        }
      ],
      "execution_count": 51,
      "metadata": {
        "jupyter": {
          "source_hidden": false,
          "outputs_hidden": false
        },
        "nteract": {
          "transient": {
            "deleting": false
          }
        },
        "gather": {
          "logged": 1712190504566
        }
      }
    },
    {
      "cell_type": "code",
      "source": [
        "import datetime as dt\n",
        "\n",
        "def _get_experiment_names() -> [str]:\n",
        "    experiment_names = []\n",
        "    for train_name, test_name in zip(TRAIN_DATAS, TEST_DATAS):\n",
        "        current_time = dt.datetime.now()\n",
        "        formatted_time = current_time.strftime(\"%Y_%m_%d_%H_%M_%S\")  # Formata a data e hora atual\n",
        "        train_name_base = train_name.split('.')[0]\n",
        "        test_name_base = test_name.split('.')[0]\n",
        "        name = f\"{train_name_base}tested_{test_name_base}_executed_in_{formatted_time}_all_values_validation_final\"\n",
        "        experiment_names.append(name)\n",
        "        print(name)\n",
        "    return experiment_names\n"
      ],
      "outputs": [],
      "execution_count": 52,
      "metadata": {
        "jupyter": {
          "source_hidden": false,
          "outputs_hidden": false
        },
        "nteract": {
          "transient": {
            "deleting": false
          }
        },
        "gather": {
          "logged": 1712190506937
        }
      }
    },
    {
      "cell_type": "code",
      "source": [
        "experiment_names = _get_experiment_names()\n",
        "for pipeline, experiment_name in zip(pipelines_to_all_values, experiment_names):\n",
        "    pipeline_job = ml_client.jobs.create_or_update(\n",
        "        pipeline,\n",
        "        experiment_name=experiment_name,\n",
        "    )\n",
        "\n",
        "    ml_client.jobs.stream(pipeline_job.name)"
      ],
      "outputs": [
        {
          "output_type": "stream",
          "name": "stdout",
          "text": "vrex_1999_2000_2001_2002_2003_tested_vrex_2004_executed_in_2024_04_04_00_28_29_all_values_validation_final\nvrex_2004_2005_2006_2007_2008_tested_vrex_2009_executed_in_2024_04_04_00_28_29_all_values_validation_final\nvrex_2009_2010_2011_2012_2013_tested_vrex_2014_executed_in_2024_04_04_00_28_29_all_values_validation_final\nvrex_2014_2015_2016_2017_2018_tested_vrex_2019_executed_in_2024_04_04_00_28_29_all_values_validation_final\nRunId: ivory_cushion_pbf4tj5jmr\nWeb View: https://ml.azure.com/runs/ivory_cushion_pbf4tj5jmr?wsid=/subscriptions/2944a580-6c5f-4258-8c86-b9c5de957998/resourcegroups/calebebraga08-rg/workspaces/tcc-experiments\n\nStreaming logs/azureml/executionlogs.txt\n========================================\n\n[2024-04-04 00:28:33Z] Submitting 1 runs, first five are: 874b3bf3:835706dd-3f30-4f7f-a94d-bab05d33868c\n[2024-04-04 00:29:28Z] Completing processing run id 835706dd-3f30-4f7f-a94d-bab05d33868c.\n[2024-04-04 00:29:29Z] Submitting 1 runs, first five are: c1535376:166c8ea5-917b-430f-99db-f9ea7ff0f2c4\n[2024-04-04 00:35:07Z] Completing processing run id 166c8ea5-917b-430f-99db-f9ea7ff0f2c4.\n\nExecution Summary\n=================\nRunId: ivory_cushion_pbf4tj5jmr\nWeb View: https://ml.azure.com/runs/ivory_cushion_pbf4tj5jmr?wsid=/subscriptions/2944a580-6c5f-4258-8c86-b9c5de957998/resourcegroups/calebebraga08-rg/workspaces/tcc-experiments\n\nRunId: blue_board_dlxj9nb6k0\nWeb View: https://ml.azure.com/runs/blue_board_dlxj9nb6k0?wsid=/subscriptions/2944a580-6c5f-4258-8c86-b9c5de957998/resourcegroups/calebebraga08-rg/workspaces/tcc-experiments\n\nStreaming logs/azureml/executionlogs.txt\n========================================\n\n[2024-04-04 00:35:59Z] Submitting 1 runs, first five are: 2921f811:e8ac5692-ef8e-4816-8a52-f0185197aca5\n[2024-04-04 00:37:10Z] Completing processing run id e8ac5692-ef8e-4816-8a52-f0185197aca5.\n[2024-04-04 00:37:11Z] Submitting 1 runs, first five are: 9305be7d:f36cb470-7af1-400a-9682-91e3ab0339db\n"
        }
      ],
      "execution_count": 53,
      "metadata": {
        "jupyter": {
          "source_hidden": false,
          "outputs_hidden": false
        },
        "nteract": {
          "transient": {
            "deleting": false
          }
        },
        "gather": {
          "logged": 1712190416948
        }
      }
    }
  ],
  "metadata": {
    "kernelspec": {
      "name": "python310-sdkv2",
      "language": "python",
      "display_name": "Python 3.10 - SDK v2"
    },
    "language_info": {
      "name": "python",
      "version": "3.10.11",
      "mimetype": "text/x-python",
      "codemirror_mode": {
        "name": "ipython",
        "version": 3
      },
      "pygments_lexer": "ipython3",
      "nbconvert_exporter": "python",
      "file_extension": ".py"
    },
    "kernel_info": {
      "name": "python310-sdkv2"
    },
    "nteract": {
      "version": "nteract-front-end@1.0.0"
    },
    "microsoft": {
      "host": {
        "AzureML": {
          "notebookHasBeenCompleted": true
        }
      }
    }
  },
  "nbformat": 4,
  "nbformat_minor": 2
}