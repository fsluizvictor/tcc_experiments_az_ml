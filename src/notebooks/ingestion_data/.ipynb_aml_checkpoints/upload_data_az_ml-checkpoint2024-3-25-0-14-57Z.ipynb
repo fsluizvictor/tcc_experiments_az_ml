{
  "cells": [
    {
      "cell_type": "code",
      "source": [
        "from azure.ai.ml import MLClient\n",
        "from azure.identity import DefaultAzureCredential\n",
        "from azure.ai.ml.entities import Data\n",
        "from azure.ai.ml.constants import AssetTypes\n",
        "\n",
        "# authenticate\n",
        "credential = DefaultAzureCredential()\n",
        "\n",
        "SUBSCRIPTION=\"a3f56f48-3efb-4970-81a3-e4eda598333c\"\n",
        "RESOURCE_GROUP=\"luiz.victor.dev-rg\"\n",
        "WS_NAME=\"tcc-experiments\"\n",
        "\n",
        "# Get a handle to the workspace\n",
        "ml_client = MLClient(\n",
        "    credential=credential,\n",
        "    subscription_id=SUBSCRIPTION,\n",
        "    resource_group_name=RESOURCE_GROUP,\n",
        "    workspace_name=WS_NAME,\n",
        ")"
      ],
      "outputs": [],
      "execution_count": 1,
      "metadata": {
        "gather": {
          "logged": 1714004062712
        }
      }
    },
    {
      "cell_type": "code",
      "source": [
        "TRAIN_DATA_PATH = \"/home/azureuser/cloudfiles/code/Users/luiz.victor.dev/data/train/\"\n",
        "TEST_DATA_PATH = \"/home/azureuser/cloudfiles/code/Users/luiz.victor.dev/data/test/\"\n",
        "\n",
        "TRAIN_DATAS = [\n",
        "    \"vrex_1999_2000_2001_2002_2003_.csv\",\n",
        "    \"vrex_2004_2005_2006_2007_2008_.csv\",\n",
        "    \"vrex_2009_2010_2011_2012_2013_.csv\",\n",
        "    \"vrex_2014_2015_2016_2017_2018_.csv\",\n",
        "]\n",
        "\n",
        "TEST_DATAS = [\n",
        "    \"vrex_2004.csv\",\n",
        "    \"vrex_2009.csv\",\n",
        "    \"vrex_2014.csv\",\n",
        "    \"vrex_2019.csv\"\n",
        "]\n",
        "\n",
        "v1 = \"original\""
      ],
      "outputs": [],
      "execution_count": 2,
      "metadata": {
        "jupyter": {
          "source_hidden": false,
          "outputs_hidden": false
        },
        "nteract": {
          "transient": {
            "deleting": false
          }
        },
        "gather": {
          "logged": 1714004062792
        }
      }
    },
    {
      "cell_type": "code",
      "source": [
        "from azure.ai.ml.entities import Data\n",
        "from azure.ai.ml.constants import AssetTypes\n",
        "\n",
        "arr_to_train = []\n",
        "arr_to_test = []\n",
        "\n",
        "for name_data_to_train, name_data_to_test  in zip(TRAIN_DATAS, TEST_DATAS):\n",
        "    data_to_train = Data(\n",
        "        name=name_data_to_train.split('.')[0],\n",
        "        version=v1,\n",
        "        description=f\"Data to train - {name_data_to_train.split('.')[0]}\",\n",
        "        path=f\"{TRAIN_DATA_PATH}{name_data_to_train}\",\n",
        "        type=AssetTypes.URI_FILE,\n",
        "        )\n",
        "\n",
        "    data_to_test = Data(\n",
        "        name=name_data_to_test.split('.')[0],\n",
        "        version=v1,\n",
        "        description=f\"Data to test - {name_data_to_test.split('.')[0]}\",\n",
        "        path=f\"{TEST_DATA_PATH}{name_data_to_test}\",\n",
        "        type=AssetTypes.URI_FILE,\n",
        "        )\n",
        "\n",
        "    arr_to_train.append(data_to_train)\n",
        "    arr_to_test.append(data_to_test)\n",
        "\n",
        "for data_to_train, data_to_test in zip(arr_to_train, arr_to_test):\n",
        "    ml_client.data.create_or_update(data_to_train)\n",
        "    ml_client.data.create_or_update(data_to_test)\n",
        "    print(f\"Data asset created. Name: {data_to_train.name}, version: {data_to_train.version}\")\n",
        "    print(f\"Data asset created. Name: {data_to_test.name}, version: {data_to_test.version}\")\n"
      ],
      "outputs": [
        {
          "output_type": "error",
          "ename": "Exception",
          "evalue": "\n\u001b[37m\n\u001b[30m\n1) One or more files or folders do not exist.\n\u001b[39m\u001b[39m\n\nDetails: \n\n\u001b[31m(x) File path does not match asset type uri_file: /home/azureuser/cloudfiles/code/Users/luiz.victor.dev/train/vrex_1999_2000_2001_2002_2003_.csv\u001b[39m\n\nResolutions: \n1) Double-check the directory path you provided and enter the correct path.\nIf using the CLI, you can also check the full log in debug mode for more details by adding --debug to the end of your command\n\nAdditional Resources: The easiest way to author a yaml specification file is using IntelliSense and auto-completion Azure ML VS code extension provides: \u001b[36mhttps://code.visualstudio.com/docs/datascience/azure-machine-learning.\u001b[39m To set up VS Code, visit \u001b[36mhttps://docs.microsoft.com/azure/machine-learning/how-to-setup-vs-code\u001b[39m\n",
          "traceback": [
            "\u001b[0;31m---------------------------------------------------------------------------\u001b[0m",
            "\u001b[0;31mValidationException\u001b[0m                       Traceback (most recent call last)",
            "File \u001b[0;32m/anaconda/envs/azureml_py310_sdkv2/lib/python3.10/site-packages/azure/ai/ml/operations/_data_operations.py:306\u001b[0m, in \u001b[0;36mDataOperations.create_or_update\u001b[0;34m(self, data)\u001b[0m\n\u001b[1;32m    297\u001b[0m     sas_uri \u001b[38;5;241m=\u001b[39m get_sas_uri_for_registry_asset(\n\u001b[1;32m    298\u001b[0m         service_client\u001b[38;5;241m=\u001b[39m\u001b[38;5;28mself\u001b[39m\u001b[38;5;241m.\u001b[39m_service_client,\n\u001b[1;32m    299\u001b[0m         name\u001b[38;5;241m=\u001b[39mname,\n\u001b[0;32m   (...)\u001b[0m\n\u001b[1;32m    303\u001b[0m         body\u001b[38;5;241m=\u001b[39mget_asset_body_for_registry_storage(\u001b[38;5;28mself\u001b[39m\u001b[38;5;241m.\u001b[39m_registry_name, \u001b[38;5;124m\"\u001b[39m\u001b[38;5;124mdata\u001b[39m\u001b[38;5;124m\"\u001b[39m, name, version),\n\u001b[1;32m    304\u001b[0m     )\n\u001b[0;32m--> 306\u001b[0m referenced_uris \u001b[38;5;241m=\u001b[39m \u001b[38;5;28;43mself\u001b[39;49m\u001b[38;5;241;43m.\u001b[39;49m\u001b[43m_validate\u001b[49m\u001b[43m(\u001b[49m\u001b[43mdata\u001b[49m\u001b[43m)\u001b[49m\n\u001b[1;32m    307\u001b[0m \u001b[38;5;28;01mif\u001b[39;00m referenced_uris:\n",
            "File \u001b[0;32m/anaconda/envs/azureml_py310_sdkv2/lib/python3.10/site-packages/azure/ai/ml/_telemetry/activity.py:263\u001b[0m, in \u001b[0;36mmonitor_with_activity.<locals>.monitor.<locals>.wrapper\u001b[0;34m(*args, **kwargs)\u001b[0m\n\u001b[1;32m    262\u001b[0m \u001b[38;5;28;01mwith\u001b[39;00m log_activity(logger, activity_name \u001b[38;5;129;01mor\u001b[39;00m f\u001b[38;5;241m.\u001b[39m\u001b[38;5;18m__name__\u001b[39m, activity_type, custom_dimensions):\n\u001b[0;32m--> 263\u001b[0m     \u001b[38;5;28;01mreturn\u001b[39;00m \u001b[43mf\u001b[49m\u001b[43m(\u001b[49m\u001b[38;5;241;43m*\u001b[39;49m\u001b[43margs\u001b[49m\u001b[43m,\u001b[49m\u001b[43m \u001b[49m\u001b[38;5;241;43m*\u001b[39;49m\u001b[38;5;241;43m*\u001b[39;49m\u001b[43mkwargs\u001b[49m\u001b[43m)\u001b[49m\n",
            "File \u001b[0;32m/anaconda/envs/azureml_py310_sdkv2/lib/python3.10/site-packages/azure/ai/ml/operations/_data_operations.py:483\u001b[0m, in \u001b[0;36mDataOperations._validate\u001b[0;34m(self, data)\u001b[0m\n\u001b[1;32m    482\u001b[0m \u001b[38;5;28;01mif\u001b[39;00m os\u001b[38;5;241m.\u001b[39mpath\u001b[38;5;241m.\u001b[39misabs(asset_path):\n\u001b[0;32m--> 483\u001b[0m     \u001b[43m_assert_local_path_matches_asset_type\u001b[49m\u001b[43m(\u001b[49m\u001b[43masset_path\u001b[49m\u001b[43m,\u001b[49m\u001b[43m \u001b[49m\u001b[43masset_type\u001b[49m\u001b[43m)\u001b[49m\n\u001b[1;32m    484\u001b[0m \u001b[38;5;28;01melse\u001b[39;00m:\n",
            "File \u001b[0;32m/anaconda/envs/azureml_py310_sdkv2/lib/python3.10/site-packages/azure/ai/ml/operations/_data_operations.py:663\u001b[0m, in \u001b[0;36m_assert_local_path_matches_asset_type\u001b[0;34m(local_path, asset_type)\u001b[0m\n\u001b[1;32m    662\u001b[0m \u001b[38;5;28;01mif\u001b[39;00m asset_type \u001b[38;5;241m==\u001b[39m AssetTypes\u001b[38;5;241m.\u001b[39mURI_FILE \u001b[38;5;129;01mand\u001b[39;00m \u001b[38;5;129;01mnot\u001b[39;00m os\u001b[38;5;241m.\u001b[39mpath\u001b[38;5;241m.\u001b[39misfile(local_path):\n\u001b[0;32m--> 663\u001b[0m     \u001b[38;5;28;01mraise\u001b[39;00m ValidationException(\n\u001b[1;32m    664\u001b[0m         message\u001b[38;5;241m=\u001b[39m\u001b[38;5;124m\"\u001b[39m\u001b[38;5;124mFile path does not match asset type \u001b[39m\u001b[38;5;132;01m{}\u001b[39;00m\u001b[38;5;124m: \u001b[39m\u001b[38;5;132;01m{}\u001b[39;00m\u001b[38;5;124m\"\u001b[39m\u001b[38;5;241m.\u001b[39mformat(asset_type, local_path),\n\u001b[1;32m    665\u001b[0m         no_personal_data_message\u001b[38;5;241m=\u001b[39m\u001b[38;5;124m\"\u001b[39m\u001b[38;5;124mFile path does not match asset type \u001b[39m\u001b[38;5;132;01m{}\u001b[39;00m\u001b[38;5;124m\"\u001b[39m\u001b[38;5;241m.\u001b[39mformat(asset_type),\n\u001b[1;32m    666\u001b[0m         target\u001b[38;5;241m=\u001b[39mErrorTarget\u001b[38;5;241m.\u001b[39mDATA,\n\u001b[1;32m    667\u001b[0m         error_category\u001b[38;5;241m=\u001b[39mErrorCategory\u001b[38;5;241m.\u001b[39mUSER_ERROR,\n\u001b[1;32m    668\u001b[0m         error_type\u001b[38;5;241m=\u001b[39mValidationErrorType\u001b[38;5;241m.\u001b[39mFILE_OR_FOLDER_NOT_FOUND,\n\u001b[1;32m    669\u001b[0m     )\n",
            "\u001b[0;31mValidationException\u001b[0m: File path does not match asset type uri_file: /home/azureuser/cloudfiles/code/Users/luiz.victor.dev/train/vrex_1999_2000_2001_2002_2003_.csv",
            "\nDuring handling of the above exception, another exception occurred:\n",
            "\u001b[0;31mException\u001b[0m                                 Traceback (most recent call last)",
            "Cell \u001b[0;32mIn[3], line 28\u001b[0m\n\u001b[1;32m     25\u001b[0m     arr_to_test\u001b[38;5;241m.\u001b[39mappend(data_to_test)\n\u001b[1;32m     27\u001b[0m \u001b[38;5;28;01mfor\u001b[39;00m data_to_train, data_to_test \u001b[38;5;129;01min\u001b[39;00m \u001b[38;5;28mzip\u001b[39m(arr_to_train, arr_to_test):\n\u001b[0;32m---> 28\u001b[0m     \u001b[43mml_client\u001b[49m\u001b[38;5;241;43m.\u001b[39;49m\u001b[43mdata\u001b[49m\u001b[38;5;241;43m.\u001b[39;49m\u001b[43mcreate_or_update\u001b[49m\u001b[43m(\u001b[49m\u001b[43mdata_to_train\u001b[49m\u001b[43m)\u001b[49m\n\u001b[1;32m     29\u001b[0m     ml_client\u001b[38;5;241m.\u001b[39mdata\u001b[38;5;241m.\u001b[39mcreate_or_update(data_to_test)\n\u001b[1;32m     30\u001b[0m     \u001b[38;5;28mprint\u001b[39m(\u001b[38;5;124mf\u001b[39m\u001b[38;5;124m\"\u001b[39m\u001b[38;5;124mData asset created. Name: \u001b[39m\u001b[38;5;132;01m{\u001b[39;00mdata_to_train\u001b[38;5;241m.\u001b[39mname\u001b[38;5;132;01m}\u001b[39;00m\u001b[38;5;124m, version: \u001b[39m\u001b[38;5;132;01m{\u001b[39;00mdata_to_train\u001b[38;5;241m.\u001b[39mversion\u001b[38;5;132;01m}\u001b[39;00m\u001b[38;5;124m\"\u001b[39m)\n",
            "File \u001b[0;32m/anaconda/envs/azureml_py310_sdkv2/lib/python3.10/site-packages/azure/ai/ml/_telemetry/activity.py:263\u001b[0m, in \u001b[0;36mmonitor_with_activity.<locals>.monitor.<locals>.wrapper\u001b[0;34m(*args, **kwargs)\u001b[0m\n\u001b[1;32m    260\u001b[0m \u001b[38;5;129m@functools\u001b[39m\u001b[38;5;241m.\u001b[39mwraps(f)\n\u001b[1;32m    261\u001b[0m \u001b[38;5;28;01mdef\u001b[39;00m \u001b[38;5;21mwrapper\u001b[39m(\u001b[38;5;241m*\u001b[39margs, \u001b[38;5;241m*\u001b[39m\u001b[38;5;241m*\u001b[39mkwargs):\n\u001b[1;32m    262\u001b[0m     \u001b[38;5;28;01mwith\u001b[39;00m log_activity(logger, activity_name \u001b[38;5;129;01mor\u001b[39;00m f\u001b[38;5;241m.\u001b[39m\u001b[38;5;18m__name__\u001b[39m, activity_type, custom_dimensions):\n\u001b[0;32m--> 263\u001b[0m         \u001b[38;5;28;01mreturn\u001b[39;00m \u001b[43mf\u001b[49m\u001b[43m(\u001b[49m\u001b[38;5;241;43m*\u001b[39;49m\u001b[43margs\u001b[49m\u001b[43m,\u001b[49m\u001b[43m \u001b[49m\u001b[38;5;241;43m*\u001b[39;49m\u001b[38;5;241;43m*\u001b[39;49m\u001b[43mkwargs\u001b[49m\u001b[43m)\u001b[49m\n",
            "File \u001b[0;32m/anaconda/envs/azureml_py310_sdkv2/lib/python3.10/site-packages/azure/ai/ml/operations/_data_operations.py:358\u001b[0m, in \u001b[0;36mDataOperations.create_or_update\u001b[0;34m(self, data)\u001b[0m\n\u001b[1;32m    356\u001b[0m \u001b[38;5;28;01mexcept\u001b[39;00m \u001b[38;5;167;01mException\u001b[39;00m \u001b[38;5;28;01mas\u001b[39;00m ex:\n\u001b[1;32m    357\u001b[0m     \u001b[38;5;28;01mif\u001b[39;00m \u001b[38;5;28misinstance\u001b[39m(ex, (ValidationException, SchemaValidationError)):\n\u001b[0;32m--> 358\u001b[0m         \u001b[43mlog_and_raise_error\u001b[49m\u001b[43m(\u001b[49m\u001b[43mex\u001b[49m\u001b[43m)\u001b[49m\n\u001b[1;32m    359\u001b[0m     \u001b[38;5;28;01melif\u001b[39;00m \u001b[38;5;28misinstance\u001b[39m(ex, HttpResponseError):\n\u001b[1;32m    360\u001b[0m         \u001b[38;5;66;03m# service side raises an exception if we attempt to update an existing asset's asset path\u001b[39;00m\n\u001b[1;32m    361\u001b[0m         \u001b[38;5;28;01mif\u001b[39;00m \u001b[38;5;28mstr\u001b[39m(ex) \u001b[38;5;241m==\u001b[39m ASSET_PATH_ERROR:\n",
            "File \u001b[0;32m/anaconda/envs/azureml_py310_sdkv2/lib/python3.10/site-packages/azure/ai/ml/_exception_helper.py:295\u001b[0m, in \u001b[0;36mlog_and_raise_error\u001b[0;34m(error, debug, yaml_operation)\u001b[0m\n\u001b[1;32m    292\u001b[0m \u001b[38;5;28;01melse\u001b[39;00m:\n\u001b[1;32m    293\u001b[0m     \u001b[38;5;28;01mraise\u001b[39;00m error\n\u001b[0;32m--> 295\u001b[0m \u001b[38;5;28;01mraise\u001b[39;00m \u001b[38;5;167;01mException\u001b[39;00m(formatted_error)\n",
            "\u001b[0;31mException\u001b[0m: \n\u001b[37m\n\u001b[30m\n1) One or more files or folders do not exist.\n\u001b[39m\u001b[39m\n\nDetails: \n\n\u001b[31m(x) File path does not match asset type uri_file: /home/azureuser/cloudfiles/code/Users/luiz.victor.dev/train/vrex_1999_2000_2001_2002_2003_.csv\u001b[39m\n\nResolutions: \n1) Double-check the directory path you provided and enter the correct path.\nIf using the CLI, you can also check the full log in debug mode for more details by adding --debug to the end of your command\n\nAdditional Resources: The easiest way to author a yaml specification file is using IntelliSense and auto-completion Azure ML VS code extension provides: \u001b[36mhttps://code.visualstudio.com/docs/datascience/azure-machine-learning.\u001b[39m To set up VS Code, visit \u001b[36mhttps://docs.microsoft.com/azure/machine-learning/how-to-setup-vs-code\u001b[39m\n"
          ]
        }
      ],
      "execution_count": 3,
      "metadata": {
        "jupyter": {
          "source_hidden": false,
          "outputs_hidden": false
        },
        "nteract": {
          "transient": {
            "deleting": false
          }
        },
        "gather": {
          "logged": 1714004063323
        }
      }
    }
  ],
  "metadata": {
    "kernelspec": {
      "name": "python310-sdkv2",
      "language": "python",
      "display_name": "Python 3.10 - SDK v2"
    },
    "language_info": {
      "name": "python",
      "version": "3.10.11",
      "mimetype": "text/x-python",
      "codemirror_mode": {
        "name": "ipython",
        "version": 3
      },
      "pygments_lexer": "ipython3",
      "nbconvert_exporter": "python",
      "file_extension": ".py"
    },
    "kernel_info": {
      "name": "python310-sdkv2"
    },
    "nteract": {
      "version": "nteract-front-end@1.0.0"
    },
    "microsoft": {
      "host": {
        "AzureML": {
          "notebookHasBeenCompleted": true
        }
      }
    }
  },
  "nbformat": 4,
  "nbformat_minor": 2
}