{
  "cells": [
    {
      "cell_type": "code",
      "execution_count": 1,
      "metadata": {
        "gather": {
          "logged": 1716433429163
        }
      },
      "outputs": [],
      "source": [
        "from azure.ai.ml import MLClient\n",
        "from azure.identity import DefaultAzureCredential\n",
        "from pipeline_utils import (\n",
        "    COMPUTE, CONCURRENT_TRIALS, DELAY_EVALUATION, EVALUATION_INTERVAL, GOAL, METRIC, SAMPLING_ALGORITHM, TIMEOUT, TIMEOUT_PLUS, TOTAL_TRIALS, #SWEEP\n",
        "    SUBSCRIPTION, RESOURCE_GROUP, WS_NAME,  #AUTHENTICATE\n",
        "    NBC_PATH,    #COMPONENTS PATHS\n",
        "    GINI_PATH, INFOGAIN_PATH, PEARSON_PATH, SPEARMAN_PATH,    #FEAT SEL PATHS\n",
        "    PREP_DATA_PATH,  #PREP DATA PATH\n",
        "    NBC_BY_GINI, NBC_BY_INFOGAIN, NBC_BY_PEARSON, NBC_BY_SPEARMAN   #PIPELINES\n",
        ")\n",
        "\n",
        "# authenticate\n",
        "credential = DefaultAzureCredential()\n",
        "\n",
        "# Get a handle to the workspace\n",
        "ml_client = MLClient(\n",
        "    credential=credential,\n",
        "    subscription_id=SUBSCRIPTION,\n",
        "    resource_group_name=RESOURCE_GROUP,\n",
        "    workspace_name=WS_NAME,\n",
        ")"
      ]
    },
    {
      "cell_type": "code",
      "execution_count": 2,
      "metadata": {
        "gather": {
          "logged": 1716433429673
        },
        "jupyter": {
          "outputs_hidden": false,
          "source_hidden": false
        },
        "nteract": {
          "transient": {
            "deleting": false
          }
        }
      },
      "outputs": [
        {
          "name": "stdout",
          "output_type": "stream",
          "text": [
            "Data to train asset URI: azureml://subscriptions/1f51a68b-69d8-4818-bf63-7c5e10b81967/resourcegroups/luiz.victor.dev-rg/workspaces/tcc-tests/datastores/workspaceblobstore/paths/LocalUpload/3cfdebd258ea2db7363c55bb841ca887/vrex_encoded_tf_idf_2008_2009_2010_2011_2012_2013_2014_2015_2016_2017.csv - name: vrex_encoded_tf_idf_2008_2009_2010_2011_2012_2013_2014_2015_2016_2017\n",
            "Data to test asset URI: azureml://subscriptions/1f51a68b-69d8-4818-bf63-7c5e10b81967/resourcegroups/luiz.victor.dev-rg/workspaces/tcc-tests/datastores/workspaceblobstore/paths/LocalUpload/3992df39ce41e34367e629d6656f4e9f/vrex_encoded_tf_idf_2018_2019_2020_2021.csv - name: vrex_encoded_tf_idf_2018_2019_2020_2021\n"
          ]
        }
      ],
      "source": [
        "TRAIN_DATAS = [\n",
        "    \"vrex_encoded_tf_idf_2008_2009_2010_2011_2012_2013_2014_2015_2016_2017.csv\"\n",
        "]\n",
        "\n",
        "TEST_DATAS = [\n",
        "    \"vrex_encoded_tf_idf_2018_2019_2020_2021.csv\"\n",
        "]\n",
        "\n",
        "version = \"v1\"\n",
        "\n",
        "arr_data_to_train = []\n",
        "arr_data_to_test = []\n",
        "\n",
        "for to_train, to_test in zip(TRAIN_DATAS, TEST_DATAS):\n",
        "    data_to_train = ml_client.data.get(name=to_train.split(\".\")[0], version=version)\n",
        "    arr_data_to_train.append(data_to_train)\n",
        "    print(f\"Data to train asset URI: {data_to_train.path} - name: {to_train.split('.')[0]}\")\n",
        "\n",
        "    data_to_test = ml_client.data.get(name=to_test.split('.')[0], version=version)\n",
        "    arr_data_to_test.append(data_to_test)\n",
        "    print(f\"Data to test asset URI: {data_to_test.path} - name: {to_test.split('.')[0]}\")"
      ]
    },
    {
      "cell_type": "code",
      "execution_count": 3,
      "metadata": {},
      "outputs": [],
      "source": [
        "# importing the Component Package\n",
        "from azure.ai.ml import load_component\n",
        "\n",
        "data_prep_component = load_component(source=PREP_DATA_PATH)\n",
        "data_prep_component = ml_client.create_or_update(data_prep_component)\n",
        "\n",
        "gini_feat_sel_component = load_component(source=GINI_PATH)\n",
        "gini_feat_sel_component = ml_client.create_or_update(gini_feat_sel_component)\n",
        "\n",
        "infogain_feat_sel_component = load_component(source=INFOGAIN_PATH)\n",
        "infogain_feat_sel_component = ml_client.create_or_update(infogain_feat_sel_component)\n",
        "\n",
        "spearman_feat_sel_component = load_component(source=SPEARMAN_PATH)\n",
        "spearman_feat_sel_component = ml_client.create_or_update(spearman_feat_sel_component)\n",
        "\n",
        "pearson_feat_sel_component = load_component(source=PEARSON_PATH)\n",
        "pearson_feat_sel_component = ml_client.create_or_update(pearson_feat_sel_component)\n",
        "\n",
        "train_nbc = load_component(source=NBC_PATH)\n",
        "train_nbc = ml_client.create_or_update(train_nbc)"
      ]
    },
    {
      "cell_type": "code",
      "execution_count": 4,
      "metadata": {
        "gather": {
          "logged": 1716433440450
        },
        "jupyter": {
          "outputs_hidden": false,
          "source_hidden": false
        },
        "nteract": {
          "transient": {
            "deleting": false
          }
        }
      },
      "outputs": [],
      "source": [
        "\n",
        "# the dsl decorator tells the sdk that we are defining an Azure Machine Learning pipeline\n",
        "from azure.ai.ml import dsl, Input, Output\n",
        "from azure.ai.ml.sweep import Choice, Uniform, MedianStoppingPolicy"
      ]
    },
    {
      "cell_type": "code",
      "execution_count": 5,
      "metadata": {
        "gather": {
          "logged": 1716433440916
        },
        "jupyter": {
          "outputs_hidden": false,
          "source_hidden": false
        },
        "nteract": {
          "transient": {
            "deleting": false
          }
        }
      },
      "outputs": [],
      "source": [
        "@dsl.pipeline(\n",
        "    name=NBC_BY_GINI,\n",
        "    compute=COMPUTE,\n",
        "    description=\"E2E data_perp-train pipeline\",\n",
        ")\n",
        "def train_nbc_by_gini_pipeline(\n",
        "    data_to_train,\n",
        "    data_to_test,\n",
        "    feature_quantity,\n",
        "):\n",
        "\n",
        "    data_prep_job = data_prep_component(\n",
        "        data_to_train=data_to_train,\n",
        "        data_to_test=data_to_test,\n",
        "        flag_remove_null_values=False,\n",
        "        flag_remove_values_by_percentage=False,\n",
        "        percentage_to_remove_column=0,\n",
        "    )\n",
        "\n",
        "    feat_sel_job = gini_feat_sel_component(\n",
        "        train_data=data_prep_job.outputs.train_data,\n",
        "        test_data=data_prep_job.outputs.test_data,\n",
        "        feature_quantity=feature_quantity,\n",
        "    )\n",
        "\n",
        "    train_nbc_job = train_nbc(\n",
        "        train_data=feat_sel_job.outputs.train_data_feat_sel,  \n",
        "        test_data=feat_sel_job.outputs.test_data_feat_sel,  \n",
        "    )"
      ]
    },
    {
      "cell_type": "code",
      "execution_count": 6,
      "metadata": {},
      "outputs": [
        {
          "name": "stderr",
          "output_type": "stream",
          "text": [
            "Class AutoDeleteSettingSchema: This is an experimental class, and may change at any time. Please see https://aka.ms/azuremlexperimental for more information.\n",
            "Class AutoDeleteConditionSchema: This is an experimental class, and may change at any time. Please see https://aka.ms/azuremlexperimental for more information.\n",
            "Class BaseAutoDeleteSettingSchema: This is an experimental class, and may change at any time. Please see https://aka.ms/azuremlexperimental for more information.\n",
            "Class IntellectualPropertySchema: This is an experimental class, and may change at any time. Please see https://aka.ms/azuremlexperimental for more information.\n",
            "Class ProtectionLevelSchema: This is an experimental class, and may change at any time. Please see https://aka.ms/azuremlexperimental for more information.\n",
            "Class BaseIntellectualPropertySchema: This is an experimental class, and may change at any time. Please see https://aka.ms/azuremlexperimental for more information.\n"
          ]
        },
        {
          "name": "stdout",
          "output_type": "stream",
          "text": [
            "RunId: calm_toe_yx9ghgqcjt\n",
            "Web View: https://ml.azure.com/runs/calm_toe_yx9ghgqcjt?wsid=/subscriptions/1f51a68b-69d8-4818-bf63-7c5e10b81967/resourcegroups/luiz.victor.dev-rg/workspaces/tcc-tests\n",
            "\n",
            "Streaming logs/azureml/executionlogs.txt\n",
            "========================================\n",
            "\n",
            "[2024-06-16 19:32:22Z] Submitting 1 runs, first five are: 4ffa5437:9176a18e-5878-4c30-8e5c-dd9833793c3b\n",
            "[2024-06-16 19:32:24Z] Completing processing run id 9176a18e-5878-4c30-8e5c-dd9833793c3b.\n",
            "[2024-06-16 19:32:24Z] Submitting 1 runs, first five are: ee92fee0:fc996b13-ad30-49a0-836c-fd52bb5fa5b6\n",
            "[2024-06-16 19:36:44Z] Completing processing run id fc996b13-ad30-49a0-836c-fd52bb5fa5b6.\n",
            "[2024-06-16 19:36:45Z] Submitting 1 runs, first five are: 393defe3:e4a7b528-a5fa-4388-ba6a-c5e42cb79af5\n",
            "[2024-06-16 19:42:29Z] Completing processing run id e4a7b528-a5fa-4388-ba6a-c5e42cb79af5.\n",
            "\n",
            "Execution Summary\n",
            "=================\n",
            "RunId: calm_toe_yx9ghgqcjt\n",
            "Web View: https://ml.azure.com/runs/calm_toe_yx9ghgqcjt?wsid=/subscriptions/1f51a68b-69d8-4818-bf63-7c5e10b81967/resourcegroups/luiz.victor.dev-rg/workspaces/tcc-tests\n",
            "\n"
          ]
        }
      ],
      "source": [
        "\n",
        "\n",
        "pipeline_job = ml_client.jobs.create_or_update(\n",
        "    train_nbc_by_gini_pipeline(\n",
        "        data_to_train=Input(type=\"uri_file\", path=data_to_train.path),\n",
        "        data_to_test=Input(type=\"uri_file\", path=data_to_test.path),\n",
        "        feature_quantity=20,\n",
        "    ),\n",
        "    experiment_name=\"train_nbc_by_gini_pipeline\",\n",
        "    )\n",
        "\n",
        "ml_client.jobs.stream(pipeline_job.name)"
      ]
    },
    {
      "cell_type": "code",
      "execution_count": 7,
      "metadata": {},
      "outputs": [],
      "source": [
        "@dsl.pipeline(\n",
        "    name=NBC_BY_INFOGAIN,\n",
        "    compute=COMPUTE,\n",
        "    description=\"E2E data_perp-train pipeline\",\n",
        ")\n",
        "def train_nbc_by_infogain_pipeline(\n",
        "    data_to_train,\n",
        "    data_to_test,\n",
        "    feature_quantity,\n",
        "):\n",
        "\n",
        "    data_prep_job = data_prep_component(\n",
        "        data_to_train=data_to_train,\n",
        "        data_to_test=data_to_test,\n",
        "        flag_remove_null_values=False,\n",
        "        flag_remove_values_by_percentage=False,\n",
        "        percentage_to_remove_column=0,\n",
        "    )\n",
        "\n",
        "    feat_sel_job = infogain_feat_sel_component(\n",
        "        train_data=data_prep_job.outputs.train_data,\n",
        "        test_data=data_prep_job.outputs.test_data,\n",
        "        feature_quantity=feature_quantity,\n",
        "    )\n",
        "\n",
        "    train_nbc_job = train_nbc(\n",
        "        train_data=feat_sel_job.outputs.train_data_feat_sel,  \n",
        "        test_data=feat_sel_job.outputs.test_data_feat_sel,  \n",
        "    )"
      ]
    },
    {
      "cell_type": "code",
      "execution_count": 8,
      "metadata": {},
      "outputs": [
        {
          "name": "stdout",
          "output_type": "stream",
          "text": [
            "RunId: jolly_whistle_yvp85y38y3\n",
            "Web View: https://ml.azure.com/runs/jolly_whistle_yvp85y38y3?wsid=/subscriptions/1f51a68b-69d8-4818-bf63-7c5e10b81967/resourcegroups/luiz.victor.dev-rg/workspaces/tcc-tests\n",
            "\n",
            "Streaming logs/azureml/executionlogs.txt\n",
            "========================================\n",
            "\n",
            "[2024-06-16 19:42:50Z] Completing processing run id 729373b8-11df-44cb-82db-263aafc7d019.\n",
            "[2024-06-16 19:42:51Z] Submitting 1 runs, first five are: c1f37c15:2b2e9565-19ca-40de-941b-dade6fe74464\n",
            "[2024-06-16 19:47:20Z] Completing processing run id 2b2e9565-19ca-40de-941b-dade6fe74464.\n",
            "[2024-06-16 19:47:21Z] Submitting 1 runs, first five are: c1050188:f65fc70b-d832-43f8-a4ae-5e03cd4fa0a9\n",
            "[2024-06-16 19:48:38Z] Completing processing run id f65fc70b-d832-43f8-a4ae-5e03cd4fa0a9.\n",
            "\n",
            "Execution Summary\n",
            "=================\n",
            "RunId: jolly_whistle_yvp85y38y3\n",
            "Web View: https://ml.azure.com/runs/jolly_whistle_yvp85y38y3?wsid=/subscriptions/1f51a68b-69d8-4818-bf63-7c5e10b81967/resourcegroups/luiz.victor.dev-rg/workspaces/tcc-tests\n",
            "\n"
          ]
        }
      ],
      "source": [
        "\n",
        "\n",
        "pipeline_job = ml_client.jobs.create_or_update(\n",
        "    train_nbc_by_infogain_pipeline(\n",
        "        data_to_train=Input(type=\"uri_file\", path=data_to_train.path),\n",
        "        data_to_test=Input(type=\"uri_file\", path=data_to_test.path),\n",
        "        feature_quantity=20,\n",
        "    ),\n",
        "    experiment_name=\"train_nbc_by_infogain_pipeline\",\n",
        "    )\n",
        "\n",
        "ml_client.jobs.stream(pipeline_job.name)"
      ]
    },
    {
      "cell_type": "code",
      "execution_count": 12,
      "metadata": {},
      "outputs": [],
      "source": [
        "@dsl.pipeline(\n",
        "    name=NBC_BY_PEARSON,\n",
        "    compute=COMPUTE,\n",
        "    description=\"E2E data_perp-train pipeline\",\n",
        ")\n",
        "def train_nbc_by_pearson_pipeline(\n",
        "    data_to_train,\n",
        "    data_to_test,\n",
        "    feature_quantity,\n",
        "):\n",
        "\n",
        "    data_prep_job = data_prep_component(\n",
        "        data_to_train=data_to_train,\n",
        "        data_to_test=data_to_test,\n",
        "        flag_remove_null_values=False,\n",
        "        flag_remove_values_by_percentage=False,\n",
        "        percentage_to_remove_column=0,\n",
        "    )\n",
        "\n",
        "    feat_sel_job = pearson_feat_sel_component(\n",
        "        train_data=data_prep_job.outputs.train_data,\n",
        "        test_data=data_prep_job.outputs.test_data,\n",
        "        feature_quantity=feature_quantity,\n",
        "    )\n",
        "\n",
        "    train_nbc_job = train_nbc(\n",
        "        train_data=feat_sel_job.outputs.train_data_feat_sel,  \n",
        "        test_data=feat_sel_job.outputs.test_data_feat_sel,  \n",
        "    )"
      ]
    },
    {
      "cell_type": "code",
      "execution_count": 13,
      "metadata": {},
      "outputs": [
        {
          "name": "stdout",
          "output_type": "stream",
          "text": [
            "RunId: busy_farm_941d7ttnld\n",
            "Web View: https://ml.azure.com/runs/busy_farm_941d7ttnld?wsid=/subscriptions/1f51a68b-69d8-4818-bf63-7c5e10b81967/resourcegroups/luiz.victor.dev-rg/workspaces/tcc-tests\n",
            "\n",
            "Streaming logs/azureml/executionlogs.txt\n",
            "========================================\n",
            "\n",
            "[2024-06-16 20:04:12Z] Completing processing run id 612732f6-9fbf-499d-88d0-cdea01352d6c.\n",
            "[2024-06-16 20:04:12Z] Submitting 1 runs, first five are: 76a7cf21:3355abaf-1115-44b8-964b-6596576d0c2a\n",
            "[2024-06-16 20:08:55Z] Completing processing run id 3355abaf-1115-44b8-964b-6596576d0c2a.\n",
            "[2024-06-16 20:08:56Z] Submitting 1 runs, first five are: 48db523f:7dca697b-118c-4c7a-8e03-a4cba66b8c74\n",
            "[2024-06-16 20:13:24Z] Completing processing run id 7dca697b-118c-4c7a-8e03-a4cba66b8c74.\n",
            "\n",
            "Execution Summary\n",
            "=================\n",
            "RunId: busy_farm_941d7ttnld\n",
            "Web View: https://ml.azure.com/runs/busy_farm_941d7ttnld?wsid=/subscriptions/1f51a68b-69d8-4818-bf63-7c5e10b81967/resourcegroups/luiz.victor.dev-rg/workspaces/tcc-tests\n",
            "\n"
          ]
        }
      ],
      "source": [
        "\n",
        "\n",
        "pipeline_job = ml_client.jobs.create_or_update(\n",
        "    train_nbc_by_pearson_pipeline(\n",
        "        data_to_train=Input(type=\"uri_file\", path=data_to_train.path),\n",
        "        data_to_test=Input(type=\"uri_file\", path=data_to_test.path),\n",
        "        feature_quantity=20,\n",
        "    ),\n",
        "    experiment_name=\"train_nbc_by_pearson_pipeline\",\n",
        "    )\n",
        "\n",
        "ml_client.jobs.stream(pipeline_job.name)"
      ]
    },
    {
      "cell_type": "code",
      "execution_count": 14,
      "metadata": {},
      "outputs": [],
      "source": [
        "@dsl.pipeline(\n",
        "    name=NBC_BY_SPEARMAN,\n",
        "    compute=COMPUTE,\n",
        "    description=\"E2E data_perp-train pipeline\",\n",
        ")\n",
        "def train_nbc_by_spearman_pipeline(\n",
        "    data_to_train,\n",
        "    data_to_test,\n",
        "    feature_quantity,\n",
        "):\n",
        "\n",
        "    data_prep_job = data_prep_component(\n",
        "        data_to_train=data_to_train,\n",
        "        data_to_test=data_to_test,\n",
        "        flag_remove_null_values=False,\n",
        "        flag_remove_values_by_percentage=False,\n",
        "        percentage_to_remove_column=0,\n",
        "    )\n",
        "\n",
        "    feat_sel_job = spearman_feat_sel_component(\n",
        "        train_data=data_prep_job.outputs.train_data,\n",
        "        test_data=data_prep_job.outputs.test_data,\n",
        "        feature_quantity=feature_quantity,\n",
        "    )\n",
        "\n",
        "    train_nbc_job = train_nbc(\n",
        "        train_data=feat_sel_job.outputs.train_data_feat_sel,  \n",
        "        test_data=feat_sel_job.outputs.test_data_feat_sel,  \n",
        "    )"
      ]
    },
    {
      "cell_type": "code",
      "execution_count": 15,
      "metadata": {},
      "outputs": [
        {
          "name": "stdout",
          "output_type": "stream",
          "text": [
            "RunId: bold_hat_26xjtjltqj\n",
            "Web View: https://ml.azure.com/runs/bold_hat_26xjtjltqj?wsid=/subscriptions/1f51a68b-69d8-4818-bf63-7c5e10b81967/resourcegroups/luiz.victor.dev-rg/workspaces/tcc-tests\n",
            "\n",
            "Streaming logs/azureml/executionlogs.txt\n",
            "========================================\n",
            "\n",
            "[2024-06-16 20:13:42Z] Completing processing run id 6e6a26dc-ea62-4342-b6ab-99972646999b.\n",
            "[2024-06-16 20:13:43Z] Submitting 1 runs, first five are: eb5798b3:3b96d6b1-9a66-4048-aaa2-b9491141455f\n",
            "[2024-06-16 20:14:43Z] Completing processing run id 3b96d6b1-9a66-4048-aaa2-b9491141455f.\n",
            "[2024-06-16 20:14:43Z] Submitting 1 runs, first five are: fa37d698:262b83f8-1a7f-4310-bfc0-795f9a444255\n",
            "[2024-06-16 20:15:54Z] Completing processing run id 262b83f8-1a7f-4310-bfc0-795f9a444255.\n",
            "\n",
            "Execution Summary\n",
            "=================\n",
            "RunId: bold_hat_26xjtjltqj\n",
            "Web View: https://ml.azure.com/runs/bold_hat_26xjtjltqj?wsid=/subscriptions/1f51a68b-69d8-4818-bf63-7c5e10b81967/resourcegroups/luiz.victor.dev-rg/workspaces/tcc-tests\n",
            "\n"
          ]
        }
      ],
      "source": [
        "\n",
        "\n",
        "pipeline_job = ml_client.jobs.create_or_update(\n",
        "    train_nbc_by_spearman_pipeline(\n",
        "        data_to_train=Input(type=\"uri_file\", path=data_to_train.path),\n",
        "        data_to_test=Input(type=\"uri_file\", path=data_to_test.path),\n",
        "        feature_quantity=20,\n",
        "    ),\n",
        "    experiment_name=\"train_nbc_by_spearman_pipeline\",\n",
        "    )\n",
        "\n",
        "ml_client.jobs.stream(pipeline_job.name)"
      ]
    }
  ],
  "metadata": {
    "kernel_info": {
      "name": "python310-sdkv2"
    },
    "kernelspec": {
      "display_name": "azureml_py310_sdkv2",
      "language": "python",
      "name": "python3"
    },
    "language_info": {
      "codemirror_mode": {
        "name": "ipython",
        "version": 3
      },
      "file_extension": ".py",
      "mimetype": "text/x-python",
      "name": "python",
      "nbconvert_exporter": "python",
      "pygments_lexer": "ipython3",
      "version": "3.1.undefined"
    },
    "microsoft": {
      "host": {
        "AzureML": {
          "notebookHasBeenCompleted": true
        }
      }
    },
    "nteract": {
      "version": "nteract-front-end@1.0.0"
    }
  },
  "nbformat": 4,
  "nbformat_minor": 2
}
