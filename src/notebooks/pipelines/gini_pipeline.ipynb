{
  "cells": [
    {
      "cell_type": "code",
      "execution_count": 13,
      "metadata": {
        "gather": {
          "logged": 1716433429163
        }
      },
      "outputs": [],
      "source": [
        "from azure.ai.ml import MLClient\n",
        "from azure.identity import DefaultAzureCredential\n",
        "from pipeline_utils import (\n",
        "    COMPUTE, CONCURRENT_TRIALS, DELAY_EVALUATION, EVALUATION_INTERVAL, GOAL, METRIC, SAMPLING_ALGORITHM, TIMEOUT, TIMEOUT_PLUS, TOTAL_TRIALS, #SWEEP\n",
        "    SUBSCRIPTION, RESOURCE_GROUP, WS_NAME,  #AUTHENTICATE\n",
        "    GBC_PATH, NBC_PATH, RFC_PATH, SVC_PATH, XGB_PATH,    #COMPONENTS PATHS\n",
        "    GINI_PATH,    #FEAT SEL PATHS\n",
        "    PREP_DATA_PATH,  #PREP DATA PATH\n",
        "    GBC_BY_GINI, NBC_BY_GINI, RFC_BY_GINI, SVC_BY_GINI, XGB_BY_GINI,    #PIPELINES\n",
        "    GINI,   #FEAT SEL\n",
        "    get_experiment_names,   #FUNCTIONS\n",
        ")\n",
        "\n",
        "# authenticate\n",
        "credential = DefaultAzureCredential()\n",
        "\n",
        "# Get a handle to the workspace\n",
        "ml_client = MLClient(\n",
        "    credential=credential,\n",
        "    subscription_id=SUBSCRIPTION,\n",
        "    resource_group_name=RESOURCE_GROUP,\n",
        "    workspace_name=WS_NAME,\n",
        ")"
      ]
    },
    {
      "cell_type": "code",
      "execution_count": 14,
      "metadata": {
        "gather": {
          "logged": 1716433429673
        },
        "jupyter": {
          "outputs_hidden": false,
          "source_hidden": false
        },
        "nteract": {
          "transient": {
            "deleting": false
          }
        }
      },
      "outputs": [
        {
          "name": "stdout",
          "output_type": "stream",
          "text": [
            "Data to train asset URI: azureml://subscriptions/1f51a68b-69d8-4818-bf63-7c5e10b81967/resourcegroups/luiz.victor.dev-rg/workspaces/tcc-tests/datastores/workspaceblobstore/paths/LocalUpload/3cfdebd258ea2db7363c55bb841ca887/vrex_encoded_tf_idf_2008_2009_2010_2011_2012_2013_2014_2015_2016_2017.csv - name: vrex_encoded_tf_idf_2008_2009_2010_2011_2012_2013_2014_2015_2016_2017\n",
            "Data to test asset URI: azureml://subscriptions/1f51a68b-69d8-4818-bf63-7c5e10b81967/resourcegroups/luiz.victor.dev-rg/workspaces/tcc-tests/datastores/workspaceblobstore/paths/LocalUpload/3992df39ce41e34367e629d6656f4e9f/vrex_encoded_tf_idf_2018_2019_2020_2021.csv - name: vrex_encoded_tf_idf_2018_2019_2020_2021\n"
          ]
        }
      ],
      "source": [
        "TRAIN_DATAS = [\n",
        "    \"vrex_encoded_tf_idf_2008_2009_2010_2011_2012_2013_2014_2015_2016_2017.csv\"\n",
        "]\n",
        "\n",
        "TEST_DATAS = [\n",
        "    \"vrex_encoded_tf_idf_2018_2019_2020_2021.csv\"\n",
        "]\n",
        "\n",
        "version = \"v1\"\n",
        "\n",
        "arr_data_to_train = []\n",
        "arr_data_to_test = []\n",
        "\n",
        "for to_train, to_test in zip(TRAIN_DATAS, TEST_DATAS):\n",
        "    data_to_train = ml_client.data.get(name=to_train.split(\".\")[0], version=version)\n",
        "    arr_data_to_train.append(data_to_train)\n",
        "    print(f\"Data to train asset URI: {data_to_train.path} - name: {to_train.split('.')[0]}\")\n",
        "\n",
        "    data_to_test = ml_client.data.get(name=to_test.split('.')[0], version=version)\n",
        "    arr_data_to_test.append(data_to_test)\n",
        "    print(f\"Data to test asset URI: {data_to_test.path} - name: {to_test.split('.')[0]}\")"
      ]
    },
    {
      "cell_type": "code",
      "execution_count": 15,
      "metadata": {},
      "outputs": [],
      "source": [
        "# importing the Component Package\n",
        "from azure.ai.ml import load_component\n",
        "\n",
        "data_prep_component = load_component(source=PREP_DATA_PATH)\n",
        "data_prep_component = ml_client.create_or_update(data_prep_component)\n",
        "\n",
        "feat_sel_component = load_component(source=GINI_PATH)\n",
        "feat_sel_component = ml_client.create_or_update(feat_sel_component)\n",
        "\n",
        "train_gbc = load_component(source=GBC_PATH)\n",
        "train_gbc = ml_client.create_or_update(train_gbc)\n",
        "\n",
        "train_nbc = load_component(source=NBC_PATH)\n",
        "train_nbc = ml_client.create_or_update(train_nbc)\n",
        "\n",
        "train_rfc = load_component(source=RFC_PATH)\n",
        "train_rfc = ml_client.create_or_update(train_rfc)\n",
        "\n",
        "train_svc = load_component(source=SVC_PATH)\n",
        "train_svc = ml_client.create_or_update(train_svc)\n",
        "\n",
        "train_xgb = load_component(source=XGB_PATH)\n",
        "train_xgb = ml_client.create_or_update(train_xgb)"
      ]
    },
    {
      "cell_type": "code",
      "execution_count": 16,
      "metadata": {
        "gather": {
          "logged": 1716433440450
        },
        "jupyter": {
          "outputs_hidden": false,
          "source_hidden": false
        },
        "nteract": {
          "transient": {
            "deleting": false
          }
        }
      },
      "outputs": [],
      "source": [
        "\n",
        "# the dsl decorator tells the sdk that we are defining an Azure Machine Learning pipeline\n",
        "from azure.ai.ml import dsl, Input, Output\n",
        "from azure.ai.ml.sweep import Choice, Uniform, MedianStoppingPolicy"
      ]
    },
    {
      "cell_type": "code",
      "execution_count": 17,
      "metadata": {
        "gather": {
          "logged": 1716433440554
        },
        "jupyter": {
          "outputs_hidden": false,
          "source_hidden": false
        },
        "nteract": {
          "transient": {
            "deleting": false
          }
        }
      },
      "outputs": [],
      "source": [
        "@dsl.pipeline(\n",
        "    name=GBC_BY_GINI,\n",
        "    compute=COMPUTE,\n",
        "    description=\"E2E data_perp-train pipeline\",\n",
        ")\n",
        "def train_gbc_pipeline(\n",
        "    data_to_train,\n",
        "    data_to_test,\n",
        "    feature_quantity,\n",
        "    flag_remove_null_values,\n",
        "    flag_remove_values_by_percentage,\n",
        "    percentage_to_remove_column,\n",
        "):\n",
        "\n",
        "    data_prep_job = data_prep_component(\n",
        "        data_to_train=data_to_train,\n",
        "        data_to_test=data_to_test,\n",
        "        flag_remove_null_values=flag_remove_null_values,\n",
        "        flag_remove_values_by_percentage=flag_remove_values_by_percentage,\n",
        "        percentage_to_remove_column=percentage_to_remove_column,\n",
        "    )\n",
        "\n",
        "    feat_sel_job = feat_sel_component(\n",
        "        train_data=data_prep_job.outputs.train_data,\n",
        "        test_data=data_prep_job.outputs.test_data,\n",
        "        feature_quantity=feature_quantity,\n",
        "    )\n",
        "\n",
        "    train_gbc_job = train_gbc(\n",
        "        train_data=feat_sel_job.outputs.train_data_feat_sel,  \n",
        "        test_data=feat_sel_job.outputs.test_data_feat_sel,  \n",
        "        n_estimators_to_gbc=Choice(values=[50, 100, 200]),\n",
        "        learning_rate_to_gbc=Uniform(min_value=0.01, max_value=0.3),\n",
        "    )\n",
        "\n",
        "    sweep_step_to_gbc = train_gbc_job.sweep(\n",
        "        compute=COMPUTE,\n",
        "        sampling_algorithm=SAMPLING_ALGORITHM,\n",
        "        primary_metric=METRIC,\n",
        "        goal=GOAL,\n",
        "    )\n",
        "\n",
        "    sweep_step_to_gbc.set_limits(max_total_trials=2*TOTAL_TRIALS, max_concurrent_trials=CONCURRENT_TRIALS, timeout=TIMEOUT)\n",
        "\n",
        "    sweep_step_to_gbc.early_termination = MedianStoppingPolicy(delay_evaluation=DELAY_EVALUATION, evaluation_interval=EVALUATION_INTERVAL)\n"
      ]
    },
    {
      "cell_type": "code",
      "execution_count": 18,
      "metadata": {},
      "outputs": [],
      "source": [
        "@dsl.pipeline(\n",
        "    name=NBC_BY_GINI,\n",
        "    compute=COMPUTE,\n",
        "    description=\"E2E data_perp-train pipeline\",\n",
        ")\n",
        "def train_nbc_pipeline(\n",
        "    data_to_train,\n",
        "    data_to_test,\n",
        "    feature_quantity,\n",
        "    flag_remove_null_values,\n",
        "    flag_remove_values_by_percentage,\n",
        "    percentage_to_remove_column,\n",
        "):\n",
        "\n",
        "    data_prep_job = data_prep_component(\n",
        "        data_to_train=data_to_train,\n",
        "        data_to_test=data_to_test,\n",
        "        flag_remove_null_values=flag_remove_null_values,\n",
        "        flag_remove_values_by_percentage=flag_remove_values_by_percentage,\n",
        "        percentage_to_remove_column=percentage_to_remove_column,\n",
        "    )\n",
        "\n",
        "    feat_sel_job = feat_sel_component(\n",
        "        train_data=data_prep_job.outputs.train_data,\n",
        "        test_data=data_prep_job.outputs.test_data,\n",
        "        feature_quantity=feature_quantity,\n",
        "    )\n",
        "\n",
        "    train_nbc_job = train_nbc(\n",
        "        train_data=feat_sel_job.outputs.train_data_feat_sel,  \n",
        "        test_data=feat_sel_job.outputs.test_data_feat_sel,  \n",
        "    )"
      ]
    },
    {
      "cell_type": "code",
      "execution_count": 19,
      "metadata": {
        "gather": {
          "logged": 1716433440739
        },
        "jupyter": {
          "outputs_hidden": false,
          "source_hidden": false
        },
        "nteract": {
          "transient": {
            "deleting": false
          }
        }
      },
      "outputs": [],
      "source": [
        "@dsl.pipeline(\n",
        "    name=RFC_BY_GINI,\n",
        "    compute=COMPUTE,\n",
        "    description=\"E2E data_perp-train pipeline\",\n",
        ")\n",
        "def train_rfc_pipeline(\n",
        "    data_to_train,\n",
        "    data_to_test,\n",
        "    feature_quantity,\n",
        "    flag_remove_null_values,\n",
        "    flag_remove_values_by_percentage,\n",
        "    percentage_to_remove_column,\n",
        "):\n",
        "\n",
        "    data_prep_job = data_prep_component(\n",
        "        data_to_train=data_to_train,\n",
        "        data_to_test=data_to_test,\n",
        "        flag_remove_null_values=flag_remove_null_values,\n",
        "        flag_remove_values_by_percentage=flag_remove_values_by_percentage,\n",
        "        percentage_to_remove_column=percentage_to_remove_column,\n",
        "    )\n",
        "\n",
        "    feat_sel_job = feat_sel_component(\n",
        "        train_data=data_prep_job.outputs.train_data,\n",
        "        test_data=data_prep_job.outputs.test_data,\n",
        "        feature_quantity=feature_quantity,\n",
        "    )\n",
        "\n",
        "    train_rfc_job = train_rfc(\n",
        "        train_data=feat_sel_job.outputs.train_data_feat_sel,  \n",
        "        test_data=feat_sel_job.outputs.test_data_feat_sel, \n",
        "        n_estimators_to_rfc=Choice(values=[50, 100, 200]),\n",
        "    )\n",
        "\n",
        "    sweep_step_to_rfc = train_rfc_job.sweep(\n",
        "        compute=COMPUTE,\n",
        "        sampling_algorithm=SAMPLING_ALGORITHM,\n",
        "        primary_metric=METRIC,\n",
        "        goal=GOAL,\n",
        "    )\n",
        "\n",
        "    sweep_step_to_rfc.set_limits(max_total_trials=TOTAL_TRIALS, max_concurrent_trials=CONCURRENT_TRIALS, timeout=TIMEOUT)\n",
        "    sweep_step_to_rfc.early_termination = MedianStoppingPolicy(delay_evaluation=DELAY_EVALUATION, evaluation_interval=EVALUATION_INTERVAL)"
      ]
    },
    {
      "cell_type": "code",
      "execution_count": 20,
      "metadata": {
        "gather": {
          "logged": 1716433440831
        },
        "jupyter": {
          "outputs_hidden": false,
          "source_hidden": false
        },
        "nteract": {
          "transient": {
            "deleting": false
          }
        }
      },
      "outputs": [],
      "source": [
        "@dsl.pipeline(\n",
        "    name=SVC_BY_GINI,\n",
        "    compute=COMPUTE,\n",
        "    description=\"E2E data_perp-train pipeline\",\n",
        ")\n",
        "def train_svc_pipeline(\n",
        "    data_to_train,\n",
        "    data_to_test,\n",
        "    feature_quantity,\n",
        "    flag_remove_null_values,\n",
        "    flag_remove_values_by_percentage,\n",
        "    percentage_to_remove_column,\n",
        "):\n",
        "\n",
        "    data_prep_job = data_prep_component(\n",
        "        data_to_train=data_to_train,\n",
        "        data_to_test=data_to_test,\n",
        "        flag_remove_null_values=flag_remove_null_values,\n",
        "        flag_remove_values_by_percentage=flag_remove_values_by_percentage,\n",
        "        percentage_to_remove_column=percentage_to_remove_column,\n",
        "    )\n",
        "\n",
        "    feat_sel_job = feat_sel_component(\n",
        "        train_data=data_prep_job.outputs.train_data,\n",
        "        test_data=data_prep_job.outputs.test_data,\n",
        "        feature_quantity=feature_quantity,\n",
        "    )\n",
        "\n",
        "    train_svc_job = train_svc(\n",
        "        train_data=feat_sel_job.outputs.train_data_feat_sel,  \n",
        "        test_data=feat_sel_job.outputs.test_data_feat_sel,   \n",
        "        kernel_to_svc=Choice(values=[\"linear\", \"rbf\", \"poly\", \"sigmoid\",\"precomputed\"]),\n",
        "        gamma_to_svc=Choice(values=[\"scale\", \"auto\"]),\n",
        "    )\n",
        "\n",
        "    sweep_step_to_svc = train_svc_job.sweep(\n",
        "        compute=COMPUTE,\n",
        "        sampling_algorithm=SAMPLING_ALGORITHM,\n",
        "        primary_metric=METRIC,\n",
        "        goal=GOAL,\n",
        "    )\n",
        "\n",
        "    sweep_step_to_svc.set_limits(max_total_trials=2*TOTAL_TRIALS, max_concurrent_trials=CONCURRENT_TRIALS, timeout=TIMEOUT_PLUS)\n",
        "    sweep_step_to_svc.early_termination = MedianStoppingPolicy(delay_evaluation=DELAY_EVALUATION, evaluation_interval=EVALUATION_INTERVAL)"
      ]
    },
    {
      "cell_type": "code",
      "execution_count": 21,
      "metadata": {
        "gather": {
          "logged": 1716433440916
        },
        "jupyter": {
          "outputs_hidden": false,
          "source_hidden": false
        },
        "nteract": {
          "transient": {
            "deleting": false
          }
        }
      },
      "outputs": [],
      "source": [
        "@dsl.pipeline(\n",
        "    name=XGB_BY_GINI,\n",
        "    compute=COMPUTE,\n",
        "    description=\"E2E data_perp-train pipeline\",\n",
        ")\n",
        "def train_xgb_pipeline(\n",
        "    data_to_train,\n",
        "    data_to_test,\n",
        "    feature_quantity,\n",
        "    flag_remove_null_values,\n",
        "    flag_remove_values_by_percentage,\n",
        "    percentage_to_remove_column,\n",
        "):\n",
        "\n",
        "    data_prep_job = data_prep_component(\n",
        "        data_to_train=data_to_train,\n",
        "        data_to_test=data_to_test,\n",
        "        flag_remove_null_values=flag_remove_null_values,\n",
        "        flag_remove_values_by_percentage=flag_remove_values_by_percentage,\n",
        "        percentage_to_remove_column=percentage_to_remove_column,\n",
        "    )\n",
        "\n",
        "    feat_sel_job = feat_sel_component(\n",
        "        train_data=data_prep_job.outputs.train_data,\n",
        "        test_data=data_prep_job.outputs.test_data,\n",
        "        feature_quantity=feature_quantity,\n",
        "    )\n",
        "\n",
        "    train_xgb_job = train_xgb(\n",
        "        train_data=feat_sel_job.outputs.train_data_feat_sel,  \n",
        "        test_data=feat_sel_job.outputs.test_data_feat_sel,   \n",
        "        n_estimators_to_xgb=Choice(values=[100, 500, 1000]),\n",
        "        learning_rate_to_xgb=Uniform(min_value=0.01, max_value=0.3),\n",
        "    )\n",
        "\n",
        "    sweep_step_to_xgb = train_xgb_job.sweep(\n",
        "        compute=COMPUTE,\n",
        "        sampling_algorithm=SAMPLING_ALGORITHM,\n",
        "        primary_metric=METRIC,\n",
        "        goal=GOAL,\n",
        "    )\n",
        "\n",
        "    sweep_step_to_xgb.set_limits(max_total_trials=2*TOTAL_TRIALS, max_concurrent_trials=CONCURRENT_TRIALS, timeout=TIMEOUT_PLUS)\n",
        "    sweep_step_to_xgb.early_termination = MedianStoppingPolicy(delay_evaluation=DELAY_EVALUATION, evaluation_interval=EVALUATION_INTERVAL)"
      ]
    },
    {
      "cell_type": "code",
      "execution_count": 22,
      "metadata": {
        "gather": {
          "logged": 1716433441082
        },
        "jupyter": {
          "outputs_hidden": false,
          "source_hidden": false
        },
        "nteract": {
          "transient": {
            "deleting": false
          }
        }
      },
      "outputs": [],
      "source": [
        "pipelines = []\n",
        "n_features = [0.25, 0.10]\n",
        "\n",
        "for n_feature in n_features:\n",
        "    for data_to_train, data_to_test in zip(arr_data_to_train, arr_data_to_test):\n",
        "\n",
        "        pipelines.append(train_nbc_pipeline(\n",
        "            data_to_train=Input(type=\"uri_file\", path=data_to_train.path),\n",
        "            data_to_test=Input(type=\"uri_file\", path=data_to_test.path),\n",
        "            feature_quantity=n_feature,\n",
        "            flag_remove_null_values=False,\n",
        "            flag_remove_values_by_percentage=False,\n",
        "            percentage_to_remove_column=0,\n",
        "        ))\n",
        "\n",
        "        pipelines.append(train_gbc_pipeline(\n",
        "            data_to_train=Input(type=\"uri_file\", path=data_to_train.path),\n",
        "            data_to_test=Input(type=\"uri_file\", path=data_to_test.path),\n",
        "            feature_quantity=n_feature,\n",
        "            flag_remove_null_values=False,\n",
        "            flag_remove_values_by_percentage=False,\n",
        "            percentage_to_remove_column=0,\n",
        "        ))\n",
        "\n",
        "        pipelines.append(train_rfc_pipeline(\n",
        "            data_to_train=Input(type=\"uri_file\", path=data_to_train.path),\n",
        "            data_to_test=Input(type=\"uri_file\", path=data_to_test.path),\n",
        "            feature_quantity=n_feature,\n",
        "            flag_remove_null_values=False,\n",
        "            flag_remove_values_by_percentage=False,\n",
        "            percentage_to_remove_column=0,\n",
        "        ))\n",
        "\n",
        "        pipelines.append(train_svc_pipeline(\n",
        "            data_to_train=Input(type=\"uri_file\", path=data_to_train.path),\n",
        "            data_to_test=Input(type=\"uri_file\", path=data_to_test.path),\n",
        "            feature_quantity=n_feature,\n",
        "            flag_remove_null_values=False,\n",
        "            flag_remove_values_by_percentage=False,\n",
        "            percentage_to_remove_column=0,\n",
        "        ))\n",
        "\n",
        "        pipelines.append(train_xgb_pipeline(\n",
        "            data_to_train=Input(type=\"uri_file\", path=data_to_train.path),\n",
        "            data_to_test=Input(type=\"uri_file\", path=data_to_test.path),\n",
        "            feature_quantity=n_feature,\n",
        "            flag_remove_null_values=False,\n",
        "            flag_remove_values_by_percentage=False,\n",
        "            percentage_to_remove_column=0,\n",
        "        ))\n"
      ]
    },
    {
      "cell_type": "code",
      "execution_count": 23,
      "metadata": {
        "gather": {
          "logged": 1716471286642
        },
        "jupyter": {
          "outputs_hidden": false,
          "source_hidden": false
        },
        "nteract": {
          "transient": {
            "deleting": false
          }
        }
      },
      "outputs": [
        {
          "name": "stdout",
          "output_type": "stream",
          "text": [
            "vrex_encoded_tf_idf_2008_2009_2010_2011_2012_2013_2014_2015_2016_2017_tested_vrex_encoded_tf_idf_2018_2019_2020_2021_Gini_GaussianNB_2024_06_16_13_22_30\n",
            "vrex_encoded_tf_idf_2008_2009_2010_2011_2012_2013_2014_2015_2016_2017_tested_vrex_encoded_tf_idf_2018_2019_2020_2021_Gini_GradientBoostingClassifier_2024_06_16_13_22_30\n",
            "vrex_encoded_tf_idf_2008_2009_2010_2011_2012_2013_2014_2015_2016_2017_tested_vrex_encoded_tf_idf_2018_2019_2020_2021_Gini_RandomForestClassifier_2024_06_16_13_22_30\n",
            "vrex_encoded_tf_idf_2008_2009_2010_2011_2012_2013_2014_2015_2016_2017_tested_vrex_encoded_tf_idf_2018_2019_2020_2021_Gini_SVC_2024_06_16_13_22_30\n",
            "vrex_encoded_tf_idf_2008_2009_2010_2011_2012_2013_2014_2015_2016_2017_tested_vrex_encoded_tf_idf_2018_2019_2020_2021_Gini_XGBoost_2024_06_16_13_22_30\n",
            "vrex_encoded_tf_idf_2008_2009_2010_2011_2012_2013_2014_2015_2016_2017_tested_vrex_encoded_tf_idf_2018_2019_2020_2021_Gini_GaussianNB_2024_06_16_13_22_30\n",
            "vrex_encoded_tf_idf_2008_2009_2010_2011_2012_2013_2014_2015_2016_2017_tested_vrex_encoded_tf_idf_2018_2019_2020_2021_Gini_GradientBoostingClassifier_2024_06_16_13_22_30\n",
            "vrex_encoded_tf_idf_2008_2009_2010_2011_2012_2013_2014_2015_2016_2017_tested_vrex_encoded_tf_idf_2018_2019_2020_2021_Gini_RandomForestClassifier_2024_06_16_13_22_30\n",
            "vrex_encoded_tf_idf_2008_2009_2010_2011_2012_2013_2014_2015_2016_2017_tested_vrex_encoded_tf_idf_2018_2019_2020_2021_Gini_SVC_2024_06_16_13_22_30\n",
            "vrex_encoded_tf_idf_2008_2009_2010_2011_2012_2013_2014_2015_2016_2017_tested_vrex_encoded_tf_idf_2018_2019_2020_2021_Gini_XGBoost_2024_06_16_13_22_30\n",
            "RunId: icy_balloon_dm9j3cs3z2\n",
            "Web View: https://ml.azure.com/runs/icy_balloon_dm9j3cs3z2?wsid=/subscriptions/1f51a68b-69d8-4818-bf63-7c5e10b81967/resourcegroups/luiz.victor.dev-rg/workspaces/tcc-tests\n",
            "\n",
            "Streaming logs/azureml/executionlogs.txt\n",
            "========================================\n",
            "\n",
            "[2024-06-16 13:22:34Z] Submitting 1 runs, first five are: c4a9c8e6:7942130a-1cde-4f50-8886-c2a2d877c691\n",
            "[2024-06-16 13:22:37Z] Completing processing run id 7942130a-1cde-4f50-8886-c2a2d877c691.\n",
            "[2024-06-16 13:22:37Z] Submitting 1 runs, first five are: 0517de67:9fa004f6-93fc-463f-b30c-bdb416997e76\n",
            "[2024-06-16 13:22:39Z] Completing processing run id 9fa004f6-93fc-463f-b30c-bdb416997e76.\n",
            "[2024-06-16 13:22:40Z] Submitting 1 runs, first five are: 79490f68:e6287765-e793-40bc-9c03-a9291da4dd5e\n",
            "[2024-06-16 13:22:42Z] Completing processing run id e6287765-e793-40bc-9c03-a9291da4dd5e.\n",
            "\n",
            "Execution Summary\n",
            "=================\n",
            "RunId: icy_balloon_dm9j3cs3z2\n",
            "Web View: https://ml.azure.com/runs/icy_balloon_dm9j3cs3z2?wsid=/subscriptions/1f51a68b-69d8-4818-bf63-7c5e10b81967/resourcegroups/luiz.victor.dev-rg/workspaces/tcc-tests\n",
            "\n",
            "RunId: sleepy_owl_lvw9ss870j\n",
            "Web View: https://ml.azure.com/runs/sleepy_owl_lvw9ss870j?wsid=/subscriptions/1f51a68b-69d8-4818-bf63-7c5e10b81967/resourcegroups/luiz.victor.dev-rg/workspaces/tcc-tests\n",
            "\n",
            "Streaming logs/azureml/executionlogs.txt\n",
            "========================================\n",
            "\n",
            "[2024-06-16 13:22:49Z] Completing processing run id e03d2f59-beb3-461f-9299-6ba87f03ad14.\n",
            "[2024-06-16 13:22:49Z] Completing processing run id 8caf5596-c099-41a0-9892-da1346a96ada.\n",
            "[2024-06-16 13:22:50Z] Submitting 1 runs, first five are: 955cfe2f:ad0f640e-a8be-4826-b6af-585e78085436\n",
            "[2024-06-16 13:45:05Z] Completing processing run id ad0f640e-a8be-4826-b6af-585e78085436.\n",
            "\n",
            "Execution Summary\n",
            "=================\n",
            "RunId: sleepy_owl_lvw9ss870j\n",
            "Web View: https://ml.azure.com/runs/sleepy_owl_lvw9ss870j?wsid=/subscriptions/1f51a68b-69d8-4818-bf63-7c5e10b81967/resourcegroups/luiz.victor.dev-rg/workspaces/tcc-tests\n",
            "\n",
            "RunId: sweet_nose_nndbk8hd95\n",
            "Web View: https://ml.azure.com/runs/sweet_nose_nndbk8hd95?wsid=/subscriptions/1f51a68b-69d8-4818-bf63-7c5e10b81967/resourcegroups/luiz.victor.dev-rg/workspaces/tcc-tests\n",
            "\n",
            "Streaming logs/azureml/executionlogs.txt\n",
            "========================================\n",
            "\n",
            "[2024-06-16 13:45:12Z] Completing processing run id 801f5fd4-f753-4bf5-86fb-064de7d2eda2.\n",
            "[2024-06-16 13:45:13Z] Completing processing run id 8b7a9746-ce49-4d04-b63c-06d5394d208f.\n",
            "[2024-06-16 13:45:13Z] Submitting 1 runs, first five are: e59b6ecb:6c61ec07-1f22-49a3-b427-c18084380c9e\n",
            "[2024-06-16 13:47:47Z] Completing processing run id 6c61ec07-1f22-49a3-b427-c18084380c9e.\n",
            "\n",
            "Execution Summary\n",
            "=================\n",
            "RunId: sweet_nose_nndbk8hd95\n",
            "Web View: https://ml.azure.com/runs/sweet_nose_nndbk8hd95?wsid=/subscriptions/1f51a68b-69d8-4818-bf63-7c5e10b81967/resourcegroups/luiz.victor.dev-rg/workspaces/tcc-tests\n",
            "\n",
            "RunId: purple_truck_pzjk8g0pyl\n",
            "Web View: https://ml.azure.com/runs/purple_truck_pzjk8g0pyl?wsid=/subscriptions/1f51a68b-69d8-4818-bf63-7c5e10b81967/resourcegroups/luiz.victor.dev-rg/workspaces/tcc-tests\n",
            "\n",
            "Streaming logs/azureml/executionlogs.txt\n",
            "========================================\n",
            "\n",
            "[2024-06-16 13:48:32Z] Completing processing run id 3798851b-55fc-40ca-b2a1-1291244d3738.\n",
            "[2024-06-16 13:48:33Z] Completing processing run id 2c4e725b-8a70-434b-b0d1-9b3ea4b42d2d.\n",
            "[2024-06-16 13:48:34Z] Submitting 1 runs, first five are: 1aa2312b:5ac980cf-5bf6-4acc-b91e-d10cb9f27c87\n",
            "[2024-06-16 14:39:14Z] Completing processing run id 5ac980cf-5bf6-4acc-b91e-d10cb9f27c87.\n",
            "\n",
            "Execution Summary\n",
            "=================\n",
            "RunId: purple_truck_pzjk8g0pyl\n",
            "Web View: https://ml.azure.com/runs/purple_truck_pzjk8g0pyl?wsid=/subscriptions/1f51a68b-69d8-4818-bf63-7c5e10b81967/resourcegroups/luiz.victor.dev-rg/workspaces/tcc-tests\n",
            "\n",
            "RunId: tough_tooth_685r4k9tcm\n",
            "Web View: https://ml.azure.com/runs/tough_tooth_685r4k9tcm?wsid=/subscriptions/1f51a68b-69d8-4818-bf63-7c5e10b81967/resourcegroups/luiz.victor.dev-rg/workspaces/tcc-tests\n",
            "\n",
            "Streaming logs/azureml/executionlogs.txt\n",
            "========================================\n",
            "\n",
            "[2024-06-16 14:40:01Z] Completing processing run id aabaa36d-4581-4bfe-afff-9d075689c486.\n",
            "[2024-06-16 14:40:02Z] Completing processing run id b85f10c5-1c42-49d8-be0a-ca322a30a6fe.\n",
            "[2024-06-16 14:40:03Z] Submitting 1 runs, first five are: 50ae3868:ed1a05b2-ea69-47b1-80e7-e5c0b07480e9\n",
            "[2024-06-16 14:57:56Z] Completing processing run id ed1a05b2-ea69-47b1-80e7-e5c0b07480e9.\n",
            "\n",
            "Execution Summary\n",
            "=================\n",
            "RunId: tough_tooth_685r4k9tcm\n",
            "Web View: https://ml.azure.com/runs/tough_tooth_685r4k9tcm?wsid=/subscriptions/1f51a68b-69d8-4818-bf63-7c5e10b81967/resourcegroups/luiz.victor.dev-rg/workspaces/tcc-tests\n",
            "\n",
            "RunId: purple_battery_gs5x4dqp3b\n",
            "Web View: https://ml.azure.com/runs/purple_battery_gs5x4dqp3b?wsid=/subscriptions/1f51a68b-69d8-4818-bf63-7c5e10b81967/resourcegroups/luiz.victor.dev-rg/workspaces/tcc-tests\n",
            "\n",
            "Streaming logs/azureml/executionlogs.txt\n",
            "========================================\n",
            "\n",
            "[2024-06-16 14:58:26Z] Completing processing run id b3d7340b-f456-4e75-804f-93b51e6d64f4.\n",
            "[2024-06-16 14:58:27Z] Submitting 1 runs, first five are: 52989e6b:784382a5-8b92-4d70-92e8-243bd96d4c25\n",
            "[2024-06-16 14:58:30Z] Completing processing run id 784382a5-8b92-4d70-92e8-243bd96d4c25.\n",
            "[2024-06-16 14:58:30Z] Submitting 1 runs, first five are: 23801c30:7d584f88-3d7d-4b4a-ae47-8759f8374ef3\n",
            "\n",
            "Execution Summary\n",
            "=================\n",
            "RunId: purple_battery_gs5x4dqp3b\n",
            "Web View: https://ml.azure.com/runs/purple_battery_gs5x4dqp3b?wsid=/subscriptions/1f51a68b-69d8-4818-bf63-7c5e10b81967/resourcegroups/luiz.victor.dev-rg/workspaces/tcc-tests\n",
            "\n",
            "RunId: mango_octopus_tftqf7xjz0\n",
            "Web View: https://ml.azure.com/runs/mango_octopus_tftqf7xjz0?wsid=/subscriptions/1f51a68b-69d8-4818-bf63-7c5e10b81967/resourcegroups/luiz.victor.dev-rg/workspaces/tcc-tests\n",
            "\n",
            "Streaming logs/azureml/executionlogs.txt\n",
            "========================================\n",
            "\n",
            "[2024-06-16 14:58:37Z] Completing processing run id 740c512d-d9a0-4af9-97db-dbec420116f7.\n",
            "[2024-06-16 14:58:38Z] Completing processing run id 87b5439a-2e1d-4d8e-9d61-4b2c06bde2af.\n",
            "[2024-06-16 14:58:39Z] Submitting 1 runs, first five are: fa6edbf0:153f8810-320b-40f5-a991-b5207dc1fee5\n",
            "[2024-06-16 15:17:54Z] Completing processing run id 153f8810-320b-40f5-a991-b5207dc1fee5.\n",
            "\n",
            "Execution Summary\n",
            "=================\n",
            "RunId: mango_octopus_tftqf7xjz0\n",
            "Web View: https://ml.azure.com/runs/mango_octopus_tftqf7xjz0?wsid=/subscriptions/1f51a68b-69d8-4818-bf63-7c5e10b81967/resourcegroups/luiz.victor.dev-rg/workspaces/tcc-tests\n",
            "\n",
            "RunId: crimson_sheep_d9j26h06wr\n",
            "Web View: https://ml.azure.com/runs/crimson_sheep_d9j26h06wr?wsid=/subscriptions/1f51a68b-69d8-4818-bf63-7c5e10b81967/resourcegroups/luiz.victor.dev-rg/workspaces/tcc-tests\n",
            "\n",
            "Streaming logs/azureml/executionlogs.txt\n",
            "========================================\n",
            "\n",
            "[2024-06-16 15:18:02Z] Completing processing run id 58af92ca-6912-4324-85e6-d5f945650ecf.\n",
            "[2024-06-16 15:18:03Z] Completing processing run id bd0bf466-6277-4457-b673-21267f707fa4.\n",
            "[2024-06-16 15:18:04Z] Submitting 1 runs, first five are: 77b7a771:29e4d81b-a149-4fcf-9329-5453662c1d3c\n",
            "[2024-06-16 15:27:14Z] Completing processing run id 29e4d81b-a149-4fcf-9329-5453662c1d3c.\n",
            "\n",
            "Execution Summary\n",
            "=================\n",
            "RunId: crimson_sheep_d9j26h06wr\n",
            "Web View: https://ml.azure.com/runs/crimson_sheep_d9j26h06wr?wsid=/subscriptions/1f51a68b-69d8-4818-bf63-7c5e10b81967/resourcegroups/luiz.victor.dev-rg/workspaces/tcc-tests\n",
            "\n",
            "RunId: mango_sail_84ycldxzxn\n",
            "Web View: https://ml.azure.com/runs/mango_sail_84ycldxzxn?wsid=/subscriptions/1f51a68b-69d8-4818-bf63-7c5e10b81967/resourcegroups/luiz.victor.dev-rg/workspaces/tcc-tests\n",
            "\n",
            "Streaming logs/azureml/executionlogs.txt\n",
            "========================================\n",
            "\n",
            "[2024-06-16 15:27:25Z] Completing processing run id 4e8d4f6c-2aef-469e-b67c-2939adcb1b40.\n",
            "[2024-06-16 15:27:26Z] Completing processing run id e7826260-a7d7-400d-a5fe-9821430df9a8.\n",
            "[2024-06-16 15:27:27Z] Submitting 1 runs, first five are: 1ec39b3a:7deac7cd-983a-4915-bef5-dc97c9d51cb2\n"
          ]
        },
        {
          "name": "stderr",
          "output_type": "stream",
          "text": [
            "Bad pipe message: %s [b'\\x18\\x82\\x9dR\\x94\\x02|\\xcd)\\xce!#x_\\xd9\\x92\\xc5\\x1e (\\xdc\\xber\\xc3\\xa3<\\xf9\\xa5\\x97(\\xd7\\x8d\\x0cM jW\\xf3=\\xd4\\xba[f\\xd90']\n",
            "Bad pipe message: %s [b'\\xc1VA\\xfa\\x18\\xe8i\\xa5Y2\\xbd\\xf1\\x15\\x04\\xf9\\x1a\\xfa< \"y,\\xe4\\xbb\\xad:\\xe1\\xf7\\x10\\xbd4\\xdb\\xa0\\xa2\\xa4@\\x1di\\xacv\\xc8\\xffj\\xc8\\xe3\\'\\xd6\\xfa\\x1c\\x1e\\x92\\x00\\x08\\x13\\x02\\x13\\x03\\x13\\x01\\x00\\xff', b'']\n",
            "Bad pipe message: %s [b\"\\xc7v\\xca\\xd6\\x15FNy\\xcb\\xa6\\x91o\\xe0'\\x1cT\\x8d\\xf6\\x00\\x00|\\xc0,\\xc00\\x00\\xa3\\x00\\x9f\\xcc\\xa9\\xcc\\xa8\\xcc\\xaa\\xc0\\xaf\\xc0\\xad\\xc0\\xa3\\xc0\\x9f\\xc0]\\xc0a\\xc0W\\xc0S\\xc0+\\xc0/\\x00\\xa2\\x00\\x9e\\xc0\\xae\\xc0\\xac\\xc0\\xa2\\xc0\\x9e\\xc0\\\\\\xc0`\\xc0V\\xc0R\\xc0$\\xc0(\\x00k\\x00j\\xc0#\\xc0'\\x00g\\x00@\\xc0\", b'\\x14\\x009\\x008\\xc0\\t\\xc0\\x13']\n",
            "Bad pipe message: %s [b'4\\xbd\\x19\\xb7@\\xdd\\x86\\xa2\\\\tpfbP+k)\\x1f\\x00\\x00\\xa2\\xc0\\x14\\xc0\\n\\x009\\x008\\x007\\x006\\x00\\x88\\x00\\x87\\x00\\x86\\x00\\x85\\xc0\\x19\\x00:\\x00\\x89\\xc0', b'\\x05\\x005\\x00\\x84\\xc0\\x13\\xc0\\t\\x003\\x002\\x00']\n",
            "Bad pipe message: %s [b'0\\x00\\x9a\\x00\\x99\\x00\\x98\\x00\\x97\\x00E\\x00D\\x00C\\x00B\\xc0\\x18\\x004\\x00\\x9b\\x00F\\xc0\\x0e\\xc0\\x04\\x00/\\x00\\x96\\x00A\\x00\\x07\\xc0\\x11\\xc0\\x07\\xc0\\x16\\x00\\x18\\xc0\\x0c\\xc0']\n",
            "Bad pipe message: %s [b'\\x05']\n",
            "Bad pipe message: %s [b'\\xc5tv\\xd2\\x14\\x8a\\xcb\"\\xe67\\xf1>1\\x98\\xed\\xa8\\xf4\\xcd\\x00\\x00\\xa2\\xc0\\x14\\xc0\\n\\x009\\x008\\x007\\x006\\x00\\x88\\x00\\x87\\x00\\x86\\x00\\x85\\xc0\\x19\\x00:\\x00\\x89\\xc0\\x0f\\xc0\\x05\\x005\\x00\\x84\\xc0\\x13\\xc0\\t\\x003\\x002\\x001\\x000\\x00\\x9a\\x00\\x99\\x00\\x98\\x00\\x97\\x00E\\x00D\\x00C\\x00B\\xc0\\x18\\x004\\x00\\x9b\\x00F\\xc0\\x0e\\xc0\\x04\\x00/\\x00\\x96\\x00A\\x00\\x07\\xc0\\x11\\xc0\\x07\\xc0\\x16\\x00\\x18\\xc0\\x0c\\xc0\\x02\\x00\\x05\\x00']\n",
            "Bad pipe message: %s [b'\\x12\\xc0\\x08']\n",
            "Bad pipe message: %s [b\"\\x00\\x0f\\r\\x8eI\\xffnF\\xb0u\\xd1\\xb8'\\x17\\xca9\\xabn\\x00\\x00\\xa2\\xc0\\x14\\xc0\\n\\x009\\x008\\x007\\x006\\x00\\x88\\x00\\x87\\x00\\x86\\x00\\x85\\xc0\\x19\\x00:\\x00\\x89\\xc0\", b'\\x05\\x005\\x00\\x84\\xc0\\x13\\xc0\\t\\x003\\x002\\x00']\n",
            "Bad pipe message: %s [b'0\\x00\\x9a\\x00\\x99\\x00\\x98\\x00\\x97\\x00E\\x00D\\x00C\\x00B\\xc0\\x18\\x004\\x00\\x9b\\x00F\\xc0\\x0e\\xc0\\x04\\x00/\\x00\\x96\\x00A\\x00\\x07\\xc0\\x11\\xc0\\x07\\xc0\\x16\\x00\\x18\\xc0\\x0c\\xc0']\n",
            "Bad pipe message: %s [b'\\x05']\n",
            "Bad pipe message: %s [b'\\xb3\\tz-\\xab\\x0e/9\\x88\\x18\\xb4\\xb6\\xbe\\xa0.\\xa5)S\\x00\\x00\\x86\\xc00\\xc0,', b\"\\xc0$\\xc0\\x14\\xc0\\n\\x00\\xa5\\x00\\xa3\\x00\\xa1\\x00\\x9f\\x00k\\x00j\\x00i\\x00h\\x009\\x008\\x007\\x006\\xc02\\xc0.\\xc0*\\xc0&\\xc0\\x0f\\xc0\\x05\\x00\\x9d\\x00=\\x005\\xc0/\\xc0+\\xc0'\\xc0#\\xc0\\x13\\xc0\\t\\x00\\xa4\\x00\\xa2\\x00\\xa0\\x00\\x9e\\x00g\\x00@\\x00?\\x00>\\x003\\x002\\x001\\x000\\xc01\\xc0-\\xc0)\\xc0%\\xc0\\x0e\\xc0\\x04\\x00\\x9c\\x00<\\x00/\\x00\\x9a\\x00\\x99\\x00\\x98\\x00\\x97\\x00\\x96\\x00\\x07\\xc0\\x11\\xc0\\x07\\xc0\\x0c\\xc0\\x02\\x00\\x05\\x00\\x04\\x00\\xff\\x02\\x01\\x00\\x00g\\x00\\x00\\x00\\x0e\\x00\\x0c\\x00\\x00\\t127.0.0.1\\x00\\x0b\\x00\\x04\\x03\\x00\\x01\\x02\\x00\\n\\x00\\x1c\\x00\\x1a\\x00\\x17\\x00\\x19\\x00\\x1c\\x00\\x1b\\x00\\x18\\x00\\x1a\\x00\\x16\\x00\\x0e\\x00\\r\\x00\\x0b\\x00\\x0c\\x00\\t\\x00\\n\"]\n"
          ]
        },
        {
          "name": "stdout",
          "output_type": "stream",
          "text": [
            "[2024-06-16 16:14:07Z] Completing processing run id 7deac7cd-983a-4915-bef5-dc97c9d51cb2.\n",
            "\n",
            "Execution Summary\n",
            "=================\n",
            "RunId: mango_sail_84ycldxzxn\n",
            "Web View: https://ml.azure.com/runs/mango_sail_84ycldxzxn?wsid=/subscriptions/1f51a68b-69d8-4818-bf63-7c5e10b81967/resourcegroups/luiz.victor.dev-rg/workspaces/tcc-tests\n",
            "\n",
            "RunId: orange_queen_qznlj56chk\n",
            "Web View: https://ml.azure.com/runs/orange_queen_qznlj56chk?wsid=/subscriptions/1f51a68b-69d8-4818-bf63-7c5e10b81967/resourcegroups/luiz.victor.dev-rg/workspaces/tcc-tests\n",
            "\n",
            "Streaming logs/azureml/executionlogs.txt\n",
            "========================================\n",
            "\n",
            "[2024-06-16 16:14:56Z] Completing processing run id 185571d7-0dfa-4ef6-bab6-0d36c9d0a071.\n",
            "[2024-06-16 16:14:57Z] Completing processing run id eac1d6da-074c-4a65-80d3-235722276d8c.\n",
            "[2024-06-16 16:14:58Z] Submitting 1 runs, first five are: 59e9f731:df36c3b3-165b-4543-9bf5-7c7c5c1a9803\n",
            "[2024-06-16 16:36:55Z] Completing processing run id df36c3b3-165b-4543-9bf5-7c7c5c1a9803.\n",
            "\n",
            "Execution Summary\n",
            "=================\n",
            "RunId: orange_queen_qznlj56chk\n",
            "Web View: https://ml.azure.com/runs/orange_queen_qznlj56chk?wsid=/subscriptions/1f51a68b-69d8-4818-bf63-7c5e10b81967/resourcegroups/luiz.victor.dev-rg/workspaces/tcc-tests\n",
            "\n"
          ]
        }
      ],
      "source": [
        "experiment_names = get_experiment_names(TRAIN_DATAS, TEST_DATAS, GINI, n_features)\n",
        "for pipeline, experiment_name in zip(pipelines, experiment_names):\n",
        "    pipeline_job = ml_client.jobs.create_or_update(\n",
        "        pipeline,\n",
        "        experiment_name=experiment_name,\n",
        "    )\n",
        "    ml_client.jobs.stream(pipeline_job.name)"
      ]
    }
  ],
  "metadata": {
    "kernel_info": {
      "name": "python310-sdkv2"
    },
    "kernelspec": {
      "display_name": "azureml_py310_sdkv2",
      "language": "python",
      "name": "python3"
    },
    "language_info": {
      "codemirror_mode": {
        "name": "ipython",
        "version": 3
      },
      "file_extension": ".py",
      "mimetype": "text/x-python",
      "name": "python",
      "nbconvert_exporter": "python",
      "pygments_lexer": "ipython3",
      "version": "3.10.11"
    },
    "microsoft": {
      "host": {
        "AzureML": {
          "notebookHasBeenCompleted": true
        }
      }
    },
    "nteract": {
      "version": "nteract-front-end@1.0.0"
    }
  },
  "nbformat": 4,
  "nbformat_minor": 2
}
