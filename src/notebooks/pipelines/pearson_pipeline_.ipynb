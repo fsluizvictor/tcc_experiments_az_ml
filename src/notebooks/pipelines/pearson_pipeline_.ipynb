{
  "cells": [
    {
      "cell_type": "code",
      "execution_count": 1,
      "metadata": {
        "gather": {
          "logged": 1716433429163
        }
      },
      "outputs": [],
      "source": [
        "from azure.ai.ml import MLClient\n",
        "from azure.identity import DefaultAzureCredential\n",
        "from pipeline_utils import (\n",
        "    COMPUTE, CONCURRENT_TRIALS, DELAY_EVALUATION, EVALUATION_INTERVAL, GOAL, METRIC, SAMPLING_ALGORITHM, TIMEOUT, TIMEOUT_PLUS, TOTAL_TRIALS, #SWEEP\n",
        "    SUBSCRIPTION, RESOURCE_GROUP, WS_NAME,  #AUTHENTICATE\n",
        "    GBC_PATH, NBC_PATH, RFC_PATH, SVC_PATH, XGB_PATH, MULT_NBC_PATH,    #COMPONENTS PATHS\n",
        "    PEARSON_PATH,    #FEAT SEL PATHS\n",
        "    PREP_DATA_PATH,  #PREP DATA PATH\n",
        "    GBC_BY_PEARSON, NBC_BY_PEARSON, RFC_BY_PEARSON, SVC_BY_PEARSON, XGB_BY_PEARSON, MULT_NBC_BY_PEARSON,   #PIPELINES\n",
        "    PEARSON,   #FEAT SEL\n",
        "    N_FEATURES, TRAIN_DATA, TEST_DATA, DATA_VERSION, #PIPELINE VALUES\n",
        "    get_experiment_names,   #FUNCTIONS\n",
        ")\n",
        "\n",
        "# authenticate\n",
        "credential = DefaultAzureCredential()\n",
        "\n",
        "# Get a handle to the workspace\n",
        "ml_client = MLClient(\n",
        "    credential=credential,\n",
        "    subscription_id=SUBSCRIPTION,\n",
        "    resource_group_name=RESOURCE_GROUP,\n",
        "    workspace_name=WS_NAME,\n",
        ")"
      ]
    },
    {
      "cell_type": "code",
      "execution_count": 2,
      "metadata": {
        "gather": {
          "logged": 1716433429673
        },
        "jupyter": {
          "outputs_hidden": false,
          "source_hidden": false
        },
        "nteract": {
          "transient": {
            "deleting": false
          }
        }
      },
      "outputs": [
        {
          "name": "stdout",
          "output_type": "stream",
          "text": [
            "Data to train asset URI: azureml://subscriptions/da6ec459-95c4-4f18-8440-d275df8d38b7/resourcegroups/tcc-exp-rg/workspaces/tcc-experiments/datastores/workspaceblobstore/paths/LocalUpload/515020ed3458cc913992fac6f6db5305/vrex_encoded_tf_idf_updated_2008_2009_2010_2011_2012_2013_2014_2015_2016_2017_.csv - name: vrex_encoded_tf_idf_updated_2008_2009_2010_2011_2012_2013_2014_2015_2016_2017_\n",
            "Data to test asset URI: azureml://subscriptions/da6ec459-95c4-4f18-8440-d275df8d38b7/resourcegroups/tcc-exp-rg/workspaces/tcc-experiments/datastores/workspaceblobstore/paths/LocalUpload/12459a97b633042546916fa18a0378e1/vrex_encoded_tf_idf_updated_2018_2019_2020_2021_.csv - name: vrex_encoded_tf_idf_updated_2018_2019_2020_2021_\n"
          ]
        }
      ],
      "source": [
        "data_to_train = ml_client.data.get(name=TRAIN_DATA.split('.')[0], version=DATA_VERSION)\n",
        "print(f\"Data to train asset URI: {data_to_train.path} - name: {TRAIN_DATA.split('.')[0]}\")\n",
        "\n",
        "data_to_test = ml_client.data.get(name=TEST_DATA.split('.')[0], version=DATA_VERSION)\n",
        "print(f\"Data to test asset URI: {data_to_test.path} - name: {TEST_DATA.split('.')[0]}\")"
      ]
    },
    {
      "cell_type": "code",
      "execution_count": 3,
      "metadata": {},
      "outputs": [],
      "source": [
        "# importing the Component Package\n",
        "from azure.ai.ml import load_component\n",
        "\n",
        "data_prep_component = load_component(source=PREP_DATA_PATH)\n",
        "data_prep_component = ml_client.create_or_update(data_prep_component)\n",
        "\n",
        "feat_sel_component = load_component(source=PEARSON_PATH)\n",
        "feat_sel_component = ml_client.create_or_update(feat_sel_component)\n",
        "\n",
        "train_gbc = load_component(source=GBC_PATH)\n",
        "train_gbc = ml_client.create_or_update(train_gbc)\n",
        "\n",
        "train_nbc = load_component(source=NBC_PATH)\n",
        "train_nbc = ml_client.create_or_update(train_nbc)\n",
        "\n",
        "train_rfc = load_component(source=RFC_PATH)\n",
        "train_rfc = ml_client.create_or_update(train_rfc)\n",
        "\n",
        "train_svc = load_component(source=SVC_PATH)\n",
        "train_svc = ml_client.create_or_update(train_svc)\n",
        "\n",
        "train_xgb = load_component(source=XGB_PATH)\n",
        "train_xgb = ml_client.create_or_update(train_xgb)\n",
        "\n",
        "mult_nbc_train = load_component(source=MULT_NBC_PATH)\n",
        "mult_nbc_train = ml_client.create_or_update(mult_nbc_train)\n"
      ]
    },
    {
      "cell_type": "code",
      "execution_count": 4,
      "metadata": {
        "gather": {
          "logged": 1716433440450
        },
        "jupyter": {
          "outputs_hidden": false,
          "source_hidden": false
        },
        "nteract": {
          "transient": {
            "deleting": false
          }
        }
      },
      "outputs": [],
      "source": [
        "\n",
        "# the dsl decorator tells the sdk that we are defining an Azure Machine Learning pipeline\n",
        "from azure.ai.ml import dsl, Input, Output\n",
        "from azure.ai.ml.sweep import Choice, Uniform, MedianStoppingPolicy"
      ]
    },
    {
      "cell_type": "code",
      "execution_count": 5,
      "metadata": {
        "gather": {
          "logged": 1716433440554
        },
        "jupyter": {
          "outputs_hidden": false,
          "source_hidden": false
        },
        "nteract": {
          "transient": {
            "deleting": false
          }
        }
      },
      "outputs": [],
      "source": [
        "@dsl.pipeline(\n",
        "    name=GBC_BY_PEARSON,\n",
        "    compute=COMPUTE,\n",
        "    description=\"E2E data_perp-train pipeline\",\n",
        ")\n",
        "def train_gbc_pipeline(\n",
        "    data_to_train,\n",
        "    data_to_test,\n",
        "    feature_quantity,\n",
        "    flag_remove_null_values,\n",
        "    flag_remove_values_by_percentage,\n",
        "    percentage_to_remove_column,\n",
        "):\n",
        "\n",
        "    data_prep_job = data_prep_component(\n",
        "        data_to_train=data_to_train,\n",
        "        data_to_test=data_to_test,\n",
        "        flag_remove_null_values=flag_remove_null_values,\n",
        "        flag_remove_values_by_percentage=flag_remove_values_by_percentage,\n",
        "        percentage_to_remove_column=percentage_to_remove_column,\n",
        "    )\n",
        "\n",
        "    feat_sel_job = feat_sel_component(\n",
        "        train_data=data_prep_job.outputs.train_data,\n",
        "        test_data=data_prep_job.outputs.test_data,\n",
        "        feature_quantity=feature_quantity,\n",
        "    )\n",
        "\n",
        "    train_gbc_job = train_gbc(\n",
        "        train_data=feat_sel_job.outputs.train_data_feat_sel,  \n",
        "        test_data=feat_sel_job.outputs.test_data_feat_sel,  \n",
        "        n_estimators_to_gbc=Choice(values=[50, 100, 200]),\n",
        "        learning_rate_to_gbc=Uniform(min_value=0.01, max_value=0.3),\n",
        "    )\n",
        "\n",
        "    sweep_step_to_gbc = train_gbc_job.sweep(\n",
        "        compute=COMPUTE,\n",
        "        sampling_algorithm=SAMPLING_ALGORITHM,\n",
        "        primary_metric=METRIC,\n",
        "        goal=GOAL,\n",
        "    )\n",
        "\n",
        "    sweep_step_to_gbc.set_limits(max_total_trials=2*TOTAL_TRIALS, max_concurrent_trials=CONCURRENT_TRIALS, timeout=TIMEOUT)\n",
        "\n",
        "    sweep_step_to_gbc.early_termination = MedianStoppingPolicy(delay_evaluation=DELAY_EVALUATION, evaluation_interval=EVALUATION_INTERVAL)\n"
      ]
    },
    {
      "cell_type": "code",
      "execution_count": 6,
      "metadata": {},
      "outputs": [],
      "source": [
        "@dsl.pipeline(\n",
        "    name=NBC_BY_PEARSON,\n",
        "    compute=COMPUTE,\n",
        "    description=\"E2E data_perp-train pipeline\",\n",
        ")\n",
        "def train_nbc_pipeline(\n",
        "    data_to_train,\n",
        "    data_to_test,\n",
        "    feature_quantity,\n",
        "    flag_remove_null_values,\n",
        "    flag_remove_values_by_percentage,\n",
        "    percentage_to_remove_column,\n",
        "):\n",
        "\n",
        "    data_prep_job = data_prep_component(\n",
        "        data_to_train=data_to_train,\n",
        "        data_to_test=data_to_test,\n",
        "        flag_remove_null_values=flag_remove_null_values,\n",
        "        flag_remove_values_by_percentage=flag_remove_values_by_percentage,\n",
        "        percentage_to_remove_column=percentage_to_remove_column,\n",
        "    )\n",
        "\n",
        "    feat_sel_job = feat_sel_component(\n",
        "        train_data=data_prep_job.outputs.train_data,\n",
        "        test_data=data_prep_job.outputs.test_data,\n",
        "        feature_quantity=feature_quantity,\n",
        "    )\n",
        "\n",
        "    train_nbc_job = train_nbc(\n",
        "        train_data=feat_sel_job.outputs.train_data_feat_sel,  \n",
        "        test_data=feat_sel_job.outputs.test_data_feat_sel,  \n",
        "    )"
      ]
    },
    {
      "cell_type": "code",
      "execution_count": 7,
      "metadata": {
        "gather": {
          "logged": 1716433440739
        },
        "jupyter": {
          "outputs_hidden": false,
          "source_hidden": false
        },
        "nteract": {
          "transient": {
            "deleting": false
          }
        }
      },
      "outputs": [],
      "source": [
        "@dsl.pipeline(\n",
        "    name=RFC_BY_PEARSON,\n",
        "    compute=COMPUTE,\n",
        "    description=\"E2E data_perp-train pipeline\",\n",
        ")\n",
        "def train_rfc_pipeline(\n",
        "    data_to_train,\n",
        "    data_to_test,\n",
        "    feature_quantity,\n",
        "    flag_remove_null_values,\n",
        "    flag_remove_values_by_percentage,\n",
        "    percentage_to_remove_column,\n",
        "):\n",
        "\n",
        "    data_prep_job = data_prep_component(\n",
        "        data_to_train=data_to_train,\n",
        "        data_to_test=data_to_test,\n",
        "        flag_remove_null_values=flag_remove_null_values,\n",
        "        flag_remove_values_by_percentage=flag_remove_values_by_percentage,\n",
        "        percentage_to_remove_column=percentage_to_remove_column,\n",
        "    )\n",
        "\n",
        "    feat_sel_job = feat_sel_component(\n",
        "        train_data=data_prep_job.outputs.train_data,\n",
        "        test_data=data_prep_job.outputs.test_data,\n",
        "        feature_quantity=feature_quantity,\n",
        "    )\n",
        "\n",
        "    train_rfc_job = train_rfc(\n",
        "        train_data=feat_sel_job.outputs.train_data_feat_sel,  \n",
        "        test_data=feat_sel_job.outputs.test_data_feat_sel, \n",
        "        n_estimators_to_rfc=Choice(values=[50, 100, 200]),\n",
        "    )\n",
        "\n",
        "    sweep_step_to_rfc = train_rfc_job.sweep(\n",
        "        compute=COMPUTE,\n",
        "        sampling_algorithm=SAMPLING_ALGORITHM,\n",
        "        primary_metric=METRIC,\n",
        "        goal=GOAL,\n",
        "    )\n",
        "\n",
        "    sweep_step_to_rfc.set_limits(max_total_trials=TOTAL_TRIALS, max_concurrent_trials=CONCURRENT_TRIALS, timeout=TIMEOUT)\n",
        "    sweep_step_to_rfc.early_termination = MedianStoppingPolicy(delay_evaluation=DELAY_EVALUATION, evaluation_interval=EVALUATION_INTERVAL)"
      ]
    },
    {
      "cell_type": "code",
      "execution_count": 8,
      "metadata": {
        "gather": {
          "logged": 1716433440831
        },
        "jupyter": {
          "outputs_hidden": false,
          "source_hidden": false
        },
        "nteract": {
          "transient": {
            "deleting": false
          }
        }
      },
      "outputs": [],
      "source": [
        "@dsl.pipeline(\n",
        "    name=SVC_BY_PEARSON,\n",
        "    compute=COMPUTE,\n",
        "    description=\"E2E data_perp-train pipeline\",\n",
        ")\n",
        "def train_svc_pipeline(\n",
        "    data_to_train,\n",
        "    data_to_test,\n",
        "    feature_quantity,\n",
        "    flag_remove_null_values,\n",
        "    flag_remove_values_by_percentage,\n",
        "    percentage_to_remove_column,\n",
        "):\n",
        "\n",
        "    data_prep_job = data_prep_component(\n",
        "        data_to_train=data_to_train,\n",
        "        data_to_test=data_to_test,\n",
        "        flag_remove_null_values=flag_remove_null_values,\n",
        "        flag_remove_values_by_percentage=flag_remove_values_by_percentage,\n",
        "        percentage_to_remove_column=percentage_to_remove_column,\n",
        "    )\n",
        "\n",
        "    feat_sel_job = feat_sel_component(\n",
        "        train_data=data_prep_job.outputs.train_data,\n",
        "        test_data=data_prep_job.outputs.test_data,\n",
        "        feature_quantity=feature_quantity,\n",
        "    )\n",
        "\n",
        "    train_svc_job = train_svc(\n",
        "        train_data=feat_sel_job.outputs.train_data_feat_sel,  \n",
        "        test_data=feat_sel_job.outputs.test_data_feat_sel,   \n",
        "        kernel_to_svc=Choice(values=[\"linear\", \"rbf\", \"poly\", \"sigmoid\",\"precomputed\"]),\n",
        "        gamma_to_svc=Choice(values=[\"scale\", \"auto\"]),\n",
        "    )\n",
        "\n",
        "    sweep_step_to_svc = train_svc_job.sweep(\n",
        "        compute=COMPUTE,\n",
        "        sampling_algorithm=SAMPLING_ALGORITHM,\n",
        "        primary_metric=METRIC,\n",
        "        goal=GOAL,\n",
        "    )\n",
        "\n",
        "    sweep_step_to_svc.set_limits(max_total_trials=4*TOTAL_TRIALS, max_concurrent_trials=CONCURRENT_TRIALS, timeout=2*TIMEOUT_PLUS)\n",
        "    sweep_step_to_svc.early_termination = MedianStoppingPolicy(delay_evaluation=DELAY_EVALUATION, evaluation_interval=EVALUATION_INTERVAL)"
      ]
    },
    {
      "cell_type": "code",
      "execution_count": 9,
      "metadata": {
        "gather": {
          "logged": 1716433440916
        },
        "jupyter": {
          "outputs_hidden": false,
          "source_hidden": false
        },
        "nteract": {
          "transient": {
            "deleting": false
          }
        }
      },
      "outputs": [],
      "source": [
        "@dsl.pipeline(\n",
        "    name=XGB_BY_PEARSON,\n",
        "    compute=COMPUTE,\n",
        "    description=\"E2E data_perp-train pipeline\",\n",
        ")\n",
        "def train_xgb_pipeline(\n",
        "    data_to_train,\n",
        "    data_to_test,\n",
        "    feature_quantity,\n",
        "    flag_remove_null_values,\n",
        "    flag_remove_values_by_percentage,\n",
        "    percentage_to_remove_column,\n",
        "):\n",
        "\n",
        "    data_prep_job = data_prep_component(\n",
        "        data_to_train=data_to_train,\n",
        "        data_to_test=data_to_test,\n",
        "        flag_remove_null_values=flag_remove_null_values,\n",
        "        flag_remove_values_by_percentage=flag_remove_values_by_percentage,\n",
        "        percentage_to_remove_column=percentage_to_remove_column,\n",
        "    )\n",
        "\n",
        "    feat_sel_job = feat_sel_component(\n",
        "        train_data=data_prep_job.outputs.train_data,\n",
        "        test_data=data_prep_job.outputs.test_data,\n",
        "        feature_quantity=feature_quantity,\n",
        "    )\n",
        "\n",
        "    train_xgb_job = train_xgb(\n",
        "        train_data=feat_sel_job.outputs.train_data_feat_sel,  \n",
        "        test_data=feat_sel_job.outputs.test_data_feat_sel,   \n",
        "        n_estimators_to_xgb=Choice(values=[100, 500, 1000]),\n",
        "        learning_rate_to_xgb=Uniform(min_value=0.01, max_value=0.3),\n",
        "    )\n",
        "\n",
        "    sweep_step_to_xgb = train_xgb_job.sweep(\n",
        "        compute=COMPUTE,\n",
        "        sampling_algorithm=SAMPLING_ALGORITHM,\n",
        "        primary_metric=METRIC,\n",
        "        goal=GOAL,\n",
        "    )\n",
        "\n",
        "    sweep_step_to_xgb.set_limits(max_total_trials=2*TOTAL_TRIALS, max_concurrent_trials=CONCURRENT_TRIALS, timeout=TIMEOUT_PLUS)\n",
        "    sweep_step_to_xgb.early_termination = MedianStoppingPolicy(delay_evaluation=DELAY_EVALUATION, evaluation_interval=EVALUATION_INTERVAL)"
      ]
    },
    {
      "cell_type": "code",
      "execution_count": 10,
      "metadata": {},
      "outputs": [],
      "source": [
        "@dsl.pipeline(\n",
        "    name=MULT_NBC_BY_PEARSON,\n",
        "    compute=COMPUTE,\n",
        "    description=\"E2E data_perp-train pipeline\",\n",
        ")\n",
        "def train_mult_nbc_pipeline(\n",
        "    data_to_train,\n",
        "    data_to_test,\n",
        "    feature_quantity,\n",
        "    flag_remove_null_values,\n",
        "    flag_remove_values_by_percentage,\n",
        "    percentage_to_remove_column,\n",
        "):\n",
        "\n",
        "    data_prep_job = data_prep_component(\n",
        "        data_to_train=data_to_train,\n",
        "        data_to_test=data_to_test,\n",
        "        flag_remove_null_values=flag_remove_null_values,\n",
        "        flag_remove_values_by_percentage=flag_remove_values_by_percentage,\n",
        "        percentage_to_remove_column=percentage_to_remove_column,\n",
        "    )\n",
        "\n",
        "    feat_sel_job = feat_sel_component(\n",
        "        train_data=data_prep_job.outputs.train_data,\n",
        "        test_data=data_prep_job.outputs.test_data,\n",
        "        feature_quantity=feature_quantity,\n",
        "    )\n",
        "\n",
        "    mult_nbc_train_job = mult_nbc_train(\n",
        "        train_data=feat_sel_job.outputs.train_data_feat_sel,  \n",
        "        test_data=feat_sel_job.outputs.test_data_feat_sel,  \n",
        "        alpha=Choice(values=[0.01, 0.1, 0.5, 1.0, 2, 5]),\n",
        "        fit_prior=Choice(values=[True, False]),\n",
        "    )\n",
        "\n",
        "    sweep_step_to_mult_nbc = mult_nbc_train_job.sweep(\n",
        "        compute=COMPUTE,\n",
        "        sampling_algorithm=SAMPLING_ALGORITHM,\n",
        "        primary_metric=METRIC,\n",
        "        goal=GOAL,\n",
        "    )\n",
        "\n",
        "    sweep_step_to_mult_nbc.set_limits(max_total_trials=2*TOTAL_TRIALS, max_concurrent_trials=CONCURRENT_TRIALS, timeout=TIMEOUT_PLUS)\n",
        "\n",
        "    sweep_step_to_mult_nbc.early_termination = MedianStoppingPolicy(delay_evaluation=DELAY_EVALUATION, evaluation_interval=EVALUATION_INTERVAL)\n"
      ]
    },
    {
      "cell_type": "code",
      "execution_count": 11,
      "metadata": {
        "gather": {
          "logged": 1716433441082
        },
        "jupyter": {
          "outputs_hidden": false,
          "source_hidden": false
        },
        "nteract": {
          "transient": {
            "deleting": false
          }
        }
      },
      "outputs": [],
      "source": [
        "pipelines = []\n",
        "\n",
        "for n_feature in N_FEATURES:\n",
        "    pipelines.append(train_mult_nbc_pipeline(\n",
        "        data_to_train=Input(type=\"uri_file\", path=data_to_train.path),\n",
        "        data_to_test=Input(type=\"uri_file\", path=data_to_test.path),\n",
        "        feature_quantity=n_feature,\n",
        "        flag_remove_null_values=False,\n",
        "        flag_remove_values_by_percentage=False,\n",
        "        percentage_to_remove_column=0,\n",
        "    ))\n",
        "\n",
        "    pipelines.append(train_nbc_pipeline(\n",
        "        data_to_train=Input(type=\"uri_file\", path=data_to_train.path),\n",
        "        data_to_test=Input(type=\"uri_file\", path=data_to_test.path),\n",
        "        feature_quantity=n_feature,\n",
        "        flag_remove_null_values=False,\n",
        "        flag_remove_values_by_percentage=False,\n",
        "        percentage_to_remove_column=0,\n",
        "    ))\n",
        "\n",
        "    pipelines.append(train_gbc_pipeline(\n",
        "        data_to_train=Input(type=\"uri_file\", path=data_to_train.path),\n",
        "        data_to_test=Input(type=\"uri_file\", path=data_to_test.path),\n",
        "        feature_quantity=n_feature,\n",
        "        flag_remove_null_values=False,\n",
        "        flag_remove_values_by_percentage=False,\n",
        "        percentage_to_remove_column=0,\n",
        "    ))\n",
        "\n",
        "    pipelines.append(train_rfc_pipeline(\n",
        "        data_to_train=Input(type=\"uri_file\", path=data_to_train.path),\n",
        "        data_to_test=Input(type=\"uri_file\", path=data_to_test.path),\n",
        "        feature_quantity=n_feature,\n",
        "        flag_remove_null_values=False,\n",
        "        flag_remove_values_by_percentage=False,\n",
        "        percentage_to_remove_column=0,\n",
        "    ))\n",
        "    \n",
        "    pipelines.append(train_svc_pipeline(\n",
        "        data_to_train=Input(type=\"uri_file\", path=data_to_train.path),\n",
        "        data_to_test=Input(type=\"uri_file\", path=data_to_test.path),\n",
        "        feature_quantity=n_feature,\n",
        "        flag_remove_null_values=False,\n",
        "        flag_remove_values_by_percentage=False,\n",
        "        percentage_to_remove_column=0,\n",
        "    ))\n",
        "\n",
        "    pipelines.append(train_xgb_pipeline(\n",
        "        data_to_train=Input(type=\"uri_file\", path=data_to_train.path),\n",
        "        data_to_test=Input(type=\"uri_file\", path=data_to_test.path),\n",
        "        feature_quantity=n_feature,\n",
        "        flag_remove_null_values=False,\n",
        "        flag_remove_values_by_percentage=False,\n",
        "        percentage_to_remove_column=0,\n",
        "    ))\n"
      ]
    },
    {
      "cell_type": "code",
      "execution_count": 12,
      "metadata": {
        "gather": {
          "logged": 1716471286642
        },
        "jupyter": {
          "outputs_hidden": false,
          "source_hidden": false
        },
        "nteract": {
          "transient": {
            "deleting": false
          }
        }
      },
      "outputs": [
        {
          "name": "stderr",
          "output_type": "stream",
          "text": [
            "Class AutoDeleteSettingSchema: This is an experimental class, and may change at any time. Please see https://aka.ms/azuremlexperimental for more information.\n",
            "Class AutoDeleteConditionSchema: This is an experimental class, and may change at any time. Please see https://aka.ms/azuremlexperimental for more information.\n",
            "Class BaseAutoDeleteSettingSchema: This is an experimental class, and may change at any time. Please see https://aka.ms/azuremlexperimental for more information.\n",
            "Class IntellectualPropertySchema: This is an experimental class, and may change at any time. Please see https://aka.ms/azuremlexperimental for more information.\n",
            "Class ProtectionLevelSchema: This is an experimental class, and may change at any time. Please see https://aka.ms/azuremlexperimental for more information.\n",
            "Class BaseIntellectualPropertySchema: This is an experimental class, and may change at any time. Please see https://aka.ms/azuremlexperimental for more information.\n"
          ]
        },
        {
          "name": "stdout",
          "output_type": "stream",
          "text": [
            "Pearson_MultGaussianNB_N_FEAT_10_DATE_2024_07_19_23_16_59\n",
            "Pearson_GaussianNB_N_FEAT_10_DATE_2024_07_19_23_16_59\n",
            "Pearson_GradientBoostingClassifier_N_FEAT_10_DATE_2024_07_19_23_16_59\n",
            "Pearson_RandomForestClassifier_N_FEAT_10_DATE_2024_07_19_23_16_59\n",
            "Pearson_SVC_N_FEAT_10_DATE_2024_07_19_23_16_59\n",
            "Pearson_XGBoost_N_FEAT_10_DATE_2024_07_19_23_16_59\n",
            "Pearson_MultGaussianNB_N_FEAT_5_DATE_2024_07_19_23_16_59\n",
            "Pearson_GaussianNB_N_FEAT_5_DATE_2024_07_19_23_16_59\n",
            "Pearson_GradientBoostingClassifier_N_FEAT_5_DATE_2024_07_19_23_16_59\n",
            "Pearson_RandomForestClassifier_N_FEAT_5_DATE_2024_07_19_23_16_59\n",
            "Pearson_SVC_N_FEAT_5_DATE_2024_07_19_23_16_59\n",
            "Pearson_XGBoost_N_FEAT_5_DATE_2024_07_19_23_16_59\n",
            "RunId: bubbly_neck_0n0rgjrdc2\n",
            "Web View: https://ml.azure.com/runs/bubbly_neck_0n0rgjrdc2?wsid=/subscriptions/da6ec459-95c4-4f18-8440-d275df8d38b7/resourcegroups/tcc-exp-rg/workspaces/tcc-experiments\n",
            "\n",
            "Streaming logs/azureml/executionlogs.txt\n",
            "========================================\n",
            "\n",
            "[2024-07-19 23:17:05Z] Submitting 1 runs, first five are: c1ae9da2:9d7b9df9-ae0e-4066-abd5-49ffc1e347d8\n",
            "[2024-07-19 23:17:08Z] Completing processing run id 9d7b9df9-ae0e-4066-abd5-49ffc1e347d8.\n",
            "[2024-07-19 23:17:09Z] Submitting 1 runs, first five are: b72ded90:421e846d-1fa1-498d-888b-a2fec8ee16d2\n",
            "[2024-07-19 23:21:19Z] Completing processing run id 421e846d-1fa1-498d-888b-a2fec8ee16d2.\n",
            "[2024-07-19 23:21:20Z] Submitting 1 runs, first five are: e5c91d50:d8d633d1-1ec2-4be3-b3d5-e5571206a1b1\n",
            "[2024-07-19 23:31:38Z] Completing processing run id d8d633d1-1ec2-4be3-b3d5-e5571206a1b1.\n",
            "\n",
            "Execution Summary\n",
            "=================\n",
            "RunId: bubbly_neck_0n0rgjrdc2\n",
            "Web View: https://ml.azure.com/runs/bubbly_neck_0n0rgjrdc2?wsid=/subscriptions/da6ec459-95c4-4f18-8440-d275df8d38b7/resourcegroups/tcc-exp-rg/workspaces/tcc-experiments\n",
            "\n",
            "RunId: strong_wire_7kjpcrf956\n",
            "Web View: https://ml.azure.com/runs/strong_wire_7kjpcrf956?wsid=/subscriptions/da6ec459-95c4-4f18-8440-d275df8d38b7/resourcegroups/tcc-exp-rg/workspaces/tcc-experiments\n",
            "\n",
            "Streaming logs/azureml/executionlogs.txt\n",
            "========================================\n",
            "\n",
            "[2024-07-19 23:32:29Z] Completing processing run id fa424614-f64e-4c00-a251-25d1a5c6d05f.\n",
            "[2024-07-19 23:32:30Z] Completing processing run id dec0e42b-a1df-4c81-b48f-6ea6285d5043.\n",
            "[2024-07-19 23:32:31Z] Submitting 1 runs, first five are: 0174c646:774a082b-9997-4250-b1e8-a61ca257ed2f\n",
            "[2024-07-19 23:33:29Z] Completing processing run id 774a082b-9997-4250-b1e8-a61ca257ed2f.\n",
            "\n",
            "Execution Summary\n",
            "=================\n",
            "RunId: strong_wire_7kjpcrf956\n",
            "Web View: https://ml.azure.com/runs/strong_wire_7kjpcrf956?wsid=/subscriptions/da6ec459-95c4-4f18-8440-d275df8d38b7/resourcegroups/tcc-exp-rg/workspaces/tcc-experiments\n",
            "\n",
            "RunId: affable_calypso_1bwnydt6q1\n",
            "Web View: https://ml.azure.com/runs/affable_calypso_1bwnydt6q1?wsid=/subscriptions/da6ec459-95c4-4f18-8440-d275df8d38b7/resourcegroups/tcc-exp-rg/workspaces/tcc-experiments\n",
            "\n",
            "Streaming logs/azureml/executionlogs.txt\n",
            "========================================\n",
            "\n",
            "[2024-07-19 23:33:41Z] Completing processing run id e8f2b15b-211c-4d8f-829a-a31bd430cbca.\n",
            "[2024-07-19 23:33:42Z] Completing processing run id 17fc454c-fa07-4fd9-afe5-81d996849093.\n",
            "[2024-07-19 23:33:43Z] Submitting 1 runs, first five are: 6930de0e:f789e820-7571-442d-9ee9-e3dc46654a20\n",
            "[2024-07-19 23:44:32Z] Completing processing run id f789e820-7571-442d-9ee9-e3dc46654a20.\n",
            "\n",
            "Execution Summary\n",
            "=================\n",
            "RunId: affable_calypso_1bwnydt6q1\n",
            "Web View: https://ml.azure.com/runs/affable_calypso_1bwnydt6q1?wsid=/subscriptions/da6ec459-95c4-4f18-8440-d275df8d38b7/resourcegroups/tcc-exp-rg/workspaces/tcc-experiments\n",
            "\n",
            "RunId: salmon_feast_7pr1gt0871\n",
            "Web View: https://ml.azure.com/runs/salmon_feast_7pr1gt0871?wsid=/subscriptions/da6ec459-95c4-4f18-8440-d275df8d38b7/resourcegroups/tcc-exp-rg/workspaces/tcc-experiments\n",
            "\n",
            "Streaming logs/azureml/executionlogs.txt\n",
            "========================================\n",
            "\n",
            "[2024-07-19 23:45:24Z] Completing processing run id 31572cef-e55d-4913-b5d9-dee3615e8c9a.\n",
            "[2024-07-19 23:45:25Z] Completing processing run id d3e738a4-71fc-404f-b3db-9e157eeb173e.\n",
            "[2024-07-19 23:45:26Z] Submitting 1 runs, first five are: dbe8f74f:15a1fdb0-442a-4930-9df3-66b29c133682\n",
            "[2024-07-19 23:47:42Z] Completing processing run id 15a1fdb0-442a-4930-9df3-66b29c133682.\n",
            "\n",
            "Execution Summary\n",
            "=================\n",
            "RunId: salmon_feast_7pr1gt0871\n",
            "Web View: https://ml.azure.com/runs/salmon_feast_7pr1gt0871?wsid=/subscriptions/da6ec459-95c4-4f18-8440-d275df8d38b7/resourcegroups/tcc-exp-rg/workspaces/tcc-experiments\n",
            "\n",
            "RunId: sincere_ghost_k2qwkspxz3\n",
            "Web View: https://ml.azure.com/runs/sincere_ghost_k2qwkspxz3?wsid=/subscriptions/da6ec459-95c4-4f18-8440-d275df8d38b7/resourcegroups/tcc-exp-rg/workspaces/tcc-experiments\n",
            "\n",
            "Streaming logs/azureml/executionlogs.txt\n",
            "========================================\n",
            "\n",
            "[2024-07-19 23:47:58Z] Completing processing run id 87c4e7bd-032d-44a8-b891-9e34d2f3a235.\n",
            "[2024-07-19 23:47:59Z] Completing processing run id db932edc-1895-4680-8b18-b1a04e60a1a2.\n",
            "[2024-07-19 23:48:00Z] Submitting 1 runs, first five are: f327cd97:c6f76c9e-f4ec-40fa-bc47-6c252d3f4b6e\n",
            "[2024-07-20 01:07:57Z] Completing processing run id c6f76c9e-f4ec-40fa-bc47-6c252d3f4b6e.\n",
            "\n",
            "Execution Summary\n",
            "=================\n",
            "RunId: sincere_ghost_k2qwkspxz3\n",
            "Web View: https://ml.azure.com/runs/sincere_ghost_k2qwkspxz3?wsid=/subscriptions/da6ec459-95c4-4f18-8440-d275df8d38b7/resourcegroups/tcc-exp-rg/workspaces/tcc-experiments\n",
            "\n",
            "RunId: amusing_drawer_xcg99t8gw3\n",
            "Web View: https://ml.azure.com/runs/amusing_drawer_xcg99t8gw3?wsid=/subscriptions/da6ec459-95c4-4f18-8440-d275df8d38b7/resourcegroups/tcc-exp-rg/workspaces/tcc-experiments\n",
            "\n",
            "Streaming logs/azureml/executionlogs.txt\n",
            "========================================\n",
            "\n",
            "[2024-07-20 01:08:35Z] Completing processing run id 17d0d711-89fd-4c8a-a3cf-54bf4b345baa.\n",
            "[2024-07-20 01:08:35Z] Completing processing run id cc8dc6da-f38a-4d19-adca-12f955f231a6.\n",
            "[2024-07-20 01:08:36Z] Submitting 1 runs, first five are: b04a3d63:68097557-e59f-49fb-bc21-c4ec1ae8ed7d\n",
            "[2024-07-20 01:24:28Z] Completing processing run id 68097557-e59f-49fb-bc21-c4ec1ae8ed7d.\n",
            "\n",
            "Execution Summary\n",
            "=================\n",
            "RunId: amusing_drawer_xcg99t8gw3\n",
            "Web View: https://ml.azure.com/runs/amusing_drawer_xcg99t8gw3?wsid=/subscriptions/da6ec459-95c4-4f18-8440-d275df8d38b7/resourcegroups/tcc-exp-rg/workspaces/tcc-experiments\n",
            "\n",
            "RunId: serene_jicama_g48qj89jtg\n",
            "Web View: https://ml.azure.com/runs/serene_jicama_g48qj89jtg?wsid=/subscriptions/da6ec459-95c4-4f18-8440-d275df8d38b7/resourcegroups/tcc-exp-rg/workspaces/tcc-experiments\n",
            "\n",
            "Streaming logs/azureml/executionlogs.txt\n",
            "========================================\n",
            "\n",
            "[2024-07-20 01:24:51Z] Completing processing run id 913b5bb9-a32e-4f7a-b603-e1845ffac989.\n",
            "[2024-07-20 01:24:52Z] Submitting 1 runs, first five are: c4a602f6:217b905c-ac81-483d-8951-6963ee92c5df\n",
            "[2024-07-20 01:26:07Z] Completing processing run id 217b905c-ac81-483d-8951-6963ee92c5df.\n",
            "[2024-07-20 01:26:07Z] Submitting 1 runs, first five are: 5f0cf326:b091f5a2-d6c7-49f4-9907-fef7ca009f23\n",
            "[2024-07-20 01:39:03Z] Completing processing run id b091f5a2-d6c7-49f4-9907-fef7ca009f23.\n",
            "\n",
            "Execution Summary\n",
            "=================\n",
            "RunId: serene_jicama_g48qj89jtg\n",
            "Web View: https://ml.azure.com/runs/serene_jicama_g48qj89jtg?wsid=/subscriptions/da6ec459-95c4-4f18-8440-d275df8d38b7/resourcegroups/tcc-exp-rg/workspaces/tcc-experiments\n",
            "\n",
            "RunId: frank_fish_kv8gngqg0l\n",
            "Web View: https://ml.azure.com/runs/frank_fish_kv8gngqg0l?wsid=/subscriptions/da6ec459-95c4-4f18-8440-d275df8d38b7/resourcegroups/tcc-exp-rg/workspaces/tcc-experiments\n",
            "\n",
            "Streaming logs/azureml/executionlogs.txt\n",
            "========================================\n",
            "\n",
            "[2024-07-20 01:39:13Z] Completing processing run id 62caa91a-313c-425e-b58e-39f8bb5ffb31.\n",
            "[2024-07-20 01:39:14Z] Completing processing run id 68595636-1d50-414b-a3bd-b06bd2fb76d8.\n",
            "[2024-07-20 01:39:15Z] Submitting 1 runs, first five are: b2f7e4f1:5fe02dec-9adf-4ce0-888b-e8bcab27d516\n",
            "[2024-07-20 01:45:42Z] Completing processing run id 5fe02dec-9adf-4ce0-888b-e8bcab27d516.\n",
            "\n",
            "Execution Summary\n",
            "=================\n",
            "RunId: frank_fish_kv8gngqg0l\n",
            "Web View: https://ml.azure.com/runs/frank_fish_kv8gngqg0l?wsid=/subscriptions/da6ec459-95c4-4f18-8440-d275df8d38b7/resourcegroups/tcc-exp-rg/workspaces/tcc-experiments\n",
            "\n",
            "RunId: gentle_carnival_2wy5vz73f5\n",
            "Web View: https://ml.azure.com/runs/gentle_carnival_2wy5vz73f5?wsid=/subscriptions/da6ec459-95c4-4f18-8440-d275df8d38b7/resourcegroups/tcc-exp-rg/workspaces/tcc-experiments\n",
            "\n",
            "Streaming logs/azureml/executionlogs.txt\n",
            "========================================\n",
            "\n",
            "[2024-07-20 01:46:38Z] Completing processing run id 08a6de52-e993-4f22-8816-ea24c0619b12.\n",
            "[2024-07-20 01:46:39Z] Completing processing run id e628c84c-2779-46b2-aef7-dc72d97bdb2b.\n",
            "[2024-07-20 01:46:40Z] Submitting 1 runs, first five are: a8648681:043dd20a-33ab-4c2a-89be-6e3397be123f\n",
            "[2024-07-20 02:14:37Z] Completing processing run id 043dd20a-33ab-4c2a-89be-6e3397be123f.\n",
            "\n",
            "Execution Summary\n",
            "=================\n",
            "RunId: gentle_carnival_2wy5vz73f5\n",
            "Web View: https://ml.azure.com/runs/gentle_carnival_2wy5vz73f5?wsid=/subscriptions/da6ec459-95c4-4f18-8440-d275df8d38b7/resourcegroups/tcc-exp-rg/workspaces/tcc-experiments\n",
            "\n",
            "RunId: khaki_knot_zrx83y1962\n",
            "Web View: https://ml.azure.com/runs/khaki_knot_zrx83y1962?wsid=/subscriptions/da6ec459-95c4-4f18-8440-d275df8d38b7/resourcegroups/tcc-exp-rg/workspaces/tcc-experiments\n",
            "\n",
            "Streaming logs/azureml/executionlogs.txt\n",
            "========================================\n",
            "\n",
            "[2024-07-20 02:15:02Z] Completing processing run id a9000759-18b4-4688-a7ed-c34bfe2954b0.\n",
            "[2024-07-20 02:15:03Z] Completing processing run id 7bc8f38a-e3e3-4d08-b5bf-7ceff517cac2.\n",
            "[2024-07-20 02:15:04Z] Submitting 1 runs, first five are: f2479e9c:9893ac03-e4b3-48a0-b0f2-d7d0e8d343a5\n",
            "[2024-07-20 02:21:15Z] Completing processing run id 9893ac03-e4b3-48a0-b0f2-d7d0e8d343a5.\n",
            "\n",
            "Execution Summary\n",
            "=================\n",
            "RunId: khaki_knot_zrx83y1962\n",
            "Web View: https://ml.azure.com/runs/khaki_knot_zrx83y1962?wsid=/subscriptions/da6ec459-95c4-4f18-8440-d275df8d38b7/resourcegroups/tcc-exp-rg/workspaces/tcc-experiments\n",
            "\n",
            "RunId: gifted_zoo_prhm5mmjv8\n",
            "Web View: https://ml.azure.com/runs/gifted_zoo_prhm5mmjv8?wsid=/subscriptions/da6ec459-95c4-4f18-8440-d275df8d38b7/resourcegroups/tcc-exp-rg/workspaces/tcc-experiments\n",
            "\n",
            "Streaming logs/azureml/executionlogs.txt\n",
            "========================================\n",
            "\n",
            "[2024-07-20 02:21:31Z] Completing processing run id 33a6757f-ea02-40f8-b22c-5e50654d61d0.\n",
            "[2024-07-20 02:21:32Z] Completing processing run id 99ef7dd3-2b9a-4e84-a867-1c3c19077c09.\n",
            "[2024-07-20 02:21:32Z] Submitting 1 runs, first five are: 36f32623:3cae9629-59c0-47c9-b023-c68dad06bcf8\n",
            "[2024-07-20 03:20:48Z] Completing processing run id 3cae9629-59c0-47c9-b023-c68dad06bcf8.\n",
            "\n",
            "Execution Summary\n",
            "=================\n",
            "RunId: gifted_zoo_prhm5mmjv8\n",
            "Web View: https://ml.azure.com/runs/gifted_zoo_prhm5mmjv8?wsid=/subscriptions/da6ec459-95c4-4f18-8440-d275df8d38b7/resourcegroups/tcc-exp-rg/workspaces/tcc-experiments\n",
            "\n",
            "RunId: sleepy_lock_8f6zkfmbjl\n",
            "Web View: https://ml.azure.com/runs/sleepy_lock_8f6zkfmbjl?wsid=/subscriptions/da6ec459-95c4-4f18-8440-d275df8d38b7/resourcegroups/tcc-exp-rg/workspaces/tcc-experiments\n",
            "\n",
            "Streaming logs/azureml/executionlogs.txt\n",
            "========================================\n",
            "\n",
            "[2024-07-20 03:21:04Z] Completing processing run id 2562de53-f4a3-4c2f-9409-370463a0626c.\n",
            "[2024-07-20 03:21:06Z] Completing processing run id fb876905-8aab-42cc-80d4-3289385f3d4b.\n",
            "[2024-07-20 03:21:06Z] Submitting 1 runs, first five are: ca9f0dc1:0b21d4d5-6b55-48a7-a2b0-b8a09c654c77\n",
            "[2024-07-20 03:44:09Z] Completing processing run id 0b21d4d5-6b55-48a7-a2b0-b8a09c654c77.\n",
            "\n",
            "Execution Summary\n",
            "=================\n",
            "RunId: sleepy_lock_8f6zkfmbjl\n",
            "Web View: https://ml.azure.com/runs/sleepy_lock_8f6zkfmbjl?wsid=/subscriptions/da6ec459-95c4-4f18-8440-d275df8d38b7/resourcegroups/tcc-exp-rg/workspaces/tcc-experiments\n",
            "\n"
          ]
        }
      ],
      "source": [
        "experiment_names = get_experiment_names(PEARSON)\n",
        "for pipeline, experiment_name in zip(pipelines, experiment_names):\n",
        "    pipeline_job = ml_client.jobs.create_or_update(\n",
        "        pipeline,\n",
        "        experiment_name=experiment_name,\n",
        "    )\n",
        "    ml_client.jobs.stream(pipeline_job.name)"
      ]
    }
  ],
  "metadata": {
    "kernel_info": {
      "name": "python310-sdkv2"
    },
    "kernelspec": {
      "display_name": "azureml_py310_sdkv2",
      "language": "python",
      "name": "python3"
    },
    "language_info": {
      "codemirror_mode": {
        "name": "ipython",
        "version": 3
      },
      "file_extension": ".py",
      "mimetype": "text/x-python",
      "name": "python",
      "nbconvert_exporter": "python",
      "pygments_lexer": "ipython3",
      "version": "3.10.14"
    },
    "microsoft": {
      "host": {
        "AzureML": {
          "notebookHasBeenCompleted": true
        }
      }
    },
    "nteract": {
      "version": "nteract-front-end@1.0.0"
    }
  },
  "nbformat": 4,
  "nbformat_minor": 2
}
