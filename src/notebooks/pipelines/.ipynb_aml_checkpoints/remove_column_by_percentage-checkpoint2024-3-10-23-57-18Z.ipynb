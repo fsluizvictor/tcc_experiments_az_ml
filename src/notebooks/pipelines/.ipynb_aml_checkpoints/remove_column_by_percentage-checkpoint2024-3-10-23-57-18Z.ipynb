{
  "cells": [
    {
      "cell_type": "code",
      "source": [
        "from azure.ai.ml import MLClient\n",
        "from azure.identity import DefaultAzureCredential\n",
        "from azure.ai.ml.entities import Data\n",
        "from azure.ai.ml.constants import AssetTypes\n",
        "\n",
        "# authenticate\n",
        "credential = DefaultAzureCredential()\n",
        "\n",
        "SUBSCRIPTION=\"2944a580-6c5f-4258-8c86-b9c5de957998\"\n",
        "RESOURCE_GROUP=\"calebebraga08-rg\"\n",
        "WS_NAME=\"tcc-experiments\"\n",
        "\n",
        "# Get a handle to the workspace\n",
        "ml_client = MLClient(\n",
        "    credential=credential,\n",
        "    subscription_id=SUBSCRIPTION,\n",
        "    resource_group_name=RESOURCE_GROUP,\n",
        "    workspace_name=WS_NAME,\n",
        ")"
      ],
      "outputs": [],
      "execution_count": 1,
      "metadata": {
        "gather": {
          "logged": 1712771945175
        }
      }
    },
    {
      "cell_type": "code",
      "source": [
        "# Verify that the handle works correctly.  \n",
        "# If you ge an error here, modify your SUBSCRIPTION, RESOURCE_GROUP, and WS_NAME in the previous cell.\n",
        "ws = ml_client.workspaces.get(WS_NAME)\n",
        "print(ws.location,\":\", ws.resource_group)"
      ],
      "outputs": [
        {
          "output_type": "stream",
          "name": "stdout",
          "text": "eastus2 : calebebraga08-rg\n"
        }
      ],
      "execution_count": 2,
      "metadata": {
        "jupyter": {
          "source_hidden": false,
          "outputs_hidden": false
        },
        "nteract": {
          "transient": {
            "deleting": false
          }
        },
        "gather": {
          "logged": 1712771945461
        }
      }
    },
    {
      "cell_type": "code",
      "source": [
        "TRAIN_DATAS = [\n",
        "    \"vrex_2014_2015_2016_2017_2018_.csv\",\n",
        "]\n",
        "\n",
        "TEST_DATAS = [\n",
        "    \"vrex_2019.csv\"\n",
        "]\n",
        "\n",
        "version = \"original\"\n",
        "\n",
        "arr_data_to_train = []\n",
        "arr_data_to_test = []\n",
        "\n",
        "for to_train, to_test in zip(TRAIN_DATAS, TEST_DATAS):\n",
        "    data_to_train = ml_client.data.get(name=to_train.split(\".\")[0], version=version)\n",
        "    arr_data_to_train.append(data_to_train)\n",
        "    print(f\"Data to train asset URI: {data_to_train.path} - name: {to_train.split('.')[0]}\")\n",
        "\n",
        "    data_to_test = ml_client.data.get(name=to_test.split('.')[0], version=version)\n",
        "    arr_data_to_test.append(data_to_test)\n",
        "    print(f\"Data to test asset URI: {data_to_test.path} - name: {to_test.split('.')[0]}\")"
      ],
      "outputs": [
        {
          "output_type": "stream",
          "name": "stdout",
          "text": "Data to train asset URI: azureml://subscriptions/2944a580-6c5f-4258-8c86-b9c5de957998/resourcegroups/calebebraga08-rg/workspaces/tcc-experiments/datastores/workspaceblobstore/paths/LocalUpload/38bbb10032af817b2a7427008e191128/vrex_2014_2015_2016_2017_2018_.csv - name: vrex_2014_2015_2016_2017_2018_\nData to test asset URI: azureml://subscriptions/2944a580-6c5f-4258-8c86-b9c5de957998/resourcegroups/calebebraga08-rg/workspaces/tcc-experiments/datastores/workspaceblobstore/paths/LocalUpload/51c997e091d027cb70ab7be8e4015a5f/vrex_2019.csv - name: vrex_2019\n"
        }
      ],
      "execution_count": 3,
      "metadata": {
        "jupyter": {
          "source_hidden": false,
          "outputs_hidden": false
        },
        "nteract": {
          "transient": {
            "deleting": false
          }
        },
        "gather": {
          "logged": 1712771945761
        }
      }
    },
    {
      "cell_type": "markdown",
      "source": [
        "# Load Components"
      ],
      "metadata": {
        "nteract": {
          "transient": {
            "deleting": false
          }
        }
      }
    },
    {
      "cell_type": "code",
      "source": [
        "# importing the Component Package\n",
        "from azure.ai.ml import load_component\n",
        "\n",
        "# Loading the component from the yml file\n",
        "data_prep_component = load_component(source=\"/home/azureuser/cloudfiles/code/Users/calebebraga08/tcc_experiments_az_ml/src/components/data_prep.yaml\")\n",
        "\n",
        "# Now we register the component to the workspace\n",
        "data_prep_component = ml_client.create_or_update(data_prep_component)\n",
        "\n",
        "# Create (register) the component in your workspace\n",
        "print(\n",
        "    f\"Component {data_prep_component.name} with Version {data_prep_component.version} is registered\"\n",
        ")"
      ],
      "outputs": [
        {
          "output_type": "stream",
          "name": "stdout",
          "text": "Component data_prep_vrex_defaults_model with Version 2024-04-10-17-59-06-6780277 is registered\n"
        }
      ],
      "execution_count": 4,
      "metadata": {
        "jupyter": {
          "source_hidden": false,
          "outputs_hidden": false
        },
        "nteract": {
          "transient": {
            "deleting": false
          }
        },
        "gather": {
          "logged": 1712771948136
        }
      }
    },
    {
      "cell_type": "code",
      "source": [
        "# importing the Component Package\n",
        "from azure.ai.ml import load_component\n",
        "\n",
        "# Loading the component from the yml file\n",
        "train_component = load_component(source=\"/home/azureuser/cloudfiles/code/Users/calebebraga08/tcc_experiments_az_ml/src/components/train_hyperparameters.yaml\")\n",
        "\n",
        "# Now we register the component to the workspace\n",
        "train_component = ml_client.create_or_update(train_component)\n",
        "\n",
        "# Create (register) the component in your workspace\n",
        "print(\n",
        "    f\"Component {train_component.name} with Version {train_component.version} is registered\"\n",
        ")"
      ],
      "outputs": [
        {
          "output_type": "stream",
          "name": "stdout",
          "text": "Component train_vrex_defaults_model with Version 2024-04-10-17-59-08-6193297 is registered\n"
        }
      ],
      "execution_count": 5,
      "metadata": {
        "jupyter": {
          "source_hidden": false,
          "outputs_hidden": false
        },
        "nteract": {
          "transient": {
            "deleting": false
          }
        },
        "gather": {
          "logged": 1712771949723
        }
      }
    },
    {
      "cell_type": "code",
      "source": [
        "# the dsl decorator tells the sdk that we are defining an Azure Machine Learning pipeline\n",
        "from azure.ai.ml import dsl, Input, Output\n",
        "from azure.ai.ml.sweep import Choice, Uniform\n",
        "\n",
        "@dsl.pipeline(\n",
        "    compute=\"serverless\",\n",
        "    description=\"E2E data_perp-train pipeline\",\n",
        ")\n",
        "def prep_data_and_train_defaults_pipeline_with_hyperparameter_sweep(\n",
        "    data_to_train,\n",
        "    data_to_test,\n",
        "    flag_remove_null_values,\n",
        "    learning_rate_to_train,\n",
        "    flag_remove_values_by_percentage,\n",
        "    percentage_to_remove_column,\n",
        "):\n",
        "\n",
        "    data_prep_job = data_prep_component(\n",
        "        data_to_train=data_to_train,\n",
        "        data_to_test=data_to_test,\n",
        "        flag_remove_null_values=flag_remove_null_values,\n",
        "        flag_remove_values_by_percentage=flag_remove_values_by_percentage,\n",
        "        percentage_to_remove_column=percentage_to_remove_column,\n",
        "    )\n",
        "\n",
        "    train_job = train_component(\n",
        "        train_data=data_prep_job.outputs.train_data,  # note: using outputs from previous step\n",
        "        test_data=data_prep_job.outputs.test_data,  # note: using outputs from previous step\n",
        "        n_estimators_to_gbc=Choice(values=[50, 100, 200]),\n",
        "        learning_rate_to_gbc=Uniform(min_value=0.01, max_value=0.3),\n",
        "        n_estimators_to_rfc=Choice(values=[50, 100, 200]),\n",
        "        n_estimators_to_xgb=Choice(values=[100, 500, 1000]),\n",
        "        learning_rate_to_xgb=Uniform(min_value=0.0001, max_value=0.3),\n",
        "        kernel_to_svc=Choice(values=[\"linear\", \"rbf\", \"poly\", \"sigmoid\",\"precomputed\"]),\n",
        "        gamma_to_svc=Choice(values=[\"scale\", \"auto\"]),\n",
        "    )\n",
        "\n",
        "    sweep_step = train_job.sweep(\n",
        "        compute=\"serverless\",\n",
        "        sampling_algorithm=\"random\",\n",
        "        primary_metric=\"Accuracy\",\n",
        "        goal=\"Maximize\",\n",
        "    )\n",
        "\n",
        "    sweep_step.set_limits(max_total_trials=5, max_concurrent_trials=5, timeout=3600)\n"
      ],
      "outputs": [],
      "execution_count": 6,
      "metadata": {
        "jupyter": {
          "source_hidden": false,
          "outputs_hidden": false
        },
        "nteract": {
          "transient": {
            "deleting": false
          }
        },
        "gather": {
          "logged": 1712771949898
        }
      }
    },
    {
      "cell_type": "code",
      "source": [
        "pipelines = []\n",
        "percentages = [0.90, 0.95, 0.96, 0.97, 0.98]\n",
        "\n",
        "for percentage in percentages:\n",
        "    for data_to_train, data_to_test in zip(arr_data_to_train, arr_data_to_test):\n",
        "        pipeline = prep_data_and_train_defaults_pipeline_with_hyperparameter_sweep(\n",
        "            data_to_train=Input(type=\"uri_file\", path=data_to_train.path),\n",
        "            data_to_test=Input(type=\"uri_file\", path=data_to_test.path),\n",
        "            flag_remove_null_values=True,\n",
        "            flag_remove_values_by_percentage=True,\n",
        "            percentage_to_remove_column=percentage,\n",
        "        )\n",
        "        \n",
        "        pipelines.append(pipeline)\n",
        "\n",
        "print(\"Quantidade de pipelines: \", len(pipelines))"
      ],
      "outputs": [
        {
          "output_type": "stream",
          "name": "stdout",
          "text": "Quantidade de pipelines:  5\n"
        }
      ],
      "execution_count": 7,
      "metadata": {
        "jupyter": {
          "source_hidden": false,
          "outputs_hidden": false
        },
        "nteract": {
          "transient": {
            "deleting": false
          }
        },
        "gather": {
          "logged": 1712771950168
        }
      }
    },
    {
      "cell_type": "code",
      "source": [
        "import datetime as dt\n",
        "\n",
        "def _get_experiment_names() -> [str]:\n",
        "    experiment_names = []\n",
        "    for percentage in percentages:\n",
        "        for train_name, test_name in zip(TRAIN_DATAS, TEST_DATAS):\n",
        "            current_time = dt.datetime.now()\n",
        "            formatted_time = current_time.strftime(\"%Y_%m_%d_%H_%M_%S\")  # Formata a data e hora atual\n",
        "            train_name_base = train_name.split('.')[0]\n",
        "            test_name_base = test_name.split('.')[0]\n",
        "            name = f\"{train_name_base}tested_{test_name_base}_executed_in_{formatted_time}_removed_null_values_by_percentage_up_{str(percentage).replace('.', '_')}_with_hyperparameter\"\n",
        "            experiment_names.append(name)\n",
        "            print(name)\n",
        "    return experiment_names\n"
      ],
      "outputs": [],
      "execution_count": 8,
      "metadata": {
        "jupyter": {
          "source_hidden": false,
          "outputs_hidden": false
        },
        "nteract": {
          "transient": {
            "deleting": false
          }
        },
        "gather": {
          "logged": 1712771950278
        }
      }
    },
    {
      "cell_type": "code",
      "source": [
        "_get_experiment_names()"
      ],
      "outputs": [
        {
          "output_type": "stream",
          "name": "stdout",
          "text": "vrex_2014_2015_2016_2017_2018_tested_vrex_2019_executed_in_2024_04_10_17_59_09_removed_null_values_by_percentage_up_0_9_with_hyperparameter\nvrex_2014_2015_2016_2017_2018_tested_vrex_2019_executed_in_2024_04_10_17_59_09_removed_null_values_by_percentage_up_0_95_with_hyperparameter\nvrex_2014_2015_2016_2017_2018_tested_vrex_2019_executed_in_2024_04_10_17_59_09_removed_null_values_by_percentage_up_0_96_with_hyperparameter\nvrex_2014_2015_2016_2017_2018_tested_vrex_2019_executed_in_2024_04_10_17_59_09_removed_null_values_by_percentage_up_0_97_with_hyperparameter\nvrex_2014_2015_2016_2017_2018_tested_vrex_2019_executed_in_2024_04_10_17_59_09_removed_null_values_by_percentage_up_0_98_with_hyperparameter\n"
        },
        {
          "output_type": "execute_result",
          "execution_count": 9,
          "data": {
            "text/plain": "['vrex_2014_2015_2016_2017_2018_tested_vrex_2019_executed_in_2024_04_10_17_59_09_removed_null_values_by_percentage_up_0_9_with_hyperparameter',\n 'vrex_2014_2015_2016_2017_2018_tested_vrex_2019_executed_in_2024_04_10_17_59_09_removed_null_values_by_percentage_up_0_95_with_hyperparameter',\n 'vrex_2014_2015_2016_2017_2018_tested_vrex_2019_executed_in_2024_04_10_17_59_09_removed_null_values_by_percentage_up_0_96_with_hyperparameter',\n 'vrex_2014_2015_2016_2017_2018_tested_vrex_2019_executed_in_2024_04_10_17_59_09_removed_null_values_by_percentage_up_0_97_with_hyperparameter',\n 'vrex_2014_2015_2016_2017_2018_tested_vrex_2019_executed_in_2024_04_10_17_59_09_removed_null_values_by_percentage_up_0_98_with_hyperparameter']"
          },
          "metadata": {}
        }
      ],
      "execution_count": 9,
      "metadata": {
        "jupyter": {
          "source_hidden": false,
          "outputs_hidden": false
        },
        "nteract": {
          "transient": {
            "deleting": false
          }
        },
        "gather": {
          "logged": 1712771950487
        }
      }
    },
    {
      "cell_type": "code",
      "source": [
        "experiment_names = _get_experiment_names()\n",
        "\n",
        "for pipeline, experiment_name in zip(pipelines, experiment_names):\n",
        "    pipeline_job = ml_client.jobs.create_or_update(\n",
        "        pipeline,\n",
        "        experiment_name=experiment_name,\n",
        "    )\n",
        "\n",
        "    ml_client.jobs.stream(pipeline_job.name)"
      ],
      "outputs": [
        {
          "output_type": "stream",
          "name": "stderr",
          "text": "Class AutoDeleteSettingSchema: This is an experimental class, and may change at any time. Please see https://aka.ms/azuremlexperimental for more information.\nClass AutoDeleteConditionSchema: This is an experimental class, and may change at any time. Please see https://aka.ms/azuremlexperimental for more information.\nClass BaseAutoDeleteSettingSchema: This is an experimental class, and may change at any time. Please see https://aka.ms/azuremlexperimental for more information.\nClass IntellectualPropertySchema: This is an experimental class, and may change at any time. Please see https://aka.ms/azuremlexperimental for more information.\nClass ProtectionLevelSchema: This is an experimental class, and may change at any time. Please see https://aka.ms/azuremlexperimental for more information.\nClass BaseIntellectualPropertySchema: This is an experimental class, and may change at any time. Please see https://aka.ms/azuremlexperimental for more information.\n"
        },
        {
          "output_type": "stream",
          "name": "stdout",
          "text": "vrex_2014_2015_2016_2017_2018_tested_vrex_2019_executed_in_2024_04_10_17_59_09_removed_null_values_by_percentage_up_0_9_with_hyperparameter\nvrex_2014_2015_2016_2017_2018_tested_vrex_2019_executed_in_2024_04_10_17_59_09_removed_null_values_by_percentage_up_0_95_with_hyperparameter\nvrex_2014_2015_2016_2017_2018_tested_vrex_2019_executed_in_2024_04_10_17_59_09_removed_null_values_by_percentage_up_0_96_with_hyperparameter\nvrex_2014_2015_2016_2017_2018_tested_vrex_2019_executed_in_2024_04_10_17_59_09_removed_null_values_by_percentage_up_0_97_with_hyperparameter\nvrex_2014_2015_2016_2017_2018_tested_vrex_2019_executed_in_2024_04_10_17_59_09_removed_null_values_by_percentage_up_0_98_with_hyperparameter\nRunId: serene_brake_n9fr8rsb3z\nWeb View: https://ml.azure.com/runs/serene_brake_n9fr8rsb3z?wsid=/subscriptions/2944a580-6c5f-4258-8c86-b9c5de957998/resourcegroups/calebebraga08-rg/workspaces/tcc-experiments\n\nStreaming logs/azureml/executionlogs.txt\n========================================\n\n[2024-04-10 17:59:14Z] Submitting 1 runs, first five are: b345055a:d33d6042-fa9d-48ad-a84e-3d3f5c6b1736\n[2024-04-10 17:59:17Z] Completing processing run id d33d6042-fa9d-48ad-a84e-3d3f5c6b1736.\n[2024-04-10 17:59:18Z] Submitting 1 runs, first five are: 8d6478a9:090114c6-813f-43f0-be30-564b36b15a9c\n[2024-04-10 18:10:30Z] Completing processing run id 090114c6-813f-43f0-be30-564b36b15a9c.\n\nExecution Summary\n=================\nRunId: serene_brake_n9fr8rsb3z\nWeb View: https://ml.azure.com/runs/serene_brake_n9fr8rsb3z?wsid=/subscriptions/2944a580-6c5f-4258-8c86-b9c5de957998/resourcegroups/calebebraga08-rg/workspaces/tcc-experiments\n\nRunId: quiet_dolphin_2kfjhf7ngt\nWeb View: https://ml.azure.com/runs/quiet_dolphin_2kfjhf7ngt?wsid=/subscriptions/2944a580-6c5f-4258-8c86-b9c5de957998/resourcegroups/calebebraga08-rg/workspaces/tcc-experiments\n\nStreaming logs/azureml/executionlogs.txt\n========================================\n\n[2024-04-10 18:10:39Z] Submitting 1 runs, first five are: d38cdb94:686303f9-2aca-4552-a09a-35c3c4ca0fc8\n[2024-04-10 18:10:41Z] Completing processing run id 686303f9-2aca-4552-a09a-35c3c4ca0fc8.\n[2024-04-10 18:10:42Z] Submitting 1 runs, first five are: cfc5ed6d:1f207250-9d10-4b6f-a8b2-f87ddc3f59c3\n[2024-04-10 18:21:21Z] Completing processing run id 1f207250-9d10-4b6f-a8b2-f87ddc3f59c3.\n\nExecution Summary\n=================\nRunId: quiet_dolphin_2kfjhf7ngt\nWeb View: https://ml.azure.com/runs/quiet_dolphin_2kfjhf7ngt?wsid=/subscriptions/2944a580-6c5f-4258-8c86-b9c5de957998/resourcegroups/calebebraga08-rg/workspaces/tcc-experiments\n\nRunId: cyan_band_5hwgzjx8td\nWeb View: https://ml.azure.com/runs/cyan_band_5hwgzjx8td?wsid=/subscriptions/2944a580-6c5f-4258-8c86-b9c5de957998/resourcegroups/calebebraga08-rg/workspaces/tcc-experiments\n\nStreaming logs/azureml/executionlogs.txt\n========================================\n\n[2024-04-10 18:22:01Z] Submitting 1 runs, first five are: 6c7da6c6:2ec4ce8f-a6e1-4fb6-a684-79af7f67b7e2\n[2024-04-10 18:23:13Z] Completing processing run id 2ec4ce8f-a6e1-4fb6-a684-79af7f67b7e2.\n[2024-04-10 18:23:14Z] Submitting 1 runs, first five are: 100abb13:4dc1c621-b7cc-4549-92ef-0d20508bd92d\n[2024-04-10 18:33:23Z] Completing processing run id 4dc1c621-b7cc-4549-92ef-0d20508bd92d.\n\nExecution Summary\n=================\nRunId: cyan_band_5hwgzjx8td\nWeb View: https://ml.azure.com/runs/cyan_band_5hwgzjx8td?wsid=/subscriptions/2944a580-6c5f-4258-8c86-b9c5de957998/resourcegroups/calebebraga08-rg/workspaces/tcc-experiments\n\nRunId: upbeat_pea_98s5t8v0f5\nWeb View: https://ml.azure.com/runs/upbeat_pea_98s5t8v0f5?wsid=/subscriptions/2944a580-6c5f-4258-8c86-b9c5de957998/resourcegroups/calebebraga08-rg/workspaces/tcc-experiments\n\nStreaming logs/azureml/executionlogs.txt\n========================================\n\n[2024-04-10 18:33:30Z] Submitting 1 runs, first five are: 5c71d3d1:84945a1f-98d3-444a-9682-a4d3151a23ba\n[2024-04-10 18:34:39Z] Completing processing run id 84945a1f-98d3-444a-9682-a4d3151a23ba.\n[2024-04-10 18:34:40Z] Submitting 1 runs, first five are: c6a8ecfa:b0cd6b27-191b-4e3f-9e77-811804413af4\n[2024-04-10 18:48:56Z] Completing processing run id b0cd6b27-191b-4e3f-9e77-811804413af4.\n\nExecution Summary\n=================\nRunId: upbeat_pea_98s5t8v0f5\nWeb View: https://ml.azure.com/runs/upbeat_pea_98s5t8v0f5?wsid=/subscriptions/2944a580-6c5f-4258-8c86-b9c5de957998/resourcegroups/calebebraga08-rg/workspaces/tcc-experiments\n\nRunId: goofy_window_99ffbjshcp\nWeb View: https://ml.azure.com/runs/goofy_window_99ffbjshcp?wsid=/subscriptions/2944a580-6c5f-4258-8c86-b9c5de957998/resourcegroups/calebebraga08-rg/workspaces/tcc-experiments\n\nStreaming logs/azureml/executionlogs.txt\n========================================\n\n[2024-04-10 18:49:56Z] Submitting 1 runs, first five are: 6a04c834:8a0c1b81-2b5c-4ad2-9374-e8b10d871a99\n[2024-04-10 18:51:09Z] Completing processing run id 8a0c1b81-2b5c-4ad2-9374-e8b10d871a99.\n[2024-04-10 18:51:10Z] Submitting 1 runs, first five are: 4ff6fabf:1fc9ea1b-418d-4fe3-afec-18d132322a11\n[2024-04-10 19:07:34Z] Completing processing run id 1fc9ea1b-418d-4fe3-afec-18d132322a11.\n\nExecution Summary\n=================\nRunId: goofy_window_99ffbjshcp\nWeb View: https://ml.azure.com/runs/goofy_window_99ffbjshcp?wsid=/subscriptions/2944a580-6c5f-4258-8c86-b9c5de957998/resourcegroups/calebebraga08-rg/workspaces/tcc-experiments\n\n"
        }
      ],
      "execution_count": 10,
      "metadata": {
        "jupyter": {
          "source_hidden": false,
          "outputs_hidden": false
        },
        "nteract": {
          "transient": {
            "deleting": false
          }
        },
        "gather": {
          "logged": 1712776099287
        }
      }
    }
  ],
  "metadata": {
    "kernelspec": {
      "name": "python310-sdkv2",
      "language": "python",
      "display_name": "Python 3.10 - SDK v2"
    },
    "language_info": {
      "name": "python",
      "version": "3.10.11",
      "mimetype": "text/x-python",
      "codemirror_mode": {
        "name": "ipython",
        "version": 3
      },
      "pygments_lexer": "ipython3",
      "nbconvert_exporter": "python",
      "file_extension": ".py"
    },
    "nteract": {
      "version": "nteract-front-end@1.0.0"
    },
    "microsoft": {
      "host": {
        "AzureML": {
          "notebookHasBeenCompleted": true
        }
      }
    },
    "kernel_info": {
      "name": "python310-sdkv2"
    }
  },
  "nbformat": 4,
  "nbformat_minor": 2
}