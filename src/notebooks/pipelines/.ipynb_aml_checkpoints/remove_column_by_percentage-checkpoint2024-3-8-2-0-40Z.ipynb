{
  "cells": [
    {
      "cell_type": "code",
      "source": [
        "from azure.ai.ml import MLClient\n",
        "from azure.identity import DefaultAzureCredential\n",
        "from azure.ai.ml.entities import Data\n",
        "from azure.ai.ml.constants import AssetTypes\n",
        "\n",
        "# authenticate\n",
        "credential = DefaultAzureCredential()\n",
        "\n",
        "SUBSCRIPTION=\"2944a580-6c5f-4258-8c86-b9c5de957998\"\n",
        "RESOURCE_GROUP=\"calebebraga08-rg\"\n",
        "WS_NAME=\"tcc-experiments\"\n",
        "\n",
        "# Get a handle to the workspace\n",
        "ml_client = MLClient(\n",
        "    credential=credential,\n",
        "    subscription_id=SUBSCRIPTION,\n",
        "    resource_group_name=RESOURCE_GROUP,\n",
        "    workspace_name=WS_NAME,\n",
        ")"
      ],
      "outputs": [],
      "execution_count": 1,
      "metadata": {
        "gather": {
          "logged": 1712520474402
        }
      }
    },
    {
      "cell_type": "code",
      "source": [
        "# Verify that the handle works correctly.  \n",
        "# If you ge an error here, modify your SUBSCRIPTION, RESOURCE_GROUP, and WS_NAME in the previous cell.\n",
        "ws = ml_client.workspaces.get(WS_NAME)\n",
        "print(ws.location,\":\", ws.resource_group)"
      ],
      "outputs": [
        {
          "output_type": "stream",
          "name": "stdout",
          "text": "eastus2 : calebebraga08-rg\n"
        }
      ],
      "execution_count": 2,
      "metadata": {
        "jupyter": {
          "source_hidden": false,
          "outputs_hidden": false
        },
        "nteract": {
          "transient": {
            "deleting": false
          }
        },
        "gather": {
          "logged": 1712520475146
        }
      }
    },
    {
      "cell_type": "code",
      "source": [
        "TRAIN_DATAS = [\n",
        "    \"vrex_2014_2015_2016_2017_2018_.csv\",\n",
        "]\n",
        "\n",
        "TEST_DATAS = [\n",
        "    \"vrex_2019.csv\"\n",
        "]\n",
        "\n",
        "version = \"original\"\n",
        "\n",
        "arr_data_to_train = []\n",
        "arr_data_to_test = []\n",
        "\n",
        "for to_train, to_test in zip(TRAIN_DATAS, TEST_DATAS):\n",
        "    data_to_train = ml_client.data.get(name=to_train.split(\".\")[0], version=version)\n",
        "    arr_data_to_train.append(data_to_train)\n",
        "    print(f\"Data to train asset URI: {data_to_train.path} - name: {to_train.split('.')[0]}\")\n",
        "\n",
        "    data_to_test = ml_client.data.get(name=to_test.split('.')[0], version=version)\n",
        "    arr_data_to_test.append(data_to_test)\n",
        "    print(f\"Data to test asset URI: {data_to_test.path} - name: {to_test.split('.')[0]}\")"
      ],
      "outputs": [
        {
          "output_type": "stream",
          "name": "stdout",
          "text": "Data to train asset URI: azureml://subscriptions/2944a580-6c5f-4258-8c86-b9c5de957998/resourcegroups/calebebraga08-rg/workspaces/tcc-experiments/datastores/workspaceblobstore/paths/LocalUpload/38bbb10032af817b2a7427008e191128/vrex_2014_2015_2016_2017_2018_.csv - name: vrex_2014_2015_2016_2017_2018_\nData to test asset URI: azureml://subscriptions/2944a580-6c5f-4258-8c86-b9c5de957998/resourcegroups/calebebraga08-rg/workspaces/tcc-experiments/datastores/workspaceblobstore/paths/LocalUpload/51c997e091d027cb70ab7be8e4015a5f/vrex_2019.csv - name: vrex_2019\n"
        }
      ],
      "execution_count": 3,
      "metadata": {
        "jupyter": {
          "source_hidden": false,
          "outputs_hidden": false
        },
        "nteract": {
          "transient": {
            "deleting": false
          }
        },
        "gather": {
          "logged": 1712520475261
        }
      }
    },
    {
      "cell_type": "markdown",
      "source": [
        "# Load Components"
      ],
      "metadata": {
        "nteract": {
          "transient": {
            "deleting": false
          }
        }
      }
    },
    {
      "cell_type": "code",
      "source": [
        "# importing the Component Package\n",
        "from azure.ai.ml import load_component\n",
        "\n",
        "# Loading the component from the yml file\n",
        "data_prep_component = load_component(source=\"/home/azureuser/cloudfiles/code/Users/calebebraga08/tcc_experiments_az_ml/src/components/data_prep.yaml\")\n",
        "\n",
        "# Now we register the component to the workspace\n",
        "data_prep_component = ml_client.create_or_update(data_prep_component)\n",
        "\n",
        "# Create (register) the component in your workspace\n",
        "print(\n",
        "    f\"Component {data_prep_component.name} with Version {data_prep_component.version} is registered\"\n",
        ")"
      ],
      "outputs": [
        {
          "output_type": "stream",
          "name": "stderr",
          "text": "\r\u001b[32mUploading components (0.02 MBs):   0%|          | 0/19622 [00:00<?, ?it/s]\r\u001b[32mUploading components (0.02 MBs):  31%|███▏      | 6136/19622 [00:00<00:00, 50015.16it/s]\r\u001b[32mUploading components (0.02 MBs): 100%|██████████| 19622/19622 [00:00<00:00, 116449.92it/s]\n\u001b[39m\n\n"
        },
        {
          "output_type": "stream",
          "name": "stdout",
          "text": "Component data_prep_vrex_defaults_model with Version 2024-04-07-20-07-56-6788625 is registered\n"
        }
      ],
      "execution_count": 4,
      "metadata": {
        "jupyter": {
          "source_hidden": false,
          "outputs_hidden": false
        },
        "nteract": {
          "transient": {
            "deleting": false
          }
        },
        "gather": {
          "logged": 1712520478057
        }
      }
    },
    {
      "cell_type": "code",
      "source": [
        "# importing the Component Package\n",
        "from azure.ai.ml import load_component\n",
        "\n",
        "# Loading the component from the yml file\n",
        "train_component = load_component(source=\"/home/azureuser/cloudfiles/code/Users/calebebraga08/tcc_experiments_az_ml/src/components/train_hyperparameters.yaml\")\n",
        "\n",
        "# Now we register the component to the workspace\n",
        "train_component = ml_client.create_or_update(train_component)\n",
        "\n",
        "# Create (register) the component in your workspace\n",
        "print(\n",
        "    f\"Component {train_component.name} with Version {train_component.version} is registered\"\n",
        ")"
      ],
      "outputs": [
        {
          "output_type": "stream",
          "name": "stdout",
          "text": "Component train_vrex_defaults_model with Version 2024-04-07-20-07-58-6395241 is registered\n"
        }
      ],
      "execution_count": 5,
      "metadata": {
        "jupyter": {
          "source_hidden": false,
          "outputs_hidden": false
        },
        "nteract": {
          "transient": {
            "deleting": false
          }
        },
        "gather": {
          "logged": 1712520480187
        }
      }
    },
    {
      "cell_type": "code",
      "source": [
        "# the dsl decorator tells the sdk that we are defining an Azure Machine Learning pipeline\n",
        "from azure.ai.ml import dsl, Input, Output\n",
        "from azure.ai.ml.sweep import Choice, Uniform\n",
        "\n",
        "@dsl.pipeline(\n",
        "    compute=\"serverless\",\n",
        "    description=\"E2E data_perp-train pipeline\",\n",
        ")\n",
        "def prep_data_and_train_defaults_pipeline_with_hyperparameter_sweep(\n",
        "    data_to_train,\n",
        "    data_to_test,\n",
        "    flag_remove_null_values,\n",
        "    learning_rate_to_train,\n",
        "    flag_remove_values_by_percentage,\n",
        "    percentage_to_remove_column,\n",
        "):\n",
        "\n",
        "    data_prep_job = data_prep_component(\n",
        "        data_to_train=data_to_train,\n",
        "        data_to_test=data_to_test,\n",
        "        flag_remove_null_values=flag_remove_null_values,\n",
        "        flag_remove_values_by_percentage=flag_remove_values_by_percentage,\n",
        "        percentage_to_remove_column=percentage_to_remove_column,\n",
        "    )\n",
        "\n",
        "    train_job = train_component(\n",
        "        train_data=data_prep_job.outputs.train_data,  # note: using outputs from previous step\n",
        "        test_data=data_prep_job.outputs.test_data,  # note: using outputs from previous step\n",
        "        n_estimators_to_gbc=Choice(values=[50, 100, 200]),\n",
        "        learning_rate_to_gbc=Uniform(min_value=0.01, max_value=0.3),\n",
        "        n_estimators_to_rfc=Choice(values=[50, 100, 200]),\n",
        "        n_estimators_to_xgb=Choice(values=[100, 500, 1000]),\n",
        "        learning_rate_to_xgb=Uniform(min_value=0.0001, max_value=0.3),\n",
        "        kernel_to_svc=Choice(values=[\"linear\", \"rbf\", \"poly\", \"sigmoid\",\"precomputed\"]),\n",
        "        gamma_to_svc=Choice(values=[\"scale\", \"auto\"]),\n",
        "    )\n",
        "\n",
        "    sweep_step = train_job.sweep(\n",
        "        compute=\"serverless\",\n",
        "        sampling_algorithm=\"random\",\n",
        "        primary_metric=\"Accuracy\",\n",
        "        goal=\"Maximize\",\n",
        "    )\n",
        "\n",
        "    sweep_step.set_limits(max_total_trials=5, max_concurrent_trials=5, timeout=3600)\n"
      ],
      "outputs": [],
      "execution_count": 6,
      "metadata": {
        "jupyter": {
          "source_hidden": false,
          "outputs_hidden": false
        },
        "nteract": {
          "transient": {
            "deleting": false
          }
        },
        "gather": {
          "logged": 1712520480296
        }
      }
    },
    {
      "cell_type": "code",
      "source": [
        "pipelines = []\n",
        "percentages = [0.90, 0.95, 0.96, 0.97, 0.98, 0.99]\n",
        "\n",
        "for percentage in percentages:\n",
        "    for data_to_train, data_to_test in zip(arr_data_to_train, arr_data_to_test):\n",
        "        pipeline = prep_data_and_train_defaults_pipeline_with_hyperparameter_sweep(\n",
        "            data_to_train=Input(type=\"uri_file\", path=data_to_train.path),\n",
        "            data_to_test=Input(type=\"uri_file\", path=data_to_test.path),\n",
        "            flag_remove_null_values=True,\n",
        "            flag_remove_values_by_percentage=True,\n",
        "            percentage_to_remove_column=percentage,\n",
        "        )\n",
        "        \n",
        "        pipelines.append(pipeline)\n",
        "\n",
        "print(\"Quantidade de pipelines: \", len(pipelines))"
      ],
      "outputs": [
        {
          "output_type": "stream",
          "name": "stdout",
          "text": "Quantidade de pipelines:  6\n"
        }
      ],
      "execution_count": 7,
      "metadata": {
        "jupyter": {
          "source_hidden": false,
          "outputs_hidden": false
        },
        "nteract": {
          "transient": {
            "deleting": false
          }
        },
        "gather": {
          "logged": 1712520480446
        }
      }
    },
    {
      "cell_type": "code",
      "source": [
        "import datetime as dt\n",
        "\n",
        "def _get_experiment_names() -> [str]:\n",
        "    experiment_names = []\n",
        "    for percentage in percentages:\n",
        "        for train_name, test_name in zip(TRAIN_DATAS, TEST_DATAS):\n",
        "            current_time = dt.datetime.now()\n",
        "            formatted_time = current_time.strftime(\"%Y_%m_%d_%H_%M_%S\")  # Formata a data e hora atual\n",
        "            train_name_base = train_name.split('.')[0]\n",
        "            test_name_base = test_name.split('.')[0]\n",
        "            name = f\"{train_name_base}tested_{test_name_base}_executed_in_{formatted_time}_removed_null_values_by_percentage_{str(percentage).replace('.', '_')}_with_hyperparameter\"\n",
        "            experiment_names.append(name)\n",
        "            print(name)\n",
        "    return experiment_names\n"
      ],
      "outputs": [],
      "execution_count": 8,
      "metadata": {
        "jupyter": {
          "source_hidden": false,
          "outputs_hidden": false
        },
        "nteract": {
          "transient": {
            "deleting": false
          }
        },
        "gather": {
          "logged": 1712520480559
        }
      }
    },
    {
      "cell_type": "code",
      "source": [
        "_get_experiment_names()"
      ],
      "outputs": [
        {
          "output_type": "stream",
          "name": "stdout",
          "text": "vrex_2014_2015_2016_2017_2018_tested_vrex_2019_executed_in_2024_04_07_20_08_00_removed_null_values_by_percentage_0_9_with_hyperparameter\nvrex_2014_2015_2016_2017_2018_tested_vrex_2019_executed_in_2024_04_07_20_08_00_removed_null_values_by_percentage_0_95_with_hyperparameter\nvrex_2014_2015_2016_2017_2018_tested_vrex_2019_executed_in_2024_04_07_20_08_00_removed_null_values_by_percentage_0_96_with_hyperparameter\nvrex_2014_2015_2016_2017_2018_tested_vrex_2019_executed_in_2024_04_07_20_08_00_removed_null_values_by_percentage_0_97_with_hyperparameter\nvrex_2014_2015_2016_2017_2018_tested_vrex_2019_executed_in_2024_04_07_20_08_00_removed_null_values_by_percentage_0_98_with_hyperparameter\nvrex_2014_2015_2016_2017_2018_tested_vrex_2019_executed_in_2024_04_07_20_08_00_removed_null_values_by_percentage_0_99_with_hyperparameter\n"
        },
        {
          "output_type": "execute_result",
          "execution_count": 9,
          "data": {
            "text/plain": "['vrex_2014_2015_2016_2017_2018_tested_vrex_2019_executed_in_2024_04_07_20_08_00_removed_null_values_by_percentage_0_9_with_hyperparameter',\n 'vrex_2014_2015_2016_2017_2018_tested_vrex_2019_executed_in_2024_04_07_20_08_00_removed_null_values_by_percentage_0_95_with_hyperparameter',\n 'vrex_2014_2015_2016_2017_2018_tested_vrex_2019_executed_in_2024_04_07_20_08_00_removed_null_values_by_percentage_0_96_with_hyperparameter',\n 'vrex_2014_2015_2016_2017_2018_tested_vrex_2019_executed_in_2024_04_07_20_08_00_removed_null_values_by_percentage_0_97_with_hyperparameter',\n 'vrex_2014_2015_2016_2017_2018_tested_vrex_2019_executed_in_2024_04_07_20_08_00_removed_null_values_by_percentage_0_98_with_hyperparameter',\n 'vrex_2014_2015_2016_2017_2018_tested_vrex_2019_executed_in_2024_04_07_20_08_00_removed_null_values_by_percentage_0_99_with_hyperparameter']"
          },
          "metadata": {}
        }
      ],
      "execution_count": 9,
      "metadata": {
        "jupyter": {
          "source_hidden": false,
          "outputs_hidden": false
        },
        "nteract": {
          "transient": {
            "deleting": false
          }
        },
        "gather": {
          "logged": 1712520480717
        }
      }
    },
    {
      "cell_type": "code",
      "source": [
        "experiment_names = _get_experiment_names()\n",
        "\n",
        "for pipeline, experiment_name in zip(pipelines, experiment_names):\n",
        "    pipeline_job = ml_client.jobs.create_or_update(\n",
        "        pipeline,\n",
        "        experiment_name=experiment_name,\n",
        "    )\n",
        "\n",
        "    ml_client.jobs.stream(pipeline_job.name)"
      ],
      "outputs": [
        {
          "output_type": "stream",
          "name": "stderr",
          "text": "Class AutoDeleteSettingSchema: This is an experimental class, and may change at any time. Please see https://aka.ms/azuremlexperimental for more information.\nClass AutoDeleteConditionSchema: This is an experimental class, and may change at any time. Please see https://aka.ms/azuremlexperimental for more information.\nClass BaseAutoDeleteSettingSchema: This is an experimental class, and may change at any time. Please see https://aka.ms/azuremlexperimental for more information.\nClass IntellectualPropertySchema: This is an experimental class, and may change at any time. Please see https://aka.ms/azuremlexperimental for more information.\nClass ProtectionLevelSchema: This is an experimental class, and may change at any time. Please see https://aka.ms/azuremlexperimental for more information.\nClass BaseIntellectualPropertySchema: This is an experimental class, and may change at any time. Please see https://aka.ms/azuremlexperimental for more information.\n"
        },
        {
          "output_type": "stream",
          "name": "stdout",
          "text": "vrex_2014_2015_2016_2017_2018_tested_vrex_2019_executed_in_2024_04_07_20_08_00_removed_null_values_by_percentage_0_9_with_hyperparameter\nvrex_2014_2015_2016_2017_2018_tested_vrex_2019_executed_in_2024_04_07_20_08_00_removed_null_values_by_percentage_0_95_with_hyperparameter\nvrex_2014_2015_2016_2017_2018_tested_vrex_2019_executed_in_2024_04_07_20_08_00_removed_null_values_by_percentage_0_96_with_hyperparameter\nvrex_2014_2015_2016_2017_2018_tested_vrex_2019_executed_in_2024_04_07_20_08_00_removed_null_values_by_percentage_0_97_with_hyperparameter\nvrex_2014_2015_2016_2017_2018_tested_vrex_2019_executed_in_2024_04_07_20_08_00_removed_null_values_by_percentage_0_98_with_hyperparameter\nvrex_2014_2015_2016_2017_2018_tested_vrex_2019_executed_in_2024_04_07_20_08_00_removed_null_values_by_percentage_0_99_with_hyperparameter\nRunId: gentle_raisin_s6f5vb1907\nWeb View: https://ml.azure.com/runs/gentle_raisin_s6f5vb1907?wsid=/subscriptions/2944a580-6c5f-4258-8c86-b9c5de957998/resourcegroups/calebebraga08-rg/workspaces/tcc-experiments\n\nStreaming logs/azureml/executionlogs.txt\n========================================\n\n[2024-04-07 20:08:05Z] Submitting 1 runs, first five are: 2aa7bd49:862951d0-11a6-48c2-81d5-c59c8f032512\n[2024-04-07 20:09:13Z] Completing processing run id 862951d0-11a6-48c2-81d5-c59c8f032512.\n[2024-04-07 20:09:14Z] Submitting 1 runs, first five are: cf34c5b1:97f6a238-c762-4850-b4d8-b925654db655\n[2024-04-07 21:10:49Z] Completing processing run id 97f6a238-c762-4850-b4d8-b925654db655.\n\nExecution Summary\n=================\nRunId: gentle_raisin_s6f5vb1907\nWeb View: https://ml.azure.com/runs/gentle_raisin_s6f5vb1907?wsid=/subscriptions/2944a580-6c5f-4258-8c86-b9c5de957998/resourcegroups/calebebraga08-rg/workspaces/tcc-experiments\n\nRunId: affable_hat_snthw7p9px\nWeb View: https://ml.azure.com/runs/affable_hat_snthw7p9px?wsid=/subscriptions/2944a580-6c5f-4258-8c86-b9c5de957998/resourcegroups/calebebraga08-rg/workspaces/tcc-experiments\n\nStreaming logs/azureml/executionlogs.txt\n========================================\n\n[2024-04-07 21:11:39Z] Submitting 1 runs, first five are: dcb417a4:6a3c6d4c-eec6-4dfa-8313-2c4ee7dd5497\n[2024-04-07 21:13:03Z] Completing processing run id 6a3c6d4c-eec6-4dfa-8313-2c4ee7dd5497.\n[2024-04-07 21:13:03Z] Submitting 1 runs, first five are: aa495d5d:e2567f5e-37e4-41c2-9446-f08c79a726bf\n[2024-04-07 22:14:40Z] Completing processing run id e2567f5e-37e4-41c2-9446-f08c79a726bf.\n\nExecution Summary\n=================\nRunId: affable_hat_snthw7p9px\nWeb View: https://ml.azure.com/runs/affable_hat_snthw7p9px?wsid=/subscriptions/2944a580-6c5f-4258-8c86-b9c5de957998/resourcegroups/calebebraga08-rg/workspaces/tcc-experiments\n\nRunId: clever_stick_mqkp283htd\nWeb View: https://ml.azure.com/runs/clever_stick_mqkp283htd?wsid=/subscriptions/2944a580-6c5f-4258-8c86-b9c5de957998/resourcegroups/calebebraga08-rg/workspaces/tcc-experiments\n\nStreaming logs/azureml/executionlogs.txt\n========================================\n\n[2024-04-07 22:15:10Z] Submitting 1 runs, first five are: 84873668:3baeaaa2-bd5a-4e01-8a86-665bdbb1b900\n[2024-04-07 22:16:37Z] Completing processing run id 3baeaaa2-bd5a-4e01-8a86-665bdbb1b900.\n[2024-04-07 22:16:37Z] Submitting 1 runs, first five are: 43605863:5744e15e-38bc-4b29-be39-636aa029fb9f\n[2024-04-07 23:05:40Z] Completing processing run id 5744e15e-38bc-4b29-be39-636aa029fb9f.\n\nExecution Summary\n=================\nRunId: clever_stick_mqkp283htd\nWeb View: https://ml.azure.com/runs/clever_stick_mqkp283htd?wsid=/subscriptions/2944a580-6c5f-4258-8c86-b9c5de957998/resourcegroups/calebebraga08-rg/workspaces/tcc-experiments\n\nRunId: tidy_battery_h07qlzkksb\nWeb View: https://ml.azure.com/runs/tidy_battery_h07qlzkksb?wsid=/subscriptions/2944a580-6c5f-4258-8c86-b9c5de957998/resourcegroups/calebebraga08-rg/workspaces/tcc-experiments\n\nStreaming logs/azureml/executionlogs.txt\n========================================\n\n[2024-04-07 23:06:41Z] Submitting 1 runs, first five are: 4227bcd0:6b41c49c-8429-4ce3-a3ed-b268d20cea25\n[2024-04-07 23:08:01Z] Completing processing run id 6b41c49c-8429-4ce3-a3ed-b268d20cea25.\n[2024-04-07 23:08:02Z] Submitting 1 runs, first five are: fdb528d5:cc986479-e869-49bb-886f-ab2d87ed9a8e\n[2024-04-08 00:09:43Z] Completing processing run id cc986479-e869-49bb-886f-ab2d87ed9a8e.\n\nExecution Summary\n=================\nRunId: tidy_battery_h07qlzkksb\nWeb View: https://ml.azure.com/runs/tidy_battery_h07qlzkksb?wsid=/subscriptions/2944a580-6c5f-4258-8c86-b9c5de957998/resourcegroups/calebebraga08-rg/workspaces/tcc-experiments\n\nRunId: jolly_lychee_wnthb0kmvs\nWeb View: https://ml.azure.com/runs/jolly_lychee_wnthb0kmvs?wsid=/subscriptions/2944a580-6c5f-4258-8c86-b9c5de957998/resourcegroups/calebebraga08-rg/workspaces/tcc-experiments\n\nStreaming logs/azureml/executionlogs.txt\n========================================\n\n[2024-04-08 00:10:14Z] Submitting 1 runs, first five are: 93fe8ccc:14e1ec82-283b-4481-8c50-a0621eaeee3b\n[2024-04-08 00:11:47Z] Completing processing run id 14e1ec82-283b-4481-8c50-a0621eaeee3b.\n[2024-04-08 00:11:47Z] Submitting 1 runs, first five are: 1322a9e0:98e9777c-f89b-4da9-95be-64403fc808a3\n[2024-04-08 00:49:45Z] Completing processing run id 98e9777c-f89b-4da9-95be-64403fc808a3.\n\nExecution Summary\n=================\nRunId: jolly_lychee_wnthb0kmvs\nWeb View: https://ml.azure.com/runs/jolly_lychee_wnthb0kmvs?wsid=/subscriptions/2944a580-6c5f-4258-8c86-b9c5de957998/resourcegroups/calebebraga08-rg/workspaces/tcc-experiments\n\nRunId: sad_arch_c1pm9j2knp\nWeb View: https://ml.azure.com/runs/sad_arch_c1pm9j2knp?wsid=/subscriptions/2944a580-6c5f-4258-8c86-b9c5de957998/resourcegroups/calebebraga08-rg/workspaces/tcc-experiments\n\nStreaming logs/azureml/executionlogs.txt\n========================================\n\n[2024-04-08 00:50:40Z] Submitting 1 runs, first five are: 304ad0f9:fde96dd1-159f-418a-9671-683b0f15d6df\n[2024-04-08 00:51:57Z] Completing processing run id fde96dd1-159f-418a-9671-683b0f15d6df.\n[2024-04-08 00:51:58Z] Submitting 1 runs, first five are: 5c28d9c9:f52e4b5e-5b52-4d6a-9290-d1975fc80304\n[2024-04-08 01:37:56Z] Completing processing run id f52e4b5e-5b52-4d6a-9290-d1975fc80304.\n\nExecution Summary\n=================\nRunId: sad_arch_c1pm9j2knp\nWeb View: https://ml.azure.com/runs/sad_arch_c1pm9j2knp?wsid=/subscriptions/2944a580-6c5f-4258-8c86-b9c5de957998/resourcegroups/calebebraga08-rg/workspaces/tcc-experiments\n\n"
        }
      ],
      "execution_count": 10,
      "metadata": {
        "jupyter": {
          "source_hidden": false,
          "outputs_hidden": false
        },
        "nteract": {
          "transient": {
            "deleting": false
          }
        },
        "gather": {
          "logged": 1712540286075
        }
      }
    }
  ],
  "metadata": {
    "kernelspec": {
      "name": "python310-sdkv2",
      "language": "python",
      "display_name": "Python 3.10 - SDK v2"
    },
    "language_info": {
      "name": "python",
      "version": "3.10.11",
      "mimetype": "text/x-python",
      "codemirror_mode": {
        "name": "ipython",
        "version": 3
      },
      "pygments_lexer": "ipython3",
      "nbconvert_exporter": "python",
      "file_extension": ".py"
    },
    "nteract": {
      "version": "nteract-front-end@1.0.0"
    },
    "microsoft": {
      "host": {
        "AzureML": {
          "notebookHasBeenCompleted": true
        }
      }
    },
    "kernel_info": {
      "name": "python310-sdkv2"
    }
  },
  "nbformat": 4,
  "nbformat_minor": 2
}