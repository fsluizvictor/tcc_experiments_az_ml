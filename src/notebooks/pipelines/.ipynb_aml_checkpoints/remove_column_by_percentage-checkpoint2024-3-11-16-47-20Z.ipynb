{
  "cells": [
    {
      "cell_type": "code",
      "source": [
        "from azure.ai.ml import MLClient\n",
        "from azure.identity import DefaultAzureCredential\n",
        "from azure.ai.ml.entities import Data\n",
        "from azure.ai.ml.constants import AssetTypes\n",
        "\n",
        "# authenticate\n",
        "credential = DefaultAzureCredential()\n",
        "\n",
        "SUBSCRIPTION=\"2944a580-6c5f-4258-8c86-b9c5de957998\"\n",
        "RESOURCE_GROUP=\"calebebraga08-rg\"\n",
        "WS_NAME=\"tcc-experiments\"\n",
        "\n",
        "# Get a handle to the workspace\n",
        "ml_client = MLClient(\n",
        "    credential=credential,\n",
        "    subscription_id=SUBSCRIPTION,\n",
        "    resource_group_name=RESOURCE_GROUP,\n",
        "    workspace_name=WS_NAME,\n",
        ")"
      ],
      "outputs": [],
      "execution_count": 1,
      "metadata": {
        "gather": {
          "logged": 1712793788647
        }
      }
    },
    {
      "cell_type": "code",
      "source": [
        "# Verify that the handle works correctly.  \n",
        "# If you ge an error here, modify your SUBSCRIPTION, RESOURCE_GROUP, and WS_NAME in the previous cell.\n",
        "ws = ml_client.workspaces.get(WS_NAME)\n",
        "print(ws.location,\":\", ws.resource_group)"
      ],
      "outputs": [
        {
          "output_type": "stream",
          "name": "stdout",
          "text": "eastus2 : calebebraga08-rg\n"
        }
      ],
      "execution_count": 2,
      "metadata": {
        "jupyter": {
          "source_hidden": false,
          "outputs_hidden": false
        },
        "nteract": {
          "transient": {
            "deleting": false
          }
        },
        "gather": {
          "logged": 1712793789045
        }
      }
    },
    {
      "cell_type": "code",
      "source": [
        "TRAIN_DATAS = [\n",
        "    \"vrex_2014_2015_2016_2017_2018_.csv\",\n",
        "]\n",
        "\n",
        "TEST_DATAS = [\n",
        "    \"vrex_2019.csv\"\n",
        "]\n",
        "\n",
        "version = \"original\"\n",
        "\n",
        "arr_data_to_train = []\n",
        "arr_data_to_test = []\n",
        "\n",
        "for to_train, to_test in zip(TRAIN_DATAS, TEST_DATAS):\n",
        "    data_to_train = ml_client.data.get(name=to_train.split(\".\")[0], version=version)\n",
        "    arr_data_to_train.append(data_to_train)\n",
        "    print(f\"Data to train asset URI: {data_to_train.path} - name: {to_train.split('.')[0]}\")\n",
        "\n",
        "    data_to_test = ml_client.data.get(name=to_test.split('.')[0], version=version)\n",
        "    arr_data_to_test.append(data_to_test)\n",
        "    print(f\"Data to test asset URI: {data_to_test.path} - name: {to_test.split('.')[0]}\")"
      ],
      "outputs": [
        {
          "output_type": "stream",
          "name": "stdout",
          "text": "Data to train asset URI: azureml://subscriptions/2944a580-6c5f-4258-8c86-b9c5de957998/resourcegroups/calebebraga08-rg/workspaces/tcc-experiments/datastores/workspaceblobstore/paths/LocalUpload/38bbb10032af817b2a7427008e191128/vrex_2014_2015_2016_2017_2018_.csv - name: vrex_2014_2015_2016_2017_2018_\nData to test asset URI: azureml://subscriptions/2944a580-6c5f-4258-8c86-b9c5de957998/resourcegroups/calebebraga08-rg/workspaces/tcc-experiments/datastores/workspaceblobstore/paths/LocalUpload/51c997e091d027cb70ab7be8e4015a5f/vrex_2019.csv - name: vrex_2019\n"
        }
      ],
      "execution_count": 3,
      "metadata": {
        "jupyter": {
          "source_hidden": false,
          "outputs_hidden": false
        },
        "nteract": {
          "transient": {
            "deleting": false
          }
        },
        "gather": {
          "logged": 1712793789196
        }
      }
    },
    {
      "cell_type": "markdown",
      "source": [
        "# Load Components"
      ],
      "metadata": {
        "nteract": {
          "transient": {
            "deleting": false
          }
        }
      }
    },
    {
      "cell_type": "code",
      "source": [
        "# importing the Component Package\n",
        "from azure.ai.ml import load_component\n",
        "\n",
        "# Loading the component from the yml file\n",
        "data_prep_component = load_component(source=\"/home/azureuser/cloudfiles/code/Users/calebebraga08/tcc_experiments_az_ml/src/components/data_prep.yaml\")\n",
        "\n",
        "# Now we register the component to the workspace\n",
        "data_prep_component = ml_client.create_or_update(data_prep_component)\n",
        "\n",
        "# Create (register) the component in your workspace\n",
        "print(\n",
        "    f\"Component {data_prep_component.name} with Version {data_prep_component.version} is registered\"\n",
        ")"
      ],
      "outputs": [
        {
          "output_type": "stream",
          "name": "stdout",
          "text": "Component data_prep_vrex_defaults_model with Version 2024-04-11-00-03-10-1995700 is registered\n"
        }
      ],
      "execution_count": 4,
      "metadata": {
        "jupyter": {
          "source_hidden": false,
          "outputs_hidden": false
        },
        "nteract": {
          "transient": {
            "deleting": false
          }
        },
        "gather": {
          "logged": 1712793792160
        }
      }
    },
    {
      "cell_type": "code",
      "source": [
        "# importing the Component Package\n",
        "from azure.ai.ml import load_component\n",
        "\n",
        "# Loading the component from the yml file\n",
        "train_component = load_component(source=\"/home/azureuser/cloudfiles/code/Users/calebebraga08/tcc_experiments_az_ml/src/components/train_hyperparameters.yaml\")\n",
        "\n",
        "# Now we register the component to the workspace\n",
        "train_component = ml_client.create_or_update(train_component)\n",
        "\n",
        "# Create (register) the component in your workspace\n",
        "print(\n",
        "    f\"Component {train_component.name} with Version {train_component.version} is registered\"\n",
        ")"
      ],
      "outputs": [
        {
          "output_type": "stream",
          "name": "stdout",
          "text": "Component train_vrex_defaults_model with Version 2024-04-11-00-03-12-8144870 is registered\n"
        }
      ],
      "execution_count": 5,
      "metadata": {
        "jupyter": {
          "source_hidden": false,
          "outputs_hidden": false
        },
        "nteract": {
          "transient": {
            "deleting": false
          }
        },
        "gather": {
          "logged": 1712793794115
        }
      }
    },
    {
      "cell_type": "code",
      "source": [
        "# the dsl decorator tells the sdk that we are defining an Azure Machine Learning pipeline\n",
        "from azure.ai.ml import dsl, Input, Output\n",
        "from azure.ai.ml.sweep import Choice, Uniform\n",
        "\n",
        "@dsl.pipeline(\n",
        "    compute=\"serverless\",\n",
        "    description=\"E2E data_perp-train pipeline\",\n",
        ")\n",
        "def prep_data_and_train_defaults_pipeline_with_hyperparameter_sweep(\n",
        "    data_to_train,\n",
        "    data_to_test,\n",
        "    flag_remove_null_values,\n",
        "    learning_rate_to_train,\n",
        "    flag_remove_values_by_percentage,\n",
        "    percentage_to_remove_column,\n",
        "):\n",
        "\n",
        "    data_prep_job = data_prep_component(\n",
        "        data_to_train=data_to_train,\n",
        "        data_to_test=data_to_test,\n",
        "        flag_remove_null_values=flag_remove_null_values,\n",
        "        flag_remove_values_by_percentage=flag_remove_values_by_percentage,\n",
        "        percentage_to_remove_column=percentage_to_remove_column,\n",
        "    )\n",
        "\n",
        "    train_job = train_component(\n",
        "        train_data=data_prep_job.outputs.train_data,  # note: using outputs from previous step\n",
        "        test_data=data_prep_job.outputs.test_data,  # note: using outputs from previous step\n",
        "        n_estimators_to_gbc=Choice(values=[50, 100, 200]),\n",
        "        learning_rate_to_gbc=Uniform(min_value=0.01, max_value=0.3),\n",
        "        n_estimators_to_rfc=Choice(values=[50, 100, 200]),\n",
        "        n_estimators_to_xgb=Choice(values=[100, 500, 1000]),\n",
        "        learning_rate_to_xgb=Uniform(min_value=0.0001, max_value=0.3),\n",
        "        kernel_to_svc=Choice(values=[\"linear\", \"rbf\", \"poly\", \"sigmoid\",\"precomputed\"]),\n",
        "        gamma_to_svc=Choice(values=[\"scale\", \"auto\"]),\n",
        "    )\n",
        "\n",
        "    sweep_step = train_job.sweep(\n",
        "        compute=\"serverless\",\n",
        "        sampling_algorithm=\"random\",\n",
        "        primary_metric=\"Accuracy\",\n",
        "        goal=\"Maximize\",\n",
        "    )\n",
        "\n",
        "    sweep_step.set_limits(max_total_trials=5, max_concurrent_trials=5, timeout=3600)\n"
      ],
      "outputs": [],
      "execution_count": 6,
      "metadata": {
        "jupyter": {
          "source_hidden": false,
          "outputs_hidden": false
        },
        "nteract": {
          "transient": {
            "deleting": false
          }
        },
        "gather": {
          "logged": 1712793794282
        }
      }
    },
    {
      "cell_type": "code",
      "source": [
        "pipelines = []\n",
        "percentages = [0.91, 0.92, 0.93, 0.94]\n",
        "\n",
        "for percentage in percentages:\n",
        "    for data_to_train, data_to_test in zip(arr_data_to_train, arr_data_to_test):\n",
        "        pipeline = prep_data_and_train_defaults_pipeline_with_hyperparameter_sweep(\n",
        "            data_to_train=Input(type=\"uri_file\", path=data_to_train.path),\n",
        "            data_to_test=Input(type=\"uri_file\", path=data_to_test.path),\n",
        "            flag_remove_null_values=True,\n",
        "            flag_remove_values_by_percentage=True,\n",
        "            percentage_to_remove_column=percentage,\n",
        "        )\n",
        "        \n",
        "        pipelines.append(pipeline)\n",
        "\n",
        "print(\"Quantidade de pipelines: \", len(pipelines))"
      ],
      "outputs": [
        {
          "output_type": "stream",
          "name": "stdout",
          "text": "Quantidade de pipelines:  5\n"
        }
      ],
      "execution_count": 7,
      "metadata": {
        "jupyter": {
          "source_hidden": false,
          "outputs_hidden": false
        },
        "nteract": {
          "transient": {
            "deleting": false
          }
        },
        "gather": {
          "logged": 1712793794694
        }
      }
    },
    {
      "cell_type": "code",
      "source": [
        "import datetime as dt\n",
        "\n",
        "def _get_experiment_names() -> [str]:\n",
        "    experiment_names = []\n",
        "    for percentage in percentages:\n",
        "        for train_name, test_name in zip(TRAIN_DATAS, TEST_DATAS):\n",
        "            current_time = dt.datetime.now()\n",
        "            formatted_time = current_time.strftime(\"%Y_%m_%d_%H_%M_%S\")  # Formata a data e hora atual\n",
        "            train_name_base = train_name.split('.')[0]\n",
        "            test_name_base = test_name.split('.')[0]\n",
        "            name = f\"{train_name_base}tested_{test_name_base}_executed_in_{formatted_time}_removed_null_values_by_percentage_up_{str(percentage).replace('.', '_')}_with_hyperparameter\"\n",
        "            experiment_names.append(name)\n",
        "            print(name)\n",
        "    return experiment_names\n"
      ],
      "outputs": [],
      "execution_count": 8,
      "metadata": {
        "jupyter": {
          "source_hidden": false,
          "outputs_hidden": false
        },
        "nteract": {
          "transient": {
            "deleting": false
          }
        },
        "gather": {
          "logged": 1712793794808
        }
      }
    },
    {
      "cell_type": "code",
      "source": [
        "_get_experiment_names()"
      ],
      "outputs": [
        {
          "output_type": "stream",
          "name": "stdout",
          "text": "vrex_2014_2015_2016_2017_2018_tested_vrex_2019_executed_in_2024_04_11_00_03_14_removed_null_values_by_percentage_up_0_5_with_hyperparameter\nvrex_2014_2015_2016_2017_2018_tested_vrex_2019_executed_in_2024_04_11_00_03_14_removed_null_values_by_percentage_up_0_6_with_hyperparameter\nvrex_2014_2015_2016_2017_2018_tested_vrex_2019_executed_in_2024_04_11_00_03_14_removed_null_values_by_percentage_up_0_7_with_hyperparameter\nvrex_2014_2015_2016_2017_2018_tested_vrex_2019_executed_in_2024_04_11_00_03_14_removed_null_values_by_percentage_up_0_8_with_hyperparameter\nvrex_2014_2015_2016_2017_2018_tested_vrex_2019_executed_in_2024_04_11_00_03_14_removed_null_values_by_percentage_up_0_85_with_hyperparameter\n"
        },
        {
          "output_type": "execute_result",
          "execution_count": 9,
          "data": {
            "text/plain": "['vrex_2014_2015_2016_2017_2018_tested_vrex_2019_executed_in_2024_04_11_00_03_14_removed_null_values_by_percentage_up_0_5_with_hyperparameter',\n 'vrex_2014_2015_2016_2017_2018_tested_vrex_2019_executed_in_2024_04_11_00_03_14_removed_null_values_by_percentage_up_0_6_with_hyperparameter',\n 'vrex_2014_2015_2016_2017_2018_tested_vrex_2019_executed_in_2024_04_11_00_03_14_removed_null_values_by_percentage_up_0_7_with_hyperparameter',\n 'vrex_2014_2015_2016_2017_2018_tested_vrex_2019_executed_in_2024_04_11_00_03_14_removed_null_values_by_percentage_up_0_8_with_hyperparameter',\n 'vrex_2014_2015_2016_2017_2018_tested_vrex_2019_executed_in_2024_04_11_00_03_14_removed_null_values_by_percentage_up_0_85_with_hyperparameter']"
          },
          "metadata": {}
        }
      ],
      "execution_count": 9,
      "metadata": {
        "jupyter": {
          "source_hidden": false,
          "outputs_hidden": false
        },
        "nteract": {
          "transient": {
            "deleting": false
          }
        },
        "gather": {
          "logged": 1712793795166
        }
      }
    },
    {
      "cell_type": "code",
      "source": [
        "experiment_names = _get_experiment_names()\n",
        "\n",
        "for pipeline, experiment_name in zip(pipelines, experiment_names):\n",
        "    pipeline_job = ml_client.jobs.create_or_update(\n",
        "        pipeline,\n",
        "        experiment_name=experiment_name,\n",
        "    )\n",
        "\n",
        "    ml_client.jobs.stream(pipeline_job.name)"
      ],
      "outputs": [
        {
          "output_type": "stream",
          "name": "stderr",
          "text": "Class AutoDeleteSettingSchema: This is an experimental class, and may change at any time. Please see https://aka.ms/azuremlexperimental for more information.\nClass AutoDeleteConditionSchema: This is an experimental class, and may change at any time. Please see https://aka.ms/azuremlexperimental for more information.\nClass BaseAutoDeleteSettingSchema: This is an experimental class, and may change at any time. Please see https://aka.ms/azuremlexperimental for more information.\nClass IntellectualPropertySchema: This is an experimental class, and may change at any time. Please see https://aka.ms/azuremlexperimental for more information.\nClass ProtectionLevelSchema: This is an experimental class, and may change at any time. Please see https://aka.ms/azuremlexperimental for more information.\nClass BaseIntellectualPropertySchema: This is an experimental class, and may change at any time. Please see https://aka.ms/azuremlexperimental for more information.\n"
        },
        {
          "output_type": "stream",
          "name": "stdout",
          "text": "vrex_2014_2015_2016_2017_2018_tested_vrex_2019_executed_in_2024_04_11_00_03_14_removed_null_values_by_percentage_up_0_5_with_hyperparameter\nvrex_2014_2015_2016_2017_2018_tested_vrex_2019_executed_in_2024_04_11_00_03_14_removed_null_values_by_percentage_up_0_6_with_hyperparameter\nvrex_2014_2015_2016_2017_2018_tested_vrex_2019_executed_in_2024_04_11_00_03_14_removed_null_values_by_percentage_up_0_7_with_hyperparameter\nvrex_2014_2015_2016_2017_2018_tested_vrex_2019_executed_in_2024_04_11_00_03_14_removed_null_values_by_percentage_up_0_8_with_hyperparameter\nvrex_2014_2015_2016_2017_2018_tested_vrex_2019_executed_in_2024_04_11_00_03_14_removed_null_values_by_percentage_up_0_85_with_hyperparameter\nRunId: quirky_vulture_h9wdv73r46\nWeb View: https://ml.azure.com/runs/quirky_vulture_h9wdv73r46?wsid=/subscriptions/2944a580-6c5f-4258-8c86-b9c5de957998/resourcegroups/calebebraga08-rg/workspaces/tcc-experiments\n\nStreaming logs/azureml/executionlogs.txt\n========================================\n\n[2024-04-11 00:03:20Z] Submitting 1 runs, first five are: 4cdb40cf:e2a733b6-cb51-40c0-9661-6bbc73879b8a\n[2024-04-11 00:08:02Z] Completing processing run id e2a733b6-cb51-40c0-9661-6bbc73879b8a.\n[2024-04-11 00:08:02Z] Submitting 1 runs, first five are: a7da8b8c:18409b0b-a4bd-4418-a541-889799231bab\n[2024-04-11 00:19:44Z] Completing processing run id 18409b0b-a4bd-4418-a541-889799231bab.\n\nExecution Summary\n=================\nRunId: quirky_vulture_h9wdv73r46\nWeb View: https://ml.azure.com/runs/quirky_vulture_h9wdv73r46?wsid=/subscriptions/2944a580-6c5f-4258-8c86-b9c5de957998/resourcegroups/calebebraga08-rg/workspaces/tcc-experiments\n\nRunId: teal_ship_nn9ltyhzmd\nWeb View: https://ml.azure.com/runs/teal_ship_nn9ltyhzmd?wsid=/subscriptions/2944a580-6c5f-4258-8c86-b9c5de957998/resourcegroups/calebebraga08-rg/workspaces/tcc-experiments\n\nStreaming logs/azureml/executionlogs.txt\n========================================\n\n[2024-04-11 00:19:52Z] Submitting 1 runs, first five are: a86cf26c:541456ce-7f8e-4c2e-8662-37996132acd6\n[2024-04-11 00:20:54Z] Completing processing run id 541456ce-7f8e-4c2e-8662-37996132acd6.\n[2024-04-11 00:20:54Z] Submitting 1 runs, first five are: 93dc819c:b32a71af-302b-4ee8-84d3-6ca61ec4331d\n[2024-04-11 00:27:10Z] Completing processing run id b32a71af-302b-4ee8-84d3-6ca61ec4331d.\n\nExecution Summary\n=================\nRunId: teal_ship_nn9ltyhzmd\nWeb View: https://ml.azure.com/runs/teal_ship_nn9ltyhzmd?wsid=/subscriptions/2944a580-6c5f-4258-8c86-b9c5de957998/resourcegroups/calebebraga08-rg/workspaces/tcc-experiments\n\nRunId: tidy_prune_w3xsrsj003\nWeb View: https://ml.azure.com/runs/tidy_prune_w3xsrsj003?wsid=/subscriptions/2944a580-6c5f-4258-8c86-b9c5de957998/resourcegroups/calebebraga08-rg/workspaces/tcc-experiments\n\nStreaming logs/azureml/executionlogs.txt\n========================================\n\n[2024-04-11 00:27:17Z] Submitting 1 runs, first five are: 64071b25:8d2418ea-9d4e-41fc-aa5e-1d1e72e154c8\n[2024-04-11 00:28:28Z] Completing processing run id 8d2418ea-9d4e-41fc-aa5e-1d1e72e154c8.\n[2024-04-11 00:28:28Z] Submitting 1 runs, first five are: d611eb40:af978e48-ba56-4d76-89f5-e9ca273b8043\n[2024-04-11 00:35:13Z] Completing processing run id af978e48-ba56-4d76-89f5-e9ca273b8043.\n\nExecution Summary\n=================\nRunId: tidy_prune_w3xsrsj003\nWeb View: https://ml.azure.com/runs/tidy_prune_w3xsrsj003?wsid=/subscriptions/2944a580-6c5f-4258-8c86-b9c5de957998/resourcegroups/calebebraga08-rg/workspaces/tcc-experiments\n\nRunId: willing_octopus_k7wf28p3tn\nWeb View: https://ml.azure.com/runs/willing_octopus_k7wf28p3tn?wsid=/subscriptions/2944a580-6c5f-4258-8c86-b9c5de957998/resourcegroups/calebebraga08-rg/workspaces/tcc-experiments\n\nStreaming logs/azureml/executionlogs.txt\n========================================\n\n[2024-04-11 00:35:40Z] Submitting 1 runs, first five are: 9bd9b8bb:c9385125-7427-40cd-828d-9c5b397c0d6f\n[2024-04-11 00:36:49Z] Completing processing run id c9385125-7427-40cd-828d-9c5b397c0d6f.\n[2024-04-11 00:36:49Z] Submitting 1 runs, first five are: add9e715:e450ec27-c4fc-4b3b-a5f2-bca40610912a\n\nExecution Summary\n=================\nRunId: willing_octopus_k7wf28p3tn\nWeb View: https://ml.azure.com/runs/willing_octopus_k7wf28p3tn?wsid=/subscriptions/2944a580-6c5f-4258-8c86-b9c5de957998/resourcegroups/calebebraga08-rg/workspaces/tcc-experiments\n\nRunId: silly_cumin_vdt2yky8pg\nWeb View: https://ml.azure.com/runs/silly_cumin_vdt2yky8pg?wsid=/subscriptions/2944a580-6c5f-4258-8c86-b9c5de957998/resourcegroups/calebebraga08-rg/workspaces/tcc-experiments\n\nStreaming logs/azureml/executionlogs.txt\n========================================\n\n[2024-04-11 00:49:07Z] Submitting 1 runs, first five are: 4495b8da:9485988b-5177-4b7c-a159-ab99ed36d55d\n[2024-04-11 00:50:13Z] Completing processing run id 9485988b-5177-4b7c-a159-ab99ed36d55d.\n[2024-04-11 00:50:14Z] Submitting 1 runs, first five are: 7f9f840a:573d10a3-2f9c-495e-a33c-867e0e0afbf2\n[2024-04-11 01:00:22Z] Completing processing run id 573d10a3-2f9c-495e-a33c-867e0e0afbf2.\n\nExecution Summary\n=================\nRunId: silly_cumin_vdt2yky8pg\nWeb View: https://ml.azure.com/runs/silly_cumin_vdt2yky8pg?wsid=/subscriptions/2944a580-6c5f-4258-8c86-b9c5de957998/resourcegroups/calebebraga08-rg/workspaces/tcc-experiments\n\n"
        }
      ],
      "execution_count": 10,
      "metadata": {
        "jupyter": {
          "source_hidden": false,
          "outputs_hidden": false
        },
        "nteract": {
          "transient": {
            "deleting": false
          }
        },
        "gather": {
          "logged": 1712797229821
        }
      }
    }
  ],
  "metadata": {
    "kernelspec": {
      "name": "python310-sdkv2",
      "language": "python",
      "display_name": "Python 3.10 - SDK v2"
    },
    "language_info": {
      "name": "python",
      "version": "3.10.11",
      "mimetype": "text/x-python",
      "codemirror_mode": {
        "name": "ipython",
        "version": 3
      },
      "pygments_lexer": "ipython3",
      "nbconvert_exporter": "python",
      "file_extension": ".py"
    },
    "nteract": {
      "version": "nteract-front-end@1.0.0"
    },
    "microsoft": {
      "host": {
        "AzureML": {
          "notebookHasBeenCompleted": true
        }
      }
    },
    "kernel_info": {
      "name": "python310-sdkv2"
    }
  },
  "nbformat": 4,
  "nbformat_minor": 2
}